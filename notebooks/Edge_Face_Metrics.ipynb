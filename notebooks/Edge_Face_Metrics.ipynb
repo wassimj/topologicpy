{
 "cells": [
  {
   "cell_type": "code",
   "execution_count": null,
   "metadata": {},
   "outputs": [],
   "source": [
    "# Import TopologicPy modules. This is not needed on other computers\n",
    "import sys\n",
    "sys.path.append(\"C:/Users/sarwj/OneDrive - Cardiff University/Documents/GitHub/topologicpy/src\")\n",
    "\n",
    "from topologicpy.Cell import Cell\n",
    "from topologicpy.CellComplex import CellComplex\n",
    "from topologicpy.Dictionary import Dictionary\n",
    "from topologicpy.Topology import Topology\n",
    "\n",
    "p = CellComplex.Prism(height=5, wSides=4)\n",
    "c = Cell.Cylinder(radius=2, uSides=24, height=0.2)\n",
    "p = Topology.Merge(p,c)\n",
    "p = Topology.Triangulate(p)\n",
    "p = CellComplex.ExternalBoundary(p)\n",
    "d = Dictionary.ByKeysValues([\"edgeWidth\", \"edgeColor\"], [6, \"red\"])\n",
    "longest_edges = Topology.LongestEdges(p, removeCoplanarFaces=True)\n",
    "for edge in longest_edges:\n",
    "    edge = Topology.SetDictionary(edge, d)\n",
    "shortest_edges = Topology.ShortestEdges(p, removeCoplanarFaces=True)\n",
    "d = Dictionary.ByKeysValues([\"edgeWidth\", \"edgeColor\"], [6, \"blue\"])\n",
    "for edge in shortest_edges:\n",
    "    edge = Topology.SetDictionary(edge, d)\n",
    "\n",
    "largest_faces = Topology.LargestFaces(p, removeCoplanarFaces=True)\n",
    "d = Dictionary.ByKeysValues([\"faceColor\", \"faceOpacity\"], [\"orange\", 1])\n",
    "for face in largest_faces:\n",
    "    face = Topology.SetDictionary(face, d)\n",
    "\n",
    "smallest_faces = Topology.SmallestFaces(p, removeCoplanarFaces=True)\n",
    "d = Dictionary.ByKeysValues([\"faceColor\", \"faceOpacity\"], [\"cyan\", 1])\n",
    "for face in smallest_faces:\n",
    "    face = Topology.SetDictionary(face, d)\n",
    "\n",
    "q = Topology.RemoveCoplanarFaces(p)\n",
    "Topology.Show(longest_edges, shortest_edges, largest_faces, smallest_faces, q, Topology.Translate(p, -5, 0, 0),\n",
    "              edgeWidthKey=\"edgeWidth\", edgeColorKey=\"edgeColor\", faceColorKey=\"faceColor\", faceOpacityKey=\"faceOpacity\")"
   ]
  }
 ],
 "metadata": {
  "kernelspec": {
   "display_name": "Python 3",
   "language": "python",
   "name": "python3"
  },
  "language_info": {
   "codemirror_mode": {
    "name": "ipython",
    "version": 3
   },
   "file_extension": ".py",
   "mimetype": "text/x-python",
   "name": "python",
   "nbconvert_exporter": "python",
   "pygments_lexer": "ipython3",
   "version": "3.11.9"
  }
 },
 "nbformat": 4,
 "nbformat_minor": 2
}
