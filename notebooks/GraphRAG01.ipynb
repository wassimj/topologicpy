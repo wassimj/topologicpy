{
 "cells": [
  {
   "cell_type": "code",
   "execution_count": null,
   "id": "5d4b198d",
   "metadata": {},
   "outputs": [],
   "source": [
    "# pip install openai chromadb numpy topologicpy sentence-transformers\n"
   ]
  },
  {
   "cell_type": "code",
   "execution_count": null,
   "id": "209cfcf7",
   "metadata": {},
   "outputs": [],
   "source": []
  },
  {
   "cell_type": "code",
   "execution_count": null,
   "id": "7d2e7b86",
   "metadata": {},
   "outputs": [],
   "source": [
    "from topologicpy.Graph import Graph\n",
    "from topologicpy.Vertex import Vertex\n",
    "from topologicpy.Edge import Edge\n",
    "from topologicpy.Dictionary import Dictionary\n",
    "\n",
    "def graph_to_texts(graph):\n",
    "    texts = []\n",
    "    vertices = Graph.Vertices(graph)\n",
    "    for vertex in vertices:\n",
    "        vertex_dict = Dictionary.PythonDictionary(Topology.Dictionary(vertex))\n",
    "        vertex_label = vertex_dict.get('label', 'Unnamed Vertex')\n",
    "        vertex_category = vertex_dict.get('category', 'Unknown Category')\n",
    "        text = f\"Vertex Label: {vertex_label}, Category: {vertex_category}, Coordinates: {Vertex.Coordinates(vertex)}\"\n",
    "        texts.append(text)\n",
    "    edges = Graph.Edges(graph)\n",
    "    for edge in edges:\n",
    "        edge_dict = Dictionary.PythonDictionary(Topology.Dictionary(edge))\n",
    "        edge_label = edge_dict.get('label', 'Unnamed Edge')\n",
    "        start_vertex = Edge.StartVertex(edge)\n",
    "        end_vertex = Edge.EndVertex(edge)\n",
    "        text = f\"Edge Label: {edge_label}, connects {Vertex.Coordinates(start_vertex)} and {Vertex.Coordinates(end_vertex)}\"\n",
    "        texts.append(text)\n",
    "    return texts"
   ]
  }
 ],
 "metadata": {
  "kernelspec": {
   "display_name": "Python 3",
   "language": "python",
   "name": "python3"
  },
  "language_info": {
   "name": "python",
   "version": "3.11.9"
  }
 },
 "nbformat": 4,
 "nbformat_minor": 5
}
