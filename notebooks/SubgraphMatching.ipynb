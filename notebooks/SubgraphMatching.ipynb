{
 "cells": [
  {
   "cell_type": "markdown",
   "metadata": {},
   "source": [
    "# Subgraph Matching\n",
    "## This notebook illustrates how you can find out if one graph is a subgraph of another supergraph. And if so, it will return the list of possible matches of the subgraph within the supergraph."
   ]
  },
  {
   "cell_type": "code",
   "execution_count": null,
   "metadata": {},
   "outputs": [],
   "source": [
    "# Import TopologicPy modules. This is not needed on other computers\n",
    "import sys\n",
    "sys.path.append(\"C:/Users/sarwj/OneDrive - Cardiff University/Documents/GitHub/topologicpy/src\")"
   ]
  },
  {
   "cell_type": "code",
   "execution_count": null,
   "metadata": {},
   "outputs": [],
   "source": [
    "from topologicpy.Edge import Edge\n",
    "from topologicpy.CellComplex import CellComplex\n",
    "from topologicpy.Graph import Graph\n",
    "from topologicpy.Topology import Topology\n",
    "from topologicpy.Dictionary import Dictionary\n",
    "from topologicpy.Helper import Helper\n",
    "print(\"This jupyter notebook requires topologicpy v.0.8.20 or newer\")\n",
    "print(Helper.Version())"
   ]
  },
  {
   "cell_type": "code",
   "execution_count": null,
   "metadata": {},
   "outputs": [],
   "source": [
    "c = CellComplex.Prism(width=2, length=2, height=2)\n",
    "cells = Topology.Cells(c)\n",
    "for i, cell in enumerate(cells):\n",
    "    d = Dictionary.ByKeyValue(\"id\", \"c_\"+str(i+1))\n",
    "    cell = Topology.SetDictionary(cell, d)\n",
    "faces = Topology.Faces(c)\n",
    "for i, face in enumerate(faces):\n",
    "    d = Dictionary.ByKeyValue(\"id\", \"f_\"+str(i+1))\n",
    "    face = Topology.SetDictionary(face, d)\n",
    "supergraph = Graph.ByTopology(c, toExteriorTopologies=True)\n",
    "vertices = Graph.Vertices(supergraph)\n",
    "edges = Graph.Edges(supergraph)\n",
    "\n",
    "subgraph = Graph.ByVerticesEdges(vertices, edges[:-10])\n",
    "subgraph = Graph.RemoveIsolatedVertices(subgraph)\n",
    "\n",
    "\n",
    "# Modify super graph by adding intermediate vertices\n",
    "new_edges = []\n",
    "for i, edge in enumerate(edges):\n",
    "    sv = Edge.StartVertex(edge)\n",
    "    c = Topology.Centroid(edge)\n",
    "    c = Topology.Translate(c, 0, 0, 0.1)\n",
    "    d = Dictionary.ByKeyValue(\"id\", \"n_\"+str(i+1))\n",
    "    c = Topology.SetDictionary(c, d)\n",
    "    ev = Edge.EndVertex(edge)\n",
    "    e1 = Edge.ByVertices(sv, c)\n",
    "    e2 = Edge.ByVertices(c, ev)\n",
    "    new_edges.append(e1)\n",
    "    new_edges.append(e2)\n",
    "    vertices.append(c)\n",
    "supergraph = Graph.ByVerticesEdges(vertices, new_edges)\n",
    "# Add more edges to complete the supergraph\n",
    "#supergraph = Graph.Complete(supergraph)\n",
    "\n",
    "print(\"The supergraph\")\n",
    "Topology.Show(supergraph, vertexSize=12, vertexLabelKey=\"id\", showVertexLabel=True)\n",
    "print(\"The subgraph\")\n",
    "Topology.Show(Graph.Reshape(subgraph), vertexSize=12, vertexLabelKey=\"id\", showVertexLabel=True)\n"
   ]
  },
  {
   "cell_type": "code",
   "execution_count": null,
   "metadata": {},
   "outputs": [],
   "source": [
    "# Set the display attributes of the supergraph\n",
    "vertices = Graph.Vertices(supergraph)\n",
    "for v in vertices:\n",
    "    d = Topology.Dictionary(v)\n",
    "    d = Dictionary.SetValuesAtKeys(d, keys=[\"vertex_size\", \"vertex_color\"], values=[8, \"black\"])\n",
    "    v = Topology.SetDictionary(v, d)\n",
    "\n",
    "# Get the list of matched subgraphs.\n",
    "matched_subgraphs = Graph.SubGraphMatches(subgraph, supergraph, strict=False)\n",
    "\n",
    "for i, matched_subgraph in enumerate(matched_subgraphs):\n",
    "    edges = Graph.Edges(matched_subgraph)\n",
    "    for e in edges:\n",
    "        d = Dictionary.ByKeysValues([\"edge_width\", \"edge_color\"], [12, \"blue\"])\n",
    "        e = Topology.SetDictionary(e, d)\n",
    "\n",
    "    # Set the display attributes of the matched subgraph\n",
    "    vertices = Graph.Vertices(matched_subgraph)\n",
    "    for v in vertices:\n",
    "        d = Topology.Dictionary(v)\n",
    "        d = Dictionary.SetValuesAtKeys(d, keys=[\"vertex_size\", \"vertex_color\"], values=[16, \"blue\"])\n",
    "        v = Topology.SetDictionary(v, d)\n",
    "    \n",
    "    # Show the matched subgraph superimposed over the supergraph\n",
    "    print(str(i+1)+\". Subgraph match superimposed over the supergaph\")\n",
    "    Topology.Show(supergraph, matched_subgraph, vertexSize=8, vertexLabelKey=\"id\", showVertexLabel=True, vertexSizeKey=\"vertex_size\", vertexColorKey=\"vertex_color\", edgeWidthKey=\"edge_width\", edgeColorKey=\"edge_color\")\n",
    "\n"
   ]
  },
  {
   "cell_type": "code",
   "execution_count": null,
   "metadata": {},
   "outputs": [],
   "source": [
    "g_top = Graph.Topology(supergraph)\n",
    "g_top = Topology.Scale(g_top, Topology.Centroid(g_top), 1.1, 1.1, 1.1)\n",
    "verts = Topology.Vertices(g_top)\n",
    "edges = Topology.Edges(g_top)\n",
    "g2 = Graph.ByVerticesEdges(verts, edges)\n",
    "similarity = Graph.Compare(supergraph, g2,\n",
    "                           weightJaccard=1,\n",
    "                           weightClosenessCentrality=1,\n",
    "                           weightStructure=1,\n",
    "                           vertexIDKey=\"id\",\n",
    "                           edgeWeightKey=\"length\",\n",
    "                           mantissa=2,\n",
    "                           silent=False)\n",
    "for key in similarity.keys():\n",
    "    print(key+\":\", similarity[key])\n"
   ]
  },
  {
   "cell_type": "code",
   "execution_count": null,
   "metadata": {},
   "outputs": [],
   "source": [
    "\n",
    "\n",
    "edges = Graph.Edges(g2)\n",
    "for e in edges:\n",
    "    d = Dictionary.ByKeysValues([\"edge_width\", \"edge_color\"], [12, \"blue\"])\n",
    "    e = Topology.SetDictionary(e, d)\n",
    "\n",
    "# Set the display attributes of the matched subgraph\n",
    "vertices = Graph.Vertices(matched_subgraph)\n",
    "for v in vertices:\n",
    "    d = Topology.Dictionary(v)\n",
    "    d = Dictionary.SetValuesAtKeys(d, keys=[\"vertex_size\", \"vertex_color\"], values=[16, \"blue\"])\n",
    "    v = Topology.SetDictionary(v, d)\n",
    "    \n",
    "    # Show the matched subgraph superimposed over the supergraph\n",
    "    #print(str(i+1)+\". Subgraph match superimposed over the supergaph\")\n",
    "Topology.Show(supergraph, g2, vertexSize=8, vertexLabelKey=\"id\", showVertexLabel=True, vertexSizeKey=\"vertex_size\", vertexColorKey=\"vertex_color\", edgeWidthKey=\"edge_width\", edgeColorKey=\"edge_color\")\n"
   ]
  }
 ],
 "metadata": {
  "kernelspec": {
   "display_name": "Python 3",
   "language": "python",
   "name": "python3"
  },
  "language_info": {
   "codemirror_mode": {
    "name": "ipython",
    "version": 3
   },
   "file_extension": ".py",
   "mimetype": "text/x-python",
   "name": "python",
   "nbconvert_exporter": "python",
   "pygments_lexer": "ipython3",
   "version": "3.11.9"
  }
 },
 "nbformat": 4,
 "nbformat_minor": 2
}
