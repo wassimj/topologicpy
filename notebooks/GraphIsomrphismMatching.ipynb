{
 "cells": [
  {
   "cell_type": "markdown",
   "id": "7fe34a27",
   "metadata": {},
   "source": [
    "## Graph and Sub-Graph Matching using Semantics and Topology-Only Isomorphisms"
   ]
  },
  {
   "cell_type": "code",
   "execution_count": 1,
   "id": "8b07528e",
   "metadata": {},
   "outputs": [],
   "source": [
    "# Import TopologicPy modules. This is not needed on other computers\n",
    "import sys\n",
    "sys.path.append(\"C:/Users/sarwj/OneDrive - Cardiff University/Documents/GitHub/topologicpy/src\")"
   ]
  },
  {
   "cell_type": "code",
   "execution_count": 2,
   "id": "52962a74",
   "metadata": {},
   "outputs": [
    {
     "name": "stdout",
     "output_type": "stream",
     "text": [
      "TopologicPy Libraries imported.\n"
     ]
    }
   ],
   "source": [
    "from topologicpy.Vertex import Vertex\n",
    "from topologicpy.CellComplex import CellComplex\n",
    "from topologicpy.Topology import Topology\n",
    "from topologicpy.Graph import Graph\n",
    "from topologicpy.Plotly import Plotly\n",
    "from topologicpy.Dictionary import Dictionary\n",
    "print(\"TopologicPy Libraries imported.\")"
   ]
  },
  {
   "cell_type": "code",
   "execution_count": 3,
   "id": "429715ce",
   "metadata": {},
   "outputs": [
    {
     "data": {
      "application/vnd.plotly.v1+json": {
       "config": {
        "plotlyServerURL": "https://plot.ly"
       },
       "data": [
        {
         "marker": {
          "color": [
           "blue",
           "blue",
           "blue",
           "blue",
           "blue",
           "blue",
           "blue",
           "blue"
          ],
          "opacity": 1,
          "size": [
           12,
           12,
           12,
           12,
           12,
           12,
           12,
           12
          ],
          "sizemode": "diameter",
          "symbol": "circle"
         },
         "mode": "markers",
         "name": "Graph Vertices",
         "showlegend": false,
         "type": "scatter3d",
         "x": [
          0.25,
          0.25,
          0.25,
          0.25,
          0.5,
          0.5,
          0.25,
          0.25
         ],
         "y": [
          0.25,
          -0.25,
          0.25,
          0.5,
          0.25,
          -0.25,
          -0.5,
          -0.25
         ],
         "z": [
          0.25,
          0.25,
          0.5,
          0.25,
          0.25,
          0.25,
          0.25,
          0.5
         ]
        },
        {
         "customdata": [
          "",
          "",
          "",
          "",
          "",
          "",
          "",
          ""
         ],
         "hoverinfo": "text",
         "hovertemplate": [
          "Click ",
          "Click ",
          "Click ",
          "Click ",
          "Click ",
          "Click ",
          "Click ",
          "Click "
         ],
         "hovertext": [
          "",
          "",
          "",
          "",
          "",
          "",
          "",
          ""
         ],
         "legendgroup": "4",
         "legendrank": 4,
         "marker": {
          "color": [
           "#0000FF",
           "#0000FF",
           "#0000FF",
           "#0000FF",
           "#0000FF",
           "#0000FF",
           "#0000FF",
           "#0000FF"
          ],
          "opacity": 1,
          "size": [
           10,
           11,
           19,
           20,
           23,
           34,
           35,
           36
          ],
          "sizemode": "diameter",
          "symbol": "circle"
         },
         "mode": "markers",
         "name": "Graph Vertices",
         "showlegend": false,
         "text": [
          "",
          "",
          "",
          "",
          "",
          "",
          "",
          ""
         ],
         "type": "scatter3d",
         "x": [
          0.25,
          0.25,
          0.25,
          0.25,
          0.5,
          0.5,
          0.25,
          0.25
         ],
         "y": [
          0.25,
          -0.25,
          0.25,
          0.5,
          0.25,
          -0.25,
          -0.5,
          -0.25
         ],
         "z": [
          0.25,
          0.25,
          0.5,
          0.25,
          0.25,
          0.25,
          0.25,
          0.5
         ]
        },
        {
         "hoverinfo": "text",
         "legendgroup": "5",
         "legendrank": 5,
         "line": {
          "color": "blue",
          "dash": "solid",
          "width": 2
         },
         "marker": {
          "size": 0
         },
         "mode": "lines",
         "name": "Graph Edges",
         "showlegend": false,
         "text": "",
         "type": "scatter3d",
         "x": [
          0.25,
          0.25,
          null,
          0.25,
          0.5,
          null,
          0.25,
          0.25,
          null,
          0.25,
          0.25,
          null,
          0.25,
          0.25,
          null,
          0.25,
          0.5,
          null,
          0.25,
          0.25,
          null
         ],
         "y": [
          0.25,
          0.25,
          null,
          0.25,
          0.25,
          null,
          0.25,
          -0.25,
          null,
          0.25,
          0.5,
          null,
          -0.25,
          -0.25,
          null,
          -0.25,
          -0.25,
          null,
          -0.25,
          -0.5,
          null
         ],
         "z": [
          0.25,
          0.5,
          null,
          0.25,
          0.25,
          null,
          0.25,
          0.25,
          null,
          0.25,
          0.25,
          null,
          0.25,
          0.5,
          null,
          0.25,
          0.25,
          null,
          0.25,
          0.25,
          null
         ]
        },
        {
         "marker": {
          "color": [
           "orange",
           "orange",
           "orange",
           "orange",
           "orange",
           "orange",
           "orange",
           "orange",
           "orange",
           "orange",
           "orange",
           "orange",
           "orange",
           "orange",
           "orange",
           "orange",
           "orange",
           "orange",
           "orange",
           "orange",
           "orange",
           "orange",
           "orange",
           "orange",
           "orange",
           "orange",
           "orange",
           "orange",
           "orange",
           "orange",
           "orange",
           "orange"
          ],
          "opacity": 1,
          "size": [
           12,
           12,
           12,
           12,
           12,
           12,
           12,
           12,
           12,
           12,
           12,
           12,
           12,
           12,
           12,
           12,
           12,
           12,
           12,
           12,
           12,
           12,
           12,
           12,
           12,
           12,
           12,
           12,
           12,
           12,
           12,
           12
          ],
          "sizemode": "diameter",
          "symbol": "circle"
         },
         "mode": "markers",
         "name": "Graph Vertices",
         "showlegend": false,
         "type": "scatter3d",
         "x": [
          1.75,
          2.25,
          1.75,
          1.75,
          1.75,
          1.5,
          1.75,
          1.75,
          1.75,
          1.5,
          2.25,
          1.5,
          2.5,
          2.25,
          2.25,
          2.25,
          2.25,
          1.5,
          2.5,
          1.75,
          2.5,
          2.25,
          2.25,
          1.75,
          1.75,
          1.75,
          2.25,
          2.25,
          1.75,
          2.25,
          2.5,
          2.25
         ],
         "y": [
          0.5,
          0.25,
          0.25,
          -0.5,
          -0.25,
          -0.25,
          -0.5,
          0.25,
          0.25,
          0.25,
          -0.25,
          -0.25,
          -0.25,
          -0.5,
          -0.5,
          0.5,
          0.25,
          0.25,
          0.25,
          -0.25,
          0.25,
          -0.25,
          0.25,
          0.25,
          0.5,
          -0.25,
          0.25,
          0.5,
          -0.25,
          -0.25,
          -0.25,
          -0.25
         ],
         "z": [
          0.25,
          -0.5,
          -0.25,
          -0.25,
          0.25,
          0.25,
          0.25,
          0.5,
          -0.5,
          -0.25,
          -0.5,
          -0.25,
          0.25,
          0.25,
          -0.25,
          0.25,
          0.25,
          0.25,
          0.25,
          0.5,
          -0.25,
          0.5,
          -0.25,
          0.25,
          -0.25,
          -0.5,
          0.5,
          -0.25,
          -0.25,
          0.25,
          -0.25,
          -0.25
         ]
        },
        {
         "customdata": [
          "",
          "",
          "",
          "",
          "",
          "",
          "",
          "",
          "",
          "",
          "",
          "",
          "",
          "",
          "",
          "",
          "",
          "",
          "",
          "",
          "",
          "",
          "",
          "",
          "",
          "",
          "",
          "",
          "",
          "",
          "",
          ""
         ],
         "hoverinfo": "text",
         "hovertemplate": [
          "Click ",
          "Click ",
          "Click ",
          "Click ",
          "Click ",
          "Click ",
          "Click ",
          "Click ",
          "Click ",
          "Click ",
          "Click ",
          "Click ",
          "Click ",
          "Click ",
          "Click ",
          "Click ",
          "Click ",
          "Click ",
          "Click ",
          "Click ",
          "Click ",
          "Click ",
          "Click ",
          "Click ",
          "Click ",
          "Click ",
          "Click ",
          "Click ",
          "Click ",
          "Click ",
          "Click ",
          "Click "
         ],
         "hovertext": [
          "",
          "",
          "",
          "",
          "",
          "",
          "",
          "",
          "",
          "",
          "",
          "",
          "",
          "",
          "",
          "",
          "",
          "",
          "",
          "",
          "",
          "",
          "",
          "",
          "",
          "",
          "",
          "",
          "",
          "",
          "",
          ""
         ],
         "legendgroup": "4",
         "legendrank": 4,
         "marker": {
          "color": [
           "#FFA500",
           "#FFA500",
           "#FFA500",
           "#FFA500",
           "#FFA500",
           "#FFA500",
           "#FFA500",
           "#FFA500",
           "#FFA500",
           "#FFA500",
           "#FFA500",
           "#FFA500",
           "#FFA500",
           "#FFA500",
           "#FFA500",
           "#FFA500",
           "#FFA500",
           "#FFA500",
           "#FFA500",
           "#FFA500",
           "#FFA500",
           "#FFA500",
           "#FFA500",
           "#FFA500",
           "#FFA500",
           "#FFA500",
           "#FFA500",
           "#FFA500",
           "#FFA500",
           "#FFA500",
           "#FFA500",
           "#FFA500"
          ],
          "opacity": 1,
          "size": [
           15,
           13,
           5,
           21,
           9,
           30,
           31,
           22,
           32,
           17,
           28,
           26,
           34,
           35,
           24,
           20,
           10,
           16,
           23,
           33,
           27,
           36,
           8,
           12,
           18,
           25,
           19,
           14,
           6,
           11,
           29,
           7
          ],
          "sizemode": "diameter",
          "symbol": "circle"
         },
         "mode": "markers",
         "name": "Graph Vertices",
         "showlegend": false,
         "text": [
          "",
          "",
          "",
          "",
          "",
          "",
          "",
          "",
          "",
          "",
          "",
          "",
          "",
          "",
          "",
          "",
          "",
          "",
          "",
          "",
          "",
          "",
          "",
          "",
          "",
          "",
          "",
          "",
          "",
          "",
          "",
          ""
         ],
         "type": "scatter3d",
         "x": [
          1.75,
          2.25,
          1.75,
          1.75,
          1.75,
          1.5,
          1.75,
          1.75,
          1.75,
          1.5,
          2.25,
          1.5,
          2.5,
          2.25,
          2.25,
          2.25,
          2.25,
          1.5,
          2.5,
          1.75,
          2.5,
          2.25,
          2.25,
          1.75,
          1.75,
          1.75,
          2.25,
          2.25,
          1.75,
          2.25,
          2.5,
          2.25
         ],
         "y": [
          0.5,
          0.25,
          0.25,
          -0.5,
          -0.25,
          -0.25,
          -0.5,
          0.25,
          0.25,
          0.25,
          -0.25,
          -0.25,
          -0.25,
          -0.5,
          -0.5,
          0.5,
          0.25,
          0.25,
          0.25,
          -0.25,
          0.25,
          -0.25,
          0.25,
          0.25,
          0.5,
          -0.25,
          0.25,
          0.5,
          -0.25,
          -0.25,
          -0.25,
          -0.25
         ],
         "z": [
          0.25,
          -0.5,
          -0.25,
          -0.25,
          0.25,
          0.25,
          0.25,
          0.5,
          -0.5,
          -0.25,
          -0.5,
          -0.25,
          0.25,
          0.25,
          -0.25,
          0.25,
          0.25,
          0.25,
          0.25,
          0.5,
          -0.25,
          0.5,
          -0.25,
          0.25,
          -0.25,
          -0.5,
          0.5,
          -0.25,
          -0.25,
          0.25,
          -0.25,
          -0.25
         ]
        },
        {
         "hoverinfo": "text",
         "legendgroup": "5",
         "legendrank": 5,
         "line": {
          "color": "orange",
          "dash": "solid",
          "width": 2
         },
         "marker": {
          "size": 0
         },
         "mode": "lines",
         "name": "Graph Edges",
         "showlegend": false,
         "text": "",
         "type": "scatter3d",
         "x": [
          1.75,
          1.75,
          null,
          2.25,
          2.25,
          null,
          1.75,
          1.75,
          null,
          1.75,
          1.5,
          null,
          1.75,
          1.75,
          null,
          1.75,
          1.75,
          null,
          1.75,
          2.25,
          null,
          1.75,
          1.75,
          null,
          1.75,
          1.75,
          null,
          1.75,
          2.25,
          null,
          1.75,
          1.75,
          null,
          1.75,
          1.75,
          null,
          1.75,
          1.75,
          null,
          1.75,
          1.75,
          null,
          1.75,
          1.5,
          null,
          1.75,
          1.75,
          null,
          2.25,
          2.25,
          null,
          1.75,
          1.5,
          null,
          2.25,
          2.5,
          null,
          2.25,
          2.25,
          null,
          2.25,
          2.25,
          null,
          2.25,
          2.25,
          null,
          2.25,
          2.25,
          null,
          2.25,
          2.25,
          null,
          2.25,
          2.25,
          null,
          1.75,
          2.25,
          null,
          2.25,
          2.5,
          null,
          1.75,
          1.5,
          null,
          2.25,
          2.5,
          null,
          2.25,
          2.25,
          null,
          2.25,
          2.25,
          null,
          2.25,
          2.25,
          null,
          1.75,
          1.75,
          null,
          1.75,
          2.25,
          null,
          2.25,
          2.25,
          null,
          2.25,
          2.5,
          null
         ],
         "y": [
          0.25,
          0.5,
          null,
          0.25,
          0.25,
          null,
          0.25,
          0.25,
          null,
          0.25,
          0.25,
          null,
          0.25,
          0.5,
          null,
          0.25,
          -0.25,
          null,
          0.25,
          0.25,
          null,
          0.25,
          0.25,
          null,
          -0.25,
          -0.5,
          null,
          -0.25,
          -0.25,
          null,
          -0.25,
          -0.25,
          null,
          0.25,
          -0.25,
          null,
          -0.25,
          -0.5,
          null,
          -0.25,
          -0.25,
          null,
          -0.25,
          -0.25,
          null,
          0.25,
          0.25,
          null,
          -0.25,
          -0.25,
          null,
          -0.25,
          -0.25,
          null,
          -0.25,
          -0.25,
          null,
          -0.25,
          -0.5,
          null,
          -0.25,
          -0.5,
          null,
          0.25,
          0.5,
          null,
          0.25,
          -0.25,
          null,
          0.25,
          0.25,
          null,
          0.25,
          0.25,
          null,
          0.25,
          0.25,
          null,
          0.25,
          0.25,
          null,
          0.25,
          0.25,
          null,
          0.25,
          0.25,
          null,
          -0.25,
          -0.25,
          null,
          0.25,
          -0.25,
          null,
          0.25,
          0.5,
          null,
          -0.25,
          -0.25,
          null,
          -0.25,
          -0.25,
          null,
          -0.25,
          -0.25,
          null,
          -0.25,
          -0.25,
          null
         ],
         "z": [
          0.25,
          0.25,
          null,
          -0.25,
          -0.5,
          null,
          -0.25,
          -0.5,
          null,
          -0.25,
          -0.25,
          null,
          -0.25,
          -0.25,
          null,
          -0.25,
          -0.25,
          null,
          -0.25,
          -0.25,
          null,
          -0.25,
          0.25,
          null,
          -0.25,
          -0.25,
          null,
          0.25,
          0.25,
          null,
          -0.25,
          0.25,
          null,
          0.25,
          0.25,
          null,
          0.25,
          0.25,
          null,
          0.25,
          0.5,
          null,
          0.25,
          0.25,
          null,
          0.25,
          0.5,
          null,
          -0.25,
          -0.5,
          null,
          -0.25,
          -0.25,
          null,
          0.25,
          0.25,
          null,
          0.25,
          0.25,
          null,
          -0.25,
          -0.25,
          null,
          0.25,
          0.25,
          null,
          0.25,
          0.25,
          null,
          0.25,
          0.5,
          null,
          -0.25,
          0.25,
          null,
          0.25,
          0.25,
          null,
          0.25,
          0.25,
          null,
          0.25,
          0.25,
          null,
          -0.25,
          -0.25,
          null,
          0.25,
          0.5,
          null,
          -0.25,
          -0.25,
          null,
          -0.25,
          -0.25,
          null,
          -0.25,
          -0.5,
          null,
          -0.25,
          -0.25,
          null,
          -0.25,
          0.25,
          null,
          -0.25,
          -0.25,
          null
         ]
        }
       ],
       "layout": {
        "autosize": true,
        "height": 500,
        "margin": {
         "b": 40,
         "l": 40,
         "r": 40,
         "t": 40
        },
        "paper_bgcolor": "RGBA(0,0,0,0)",
        "plot_bgcolor": "RGBA(0,0,0,0)",
        "scene": {
         "aspectmode": "data",
         "camera": {
          "center": {
           "x": 0,
           "y": 0,
           "z": 0
          },
          "eye": {
           "x": -1.25,
           "y": -1.25,
           "z": 1.25
          },
          "projection": {
           "type": "perspective"
          },
          "up": {
           "x": 0,
           "y": 0,
           "z": 1
          }
         },
         "xaxis": {
          "visible": false
         },
         "yaxis": {
          "visible": false
         },
         "zaxis": {
          "visible": false
         }
        },
        "showlegend": true,
        "template": {
         "data": {
          "bar": [
           {
            "error_x": {
             "color": "#2a3f5f"
            },
            "error_y": {
             "color": "#2a3f5f"
            },
            "marker": {
             "line": {
              "color": "#E5ECF6",
              "width": 0.5
             },
             "pattern": {
              "fillmode": "overlay",
              "size": 10,
              "solidity": 0.2
             }
            },
            "type": "bar"
           }
          ],
          "barpolar": [
           {
            "marker": {
             "line": {
              "color": "#E5ECF6",
              "width": 0.5
             },
             "pattern": {
              "fillmode": "overlay",
              "size": 10,
              "solidity": 0.2
             }
            },
            "type": "barpolar"
           }
          ],
          "carpet": [
           {
            "aaxis": {
             "endlinecolor": "#2a3f5f",
             "gridcolor": "white",
             "linecolor": "white",
             "minorgridcolor": "white",
             "startlinecolor": "#2a3f5f"
            },
            "baxis": {
             "endlinecolor": "#2a3f5f",
             "gridcolor": "white",
             "linecolor": "white",
             "minorgridcolor": "white",
             "startlinecolor": "#2a3f5f"
            },
            "type": "carpet"
           }
          ],
          "choropleth": [
           {
            "colorbar": {
             "outlinewidth": 0,
             "ticks": ""
            },
            "type": "choropleth"
           }
          ],
          "contour": [
           {
            "colorbar": {
             "outlinewidth": 0,
             "ticks": ""
            },
            "colorscale": [
             [
              0,
              "#0d0887"
             ],
             [
              0.1111111111111111,
              "#46039f"
             ],
             [
              0.2222222222222222,
              "#7201a8"
             ],
             [
              0.3333333333333333,
              "#9c179e"
             ],
             [
              0.4444444444444444,
              "#bd3786"
             ],
             [
              0.5555555555555556,
              "#d8576b"
             ],
             [
              0.6666666666666666,
              "#ed7953"
             ],
             [
              0.7777777777777778,
              "#fb9f3a"
             ],
             [
              0.8888888888888888,
              "#fdca26"
             ],
             [
              1,
              "#f0f921"
             ]
            ],
            "type": "contour"
           }
          ],
          "contourcarpet": [
           {
            "colorbar": {
             "outlinewidth": 0,
             "ticks": ""
            },
            "type": "contourcarpet"
           }
          ],
          "heatmap": [
           {
            "colorbar": {
             "outlinewidth": 0,
             "ticks": ""
            },
            "colorscale": [
             [
              0,
              "#0d0887"
             ],
             [
              0.1111111111111111,
              "#46039f"
             ],
             [
              0.2222222222222222,
              "#7201a8"
             ],
             [
              0.3333333333333333,
              "#9c179e"
             ],
             [
              0.4444444444444444,
              "#bd3786"
             ],
             [
              0.5555555555555556,
              "#d8576b"
             ],
             [
              0.6666666666666666,
              "#ed7953"
             ],
             [
              0.7777777777777778,
              "#fb9f3a"
             ],
             [
              0.8888888888888888,
              "#fdca26"
             ],
             [
              1,
              "#f0f921"
             ]
            ],
            "type": "heatmap"
           }
          ],
          "histogram": [
           {
            "marker": {
             "pattern": {
              "fillmode": "overlay",
              "size": 10,
              "solidity": 0.2
             }
            },
            "type": "histogram"
           }
          ],
          "histogram2d": [
           {
            "colorbar": {
             "outlinewidth": 0,
             "ticks": ""
            },
            "colorscale": [
             [
              0,
              "#0d0887"
             ],
             [
              0.1111111111111111,
              "#46039f"
             ],
             [
              0.2222222222222222,
              "#7201a8"
             ],
             [
              0.3333333333333333,
              "#9c179e"
             ],
             [
              0.4444444444444444,
              "#bd3786"
             ],
             [
              0.5555555555555556,
              "#d8576b"
             ],
             [
              0.6666666666666666,
              "#ed7953"
             ],
             [
              0.7777777777777778,
              "#fb9f3a"
             ],
             [
              0.8888888888888888,
              "#fdca26"
             ],
             [
              1,
              "#f0f921"
             ]
            ],
            "type": "histogram2d"
           }
          ],
          "histogram2dcontour": [
           {
            "colorbar": {
             "outlinewidth": 0,
             "ticks": ""
            },
            "colorscale": [
             [
              0,
              "#0d0887"
             ],
             [
              0.1111111111111111,
              "#46039f"
             ],
             [
              0.2222222222222222,
              "#7201a8"
             ],
             [
              0.3333333333333333,
              "#9c179e"
             ],
             [
              0.4444444444444444,
              "#bd3786"
             ],
             [
              0.5555555555555556,
              "#d8576b"
             ],
             [
              0.6666666666666666,
              "#ed7953"
             ],
             [
              0.7777777777777778,
              "#fb9f3a"
             ],
             [
              0.8888888888888888,
              "#fdca26"
             ],
             [
              1,
              "#f0f921"
             ]
            ],
            "type": "histogram2dcontour"
           }
          ],
          "mesh3d": [
           {
            "colorbar": {
             "outlinewidth": 0,
             "ticks": ""
            },
            "type": "mesh3d"
           }
          ],
          "parcoords": [
           {
            "line": {
             "colorbar": {
              "outlinewidth": 0,
              "ticks": ""
             }
            },
            "type": "parcoords"
           }
          ],
          "pie": [
           {
            "automargin": true,
            "type": "pie"
           }
          ],
          "scatter": [
           {
            "fillpattern": {
             "fillmode": "overlay",
             "size": 10,
             "solidity": 0.2
            },
            "type": "scatter"
           }
          ],
          "scatter3d": [
           {
            "line": {
             "colorbar": {
              "outlinewidth": 0,
              "ticks": ""
             }
            },
            "marker": {
             "colorbar": {
              "outlinewidth": 0,
              "ticks": ""
             }
            },
            "type": "scatter3d"
           }
          ],
          "scattercarpet": [
           {
            "marker": {
             "colorbar": {
              "outlinewidth": 0,
              "ticks": ""
             }
            },
            "type": "scattercarpet"
           }
          ],
          "scattergeo": [
           {
            "marker": {
             "colorbar": {
              "outlinewidth": 0,
              "ticks": ""
             }
            },
            "type": "scattergeo"
           }
          ],
          "scattergl": [
           {
            "marker": {
             "colorbar": {
              "outlinewidth": 0,
              "ticks": ""
             }
            },
            "type": "scattergl"
           }
          ],
          "scattermap": [
           {
            "marker": {
             "colorbar": {
              "outlinewidth": 0,
              "ticks": ""
             }
            },
            "type": "scattermap"
           }
          ],
          "scattermapbox": [
           {
            "marker": {
             "colorbar": {
              "outlinewidth": 0,
              "ticks": ""
             }
            },
            "type": "scattermapbox"
           }
          ],
          "scatterpolar": [
           {
            "marker": {
             "colorbar": {
              "outlinewidth": 0,
              "ticks": ""
             }
            },
            "type": "scatterpolar"
           }
          ],
          "scatterpolargl": [
           {
            "marker": {
             "colorbar": {
              "outlinewidth": 0,
              "ticks": ""
             }
            },
            "type": "scatterpolargl"
           }
          ],
          "scatterternary": [
           {
            "marker": {
             "colorbar": {
              "outlinewidth": 0,
              "ticks": ""
             }
            },
            "type": "scatterternary"
           }
          ],
          "surface": [
           {
            "colorbar": {
             "outlinewidth": 0,
             "ticks": ""
            },
            "colorscale": [
             [
              0,
              "#0d0887"
             ],
             [
              0.1111111111111111,
              "#46039f"
             ],
             [
              0.2222222222222222,
              "#7201a8"
             ],
             [
              0.3333333333333333,
              "#9c179e"
             ],
             [
              0.4444444444444444,
              "#bd3786"
             ],
             [
              0.5555555555555556,
              "#d8576b"
             ],
             [
              0.6666666666666666,
              "#ed7953"
             ],
             [
              0.7777777777777778,
              "#fb9f3a"
             ],
             [
              0.8888888888888888,
              "#fdca26"
             ],
             [
              1,
              "#f0f921"
             ]
            ],
            "type": "surface"
           }
          ],
          "table": [
           {
            "cells": {
             "fill": {
              "color": "#EBF0F8"
             },
             "line": {
              "color": "white"
             }
            },
            "header": {
             "fill": {
              "color": "#C8D4E3"
             },
             "line": {
              "color": "white"
             }
            },
            "type": "table"
           }
          ]
         },
         "layout": {
          "annotationdefaults": {
           "arrowcolor": "#2a3f5f",
           "arrowhead": 0,
           "arrowwidth": 1
          },
          "autotypenumbers": "strict",
          "coloraxis": {
           "colorbar": {
            "outlinewidth": 0,
            "ticks": ""
           }
          },
          "colorscale": {
           "diverging": [
            [
             0,
             "#8e0152"
            ],
            [
             0.1,
             "#c51b7d"
            ],
            [
             0.2,
             "#de77ae"
            ],
            [
             0.3,
             "#f1b6da"
            ],
            [
             0.4,
             "#fde0ef"
            ],
            [
             0.5,
             "#f7f7f7"
            ],
            [
             0.6,
             "#e6f5d0"
            ],
            [
             0.7,
             "#b8e186"
            ],
            [
             0.8,
             "#7fbc41"
            ],
            [
             0.9,
             "#4d9221"
            ],
            [
             1,
             "#276419"
            ]
           ],
           "sequential": [
            [
             0,
             "#0d0887"
            ],
            [
             0.1111111111111111,
             "#46039f"
            ],
            [
             0.2222222222222222,
             "#7201a8"
            ],
            [
             0.3333333333333333,
             "#9c179e"
            ],
            [
             0.4444444444444444,
             "#bd3786"
            ],
            [
             0.5555555555555556,
             "#d8576b"
            ],
            [
             0.6666666666666666,
             "#ed7953"
            ],
            [
             0.7777777777777778,
             "#fb9f3a"
            ],
            [
             0.8888888888888888,
             "#fdca26"
            ],
            [
             1,
             "#f0f921"
            ]
           ],
           "sequentialminus": [
            [
             0,
             "#0d0887"
            ],
            [
             0.1111111111111111,
             "#46039f"
            ],
            [
             0.2222222222222222,
             "#7201a8"
            ],
            [
             0.3333333333333333,
             "#9c179e"
            ],
            [
             0.4444444444444444,
             "#bd3786"
            ],
            [
             0.5555555555555556,
             "#d8576b"
            ],
            [
             0.6666666666666666,
             "#ed7953"
            ],
            [
             0.7777777777777778,
             "#fb9f3a"
            ],
            [
             0.8888888888888888,
             "#fdca26"
            ],
            [
             1,
             "#f0f921"
            ]
           ]
          },
          "colorway": [
           "#636efa",
           "#EF553B",
           "#00cc96",
           "#ab63fa",
           "#FFA15A",
           "#19d3f3",
           "#FF6692",
           "#B6E880",
           "#FF97FF",
           "#FECB52"
          ],
          "font": {
           "color": "#2a3f5f"
          },
          "geo": {
           "bgcolor": "white",
           "lakecolor": "white",
           "landcolor": "#E5ECF6",
           "showlakes": true,
           "showland": true,
           "subunitcolor": "white"
          },
          "hoverlabel": {
           "align": "left"
          },
          "hovermode": "closest",
          "mapbox": {
           "style": "light"
          },
          "paper_bgcolor": "white",
          "plot_bgcolor": "#E5ECF6",
          "polar": {
           "angularaxis": {
            "gridcolor": "white",
            "linecolor": "white",
            "ticks": ""
           },
           "bgcolor": "#E5ECF6",
           "radialaxis": {
            "gridcolor": "white",
            "linecolor": "white",
            "ticks": ""
           }
          },
          "scene": {
           "xaxis": {
            "backgroundcolor": "#E5ECF6",
            "gridcolor": "white",
            "gridwidth": 2,
            "linecolor": "white",
            "showbackground": true,
            "ticks": "",
            "zerolinecolor": "white"
           },
           "yaxis": {
            "backgroundcolor": "#E5ECF6",
            "gridcolor": "white",
            "gridwidth": 2,
            "linecolor": "white",
            "showbackground": true,
            "ticks": "",
            "zerolinecolor": "white"
           },
           "zaxis": {
            "backgroundcolor": "#E5ECF6",
            "gridcolor": "white",
            "gridwidth": 2,
            "linecolor": "white",
            "showbackground": true,
            "ticks": "",
            "zerolinecolor": "white"
           }
          },
          "shapedefaults": {
           "line": {
            "color": "#2a3f5f"
           }
          },
          "ternary": {
           "aaxis": {
            "gridcolor": "white",
            "linecolor": "white",
            "ticks": ""
           },
           "baxis": {
            "gridcolor": "white",
            "linecolor": "white",
            "ticks": ""
           },
           "bgcolor": "#E5ECF6",
           "caxis": {
            "gridcolor": "white",
            "linecolor": "white",
            "ticks": ""
           }
          },
          "title": {
           "x": 0.05
          },
          "xaxis": {
           "automargin": true,
           "gridcolor": "white",
           "linecolor": "white",
           "ticks": "",
           "title": {
            "standoff": 15
           },
           "zerolinecolor": "white",
           "zerolinewidth": 2
          },
          "yaxis": {
           "automargin": true,
           "gridcolor": "white",
           "linecolor": "white",
           "ticks": "",
           "title": {
            "standoff": 15
           },
           "zerolinecolor": "white",
           "zerolinewidth": 2
          }
         }
        },
        "width": 950,
        "xaxis": {
         "showgrid": false,
         "visible": false,
         "zeroline": false
        },
        "yaxis": {
         "showgrid": false,
         "visible": false,
         "zeroline": false
        }
       }
      }
     },
     "metadata": {},
     "output_type": "display_data"
    }
   ],
   "source": [
    "# Step 1: Base graph\n",
    "topology = CellComplex.Prism()\n",
    "g1 = Graph.ByTopology(topology, toExteriorTopologies=True)\n",
    "\n",
    "\n",
    "verts1 = Graph.Vertices(g1)\n",
    "for i, v in enumerate(verts1):\n",
    "    d = Dictionary.ByKeysValues([\"position\", \"remove\", \"removeColor\"], [i+5, False, \"blue\"])\n",
    "    v = Topology.SetDictionary(v, d)\n",
    "\n",
    "verts2 = [Topology.Translate(v, 2, 0, 0) for v in verts1]\n",
    "e1 = Graph.Edges(g1)\n",
    "edges2 = [Topology.Translate(e, 2, 0, 0) for e in e1]\n",
    "for i in range(15):\n",
    "    g1 = Graph.RemoveVertex(g1, verts1[0])\n",
    "\n",
    "g1 = Graph.RemoveIsolatedVertices(g1)\n",
    "verts1 = Graph.Vertices(g1)\n",
    "e1 = Graph.Edges(g1)\n",
    "\n",
    "# Mark two random vertices for removal (last 3 vertices)\n",
    "v1 = verts1[-3]\n",
    "v2 = verts1[-2]\n",
    "v3 = verts1[-1]\n",
    "d1 = Topology.Dictionary(v1)\n",
    "d1 = Dictionary.SetValuesAtKeys(d1, [\"remove\", \"removeColor\"], [True, \"red\"])\n",
    "v1 = Topology.SetDictionary(v1, d1)\n",
    "d2 = Topology.Dictionary(v2)\n",
    "d2 = Dictionary.SetValuesAtKeys(d2, [\"remove\", \"removeColor\"], [True, \"red\"])\n",
    "v2 = Topology.SetDictionary(v2, d2)\n",
    "d3 = Topology.Dictionary(v3)\n",
    "d3 = Dictionary.SetValuesAtKeys(d3, [\"remove\", \"removeColor\"], [True, \"red\"])\n",
    "v3 = Topology.SetDictionary(v3, d3)\n",
    "\n",
    "# Get the mesh data of g1 to reconstruct it later on.\n",
    "mesh_data = Graph.MeshData(g1)\n",
    "edges1 = mesh_data['edges']\n",
    "vert_dicts1 = mesh_data['vertexDictionaries']\n",
    "edge_dicts1 = mesh_data['edgeDictionaries']\n",
    "\n",
    "\n",
    "g2 = Graph.ByVerticesEdges(verts2, edges2)\n",
    "verts2 = Graph.Vertices(g2)\n",
    "edges2 = Graph.Edges(g2)\n",
    "# Step 3: Show the two graphs\n",
    "p1 = Plotly.DataByGraph(g1, edgeColor=\"blue\", edgeWidth=2, vertexSizeKey=\"position\", vertexColor=\"blue\", vertexBorderColor=\"blue\")\n",
    "p2 = Plotly.DataByGraph(g2, edgeColor=\"orange\", edgeWidth=2, vertexSizeKey=\"position\", vertexColor=\"orange\", vertexBorderColor=\"orange\")\n",
    "figure = Plotly.FigureByData(p1+p2)\n",
    "Plotly.Show(figure)"
   ]
  },
  {
   "cell_type": "markdown",
   "id": "9f2b451f",
   "metadata": {},
   "source": [
    "### Try with a vertex key. Should give only 1 match. Vertices to be removed are highlighted in red"
   ]
  },
  {
   "cell_type": "code",
   "execution_count": 4,
   "id": "047b2e2a",
   "metadata": {},
   "outputs": [
    {
     "name": "stdout",
     "output_type": "stream",
     "text": [
      "1 match(es) found\n"
     ]
    },
    {
     "data": {
      "application/vnd.plotly.v1+json": {
       "config": {
        "plotlyServerURL": "https://plot.ly"
       },
       "data": [
        {
         "marker": {
          "color": [
           "orange",
           "orange",
           "orange",
           "orange",
           "orange",
           "orange",
           "orange",
           "orange",
           "orange",
           "orange",
           "orange",
           "orange",
           "orange",
           "orange",
           "orange",
           "orange",
           "orange",
           "orange",
           "orange",
           "orange",
           "orange",
           "orange",
           "orange",
           "orange",
           "orange",
           "orange",
           "orange",
           "orange",
           "orange",
           "orange",
           "orange",
           "orange"
          ],
          "opacity": 1,
          "size": [
           12,
           12,
           12,
           12,
           12,
           12,
           12,
           12,
           12,
           12,
           12,
           12,
           12,
           12,
           12,
           12,
           12,
           12,
           12,
           12,
           12,
           12,
           12,
           12,
           12,
           12,
           12,
           12,
           12,
           12,
           12,
           12
          ],
          "sizemode": "diameter",
          "symbol": "circle"
         },
         "mode": "markers",
         "name": "Graph Vertices",
         "showlegend": false,
         "type": "scatter3d",
         "x": [
          1.75,
          2.25,
          1.75,
          1.75,
          1.75,
          1.5,
          1.75,
          1.75,
          1.75,
          1.5,
          2.25,
          1.5,
          2.5,
          2.25,
          2.25,
          2.25,
          2.25,
          1.5,
          2.5,
          1.75,
          2.5,
          2.25,
          2.25,
          1.75,
          1.75,
          1.75,
          2.25,
          2.25,
          1.75,
          2.25,
          2.5,
          2.25
         ],
         "y": [
          0.5,
          0.25,
          0.25,
          -0.5,
          -0.25,
          -0.25,
          -0.5,
          0.25,
          0.25,
          0.25,
          -0.25,
          -0.25,
          -0.25,
          -0.5,
          -0.5,
          0.5,
          0.25,
          0.25,
          0.25,
          -0.25,
          0.25,
          -0.25,
          0.25,
          0.25,
          0.5,
          -0.25,
          0.25,
          0.5,
          -0.25,
          -0.25,
          -0.25,
          -0.25
         ],
         "z": [
          0.25,
          -0.5,
          -0.25,
          -0.25,
          0.25,
          0.25,
          0.25,
          0.5,
          -0.5,
          -0.25,
          -0.5,
          -0.25,
          0.25,
          0.25,
          -0.25,
          0.25,
          0.25,
          0.25,
          0.25,
          0.5,
          -0.25,
          0.5,
          -0.25,
          0.25,
          -0.25,
          -0.5,
          0.5,
          -0.25,
          -0.25,
          0.25,
          -0.25,
          -0.25
         ]
        },
        {
         "customdata": [
          "",
          "",
          "",
          "",
          "",
          "",
          "",
          "",
          "",
          "",
          "",
          "",
          "",
          "",
          "",
          "",
          "",
          "",
          "",
          "",
          "",
          "",
          "",
          "",
          "",
          "",
          "",
          "",
          "",
          "",
          "",
          ""
         ],
         "hoverinfo": "text",
         "hovertemplate": [
          "Click ",
          "Click ",
          "Click ",
          "Click ",
          "Click ",
          "Click ",
          "Click ",
          "Click ",
          "Click ",
          "Click ",
          "Click ",
          "Click ",
          "Click ",
          "Click ",
          "Click ",
          "Click ",
          "Click ",
          "Click ",
          "Click ",
          "Click ",
          "Click ",
          "Click ",
          "Click ",
          "Click ",
          "Click ",
          "Click ",
          "Click ",
          "Click ",
          "Click ",
          "Click ",
          "Click ",
          "Click "
         ],
         "hovertext": [
          "",
          "",
          "",
          "",
          "",
          "",
          "",
          "",
          "",
          "",
          "",
          "",
          "",
          "",
          "",
          "",
          "",
          "",
          "",
          "",
          "",
          "",
          "",
          "",
          "",
          "",
          "",
          "",
          "",
          "",
          "",
          ""
         ],
         "legendgroup": "4",
         "legendrank": 4,
         "marker": {
          "color": [
           "#FFA500",
           "#FFA500",
           "#FFA500",
           "#FFA500",
           "#FFA500",
           "#FFA500",
           "#FFA500",
           "#FFA500",
           "#FFA500",
           "#FFA500",
           "#FFA500",
           "#FFA500",
           "#FFA500",
           "#FFA500",
           "#FFA500",
           "#FFA500",
           "#FFA500",
           "#FFA500",
           "#FFA500",
           "#FFA500",
           "#FFA500",
           "#FFA500",
           "#FFA500",
           "#FFA500",
           "#FFA500",
           "#FFA500",
           "#FFA500",
           "#FFA500",
           "#FFA500",
           "#FFA500",
           "#FFA500",
           "#FFA500"
          ],
          "opacity": 1,
          "size": [
           15,
           13,
           5,
           21,
           9,
           30,
           31,
           22,
           32,
           17,
           28,
           26,
           34,
           35,
           24,
           20,
           10,
           16,
           23,
           33,
           27,
           36,
           8,
           12,
           18,
           25,
           19,
           14,
           6,
           11,
           29,
           7
          ],
          "sizemode": "diameter",
          "symbol": "circle"
         },
         "mode": "markers",
         "name": "Graph Vertices",
         "showlegend": false,
         "text": [
          "",
          "",
          "",
          "",
          "",
          "",
          "",
          "",
          "",
          "",
          "",
          "",
          "",
          "",
          "",
          "",
          "",
          "",
          "",
          "",
          "",
          "",
          "",
          "",
          "",
          "",
          "",
          "",
          "",
          "",
          "",
          ""
         ],
         "type": "scatter3d",
         "x": [
          1.75,
          2.25,
          1.75,
          1.75,
          1.75,
          1.5,
          1.75,
          1.75,
          1.75,
          1.5,
          2.25,
          1.5,
          2.5,
          2.25,
          2.25,
          2.25,
          2.25,
          1.5,
          2.5,
          1.75,
          2.5,
          2.25,
          2.25,
          1.75,
          1.75,
          1.75,
          2.25,
          2.25,
          1.75,
          2.25,
          2.5,
          2.25
         ],
         "y": [
          0.5,
          0.25,
          0.25,
          -0.5,
          -0.25,
          -0.25,
          -0.5,
          0.25,
          0.25,
          0.25,
          -0.25,
          -0.25,
          -0.25,
          -0.5,
          -0.5,
          0.5,
          0.25,
          0.25,
          0.25,
          -0.25,
          0.25,
          -0.25,
          0.25,
          0.25,
          0.5,
          -0.25,
          0.25,
          0.5,
          -0.25,
          -0.25,
          -0.25,
          -0.25
         ],
         "z": [
          0.25,
          -0.5,
          -0.25,
          -0.25,
          0.25,
          0.25,
          0.25,
          0.5,
          -0.5,
          -0.25,
          -0.5,
          -0.25,
          0.25,
          0.25,
          -0.25,
          0.25,
          0.25,
          0.25,
          0.25,
          0.5,
          -0.25,
          0.5,
          -0.25,
          0.25,
          -0.25,
          -0.5,
          0.5,
          -0.25,
          -0.25,
          0.25,
          -0.25,
          -0.25
         ]
        },
        {
         "hoverinfo": "text",
         "legendgroup": "5",
         "legendrank": 5,
         "line": {
          "color": "orange",
          "dash": "solid",
          "width": 2
         },
         "marker": {
          "size": 0
         },
         "mode": "lines",
         "name": "Graph Edges",
         "showlegend": false,
         "text": "",
         "type": "scatter3d",
         "x": [
          1.75,
          1.75,
          null,
          2.25,
          2.25,
          null,
          1.75,
          1.75,
          null,
          1.75,
          1.5,
          null,
          1.75,
          1.75,
          null,
          1.75,
          1.75,
          null,
          1.75,
          2.25,
          null,
          1.75,
          1.75,
          null,
          1.75,
          1.75,
          null,
          1.75,
          2.25,
          null,
          1.75,
          1.75,
          null,
          1.75,
          1.75,
          null,
          1.75,
          1.75,
          null,
          1.75,
          1.75,
          null,
          1.75,
          1.5,
          null,
          1.75,
          1.75,
          null,
          2.25,
          2.25,
          null,
          1.75,
          1.5,
          null,
          2.25,
          2.5,
          null,
          2.25,
          2.25,
          null,
          2.25,
          2.25,
          null,
          2.25,
          2.25,
          null,
          2.25,
          2.25,
          null,
          2.25,
          2.25,
          null,
          2.25,
          2.25,
          null,
          1.75,
          2.25,
          null,
          2.25,
          2.5,
          null,
          1.75,
          1.5,
          null,
          2.25,
          2.5,
          null,
          2.25,
          2.25,
          null,
          2.25,
          2.25,
          null,
          2.25,
          2.25,
          null,
          1.75,
          1.75,
          null,
          1.75,
          2.25,
          null,
          2.25,
          2.25,
          null,
          2.25,
          2.5,
          null
         ],
         "y": [
          0.25,
          0.5,
          null,
          0.25,
          0.25,
          null,
          0.25,
          0.25,
          null,
          0.25,
          0.25,
          null,
          0.25,
          0.5,
          null,
          0.25,
          -0.25,
          null,
          0.25,
          0.25,
          null,
          0.25,
          0.25,
          null,
          -0.25,
          -0.5,
          null,
          -0.25,
          -0.25,
          null,
          -0.25,
          -0.25,
          null,
          0.25,
          -0.25,
          null,
          -0.25,
          -0.5,
          null,
          -0.25,
          -0.25,
          null,
          -0.25,
          -0.25,
          null,
          0.25,
          0.25,
          null,
          -0.25,
          -0.25,
          null,
          -0.25,
          -0.25,
          null,
          -0.25,
          -0.25,
          null,
          -0.25,
          -0.5,
          null,
          -0.25,
          -0.5,
          null,
          0.25,
          0.5,
          null,
          0.25,
          -0.25,
          null,
          0.25,
          0.25,
          null,
          0.25,
          0.25,
          null,
          0.25,
          0.25,
          null,
          0.25,
          0.25,
          null,
          0.25,
          0.25,
          null,
          0.25,
          0.25,
          null,
          -0.25,
          -0.25,
          null,
          0.25,
          -0.25,
          null,
          0.25,
          0.5,
          null,
          -0.25,
          -0.25,
          null,
          -0.25,
          -0.25,
          null,
          -0.25,
          -0.25,
          null,
          -0.25,
          -0.25,
          null
         ],
         "z": [
          0.25,
          0.25,
          null,
          -0.25,
          -0.5,
          null,
          -0.25,
          -0.5,
          null,
          -0.25,
          -0.25,
          null,
          -0.25,
          -0.25,
          null,
          -0.25,
          -0.25,
          null,
          -0.25,
          -0.25,
          null,
          -0.25,
          0.25,
          null,
          -0.25,
          -0.25,
          null,
          0.25,
          0.25,
          null,
          -0.25,
          0.25,
          null,
          0.25,
          0.25,
          null,
          0.25,
          0.25,
          null,
          0.25,
          0.5,
          null,
          0.25,
          0.25,
          null,
          0.25,
          0.5,
          null,
          -0.25,
          -0.5,
          null,
          -0.25,
          -0.25,
          null,
          0.25,
          0.25,
          null,
          0.25,
          0.25,
          null,
          -0.25,
          -0.25,
          null,
          0.25,
          0.25,
          null,
          0.25,
          0.25,
          null,
          0.25,
          0.5,
          null,
          -0.25,
          0.25,
          null,
          0.25,
          0.25,
          null,
          0.25,
          0.25,
          null,
          0.25,
          0.25,
          null,
          -0.25,
          -0.25,
          null,
          0.25,
          0.5,
          null,
          -0.25,
          -0.25,
          null,
          -0.25,
          -0.25,
          null,
          -0.25,
          -0.5,
          null,
          -0.25,
          -0.25,
          null,
          -0.25,
          0.25,
          null,
          -0.25,
          -0.25,
          null
         ]
        },
        {
         "marker": {
          "color": [
           "black",
           "black",
           "black",
           "black",
           "black",
           "black",
           "black",
           "black"
          ],
          "opacity": 1,
          "size": [
           8,
           8,
           8,
           8,
           8,
           8,
           8,
           8
          ],
          "sizemode": "diameter",
          "symbol": "circle"
         },
         "mode": "markers",
         "name": "Graph Vertices",
         "showlegend": false,
         "type": "scatter3d",
         "x": [
          2.275,
          2.525,
          2.525,
          2.275,
          2.275,
          2.275,
          2.275,
          2.275
         ],
         "y": [
          0.275,
          -0.225,
          0.275,
          0.525,
          -0.225,
          0.275,
          -0.475,
          -0.225
         ],
         "z": [
          0.275,
          0.275,
          0.275,
          0.275,
          0.275,
          0.525,
          0.275,
          0.525
         ]
        },
        {
         "customdata": [
          "",
          "",
          "",
          "",
          "",
          "",
          "",
          ""
         ],
         "hoverinfo": "text",
         "hovertemplate": [
          "Click ",
          "Click ",
          "Click ",
          "Click ",
          "Click ",
          "Click ",
          "Click ",
          "Click "
         ],
         "hovertext": [
          "",
          "",
          "",
          "",
          "",
          "",
          "",
          ""
         ],
         "legendgroup": "4",
         "legendrank": 4,
         "marker": {
          "color": [
           "#0000FF",
           "#FF0000",
           "#0000FF",
           "#0000FF",
           "#0000FF",
           "#0000FF",
           "#FF0000",
           "#FF0000"
          ],
          "opacity": 1,
          "size": [
           10,
           34,
           23,
           20,
           11,
           19,
           35,
           36
          ],
          "sizemode": "diameter",
          "symbol": "circle"
         },
         "mode": "markers",
         "name": "Graph Vertices",
         "showlegend": false,
         "text": [
          "",
          "",
          "",
          "",
          "",
          "",
          "",
          ""
         ],
         "type": "scatter3d",
         "x": [
          2.275,
          2.525,
          2.525,
          2.275,
          2.275,
          2.275,
          2.275,
          2.275
         ],
         "y": [
          0.275,
          -0.225,
          0.275,
          0.525,
          -0.225,
          0.275,
          -0.475,
          -0.225
         ],
         "z": [
          0.275,
          0.275,
          0.275,
          0.275,
          0.275,
          0.525,
          0.275,
          0.525
         ]
        },
        {
         "hoverinfo": "text",
         "legendgroup": "5",
         "legendrank": 5,
         "line": {
          "color": "blue",
          "dash": "dot",
          "width": 3
         },
         "marker": {
          "size": 0
         },
         "mode": "lines",
         "name": "Graph Edges",
         "showlegend": false,
         "text": "",
         "type": "scatter3d",
         "x": [
          2.275,
          2.275,
          null,
          2.275,
          2.525,
          null,
          2.275,
          2.275,
          null,
          2.275,
          2.275,
          null,
          2.275,
          2.525,
          null,
          2.275,
          2.275,
          null,
          2.275,
          2.275,
          null
         ],
         "y": [
          0.275,
          0.275,
          null,
          0.275,
          0.275,
          null,
          0.275,
          -0.225,
          null,
          0.275,
          0.525,
          null,
          -0.225,
          -0.225,
          null,
          -0.225,
          -0.225,
          null,
          -0.225,
          -0.475,
          null
         ],
         "z": [
          0.275,
          0.525,
          null,
          0.275,
          0.275,
          null,
          0.275,
          0.275,
          null,
          0.275,
          0.275,
          null,
          0.275,
          0.275,
          null,
          0.275,
          0.525,
          null,
          0.275,
          0.275,
          null
         ]
        }
       ],
       "layout": {
        "autosize": true,
        "height": 500,
        "margin": {
         "b": 40,
         "l": 40,
         "r": 40,
         "t": 40
        },
        "paper_bgcolor": "RGBA(0,0,0,0)",
        "plot_bgcolor": "RGBA(0,0,0,0)",
        "scene": {
         "aspectmode": "data",
         "camera": {
          "center": {
           "x": 0,
           "y": 0,
           "z": 0
          },
          "eye": {
           "x": -1.25,
           "y": -1.25,
           "z": 1.25
          },
          "projection": {
           "type": "perspective"
          },
          "up": {
           "x": 0,
           "y": 0,
           "z": 1
          }
         },
         "xaxis": {
          "visible": false
         },
         "yaxis": {
          "visible": false
         },
         "zaxis": {
          "visible": false
         }
        },
        "showlegend": true,
        "template": {
         "data": {
          "bar": [
           {
            "error_x": {
             "color": "#2a3f5f"
            },
            "error_y": {
             "color": "#2a3f5f"
            },
            "marker": {
             "line": {
              "color": "#E5ECF6",
              "width": 0.5
             },
             "pattern": {
              "fillmode": "overlay",
              "size": 10,
              "solidity": 0.2
             }
            },
            "type": "bar"
           }
          ],
          "barpolar": [
           {
            "marker": {
             "line": {
              "color": "#E5ECF6",
              "width": 0.5
             },
             "pattern": {
              "fillmode": "overlay",
              "size": 10,
              "solidity": 0.2
             }
            },
            "type": "barpolar"
           }
          ],
          "carpet": [
           {
            "aaxis": {
             "endlinecolor": "#2a3f5f",
             "gridcolor": "white",
             "linecolor": "white",
             "minorgridcolor": "white",
             "startlinecolor": "#2a3f5f"
            },
            "baxis": {
             "endlinecolor": "#2a3f5f",
             "gridcolor": "white",
             "linecolor": "white",
             "minorgridcolor": "white",
             "startlinecolor": "#2a3f5f"
            },
            "type": "carpet"
           }
          ],
          "choropleth": [
           {
            "colorbar": {
             "outlinewidth": 0,
             "ticks": ""
            },
            "type": "choropleth"
           }
          ],
          "contour": [
           {
            "colorbar": {
             "outlinewidth": 0,
             "ticks": ""
            },
            "colorscale": [
             [
              0,
              "#0d0887"
             ],
             [
              0.1111111111111111,
              "#46039f"
             ],
             [
              0.2222222222222222,
              "#7201a8"
             ],
             [
              0.3333333333333333,
              "#9c179e"
             ],
             [
              0.4444444444444444,
              "#bd3786"
             ],
             [
              0.5555555555555556,
              "#d8576b"
             ],
             [
              0.6666666666666666,
              "#ed7953"
             ],
             [
              0.7777777777777778,
              "#fb9f3a"
             ],
             [
              0.8888888888888888,
              "#fdca26"
             ],
             [
              1,
              "#f0f921"
             ]
            ],
            "type": "contour"
           }
          ],
          "contourcarpet": [
           {
            "colorbar": {
             "outlinewidth": 0,
             "ticks": ""
            },
            "type": "contourcarpet"
           }
          ],
          "heatmap": [
           {
            "colorbar": {
             "outlinewidth": 0,
             "ticks": ""
            },
            "colorscale": [
             [
              0,
              "#0d0887"
             ],
             [
              0.1111111111111111,
              "#46039f"
             ],
             [
              0.2222222222222222,
              "#7201a8"
             ],
             [
              0.3333333333333333,
              "#9c179e"
             ],
             [
              0.4444444444444444,
              "#bd3786"
             ],
             [
              0.5555555555555556,
              "#d8576b"
             ],
             [
              0.6666666666666666,
              "#ed7953"
             ],
             [
              0.7777777777777778,
              "#fb9f3a"
             ],
             [
              0.8888888888888888,
              "#fdca26"
             ],
             [
              1,
              "#f0f921"
             ]
            ],
            "type": "heatmap"
           }
          ],
          "histogram": [
           {
            "marker": {
             "pattern": {
              "fillmode": "overlay",
              "size": 10,
              "solidity": 0.2
             }
            },
            "type": "histogram"
           }
          ],
          "histogram2d": [
           {
            "colorbar": {
             "outlinewidth": 0,
             "ticks": ""
            },
            "colorscale": [
             [
              0,
              "#0d0887"
             ],
             [
              0.1111111111111111,
              "#46039f"
             ],
             [
              0.2222222222222222,
              "#7201a8"
             ],
             [
              0.3333333333333333,
              "#9c179e"
             ],
             [
              0.4444444444444444,
              "#bd3786"
             ],
             [
              0.5555555555555556,
              "#d8576b"
             ],
             [
              0.6666666666666666,
              "#ed7953"
             ],
             [
              0.7777777777777778,
              "#fb9f3a"
             ],
             [
              0.8888888888888888,
              "#fdca26"
             ],
             [
              1,
              "#f0f921"
             ]
            ],
            "type": "histogram2d"
           }
          ],
          "histogram2dcontour": [
           {
            "colorbar": {
             "outlinewidth": 0,
             "ticks": ""
            },
            "colorscale": [
             [
              0,
              "#0d0887"
             ],
             [
              0.1111111111111111,
              "#46039f"
             ],
             [
              0.2222222222222222,
              "#7201a8"
             ],
             [
              0.3333333333333333,
              "#9c179e"
             ],
             [
              0.4444444444444444,
              "#bd3786"
             ],
             [
              0.5555555555555556,
              "#d8576b"
             ],
             [
              0.6666666666666666,
              "#ed7953"
             ],
             [
              0.7777777777777778,
              "#fb9f3a"
             ],
             [
              0.8888888888888888,
              "#fdca26"
             ],
             [
              1,
              "#f0f921"
             ]
            ],
            "type": "histogram2dcontour"
           }
          ],
          "mesh3d": [
           {
            "colorbar": {
             "outlinewidth": 0,
             "ticks": ""
            },
            "type": "mesh3d"
           }
          ],
          "parcoords": [
           {
            "line": {
             "colorbar": {
              "outlinewidth": 0,
              "ticks": ""
             }
            },
            "type": "parcoords"
           }
          ],
          "pie": [
           {
            "automargin": true,
            "type": "pie"
           }
          ],
          "scatter": [
           {
            "fillpattern": {
             "fillmode": "overlay",
             "size": 10,
             "solidity": 0.2
            },
            "type": "scatter"
           }
          ],
          "scatter3d": [
           {
            "line": {
             "colorbar": {
              "outlinewidth": 0,
              "ticks": ""
             }
            },
            "marker": {
             "colorbar": {
              "outlinewidth": 0,
              "ticks": ""
             }
            },
            "type": "scatter3d"
           }
          ],
          "scattercarpet": [
           {
            "marker": {
             "colorbar": {
              "outlinewidth": 0,
              "ticks": ""
             }
            },
            "type": "scattercarpet"
           }
          ],
          "scattergeo": [
           {
            "marker": {
             "colorbar": {
              "outlinewidth": 0,
              "ticks": ""
             }
            },
            "type": "scattergeo"
           }
          ],
          "scattergl": [
           {
            "marker": {
             "colorbar": {
              "outlinewidth": 0,
              "ticks": ""
             }
            },
            "type": "scattergl"
           }
          ],
          "scattermap": [
           {
            "marker": {
             "colorbar": {
              "outlinewidth": 0,
              "ticks": ""
             }
            },
            "type": "scattermap"
           }
          ],
          "scattermapbox": [
           {
            "marker": {
             "colorbar": {
              "outlinewidth": 0,
              "ticks": ""
             }
            },
            "type": "scattermapbox"
           }
          ],
          "scatterpolar": [
           {
            "marker": {
             "colorbar": {
              "outlinewidth": 0,
              "ticks": ""
             }
            },
            "type": "scatterpolar"
           }
          ],
          "scatterpolargl": [
           {
            "marker": {
             "colorbar": {
              "outlinewidth": 0,
              "ticks": ""
             }
            },
            "type": "scatterpolargl"
           }
          ],
          "scatterternary": [
           {
            "marker": {
             "colorbar": {
              "outlinewidth": 0,
              "ticks": ""
             }
            },
            "type": "scatterternary"
           }
          ],
          "surface": [
           {
            "colorbar": {
             "outlinewidth": 0,
             "ticks": ""
            },
            "colorscale": [
             [
              0,
              "#0d0887"
             ],
             [
              0.1111111111111111,
              "#46039f"
             ],
             [
              0.2222222222222222,
              "#7201a8"
             ],
             [
              0.3333333333333333,
              "#9c179e"
             ],
             [
              0.4444444444444444,
              "#bd3786"
             ],
             [
              0.5555555555555556,
              "#d8576b"
             ],
             [
              0.6666666666666666,
              "#ed7953"
             ],
             [
              0.7777777777777778,
              "#fb9f3a"
             ],
             [
              0.8888888888888888,
              "#fdca26"
             ],
             [
              1,
              "#f0f921"
             ]
            ],
            "type": "surface"
           }
          ],
          "table": [
           {
            "cells": {
             "fill": {
              "color": "#EBF0F8"
             },
             "line": {
              "color": "white"
             }
            },
            "header": {
             "fill": {
              "color": "#C8D4E3"
             },
             "line": {
              "color": "white"
             }
            },
            "type": "table"
           }
          ]
         },
         "layout": {
          "annotationdefaults": {
           "arrowcolor": "#2a3f5f",
           "arrowhead": 0,
           "arrowwidth": 1
          },
          "autotypenumbers": "strict",
          "coloraxis": {
           "colorbar": {
            "outlinewidth": 0,
            "ticks": ""
           }
          },
          "colorscale": {
           "diverging": [
            [
             0,
             "#8e0152"
            ],
            [
             0.1,
             "#c51b7d"
            ],
            [
             0.2,
             "#de77ae"
            ],
            [
             0.3,
             "#f1b6da"
            ],
            [
             0.4,
             "#fde0ef"
            ],
            [
             0.5,
             "#f7f7f7"
            ],
            [
             0.6,
             "#e6f5d0"
            ],
            [
             0.7,
             "#b8e186"
            ],
            [
             0.8,
             "#7fbc41"
            ],
            [
             0.9,
             "#4d9221"
            ],
            [
             1,
             "#276419"
            ]
           ],
           "sequential": [
            [
             0,
             "#0d0887"
            ],
            [
             0.1111111111111111,
             "#46039f"
            ],
            [
             0.2222222222222222,
             "#7201a8"
            ],
            [
             0.3333333333333333,
             "#9c179e"
            ],
            [
             0.4444444444444444,
             "#bd3786"
            ],
            [
             0.5555555555555556,
             "#d8576b"
            ],
            [
             0.6666666666666666,
             "#ed7953"
            ],
            [
             0.7777777777777778,
             "#fb9f3a"
            ],
            [
             0.8888888888888888,
             "#fdca26"
            ],
            [
             1,
             "#f0f921"
            ]
           ],
           "sequentialminus": [
            [
             0,
             "#0d0887"
            ],
            [
             0.1111111111111111,
             "#46039f"
            ],
            [
             0.2222222222222222,
             "#7201a8"
            ],
            [
             0.3333333333333333,
             "#9c179e"
            ],
            [
             0.4444444444444444,
             "#bd3786"
            ],
            [
             0.5555555555555556,
             "#d8576b"
            ],
            [
             0.6666666666666666,
             "#ed7953"
            ],
            [
             0.7777777777777778,
             "#fb9f3a"
            ],
            [
             0.8888888888888888,
             "#fdca26"
            ],
            [
             1,
             "#f0f921"
            ]
           ]
          },
          "colorway": [
           "#636efa",
           "#EF553B",
           "#00cc96",
           "#ab63fa",
           "#FFA15A",
           "#19d3f3",
           "#FF6692",
           "#B6E880",
           "#FF97FF",
           "#FECB52"
          ],
          "font": {
           "color": "#2a3f5f"
          },
          "geo": {
           "bgcolor": "white",
           "lakecolor": "white",
           "landcolor": "#E5ECF6",
           "showlakes": true,
           "showland": true,
           "subunitcolor": "white"
          },
          "hoverlabel": {
           "align": "left"
          },
          "hovermode": "closest",
          "mapbox": {
           "style": "light"
          },
          "paper_bgcolor": "white",
          "plot_bgcolor": "#E5ECF6",
          "polar": {
           "angularaxis": {
            "gridcolor": "white",
            "linecolor": "white",
            "ticks": ""
           },
           "bgcolor": "#E5ECF6",
           "radialaxis": {
            "gridcolor": "white",
            "linecolor": "white",
            "ticks": ""
           }
          },
          "scene": {
           "xaxis": {
            "backgroundcolor": "#E5ECF6",
            "gridcolor": "white",
            "gridwidth": 2,
            "linecolor": "white",
            "showbackground": true,
            "ticks": "",
            "zerolinecolor": "white"
           },
           "yaxis": {
            "backgroundcolor": "#E5ECF6",
            "gridcolor": "white",
            "gridwidth": 2,
            "linecolor": "white",
            "showbackground": true,
            "ticks": "",
            "zerolinecolor": "white"
           },
           "zaxis": {
            "backgroundcolor": "#E5ECF6",
            "gridcolor": "white",
            "gridwidth": 2,
            "linecolor": "white",
            "showbackground": true,
            "ticks": "",
            "zerolinecolor": "white"
           }
          },
          "shapedefaults": {
           "line": {
            "color": "#2a3f5f"
           }
          },
          "ternary": {
           "aaxis": {
            "gridcolor": "white",
            "linecolor": "white",
            "ticks": ""
           },
           "baxis": {
            "gridcolor": "white",
            "linecolor": "white",
            "ticks": ""
           },
           "bgcolor": "#E5ECF6",
           "caxis": {
            "gridcolor": "white",
            "linecolor": "white",
            "ticks": ""
           }
          },
          "title": {
           "x": 0.05
          },
          "xaxis": {
           "automargin": true,
           "gridcolor": "white",
           "linecolor": "white",
           "ticks": "",
           "title": {
            "standoff": 15
           },
           "zerolinecolor": "white",
           "zerolinewidth": 2
          },
          "yaxis": {
           "automargin": true,
           "gridcolor": "white",
           "linecolor": "white",
           "ticks": "",
           "title": {
            "standoff": 15
           },
           "zerolinecolor": "white",
           "zerolinewidth": 2
          }
         }
        },
        "width": 950,
        "xaxis": {
         "showgrid": false,
         "visible": false,
         "zeroline": false
        },
        "yaxis": {
         "showgrid": false,
         "visible": false,
         "zeroline": false
        }
       }
      }
     },
     "metadata": {},
     "output_type": "display_data"
    }
   ],
   "source": [
    "# Step 4: Isomorphism matching with key\n",
    "matches = Graph.Match(g1, g2, vertexKey=\"position\")\n",
    "print(len(matches), \"match(es) found\")\n",
    "\n",
    "new_verts = [(Vertex.X(v), Vertex.Y(v), Vertex.Z(v)) for v in verts1]\n",
    "new_dicts = [d for d in vert_dicts1]\n",
    "for match in matches:\n",
    "    for vi2 in match.keys(): # The key in a match is the vertex index in the second (larger) graph.\n",
    "        vi1 = match.get(vi2) # The value in a match is the vertex index in the first (smaller) graph.\n",
    "        new_verts[vi1] = ([Vertex.X(verts2[vi2])+0.025, Vertex.Y(verts2[vi2])+0.025, Vertex.Z(verts2[vi2])+0.025])\n",
    "        new_dicts[vi1] = vert_dicts1[vi1]\n",
    "        # Merge the dictionaries of the two vertices.\n",
    "        d1 = Topology.Dictionary(verts1[vi1])\n",
    "        # Transfer Dictionary values (e.g. remove) from the first graph to the second graph.\n",
    "        d2 = Topology.Dictionary(verts2[vi2])\n",
    "        d2 = Dictionary.SetValueAtKey(d2, \"remove\", Dictionary.ValueAtKey(d1, \"remove\"))\n",
    "        verts2[vi2] = Topology.SetDictionary(verts2[vi2], d2)\n",
    "\n",
    "    g1b = Graph.ByMeshData(vertices=new_verts, edges=edges1, vertexDictionaries=new_dicts, edgeDictionaries=edge_dicts1)\n",
    "    p1b = Plotly.DataByGraph(g1b, edgeColor=\"blue\", edgeWidth=3, vertexSize=6, vertexSizeKey=\"position\", vertexColor=\"blue\", vertexColorKey=\"removeColor\", edgeDash=True)\n",
    "    figure = Plotly.FigureByData(p2+p1b)\n",
    "    Plotly.Show(figure)"
   ]
  },
  {
   "cell_type": "markdown",
   "id": "d5541366",
   "metadata": {},
   "source": [
    "### See which nodes in GraphB need to be removed"
   ]
  },
  {
   "cell_type": "code",
   "execution_count": 5,
   "id": "5f6f7fe8",
   "metadata": {},
   "outputs": [
    {
     "name": "stdout",
     "output_type": "stream",
     "text": [
      "The following vertices need to be removed:\n",
      "index: 12 , position value: 34\n",
      "index: 13 , position value: 35\n",
      "index: 21 , position value: 36\n"
     ]
    }
   ],
   "source": [
    "vertices = Graph.Vertices(g2)\n",
    "print(\"The following vertices need to be removed:\")\n",
    "for i,v in enumerate(vertices):\n",
    "    d = Topology.Dictionary(v)\n",
    "    if Dictionary.ValueAtKey(d, \"remove\"):\n",
    "        print(\"index:\", i, \", position value:\", Dictionary.ValueAtKey(d, \"position\"))"
   ]
  },
  {
   "cell_type": "markdown",
   "id": "b76ad0cc",
   "metadata": {},
   "source": [
    "## Remove the vertices from g2, creating a g3 graph"
   ]
  },
  {
   "cell_type": "code",
   "execution_count": 6,
   "id": "d233d6ee",
   "metadata": {},
   "outputs": [],
   "source": [
    "vertices = Graph.Vertices(g2)\n",
    "edges = Graph.Edges(g2)\n",
    "g3 = Graph.ByVerticesEdges(vertices, edges)\n",
    "vertices = Graph.Vertices(g3)\n",
    "edges = Graph.Edges(g3)\n",
    "for i,v in enumerate(vertices):\n",
    "    d = Topology.Dictionary(v)\n",
    "    if Dictionary.ValueAtKey(d, \"remove\"):\n",
    "        g3 = Graph.RemoveVertex(g3, v)\n",
    "g3 = Graph.RemoveIsolatedVertices(g3)"
   ]
  },
  {
   "cell_type": "markdown",
   "id": "5681dcd8",
   "metadata": {},
   "source": [
    "### Draw the result of removing the red vertices"
   ]
  },
  {
   "cell_type": "code",
   "execution_count": 7,
   "id": "bfee32b5",
   "metadata": {},
   "outputs": [
    {
     "data": {
      "application/vnd.plotly.v1+json": {
       "config": {
        "plotlyServerURL": "https://plot.ly"
       },
       "data": [
        {
         "marker": {
          "color": [
           "black",
           "black",
           "black",
           "black",
           "black",
           "black",
           "black",
           "black"
          ],
          "opacity": 1,
          "size": [
           8,
           8,
           8,
           8,
           8,
           8,
           8,
           8
          ],
          "sizemode": "diameter",
          "symbol": "circle"
         },
         "mode": "markers",
         "name": "Graph Vertices",
         "showlegend": false,
         "type": "scatter3d",
         "x": [
          2.275,
          2.525,
          2.525,
          2.275,
          2.275,
          2.275,
          2.275,
          2.275
         ],
         "y": [
          0.275,
          -0.225,
          0.275,
          0.525,
          -0.225,
          0.275,
          -0.475,
          -0.225
         ],
         "z": [
          0.275,
          0.275,
          0.275,
          0.275,
          0.275,
          0.525,
          0.275,
          0.525
         ]
        },
        {
         "customdata": [
          "",
          "",
          "",
          "",
          "",
          "",
          "",
          ""
         ],
         "hoverinfo": "text",
         "hovertemplate": [
          "Click ",
          "Click ",
          "Click ",
          "Click ",
          "Click ",
          "Click ",
          "Click ",
          "Click "
         ],
         "hovertext": [
          "",
          "",
          "",
          "",
          "",
          "",
          "",
          ""
         ],
         "legendgroup": "4",
         "legendrank": 4,
         "marker": {
          "color": [
           "#0000FF",
           "#FF0000",
           "#0000FF",
           "#0000FF",
           "#0000FF",
           "#0000FF",
           "#FF0000",
           "#FF0000"
          ],
          "opacity": 1,
          "size": [
           10,
           34,
           23,
           20,
           11,
           19,
           35,
           36
          ],
          "sizemode": "diameter",
          "symbol": "circle"
         },
         "mode": "markers",
         "name": "Graph Vertices",
         "showlegend": false,
         "text": [
          "",
          "",
          "",
          "",
          "",
          "",
          "",
          ""
         ],
         "type": "scatter3d",
         "x": [
          2.275,
          2.525,
          2.525,
          2.275,
          2.275,
          2.275,
          2.275,
          2.275
         ],
         "y": [
          0.275,
          -0.225,
          0.275,
          0.525,
          -0.225,
          0.275,
          -0.475,
          -0.225
         ],
         "z": [
          0.275,
          0.275,
          0.275,
          0.275,
          0.275,
          0.525,
          0.275,
          0.525
         ]
        },
        {
         "hoverinfo": "text",
         "legendgroup": "5",
         "legendrank": 5,
         "line": {
          "color": "blue",
          "dash": "dot",
          "width": 3
         },
         "marker": {
          "size": 0
         },
         "mode": "lines",
         "name": "Graph Edges",
         "showlegend": false,
         "text": "",
         "type": "scatter3d",
         "x": [
          2.275,
          2.275,
          null,
          2.275,
          2.525,
          null,
          2.275,
          2.275,
          null,
          2.275,
          2.275,
          null,
          2.275,
          2.525,
          null,
          2.275,
          2.275,
          null,
          2.275,
          2.275,
          null
         ],
         "y": [
          0.275,
          0.275,
          null,
          0.275,
          0.275,
          null,
          0.275,
          -0.225,
          null,
          0.275,
          0.525,
          null,
          -0.225,
          -0.225,
          null,
          -0.225,
          -0.225,
          null,
          -0.225,
          -0.475,
          null
         ],
         "z": [
          0.275,
          0.525,
          null,
          0.275,
          0.275,
          null,
          0.275,
          0.275,
          null,
          0.275,
          0.275,
          null,
          0.275,
          0.275,
          null,
          0.275,
          0.525,
          null,
          0.275,
          0.275,
          null
         ]
        },
        {
         "marker": {
          "color": [
           "orange",
           "orange",
           "orange",
           "orange",
           "orange",
           "orange",
           "orange",
           "orange",
           "orange",
           "orange",
           "orange",
           "orange",
           "orange",
           "orange",
           "orange",
           "orange",
           "orange",
           "orange",
           "orange",
           "orange",
           "orange",
           "orange",
           "orange",
           "orange",
           "orange",
           "orange",
           "orange",
           "orange",
           "orange"
          ],
          "opacity": 1,
          "size": [
           12,
           12,
           12,
           12,
           12,
           12,
           12,
           12,
           12,
           12,
           12,
           12,
           12,
           12,
           12,
           12,
           12,
           12,
           12,
           12,
           12,
           12,
           12,
           12,
           12,
           12,
           12,
           12,
           12
          ],
          "sizemode": "diameter",
          "symbol": "circle"
         },
         "mode": "markers",
         "name": "Graph Vertices",
         "showlegend": false,
         "type": "scatter3d",
         "x": [
          1.75,
          2.25,
          1.75,
          1.75,
          1.75,
          1.5,
          1.75,
          1.75,
          1.75,
          1.5,
          2.25,
          1.5,
          2.25,
          2.25,
          2.25,
          1.5,
          2.5,
          1.75,
          2.5,
          2.25,
          1.75,
          1.75,
          1.75,
          2.25,
          2.25,
          1.75,
          2.25,
          2.5,
          2.25
         ],
         "y": [
          0.5,
          0.25,
          0.25,
          -0.5,
          -0.25,
          -0.25,
          -0.5,
          0.25,
          0.25,
          0.25,
          -0.25,
          -0.25,
          -0.5,
          0.5,
          0.25,
          0.25,
          0.25,
          -0.25,
          0.25,
          0.25,
          0.25,
          0.5,
          -0.25,
          0.25,
          0.5,
          -0.25,
          -0.25,
          -0.25,
          -0.25
         ],
         "z": [
          0.25,
          -0.5,
          -0.25,
          -0.25,
          0.25,
          0.25,
          0.25,
          0.5,
          -0.5,
          -0.25,
          -0.5,
          -0.25,
          -0.25,
          0.25,
          0.25,
          0.25,
          0.25,
          0.5,
          -0.25,
          -0.25,
          0.25,
          -0.25,
          -0.5,
          0.5,
          -0.25,
          -0.25,
          0.25,
          -0.25,
          -0.25
         ]
        },
        {
         "customdata": [
          "",
          "",
          "",
          "",
          "",
          "",
          "",
          "",
          "",
          "",
          "",
          "",
          "",
          "",
          "",
          "",
          "",
          "",
          "",
          "",
          "",
          "",
          "",
          "",
          "",
          "",
          "",
          "",
          ""
         ],
         "hoverinfo": "text",
         "hovertemplate": [
          "Click ",
          "Click ",
          "Click ",
          "Click ",
          "Click ",
          "Click ",
          "Click ",
          "Click ",
          "Click ",
          "Click ",
          "Click ",
          "Click ",
          "Click ",
          "Click ",
          "Click ",
          "Click ",
          "Click ",
          "Click ",
          "Click ",
          "Click ",
          "Click ",
          "Click ",
          "Click ",
          "Click ",
          "Click ",
          "Click ",
          "Click ",
          "Click ",
          "Click "
         ],
         "hovertext": [
          "",
          "",
          "",
          "",
          "",
          "",
          "",
          "",
          "",
          "",
          "",
          "",
          "",
          "",
          "",
          "",
          "",
          "",
          "",
          "",
          "",
          "",
          "",
          "",
          "",
          "",
          "",
          "",
          ""
         ],
         "legendgroup": "4",
         "legendrank": 4,
         "marker": {
          "color": [
           "#FFA500",
           "#FFA500",
           "#FFA500",
           "#FFA500",
           "#FFA500",
           "#FFA500",
           "#FFA500",
           "#FFA500",
           "#FFA500",
           "#FFA500",
           "#FFA500",
           "#FFA500",
           "#FFA500",
           "#FFA500",
           "#FFA500",
           "#FFA500",
           "#FFA500",
           "#FFA500",
           "#FFA500",
           "#FFA500",
           "#FFA500",
           "#FFA500",
           "#FFA500",
           "#FFA500",
           "#FFA500",
           "#FFA500",
           "#FFA500",
           "#FFA500",
           "#FFA500"
          ],
          "opacity": 1,
          "size": [
           15,
           13,
           5,
           21,
           9,
           30,
           31,
           22,
           32,
           17,
           28,
           26,
           24,
           20,
           10,
           16,
           23,
           33,
           27,
           8,
           12,
           18,
           25,
           19,
           14,
           6,
           11,
           29,
           7
          ],
          "sizemode": "diameter",
          "symbol": "circle"
         },
         "mode": "markers",
         "name": "Graph Vertices",
         "showlegend": false,
         "text": [
          "",
          "",
          "",
          "",
          "",
          "",
          "",
          "",
          "",
          "",
          "",
          "",
          "",
          "",
          "",
          "",
          "",
          "",
          "",
          "",
          "",
          "",
          "",
          "",
          "",
          "",
          "",
          "",
          ""
         ],
         "type": "scatter3d",
         "x": [
          1.75,
          2.25,
          1.75,
          1.75,
          1.75,
          1.5,
          1.75,
          1.75,
          1.75,
          1.5,
          2.25,
          1.5,
          2.25,
          2.25,
          2.25,
          1.5,
          2.5,
          1.75,
          2.5,
          2.25,
          1.75,
          1.75,
          1.75,
          2.25,
          2.25,
          1.75,
          2.25,
          2.5,
          2.25
         ],
         "y": [
          0.5,
          0.25,
          0.25,
          -0.5,
          -0.25,
          -0.25,
          -0.5,
          0.25,
          0.25,
          0.25,
          -0.25,
          -0.25,
          -0.5,
          0.5,
          0.25,
          0.25,
          0.25,
          -0.25,
          0.25,
          0.25,
          0.25,
          0.5,
          -0.25,
          0.25,
          0.5,
          -0.25,
          -0.25,
          -0.25,
          -0.25
         ],
         "z": [
          0.25,
          -0.5,
          -0.25,
          -0.25,
          0.25,
          0.25,
          0.25,
          0.5,
          -0.5,
          -0.25,
          -0.5,
          -0.25,
          -0.25,
          0.25,
          0.25,
          0.25,
          0.25,
          0.5,
          -0.25,
          -0.25,
          0.25,
          -0.25,
          -0.5,
          0.5,
          -0.25,
          -0.25,
          0.25,
          -0.25,
          -0.25
         ]
        },
        {
         "hoverinfo": "text",
         "legendgroup": "5",
         "legendrank": 5,
         "line": {
          "color": "orange",
          "dash": "solid",
          "width": 1
         },
         "marker": {
          "size": 0
         },
         "mode": "lines",
         "name": "Graph Edges",
         "showlegend": false,
         "text": "",
         "type": "scatter3d",
         "x": [
          1.75,
          1.75,
          null,
          2.25,
          2.25,
          null,
          1.75,
          1.75,
          null,
          1.75,
          1.5,
          null,
          1.75,
          1.75,
          null,
          1.75,
          1.75,
          null,
          1.75,
          2.25,
          null,
          1.75,
          1.75,
          null,
          1.75,
          1.75,
          null,
          1.75,
          2.25,
          null,
          1.75,
          1.75,
          null,
          1.75,
          1.75,
          null,
          1.75,
          1.75,
          null,
          1.75,
          1.75,
          null,
          1.75,
          1.5,
          null,
          1.75,
          1.75,
          null,
          2.25,
          2.25,
          null,
          1.75,
          1.5,
          null,
          2.25,
          2.25,
          null,
          2.25,
          2.25,
          null,
          2.25,
          2.25,
          null,
          2.25,
          2.25,
          null,
          2.25,
          2.25,
          null,
          1.75,
          2.25,
          null,
          2.25,
          2.5,
          null,
          1.75,
          1.5,
          null,
          2.25,
          2.5,
          null,
          2.25,
          2.25,
          null,
          2.25,
          2.25,
          null,
          1.75,
          1.75,
          null,
          1.75,
          2.25,
          null,
          2.25,
          2.25,
          null,
          2.25,
          2.5,
          null
         ],
         "y": [
          0.25,
          0.5,
          null,
          0.25,
          0.25,
          null,
          0.25,
          0.25,
          null,
          0.25,
          0.25,
          null,
          0.25,
          0.5,
          null,
          0.25,
          -0.25,
          null,
          0.25,
          0.25,
          null,
          0.25,
          0.25,
          null,
          -0.25,
          -0.5,
          null,
          -0.25,
          -0.25,
          null,
          -0.25,
          -0.25,
          null,
          0.25,
          -0.25,
          null,
          -0.25,
          -0.5,
          null,
          -0.25,
          -0.25,
          null,
          -0.25,
          -0.25,
          null,
          0.25,
          0.25,
          null,
          -0.25,
          -0.25,
          null,
          -0.25,
          -0.25,
          null,
          -0.25,
          -0.5,
          null,
          0.25,
          0.5,
          null,
          0.25,
          -0.25,
          null,
          0.25,
          0.25,
          null,
          0.25,
          0.25,
          null,
          0.25,
          0.25,
          null,
          0.25,
          0.25,
          null,
          0.25,
          0.25,
          null,
          0.25,
          0.25,
          null,
          0.25,
          -0.25,
          null,
          0.25,
          0.5,
          null,
          -0.25,
          -0.25,
          null,
          -0.25,
          -0.25,
          null,
          -0.25,
          -0.25,
          null,
          -0.25,
          -0.25,
          null
         ],
         "z": [
          0.25,
          0.25,
          null,
          -0.25,
          -0.5,
          null,
          -0.25,
          -0.5,
          null,
          -0.25,
          -0.25,
          null,
          -0.25,
          -0.25,
          null,
          -0.25,
          -0.25,
          null,
          -0.25,
          -0.25,
          null,
          -0.25,
          0.25,
          null,
          -0.25,
          -0.25,
          null,
          0.25,
          0.25,
          null,
          -0.25,
          0.25,
          null,
          0.25,
          0.25,
          null,
          0.25,
          0.25,
          null,
          0.25,
          0.5,
          null,
          0.25,
          0.25,
          null,
          0.25,
          0.5,
          null,
          -0.25,
          -0.5,
          null,
          -0.25,
          -0.25,
          null,
          -0.25,
          -0.25,
          null,
          0.25,
          0.25,
          null,
          0.25,
          0.25,
          null,
          0.25,
          0.5,
          null,
          -0.25,
          0.25,
          null,
          0.25,
          0.25,
          null,
          0.25,
          0.25,
          null,
          0.25,
          0.25,
          null,
          -0.25,
          -0.25,
          null,
          -0.25,
          -0.25,
          null,
          -0.25,
          -0.25,
          null,
          -0.25,
          -0.5,
          null,
          -0.25,
          -0.25,
          null,
          -0.25,
          0.25,
          null,
          -0.25,
          -0.25,
          null
         ]
        }
       ],
       "layout": {
        "autosize": true,
        "height": 500,
        "margin": {
         "b": 40,
         "l": 40,
         "r": 40,
         "t": 40
        },
        "paper_bgcolor": "RGBA(0,0,0,0)",
        "plot_bgcolor": "RGBA(0,0,0,0)",
        "scene": {
         "aspectmode": "data",
         "camera": {
          "center": {
           "x": 0,
           "y": 0,
           "z": 0
          },
          "eye": {
           "x": -1.25,
           "y": -1.25,
           "z": 1.25
          },
          "projection": {
           "type": "perspective"
          },
          "up": {
           "x": 0,
           "y": 0,
           "z": 1
          }
         },
         "xaxis": {
          "visible": false
         },
         "yaxis": {
          "visible": false
         },
         "zaxis": {
          "visible": false
         }
        },
        "showlegend": true,
        "template": {
         "data": {
          "bar": [
           {
            "error_x": {
             "color": "#2a3f5f"
            },
            "error_y": {
             "color": "#2a3f5f"
            },
            "marker": {
             "line": {
              "color": "#E5ECF6",
              "width": 0.5
             },
             "pattern": {
              "fillmode": "overlay",
              "size": 10,
              "solidity": 0.2
             }
            },
            "type": "bar"
           }
          ],
          "barpolar": [
           {
            "marker": {
             "line": {
              "color": "#E5ECF6",
              "width": 0.5
             },
             "pattern": {
              "fillmode": "overlay",
              "size": 10,
              "solidity": 0.2
             }
            },
            "type": "barpolar"
           }
          ],
          "carpet": [
           {
            "aaxis": {
             "endlinecolor": "#2a3f5f",
             "gridcolor": "white",
             "linecolor": "white",
             "minorgridcolor": "white",
             "startlinecolor": "#2a3f5f"
            },
            "baxis": {
             "endlinecolor": "#2a3f5f",
             "gridcolor": "white",
             "linecolor": "white",
             "minorgridcolor": "white",
             "startlinecolor": "#2a3f5f"
            },
            "type": "carpet"
           }
          ],
          "choropleth": [
           {
            "colorbar": {
             "outlinewidth": 0,
             "ticks": ""
            },
            "type": "choropleth"
           }
          ],
          "contour": [
           {
            "colorbar": {
             "outlinewidth": 0,
             "ticks": ""
            },
            "colorscale": [
             [
              0,
              "#0d0887"
             ],
             [
              0.1111111111111111,
              "#46039f"
             ],
             [
              0.2222222222222222,
              "#7201a8"
             ],
             [
              0.3333333333333333,
              "#9c179e"
             ],
             [
              0.4444444444444444,
              "#bd3786"
             ],
             [
              0.5555555555555556,
              "#d8576b"
             ],
             [
              0.6666666666666666,
              "#ed7953"
             ],
             [
              0.7777777777777778,
              "#fb9f3a"
             ],
             [
              0.8888888888888888,
              "#fdca26"
             ],
             [
              1,
              "#f0f921"
             ]
            ],
            "type": "contour"
           }
          ],
          "contourcarpet": [
           {
            "colorbar": {
             "outlinewidth": 0,
             "ticks": ""
            },
            "type": "contourcarpet"
           }
          ],
          "heatmap": [
           {
            "colorbar": {
             "outlinewidth": 0,
             "ticks": ""
            },
            "colorscale": [
             [
              0,
              "#0d0887"
             ],
             [
              0.1111111111111111,
              "#46039f"
             ],
             [
              0.2222222222222222,
              "#7201a8"
             ],
             [
              0.3333333333333333,
              "#9c179e"
             ],
             [
              0.4444444444444444,
              "#bd3786"
             ],
             [
              0.5555555555555556,
              "#d8576b"
             ],
             [
              0.6666666666666666,
              "#ed7953"
             ],
             [
              0.7777777777777778,
              "#fb9f3a"
             ],
             [
              0.8888888888888888,
              "#fdca26"
             ],
             [
              1,
              "#f0f921"
             ]
            ],
            "type": "heatmap"
           }
          ],
          "histogram": [
           {
            "marker": {
             "pattern": {
              "fillmode": "overlay",
              "size": 10,
              "solidity": 0.2
             }
            },
            "type": "histogram"
           }
          ],
          "histogram2d": [
           {
            "colorbar": {
             "outlinewidth": 0,
             "ticks": ""
            },
            "colorscale": [
             [
              0,
              "#0d0887"
             ],
             [
              0.1111111111111111,
              "#46039f"
             ],
             [
              0.2222222222222222,
              "#7201a8"
             ],
             [
              0.3333333333333333,
              "#9c179e"
             ],
             [
              0.4444444444444444,
              "#bd3786"
             ],
             [
              0.5555555555555556,
              "#d8576b"
             ],
             [
              0.6666666666666666,
              "#ed7953"
             ],
             [
              0.7777777777777778,
              "#fb9f3a"
             ],
             [
              0.8888888888888888,
              "#fdca26"
             ],
             [
              1,
              "#f0f921"
             ]
            ],
            "type": "histogram2d"
           }
          ],
          "histogram2dcontour": [
           {
            "colorbar": {
             "outlinewidth": 0,
             "ticks": ""
            },
            "colorscale": [
             [
              0,
              "#0d0887"
             ],
             [
              0.1111111111111111,
              "#46039f"
             ],
             [
              0.2222222222222222,
              "#7201a8"
             ],
             [
              0.3333333333333333,
              "#9c179e"
             ],
             [
              0.4444444444444444,
              "#bd3786"
             ],
             [
              0.5555555555555556,
              "#d8576b"
             ],
             [
              0.6666666666666666,
              "#ed7953"
             ],
             [
              0.7777777777777778,
              "#fb9f3a"
             ],
             [
              0.8888888888888888,
              "#fdca26"
             ],
             [
              1,
              "#f0f921"
             ]
            ],
            "type": "histogram2dcontour"
           }
          ],
          "mesh3d": [
           {
            "colorbar": {
             "outlinewidth": 0,
             "ticks": ""
            },
            "type": "mesh3d"
           }
          ],
          "parcoords": [
           {
            "line": {
             "colorbar": {
              "outlinewidth": 0,
              "ticks": ""
             }
            },
            "type": "parcoords"
           }
          ],
          "pie": [
           {
            "automargin": true,
            "type": "pie"
           }
          ],
          "scatter": [
           {
            "fillpattern": {
             "fillmode": "overlay",
             "size": 10,
             "solidity": 0.2
            },
            "type": "scatter"
           }
          ],
          "scatter3d": [
           {
            "line": {
             "colorbar": {
              "outlinewidth": 0,
              "ticks": ""
             }
            },
            "marker": {
             "colorbar": {
              "outlinewidth": 0,
              "ticks": ""
             }
            },
            "type": "scatter3d"
           }
          ],
          "scattercarpet": [
           {
            "marker": {
             "colorbar": {
              "outlinewidth": 0,
              "ticks": ""
             }
            },
            "type": "scattercarpet"
           }
          ],
          "scattergeo": [
           {
            "marker": {
             "colorbar": {
              "outlinewidth": 0,
              "ticks": ""
             }
            },
            "type": "scattergeo"
           }
          ],
          "scattergl": [
           {
            "marker": {
             "colorbar": {
              "outlinewidth": 0,
              "ticks": ""
             }
            },
            "type": "scattergl"
           }
          ],
          "scattermap": [
           {
            "marker": {
             "colorbar": {
              "outlinewidth": 0,
              "ticks": ""
             }
            },
            "type": "scattermap"
           }
          ],
          "scattermapbox": [
           {
            "marker": {
             "colorbar": {
              "outlinewidth": 0,
              "ticks": ""
             }
            },
            "type": "scattermapbox"
           }
          ],
          "scatterpolar": [
           {
            "marker": {
             "colorbar": {
              "outlinewidth": 0,
              "ticks": ""
             }
            },
            "type": "scatterpolar"
           }
          ],
          "scatterpolargl": [
           {
            "marker": {
             "colorbar": {
              "outlinewidth": 0,
              "ticks": ""
             }
            },
            "type": "scatterpolargl"
           }
          ],
          "scatterternary": [
           {
            "marker": {
             "colorbar": {
              "outlinewidth": 0,
              "ticks": ""
             }
            },
            "type": "scatterternary"
           }
          ],
          "surface": [
           {
            "colorbar": {
             "outlinewidth": 0,
             "ticks": ""
            },
            "colorscale": [
             [
              0,
              "#0d0887"
             ],
             [
              0.1111111111111111,
              "#46039f"
             ],
             [
              0.2222222222222222,
              "#7201a8"
             ],
             [
              0.3333333333333333,
              "#9c179e"
             ],
             [
              0.4444444444444444,
              "#bd3786"
             ],
             [
              0.5555555555555556,
              "#d8576b"
             ],
             [
              0.6666666666666666,
              "#ed7953"
             ],
             [
              0.7777777777777778,
              "#fb9f3a"
             ],
             [
              0.8888888888888888,
              "#fdca26"
             ],
             [
              1,
              "#f0f921"
             ]
            ],
            "type": "surface"
           }
          ],
          "table": [
           {
            "cells": {
             "fill": {
              "color": "#EBF0F8"
             },
             "line": {
              "color": "white"
             }
            },
            "header": {
             "fill": {
              "color": "#C8D4E3"
             },
             "line": {
              "color": "white"
             }
            },
            "type": "table"
           }
          ]
         },
         "layout": {
          "annotationdefaults": {
           "arrowcolor": "#2a3f5f",
           "arrowhead": 0,
           "arrowwidth": 1
          },
          "autotypenumbers": "strict",
          "coloraxis": {
           "colorbar": {
            "outlinewidth": 0,
            "ticks": ""
           }
          },
          "colorscale": {
           "diverging": [
            [
             0,
             "#8e0152"
            ],
            [
             0.1,
             "#c51b7d"
            ],
            [
             0.2,
             "#de77ae"
            ],
            [
             0.3,
             "#f1b6da"
            ],
            [
             0.4,
             "#fde0ef"
            ],
            [
             0.5,
             "#f7f7f7"
            ],
            [
             0.6,
             "#e6f5d0"
            ],
            [
             0.7,
             "#b8e186"
            ],
            [
             0.8,
             "#7fbc41"
            ],
            [
             0.9,
             "#4d9221"
            ],
            [
             1,
             "#276419"
            ]
           ],
           "sequential": [
            [
             0,
             "#0d0887"
            ],
            [
             0.1111111111111111,
             "#46039f"
            ],
            [
             0.2222222222222222,
             "#7201a8"
            ],
            [
             0.3333333333333333,
             "#9c179e"
            ],
            [
             0.4444444444444444,
             "#bd3786"
            ],
            [
             0.5555555555555556,
             "#d8576b"
            ],
            [
             0.6666666666666666,
             "#ed7953"
            ],
            [
             0.7777777777777778,
             "#fb9f3a"
            ],
            [
             0.8888888888888888,
             "#fdca26"
            ],
            [
             1,
             "#f0f921"
            ]
           ],
           "sequentialminus": [
            [
             0,
             "#0d0887"
            ],
            [
             0.1111111111111111,
             "#46039f"
            ],
            [
             0.2222222222222222,
             "#7201a8"
            ],
            [
             0.3333333333333333,
             "#9c179e"
            ],
            [
             0.4444444444444444,
             "#bd3786"
            ],
            [
             0.5555555555555556,
             "#d8576b"
            ],
            [
             0.6666666666666666,
             "#ed7953"
            ],
            [
             0.7777777777777778,
             "#fb9f3a"
            ],
            [
             0.8888888888888888,
             "#fdca26"
            ],
            [
             1,
             "#f0f921"
            ]
           ]
          },
          "colorway": [
           "#636efa",
           "#EF553B",
           "#00cc96",
           "#ab63fa",
           "#FFA15A",
           "#19d3f3",
           "#FF6692",
           "#B6E880",
           "#FF97FF",
           "#FECB52"
          ],
          "font": {
           "color": "#2a3f5f"
          },
          "geo": {
           "bgcolor": "white",
           "lakecolor": "white",
           "landcolor": "#E5ECF6",
           "showlakes": true,
           "showland": true,
           "subunitcolor": "white"
          },
          "hoverlabel": {
           "align": "left"
          },
          "hovermode": "closest",
          "mapbox": {
           "style": "light"
          },
          "paper_bgcolor": "white",
          "plot_bgcolor": "#E5ECF6",
          "polar": {
           "angularaxis": {
            "gridcolor": "white",
            "linecolor": "white",
            "ticks": ""
           },
           "bgcolor": "#E5ECF6",
           "radialaxis": {
            "gridcolor": "white",
            "linecolor": "white",
            "ticks": ""
           }
          },
          "scene": {
           "xaxis": {
            "backgroundcolor": "#E5ECF6",
            "gridcolor": "white",
            "gridwidth": 2,
            "linecolor": "white",
            "showbackground": true,
            "ticks": "",
            "zerolinecolor": "white"
           },
           "yaxis": {
            "backgroundcolor": "#E5ECF6",
            "gridcolor": "white",
            "gridwidth": 2,
            "linecolor": "white",
            "showbackground": true,
            "ticks": "",
            "zerolinecolor": "white"
           },
           "zaxis": {
            "backgroundcolor": "#E5ECF6",
            "gridcolor": "white",
            "gridwidth": 2,
            "linecolor": "white",
            "showbackground": true,
            "ticks": "",
            "zerolinecolor": "white"
           }
          },
          "shapedefaults": {
           "line": {
            "color": "#2a3f5f"
           }
          },
          "ternary": {
           "aaxis": {
            "gridcolor": "white",
            "linecolor": "white",
            "ticks": ""
           },
           "baxis": {
            "gridcolor": "white",
            "linecolor": "white",
            "ticks": ""
           },
           "bgcolor": "#E5ECF6",
           "caxis": {
            "gridcolor": "white",
            "linecolor": "white",
            "ticks": ""
           }
          },
          "title": {
           "x": 0.05
          },
          "xaxis": {
           "automargin": true,
           "gridcolor": "white",
           "linecolor": "white",
           "ticks": "",
           "title": {
            "standoff": 15
           },
           "zerolinecolor": "white",
           "zerolinewidth": 2
          },
          "yaxis": {
           "automargin": true,
           "gridcolor": "white",
           "linecolor": "white",
           "ticks": "",
           "title": {
            "standoff": 15
           },
           "zerolinecolor": "white",
           "zerolinewidth": 2
          }
         }
        },
        "width": 950,
        "xaxis": {
         "showgrid": false,
         "visible": false,
         "zeroline": false
        },
        "yaxis": {
         "showgrid": false,
         "visible": false,
         "zeroline": false
        }
       }
      }
     },
     "metadata": {},
     "output_type": "display_data"
    },
    {
     "data": {
      "application/vnd.plotly.v1+json": {
       "config": {
        "plotlyServerURL": "https://plot.ly"
       },
       "data": [
        {
         "marker": {
          "color": [
           "orange",
           "orange",
           "orange",
           "orange",
           "orange",
           "orange",
           "orange",
           "orange",
           "orange",
           "orange",
           "orange",
           "orange",
           "orange",
           "orange",
           "orange",
           "orange",
           "orange",
           "orange",
           "orange",
           "orange",
           "orange",
           "orange",
           "orange",
           "orange",
           "orange",
           "orange",
           "orange",
           "orange",
           "orange"
          ],
          "opacity": 1,
          "size": [
           12,
           12,
           12,
           12,
           12,
           12,
           12,
           12,
           12,
           12,
           12,
           12,
           12,
           12,
           12,
           12,
           12,
           12,
           12,
           12,
           12,
           12,
           12,
           12,
           12,
           12,
           12,
           12,
           12
          ],
          "sizemode": "diameter",
          "symbol": "circle"
         },
         "mode": "markers",
         "name": "Graph Vertices",
         "showlegend": false,
         "type": "scatter3d",
         "x": [
          1.75,
          2.25,
          1.75,
          1.75,
          1.75,
          1.5,
          1.75,
          1.75,
          1.75,
          1.5,
          2.25,
          1.5,
          2.25,
          2.25,
          2.25,
          1.5,
          2.5,
          1.75,
          2.5,
          2.25,
          1.75,
          1.75,
          1.75,
          2.25,
          2.25,
          1.75,
          2.25,
          2.5,
          2.25
         ],
         "y": [
          0.5,
          0.25,
          0.25,
          -0.5,
          -0.25,
          -0.25,
          -0.5,
          0.25,
          0.25,
          0.25,
          -0.25,
          -0.25,
          -0.5,
          0.5,
          0.25,
          0.25,
          0.25,
          -0.25,
          0.25,
          0.25,
          0.25,
          0.5,
          -0.25,
          0.25,
          0.5,
          -0.25,
          -0.25,
          -0.25,
          -0.25
         ],
         "z": [
          0.25,
          -0.5,
          -0.25,
          -0.25,
          0.25,
          0.25,
          0.25,
          0.5,
          -0.5,
          -0.25,
          -0.5,
          -0.25,
          -0.25,
          0.25,
          0.25,
          0.25,
          0.25,
          0.5,
          -0.25,
          -0.25,
          0.25,
          -0.25,
          -0.5,
          0.5,
          -0.25,
          -0.25,
          0.25,
          -0.25,
          -0.25
         ]
        },
        {
         "customdata": [
          "",
          "",
          "",
          "",
          "",
          "",
          "",
          "",
          "",
          "",
          "",
          "",
          "",
          "",
          "",
          "",
          "",
          "",
          "",
          "",
          "",
          "",
          "",
          "",
          "",
          "",
          "",
          "",
          ""
         ],
         "hoverinfo": "text",
         "hovertemplate": [
          "Click ",
          "Click ",
          "Click ",
          "Click ",
          "Click ",
          "Click ",
          "Click ",
          "Click ",
          "Click ",
          "Click ",
          "Click ",
          "Click ",
          "Click ",
          "Click ",
          "Click ",
          "Click ",
          "Click ",
          "Click ",
          "Click ",
          "Click ",
          "Click ",
          "Click ",
          "Click ",
          "Click ",
          "Click ",
          "Click ",
          "Click ",
          "Click ",
          "Click "
         ],
         "hovertext": [
          "",
          "",
          "",
          "",
          "",
          "",
          "",
          "",
          "",
          "",
          "",
          "",
          "",
          "",
          "",
          "",
          "",
          "",
          "",
          "",
          "",
          "",
          "",
          "",
          "",
          "",
          "",
          "",
          ""
         ],
         "legendgroup": "4",
         "legendrank": 4,
         "marker": {
          "color": [
           "#FFA500",
           "#FFA500",
           "#FFA500",
           "#FFA500",
           "#FFA500",
           "#FFA500",
           "#FFA500",
           "#FFA500",
           "#FFA500",
           "#FFA500",
           "#FFA500",
           "#FFA500",
           "#FFA500",
           "#FFA500",
           "#FFA500",
           "#FFA500",
           "#FFA500",
           "#FFA500",
           "#FFA500",
           "#FFA500",
           "#FFA500",
           "#FFA500",
           "#FFA500",
           "#FFA500",
           "#FFA500",
           "#FFA500",
           "#FFA500",
           "#FFA500",
           "#FFA500"
          ],
          "opacity": 1,
          "size": [
           15,
           13,
           5,
           21,
           9,
           30,
           31,
           22,
           32,
           17,
           28,
           26,
           24,
           20,
           10,
           16,
           23,
           33,
           27,
           8,
           12,
           18,
           25,
           19,
           14,
           6,
           11,
           29,
           7
          ],
          "sizemode": "diameter",
          "symbol": "circle"
         },
         "mode": "markers",
         "name": "Graph Vertices",
         "showlegend": false,
         "text": [
          "",
          "",
          "",
          "",
          "",
          "",
          "",
          "",
          "",
          "",
          "",
          "",
          "",
          "",
          "",
          "",
          "",
          "",
          "",
          "",
          "",
          "",
          "",
          "",
          "",
          "",
          "",
          "",
          ""
         ],
         "type": "scatter3d",
         "x": [
          1.75,
          2.25,
          1.75,
          1.75,
          1.75,
          1.5,
          1.75,
          1.75,
          1.75,
          1.5,
          2.25,
          1.5,
          2.25,
          2.25,
          2.25,
          1.5,
          2.5,
          1.75,
          2.5,
          2.25,
          1.75,
          1.75,
          1.75,
          2.25,
          2.25,
          1.75,
          2.25,
          2.5,
          2.25
         ],
         "y": [
          0.5,
          0.25,
          0.25,
          -0.5,
          -0.25,
          -0.25,
          -0.5,
          0.25,
          0.25,
          0.25,
          -0.25,
          -0.25,
          -0.5,
          0.5,
          0.25,
          0.25,
          0.25,
          -0.25,
          0.25,
          0.25,
          0.25,
          0.5,
          -0.25,
          0.25,
          0.5,
          -0.25,
          -0.25,
          -0.25,
          -0.25
         ],
         "z": [
          0.25,
          -0.5,
          -0.25,
          -0.25,
          0.25,
          0.25,
          0.25,
          0.5,
          -0.5,
          -0.25,
          -0.5,
          -0.25,
          -0.25,
          0.25,
          0.25,
          0.25,
          0.25,
          0.5,
          -0.25,
          -0.25,
          0.25,
          -0.25,
          -0.5,
          0.5,
          -0.25,
          -0.25,
          0.25,
          -0.25,
          -0.25
         ]
        },
        {
         "hoverinfo": "text",
         "legendgroup": "5",
         "legendrank": 5,
         "line": {
          "color": "orange",
          "dash": "solid",
          "width": 1
         },
         "marker": {
          "size": 0
         },
         "mode": "lines",
         "name": "Graph Edges",
         "showlegend": false,
         "text": "",
         "type": "scatter3d",
         "x": [
          1.75,
          1.75,
          null,
          2.25,
          2.25,
          null,
          1.75,
          1.75,
          null,
          1.75,
          1.5,
          null,
          1.75,
          1.75,
          null,
          1.75,
          1.75,
          null,
          1.75,
          2.25,
          null,
          1.75,
          1.75,
          null,
          1.75,
          1.75,
          null,
          1.75,
          2.25,
          null,
          1.75,
          1.75,
          null,
          1.75,
          1.75,
          null,
          1.75,
          1.75,
          null,
          1.75,
          1.75,
          null,
          1.75,
          1.5,
          null,
          1.75,
          1.75,
          null,
          2.25,
          2.25,
          null,
          1.75,
          1.5,
          null,
          2.25,
          2.25,
          null,
          2.25,
          2.25,
          null,
          2.25,
          2.25,
          null,
          2.25,
          2.25,
          null,
          2.25,
          2.25,
          null,
          1.75,
          2.25,
          null,
          2.25,
          2.5,
          null,
          1.75,
          1.5,
          null,
          2.25,
          2.5,
          null,
          2.25,
          2.25,
          null,
          2.25,
          2.25,
          null,
          1.75,
          1.75,
          null,
          1.75,
          2.25,
          null,
          2.25,
          2.25,
          null,
          2.25,
          2.5,
          null
         ],
         "y": [
          0.25,
          0.5,
          null,
          0.25,
          0.25,
          null,
          0.25,
          0.25,
          null,
          0.25,
          0.25,
          null,
          0.25,
          0.5,
          null,
          0.25,
          -0.25,
          null,
          0.25,
          0.25,
          null,
          0.25,
          0.25,
          null,
          -0.25,
          -0.5,
          null,
          -0.25,
          -0.25,
          null,
          -0.25,
          -0.25,
          null,
          0.25,
          -0.25,
          null,
          -0.25,
          -0.5,
          null,
          -0.25,
          -0.25,
          null,
          -0.25,
          -0.25,
          null,
          0.25,
          0.25,
          null,
          -0.25,
          -0.25,
          null,
          -0.25,
          -0.25,
          null,
          -0.25,
          -0.5,
          null,
          0.25,
          0.5,
          null,
          0.25,
          -0.25,
          null,
          0.25,
          0.25,
          null,
          0.25,
          0.25,
          null,
          0.25,
          0.25,
          null,
          0.25,
          0.25,
          null,
          0.25,
          0.25,
          null,
          0.25,
          0.25,
          null,
          0.25,
          -0.25,
          null,
          0.25,
          0.5,
          null,
          -0.25,
          -0.25,
          null,
          -0.25,
          -0.25,
          null,
          -0.25,
          -0.25,
          null,
          -0.25,
          -0.25,
          null
         ],
         "z": [
          0.25,
          0.25,
          null,
          -0.25,
          -0.5,
          null,
          -0.25,
          -0.5,
          null,
          -0.25,
          -0.25,
          null,
          -0.25,
          -0.25,
          null,
          -0.25,
          -0.25,
          null,
          -0.25,
          -0.25,
          null,
          -0.25,
          0.25,
          null,
          -0.25,
          -0.25,
          null,
          0.25,
          0.25,
          null,
          -0.25,
          0.25,
          null,
          0.25,
          0.25,
          null,
          0.25,
          0.25,
          null,
          0.25,
          0.5,
          null,
          0.25,
          0.25,
          null,
          0.25,
          0.5,
          null,
          -0.25,
          -0.5,
          null,
          -0.25,
          -0.25,
          null,
          -0.25,
          -0.25,
          null,
          0.25,
          0.25,
          null,
          0.25,
          0.25,
          null,
          0.25,
          0.5,
          null,
          -0.25,
          0.25,
          null,
          0.25,
          0.25,
          null,
          0.25,
          0.25,
          null,
          0.25,
          0.25,
          null,
          -0.25,
          -0.25,
          null,
          -0.25,
          -0.25,
          null,
          -0.25,
          -0.25,
          null,
          -0.25,
          -0.5,
          null,
          -0.25,
          -0.25,
          null,
          -0.25,
          0.25,
          null,
          -0.25,
          -0.25,
          null
         ]
        }
       ],
       "layout": {
        "autosize": true,
        "height": 500,
        "margin": {
         "b": 40,
         "l": 40,
         "r": 40,
         "t": 40
        },
        "paper_bgcolor": "RGBA(0,0,0,0)",
        "plot_bgcolor": "RGBA(0,0,0,0)",
        "scene": {
         "aspectmode": "data",
         "camera": {
          "center": {
           "x": 0,
           "y": 0,
           "z": 0
          },
          "eye": {
           "x": -1.25,
           "y": -1.25,
           "z": 1.25
          },
          "projection": {
           "type": "perspective"
          },
          "up": {
           "x": 0,
           "y": 0,
           "z": 1
          }
         },
         "xaxis": {
          "visible": false
         },
         "yaxis": {
          "visible": false
         },
         "zaxis": {
          "visible": false
         }
        },
        "showlegend": true,
        "template": {
         "data": {
          "bar": [
           {
            "error_x": {
             "color": "#2a3f5f"
            },
            "error_y": {
             "color": "#2a3f5f"
            },
            "marker": {
             "line": {
              "color": "#E5ECF6",
              "width": 0.5
             },
             "pattern": {
              "fillmode": "overlay",
              "size": 10,
              "solidity": 0.2
             }
            },
            "type": "bar"
           }
          ],
          "barpolar": [
           {
            "marker": {
             "line": {
              "color": "#E5ECF6",
              "width": 0.5
             },
             "pattern": {
              "fillmode": "overlay",
              "size": 10,
              "solidity": 0.2
             }
            },
            "type": "barpolar"
           }
          ],
          "carpet": [
           {
            "aaxis": {
             "endlinecolor": "#2a3f5f",
             "gridcolor": "white",
             "linecolor": "white",
             "minorgridcolor": "white",
             "startlinecolor": "#2a3f5f"
            },
            "baxis": {
             "endlinecolor": "#2a3f5f",
             "gridcolor": "white",
             "linecolor": "white",
             "minorgridcolor": "white",
             "startlinecolor": "#2a3f5f"
            },
            "type": "carpet"
           }
          ],
          "choropleth": [
           {
            "colorbar": {
             "outlinewidth": 0,
             "ticks": ""
            },
            "type": "choropleth"
           }
          ],
          "contour": [
           {
            "colorbar": {
             "outlinewidth": 0,
             "ticks": ""
            },
            "colorscale": [
             [
              0,
              "#0d0887"
             ],
             [
              0.1111111111111111,
              "#46039f"
             ],
             [
              0.2222222222222222,
              "#7201a8"
             ],
             [
              0.3333333333333333,
              "#9c179e"
             ],
             [
              0.4444444444444444,
              "#bd3786"
             ],
             [
              0.5555555555555556,
              "#d8576b"
             ],
             [
              0.6666666666666666,
              "#ed7953"
             ],
             [
              0.7777777777777778,
              "#fb9f3a"
             ],
             [
              0.8888888888888888,
              "#fdca26"
             ],
             [
              1,
              "#f0f921"
             ]
            ],
            "type": "contour"
           }
          ],
          "contourcarpet": [
           {
            "colorbar": {
             "outlinewidth": 0,
             "ticks": ""
            },
            "type": "contourcarpet"
           }
          ],
          "heatmap": [
           {
            "colorbar": {
             "outlinewidth": 0,
             "ticks": ""
            },
            "colorscale": [
             [
              0,
              "#0d0887"
             ],
             [
              0.1111111111111111,
              "#46039f"
             ],
             [
              0.2222222222222222,
              "#7201a8"
             ],
             [
              0.3333333333333333,
              "#9c179e"
             ],
             [
              0.4444444444444444,
              "#bd3786"
             ],
             [
              0.5555555555555556,
              "#d8576b"
             ],
             [
              0.6666666666666666,
              "#ed7953"
             ],
             [
              0.7777777777777778,
              "#fb9f3a"
             ],
             [
              0.8888888888888888,
              "#fdca26"
             ],
             [
              1,
              "#f0f921"
             ]
            ],
            "type": "heatmap"
           }
          ],
          "histogram": [
           {
            "marker": {
             "pattern": {
              "fillmode": "overlay",
              "size": 10,
              "solidity": 0.2
             }
            },
            "type": "histogram"
           }
          ],
          "histogram2d": [
           {
            "colorbar": {
             "outlinewidth": 0,
             "ticks": ""
            },
            "colorscale": [
             [
              0,
              "#0d0887"
             ],
             [
              0.1111111111111111,
              "#46039f"
             ],
             [
              0.2222222222222222,
              "#7201a8"
             ],
             [
              0.3333333333333333,
              "#9c179e"
             ],
             [
              0.4444444444444444,
              "#bd3786"
             ],
             [
              0.5555555555555556,
              "#d8576b"
             ],
             [
              0.6666666666666666,
              "#ed7953"
             ],
             [
              0.7777777777777778,
              "#fb9f3a"
             ],
             [
              0.8888888888888888,
              "#fdca26"
             ],
             [
              1,
              "#f0f921"
             ]
            ],
            "type": "histogram2d"
           }
          ],
          "histogram2dcontour": [
           {
            "colorbar": {
             "outlinewidth": 0,
             "ticks": ""
            },
            "colorscale": [
             [
              0,
              "#0d0887"
             ],
             [
              0.1111111111111111,
              "#46039f"
             ],
             [
              0.2222222222222222,
              "#7201a8"
             ],
             [
              0.3333333333333333,
              "#9c179e"
             ],
             [
              0.4444444444444444,
              "#bd3786"
             ],
             [
              0.5555555555555556,
              "#d8576b"
             ],
             [
              0.6666666666666666,
              "#ed7953"
             ],
             [
              0.7777777777777778,
              "#fb9f3a"
             ],
             [
              0.8888888888888888,
              "#fdca26"
             ],
             [
              1,
              "#f0f921"
             ]
            ],
            "type": "histogram2dcontour"
           }
          ],
          "mesh3d": [
           {
            "colorbar": {
             "outlinewidth": 0,
             "ticks": ""
            },
            "type": "mesh3d"
           }
          ],
          "parcoords": [
           {
            "line": {
             "colorbar": {
              "outlinewidth": 0,
              "ticks": ""
             }
            },
            "type": "parcoords"
           }
          ],
          "pie": [
           {
            "automargin": true,
            "type": "pie"
           }
          ],
          "scatter": [
           {
            "fillpattern": {
             "fillmode": "overlay",
             "size": 10,
             "solidity": 0.2
            },
            "type": "scatter"
           }
          ],
          "scatter3d": [
           {
            "line": {
             "colorbar": {
              "outlinewidth": 0,
              "ticks": ""
             }
            },
            "marker": {
             "colorbar": {
              "outlinewidth": 0,
              "ticks": ""
             }
            },
            "type": "scatter3d"
           }
          ],
          "scattercarpet": [
           {
            "marker": {
             "colorbar": {
              "outlinewidth": 0,
              "ticks": ""
             }
            },
            "type": "scattercarpet"
           }
          ],
          "scattergeo": [
           {
            "marker": {
             "colorbar": {
              "outlinewidth": 0,
              "ticks": ""
             }
            },
            "type": "scattergeo"
           }
          ],
          "scattergl": [
           {
            "marker": {
             "colorbar": {
              "outlinewidth": 0,
              "ticks": ""
             }
            },
            "type": "scattergl"
           }
          ],
          "scattermap": [
           {
            "marker": {
             "colorbar": {
              "outlinewidth": 0,
              "ticks": ""
             }
            },
            "type": "scattermap"
           }
          ],
          "scattermapbox": [
           {
            "marker": {
             "colorbar": {
              "outlinewidth": 0,
              "ticks": ""
             }
            },
            "type": "scattermapbox"
           }
          ],
          "scatterpolar": [
           {
            "marker": {
             "colorbar": {
              "outlinewidth": 0,
              "ticks": ""
             }
            },
            "type": "scatterpolar"
           }
          ],
          "scatterpolargl": [
           {
            "marker": {
             "colorbar": {
              "outlinewidth": 0,
              "ticks": ""
             }
            },
            "type": "scatterpolargl"
           }
          ],
          "scatterternary": [
           {
            "marker": {
             "colorbar": {
              "outlinewidth": 0,
              "ticks": ""
             }
            },
            "type": "scatterternary"
           }
          ],
          "surface": [
           {
            "colorbar": {
             "outlinewidth": 0,
             "ticks": ""
            },
            "colorscale": [
             [
              0,
              "#0d0887"
             ],
             [
              0.1111111111111111,
              "#46039f"
             ],
             [
              0.2222222222222222,
              "#7201a8"
             ],
             [
              0.3333333333333333,
              "#9c179e"
             ],
             [
              0.4444444444444444,
              "#bd3786"
             ],
             [
              0.5555555555555556,
              "#d8576b"
             ],
             [
              0.6666666666666666,
              "#ed7953"
             ],
             [
              0.7777777777777778,
              "#fb9f3a"
             ],
             [
              0.8888888888888888,
              "#fdca26"
             ],
             [
              1,
              "#f0f921"
             ]
            ],
            "type": "surface"
           }
          ],
          "table": [
           {
            "cells": {
             "fill": {
              "color": "#EBF0F8"
             },
             "line": {
              "color": "white"
             }
            },
            "header": {
             "fill": {
              "color": "#C8D4E3"
             },
             "line": {
              "color": "white"
             }
            },
            "type": "table"
           }
          ]
         },
         "layout": {
          "annotationdefaults": {
           "arrowcolor": "#2a3f5f",
           "arrowhead": 0,
           "arrowwidth": 1
          },
          "autotypenumbers": "strict",
          "coloraxis": {
           "colorbar": {
            "outlinewidth": 0,
            "ticks": ""
           }
          },
          "colorscale": {
           "diverging": [
            [
             0,
             "#8e0152"
            ],
            [
             0.1,
             "#c51b7d"
            ],
            [
             0.2,
             "#de77ae"
            ],
            [
             0.3,
             "#f1b6da"
            ],
            [
             0.4,
             "#fde0ef"
            ],
            [
             0.5,
             "#f7f7f7"
            ],
            [
             0.6,
             "#e6f5d0"
            ],
            [
             0.7,
             "#b8e186"
            ],
            [
             0.8,
             "#7fbc41"
            ],
            [
             0.9,
             "#4d9221"
            ],
            [
             1,
             "#276419"
            ]
           ],
           "sequential": [
            [
             0,
             "#0d0887"
            ],
            [
             0.1111111111111111,
             "#46039f"
            ],
            [
             0.2222222222222222,
             "#7201a8"
            ],
            [
             0.3333333333333333,
             "#9c179e"
            ],
            [
             0.4444444444444444,
             "#bd3786"
            ],
            [
             0.5555555555555556,
             "#d8576b"
            ],
            [
             0.6666666666666666,
             "#ed7953"
            ],
            [
             0.7777777777777778,
             "#fb9f3a"
            ],
            [
             0.8888888888888888,
             "#fdca26"
            ],
            [
             1,
             "#f0f921"
            ]
           ],
           "sequentialminus": [
            [
             0,
             "#0d0887"
            ],
            [
             0.1111111111111111,
             "#46039f"
            ],
            [
             0.2222222222222222,
             "#7201a8"
            ],
            [
             0.3333333333333333,
             "#9c179e"
            ],
            [
             0.4444444444444444,
             "#bd3786"
            ],
            [
             0.5555555555555556,
             "#d8576b"
            ],
            [
             0.6666666666666666,
             "#ed7953"
            ],
            [
             0.7777777777777778,
             "#fb9f3a"
            ],
            [
             0.8888888888888888,
             "#fdca26"
            ],
            [
             1,
             "#f0f921"
            ]
           ]
          },
          "colorway": [
           "#636efa",
           "#EF553B",
           "#00cc96",
           "#ab63fa",
           "#FFA15A",
           "#19d3f3",
           "#FF6692",
           "#B6E880",
           "#FF97FF",
           "#FECB52"
          ],
          "font": {
           "color": "#2a3f5f"
          },
          "geo": {
           "bgcolor": "white",
           "lakecolor": "white",
           "landcolor": "#E5ECF6",
           "showlakes": true,
           "showland": true,
           "subunitcolor": "white"
          },
          "hoverlabel": {
           "align": "left"
          },
          "hovermode": "closest",
          "mapbox": {
           "style": "light"
          },
          "paper_bgcolor": "white",
          "plot_bgcolor": "#E5ECF6",
          "polar": {
           "angularaxis": {
            "gridcolor": "white",
            "linecolor": "white",
            "ticks": ""
           },
           "bgcolor": "#E5ECF6",
           "radialaxis": {
            "gridcolor": "white",
            "linecolor": "white",
            "ticks": ""
           }
          },
          "scene": {
           "xaxis": {
            "backgroundcolor": "#E5ECF6",
            "gridcolor": "white",
            "gridwidth": 2,
            "linecolor": "white",
            "showbackground": true,
            "ticks": "",
            "zerolinecolor": "white"
           },
           "yaxis": {
            "backgroundcolor": "#E5ECF6",
            "gridcolor": "white",
            "gridwidth": 2,
            "linecolor": "white",
            "showbackground": true,
            "ticks": "",
            "zerolinecolor": "white"
           },
           "zaxis": {
            "backgroundcolor": "#E5ECF6",
            "gridcolor": "white",
            "gridwidth": 2,
            "linecolor": "white",
            "showbackground": true,
            "ticks": "",
            "zerolinecolor": "white"
           }
          },
          "shapedefaults": {
           "line": {
            "color": "#2a3f5f"
           }
          },
          "ternary": {
           "aaxis": {
            "gridcolor": "white",
            "linecolor": "white",
            "ticks": ""
           },
           "baxis": {
            "gridcolor": "white",
            "linecolor": "white",
            "ticks": ""
           },
           "bgcolor": "#E5ECF6",
           "caxis": {
            "gridcolor": "white",
            "linecolor": "white",
            "ticks": ""
           }
          },
          "title": {
           "x": 0.05
          },
          "xaxis": {
           "automargin": true,
           "gridcolor": "white",
           "linecolor": "white",
           "ticks": "",
           "title": {
            "standoff": 15
           },
           "zerolinecolor": "white",
           "zerolinewidth": 2
          },
          "yaxis": {
           "automargin": true,
           "gridcolor": "white",
           "linecolor": "white",
           "ticks": "",
           "title": {
            "standoff": 15
           },
           "zerolinecolor": "white",
           "zerolinewidth": 2
          }
         }
        },
        "width": 950,
        "xaxis": {
         "showgrid": false,
         "visible": false,
         "zeroline": false
        },
        "yaxis": {
         "showgrid": false,
         "visible": false,
         "zeroline": false
        }
       }
      }
     },
     "metadata": {},
     "output_type": "display_data"
    }
   ],
   "source": [
    "p3 = Plotly.DataByGraph(g3, edgeColor=\"orange\", vertexSizeKey=\"position\", vertexColor=\"orange\", vertexBorderColor=\"orange\")\n",
    "figure = Plotly.FigureByData(p1b+p3)\n",
    "Plotly.Show(figure)\n",
    "figure = Plotly.FigureByData(p3)\n",
    "Plotly.Show(figure)"
   ]
  },
  {
   "cell_type": "markdown",
   "id": "cd23c9b3",
   "metadata": {},
   "source": [
    "### Try without a vertex key. Pure topology matching. Should return tens of thousands of matches.\n",
    "Remember the shape of the graph does not matter. It will look different than above, but its topology is the same."
   ]
  },
  {
   "cell_type": "code",
   "execution_count": 9,
   "id": "73590f5d",
   "metadata": {},
   "outputs": [
    {
     "name": "stdout",
     "output_type": "stream",
     "text": [
      "31968 matches found\n"
     ]
    },
    {
     "data": {
      "application/vnd.plotly.v1+json": {
       "config": {
        "plotlyServerURL": "https://plot.ly"
       },
       "data": [
        {
         "marker": {
          "color": [
           "orange",
           "orange",
           "orange",
           "orange",
           "orange",
           "orange",
           "orange",
           "orange",
           "orange",
           "orange",
           "orange",
           "orange",
           "orange",
           "orange",
           "orange",
           "orange",
           "orange",
           "orange",
           "orange",
           "orange",
           "orange",
           "orange",
           "orange",
           "orange",
           "orange",
           "orange",
           "orange",
           "orange",
           "orange",
           "orange",
           "orange",
           "orange"
          ],
          "opacity": 1,
          "size": [
           12,
           12,
           12,
           12,
           12,
           12,
           12,
           12,
           12,
           12,
           12,
           12,
           12,
           12,
           12,
           12,
           12,
           12,
           12,
           12,
           12,
           12,
           12,
           12,
           12,
           12,
           12,
           12,
           12,
           12,
           12,
           12
          ],
          "sizemode": "diameter",
          "symbol": "circle"
         },
         "mode": "markers",
         "name": "Graph Vertices",
         "showlegend": false,
         "type": "scatter3d",
         "x": [
          1.75,
          2.25,
          1.75,
          1.75,
          1.75,
          1.5,
          1.75,
          1.75,
          1.75,
          1.5,
          2.25,
          1.5,
          2.5,
          2.25,
          2.25,
          2.25,
          2.25,
          1.5,
          2.5,
          1.75,
          2.5,
          2.25,
          2.25,
          1.75,
          1.75,
          1.75,
          2.25,
          2.25,
          1.75,
          2.25,
          2.5,
          2.25
         ],
         "y": [
          0.5,
          0.25,
          0.25,
          -0.5,
          -0.25,
          -0.25,
          -0.5,
          0.25,
          0.25,
          0.25,
          -0.25,
          -0.25,
          -0.25,
          -0.5,
          -0.5,
          0.5,
          0.25,
          0.25,
          0.25,
          -0.25,
          0.25,
          -0.25,
          0.25,
          0.25,
          0.5,
          -0.25,
          0.25,
          0.5,
          -0.25,
          -0.25,
          -0.25,
          -0.25
         ],
         "z": [
          0.25,
          -0.5,
          -0.25,
          -0.25,
          0.25,
          0.25,
          0.25,
          0.5,
          -0.5,
          -0.25,
          -0.5,
          -0.25,
          0.25,
          0.25,
          -0.25,
          0.25,
          0.25,
          0.25,
          0.25,
          0.5,
          -0.25,
          0.5,
          -0.25,
          0.25,
          -0.25,
          -0.5,
          0.5,
          -0.25,
          -0.25,
          0.25,
          -0.25,
          -0.25
         ]
        },
        {
         "customdata": [
          "",
          "",
          "",
          "",
          "",
          "",
          "",
          "",
          "",
          "",
          "",
          "",
          "",
          "",
          "",
          "",
          "",
          "",
          "",
          "",
          "",
          "",
          "",
          "",
          "",
          "",
          "",
          "",
          "",
          "",
          "",
          ""
         ],
         "hoverinfo": "text",
         "hovertemplate": [
          "Click ",
          "Click ",
          "Click ",
          "Click ",
          "Click ",
          "Click ",
          "Click ",
          "Click ",
          "Click ",
          "Click ",
          "Click ",
          "Click ",
          "Click ",
          "Click ",
          "Click ",
          "Click ",
          "Click ",
          "Click ",
          "Click ",
          "Click ",
          "Click ",
          "Click ",
          "Click ",
          "Click ",
          "Click ",
          "Click ",
          "Click ",
          "Click ",
          "Click ",
          "Click ",
          "Click ",
          "Click "
         ],
         "hovertext": [
          "",
          "",
          "",
          "",
          "",
          "",
          "",
          "",
          "",
          "",
          "",
          "",
          "",
          "",
          "",
          "",
          "",
          "",
          "",
          "",
          "",
          "",
          "",
          "",
          "",
          "",
          "",
          "",
          "",
          "",
          "",
          ""
         ],
         "legendgroup": "4",
         "legendrank": 4,
         "marker": {
          "color": [
           "#FFA500",
           "#FFA500",
           "#FFA500",
           "#FFA500",
           "#FFA500",
           "#FFA500",
           "#FFA500",
           "#FFA500",
           "#FFA500",
           "#FFA500",
           "#FFA500",
           "#FFA500",
           "#FFA500",
           "#FFA500",
           "#FFA500",
           "#FFA500",
           "#FFA500",
           "#FFA500",
           "#FFA500",
           "#FFA500",
           "#FFA500",
           "#FFA500",
           "#FFA500",
           "#FFA500",
           "#FFA500",
           "#FFA500",
           "#FFA500",
           "#FFA500",
           "#FFA500",
           "#FFA500",
           "#FFA500",
           "#FFA500"
          ],
          "opacity": 1,
          "size": [
           15,
           13,
           5,
           21,
           9,
           30,
           31,
           22,
           32,
           17,
           28,
           26,
           34,
           35,
           24,
           20,
           10,
           16,
           23,
           33,
           27,
           36,
           8,
           12,
           18,
           25,
           19,
           14,
           6,
           11,
           29,
           7
          ],
          "sizemode": "diameter",
          "symbol": "circle"
         },
         "mode": "markers",
         "name": "Graph Vertices",
         "showlegend": false,
         "text": [
          "",
          "",
          "",
          "",
          "",
          "",
          "",
          "",
          "",
          "",
          "",
          "",
          "",
          "",
          "",
          "",
          "",
          "",
          "",
          "",
          "",
          "",
          "",
          "",
          "",
          "",
          "",
          "",
          "",
          "",
          "",
          ""
         ],
         "type": "scatter3d",
         "x": [
          1.75,
          2.25,
          1.75,
          1.75,
          1.75,
          1.5,
          1.75,
          1.75,
          1.75,
          1.5,
          2.25,
          1.5,
          2.5,
          2.25,
          2.25,
          2.25,
          2.25,
          1.5,
          2.5,
          1.75,
          2.5,
          2.25,
          2.25,
          1.75,
          1.75,
          1.75,
          2.25,
          2.25,
          1.75,
          2.25,
          2.5,
          2.25
         ],
         "y": [
          0.5,
          0.25,
          0.25,
          -0.5,
          -0.25,
          -0.25,
          -0.5,
          0.25,
          0.25,
          0.25,
          -0.25,
          -0.25,
          -0.25,
          -0.5,
          -0.5,
          0.5,
          0.25,
          0.25,
          0.25,
          -0.25,
          0.25,
          -0.25,
          0.25,
          0.25,
          0.5,
          -0.25,
          0.25,
          0.5,
          -0.25,
          -0.25,
          -0.25,
          -0.25
         ],
         "z": [
          0.25,
          -0.5,
          -0.25,
          -0.25,
          0.25,
          0.25,
          0.25,
          0.5,
          -0.5,
          -0.25,
          -0.5,
          -0.25,
          0.25,
          0.25,
          -0.25,
          0.25,
          0.25,
          0.25,
          0.25,
          0.5,
          -0.25,
          0.5,
          -0.25,
          0.25,
          -0.25,
          -0.5,
          0.5,
          -0.25,
          -0.25,
          0.25,
          -0.25,
          -0.25
         ]
        },
        {
         "hoverinfo": "text",
         "legendgroup": "5",
         "legendrank": 5,
         "line": {
          "color": "orange",
          "dash": "solid",
          "width": 2
         },
         "marker": {
          "size": 0
         },
         "mode": "lines",
         "name": "Graph Edges",
         "showlegend": false,
         "text": "",
         "type": "scatter3d",
         "x": [
          1.75,
          1.75,
          null,
          2.25,
          2.25,
          null,
          1.75,
          1.75,
          null,
          1.75,
          1.5,
          null,
          1.75,
          1.75,
          null,
          1.75,
          1.75,
          null,
          1.75,
          2.25,
          null,
          1.75,
          1.75,
          null,
          1.75,
          1.75,
          null,
          1.75,
          2.25,
          null,
          1.75,
          1.75,
          null,
          1.75,
          1.75,
          null,
          1.75,
          1.75,
          null,
          1.75,
          1.75,
          null,
          1.75,
          1.5,
          null,
          1.75,
          1.75,
          null,
          2.25,
          2.25,
          null,
          1.75,
          1.5,
          null,
          2.25,
          2.5,
          null,
          2.25,
          2.25,
          null,
          2.25,
          2.25,
          null,
          2.25,
          2.25,
          null,
          2.25,
          2.25,
          null,
          2.25,
          2.25,
          null,
          2.25,
          2.25,
          null,
          1.75,
          2.25,
          null,
          2.25,
          2.5,
          null,
          1.75,
          1.5,
          null,
          2.25,
          2.5,
          null,
          2.25,
          2.25,
          null,
          2.25,
          2.25,
          null,
          2.25,
          2.25,
          null,
          1.75,
          1.75,
          null,
          1.75,
          2.25,
          null,
          2.25,
          2.25,
          null,
          2.25,
          2.5,
          null
         ],
         "y": [
          0.25,
          0.5,
          null,
          0.25,
          0.25,
          null,
          0.25,
          0.25,
          null,
          0.25,
          0.25,
          null,
          0.25,
          0.5,
          null,
          0.25,
          -0.25,
          null,
          0.25,
          0.25,
          null,
          0.25,
          0.25,
          null,
          -0.25,
          -0.5,
          null,
          -0.25,
          -0.25,
          null,
          -0.25,
          -0.25,
          null,
          0.25,
          -0.25,
          null,
          -0.25,
          -0.5,
          null,
          -0.25,
          -0.25,
          null,
          -0.25,
          -0.25,
          null,
          0.25,
          0.25,
          null,
          -0.25,
          -0.25,
          null,
          -0.25,
          -0.25,
          null,
          -0.25,
          -0.25,
          null,
          -0.25,
          -0.5,
          null,
          -0.25,
          -0.5,
          null,
          0.25,
          0.5,
          null,
          0.25,
          -0.25,
          null,
          0.25,
          0.25,
          null,
          0.25,
          0.25,
          null,
          0.25,
          0.25,
          null,
          0.25,
          0.25,
          null,
          0.25,
          0.25,
          null,
          0.25,
          0.25,
          null,
          -0.25,
          -0.25,
          null,
          0.25,
          -0.25,
          null,
          0.25,
          0.5,
          null,
          -0.25,
          -0.25,
          null,
          -0.25,
          -0.25,
          null,
          -0.25,
          -0.25,
          null,
          -0.25,
          -0.25,
          null
         ],
         "z": [
          0.25,
          0.25,
          null,
          -0.25,
          -0.5,
          null,
          -0.25,
          -0.5,
          null,
          -0.25,
          -0.25,
          null,
          -0.25,
          -0.25,
          null,
          -0.25,
          -0.25,
          null,
          -0.25,
          -0.25,
          null,
          -0.25,
          0.25,
          null,
          -0.25,
          -0.25,
          null,
          0.25,
          0.25,
          null,
          -0.25,
          0.25,
          null,
          0.25,
          0.25,
          null,
          0.25,
          0.25,
          null,
          0.25,
          0.5,
          null,
          0.25,
          0.25,
          null,
          0.25,
          0.5,
          null,
          -0.25,
          -0.5,
          null,
          -0.25,
          -0.25,
          null,
          0.25,
          0.25,
          null,
          0.25,
          0.25,
          null,
          -0.25,
          -0.25,
          null,
          0.25,
          0.25,
          null,
          0.25,
          0.25,
          null,
          0.25,
          0.5,
          null,
          -0.25,
          0.25,
          null,
          0.25,
          0.25,
          null,
          0.25,
          0.25,
          null,
          0.25,
          0.25,
          null,
          -0.25,
          -0.25,
          null,
          0.25,
          0.5,
          null,
          -0.25,
          -0.25,
          null,
          -0.25,
          -0.25,
          null,
          -0.25,
          -0.5,
          null,
          -0.25,
          -0.25,
          null,
          -0.25,
          0.25,
          null,
          -0.25,
          -0.25,
          null
         ]
        },
        {
         "marker": {
          "color": [
           "blue",
           "blue",
           "blue",
           "blue",
           "blue",
           "blue",
           "blue",
           "blue"
          ],
          "opacity": 1,
          "size": [
           12,
           12,
           12,
           12,
           12,
           12,
           12,
           12
          ],
          "sizemode": "diameter",
          "symbol": "circle"
         },
         "mode": "markers",
         "name": "Graph Vertices",
         "showlegend": false,
         "type": "scatter3d",
         "x": [
          1.525,
          1.775,
          2.525,
          2.275,
          2.275,
          1.775,
          2.275,
          1.775
         ],
         "y": [
          0.275,
          0.275,
          0.275,
          0.275,
          0.525,
          0.275,
          0.275,
          0.275
         ],
         "z": [
          -0.225,
          0.275,
          -0.225,
          -0.225,
          -0.225,
          -0.225,
          -0.475,
          -0.475
         ]
        },
        {
         "customdata": [
          "",
          "",
          "",
          "",
          "",
          "",
          "",
          ""
         ],
         "hoverinfo": "text",
         "hovertemplate": [
          "Click ",
          "Click ",
          "Click ",
          "Click ",
          "Click ",
          "Click ",
          "Click ",
          "Click "
         ],
         "hovertext": [
          "",
          "",
          "",
          "",
          "",
          "",
          "",
          ""
         ],
         "legendgroup": "4",
         "legendrank": 4,
         "marker": {
          "color": [
           "#0000FF",
           "#0000FF",
           "#FF0000",
           "#0000FF",
           "#FF0000",
           "#0000FF",
           "#FF0000",
           "#0000FF"
          ],
          "opacity": 1,
          "size": [
           20,
           23,
           35,
           11,
           36,
           10,
           34,
           19
          ],
          "sizemode": "diameter",
          "symbol": "circle"
         },
         "mode": "markers",
         "name": "Graph Vertices",
         "showlegend": false,
         "text": [
          "",
          "",
          "",
          "",
          "",
          "",
          "",
          ""
         ],
         "type": "scatter3d",
         "x": [
          1.525,
          1.775,
          2.525,
          2.275,
          2.275,
          1.775,
          2.275,
          1.775
         ],
         "y": [
          0.275,
          0.275,
          0.275,
          0.275,
          0.525,
          0.275,
          0.275,
          0.275
         ],
         "z": [
          -0.225,
          0.275,
          -0.225,
          -0.225,
          -0.225,
          -0.225,
          -0.475,
          -0.475
         ]
        },
        {
         "hoverinfo": "text",
         "legendgroup": "5",
         "legendrank": 5,
         "line": {
          "color": "blue",
          "dash": "solid",
          "width": 4
         },
         "marker": {
          "size": 0
         },
         "mode": "lines",
         "name": "Graph Edges",
         "showlegend": false,
         "text": "",
         "type": "scatter3d",
         "x": [
          1.775,
          1.525,
          null,
          1.775,
          1.775,
          null,
          2.275,
          2.525,
          null,
          1.775,
          2.275,
          null,
          2.275,
          2.275,
          null,
          2.275,
          2.275,
          null,
          1.775,
          1.775,
          null
         ],
         "y": [
          0.275,
          0.275,
          null,
          0.275,
          0.275,
          null,
          0.275,
          0.275,
          null,
          0.275,
          0.275,
          null,
          0.275,
          0.525,
          null,
          0.275,
          0.275,
          null,
          0.275,
          0.275,
          null
         ],
         "z": [
          -0.225,
          -0.225,
          null,
          -0.225,
          0.275,
          null,
          -0.225,
          -0.225,
          null,
          -0.225,
          -0.225,
          null,
          -0.225,
          -0.225,
          null,
          -0.225,
          -0.475,
          null,
          -0.225,
          -0.475,
          null
         ]
        }
       ],
       "layout": {
        "autosize": true,
        "height": 500,
        "margin": {
         "b": 40,
         "l": 40,
         "r": 40,
         "t": 40
        },
        "paper_bgcolor": "RGBA(0,0,0,0)",
        "plot_bgcolor": "RGBA(0,0,0,0)",
        "scene": {
         "aspectmode": "data",
         "camera": {
          "center": {
           "x": 0,
           "y": 0,
           "z": 0
          },
          "eye": {
           "x": -1.25,
           "y": -1.25,
           "z": 1.25
          },
          "projection": {
           "type": "perspective"
          },
          "up": {
           "x": 0,
           "y": 0,
           "z": 1
          }
         },
         "xaxis": {
          "visible": false
         },
         "yaxis": {
          "visible": false
         },
         "zaxis": {
          "visible": false
         }
        },
        "showlegend": true,
        "template": {
         "data": {
          "bar": [
           {
            "error_x": {
             "color": "#2a3f5f"
            },
            "error_y": {
             "color": "#2a3f5f"
            },
            "marker": {
             "line": {
              "color": "#E5ECF6",
              "width": 0.5
             },
             "pattern": {
              "fillmode": "overlay",
              "size": 10,
              "solidity": 0.2
             }
            },
            "type": "bar"
           }
          ],
          "barpolar": [
           {
            "marker": {
             "line": {
              "color": "#E5ECF6",
              "width": 0.5
             },
             "pattern": {
              "fillmode": "overlay",
              "size": 10,
              "solidity": 0.2
             }
            },
            "type": "barpolar"
           }
          ],
          "carpet": [
           {
            "aaxis": {
             "endlinecolor": "#2a3f5f",
             "gridcolor": "white",
             "linecolor": "white",
             "minorgridcolor": "white",
             "startlinecolor": "#2a3f5f"
            },
            "baxis": {
             "endlinecolor": "#2a3f5f",
             "gridcolor": "white",
             "linecolor": "white",
             "minorgridcolor": "white",
             "startlinecolor": "#2a3f5f"
            },
            "type": "carpet"
           }
          ],
          "choropleth": [
           {
            "colorbar": {
             "outlinewidth": 0,
             "ticks": ""
            },
            "type": "choropleth"
           }
          ],
          "contour": [
           {
            "colorbar": {
             "outlinewidth": 0,
             "ticks": ""
            },
            "colorscale": [
             [
              0,
              "#0d0887"
             ],
             [
              0.1111111111111111,
              "#46039f"
             ],
             [
              0.2222222222222222,
              "#7201a8"
             ],
             [
              0.3333333333333333,
              "#9c179e"
             ],
             [
              0.4444444444444444,
              "#bd3786"
             ],
             [
              0.5555555555555556,
              "#d8576b"
             ],
             [
              0.6666666666666666,
              "#ed7953"
             ],
             [
              0.7777777777777778,
              "#fb9f3a"
             ],
             [
              0.8888888888888888,
              "#fdca26"
             ],
             [
              1,
              "#f0f921"
             ]
            ],
            "type": "contour"
           }
          ],
          "contourcarpet": [
           {
            "colorbar": {
             "outlinewidth": 0,
             "ticks": ""
            },
            "type": "contourcarpet"
           }
          ],
          "heatmap": [
           {
            "colorbar": {
             "outlinewidth": 0,
             "ticks": ""
            },
            "colorscale": [
             [
              0,
              "#0d0887"
             ],
             [
              0.1111111111111111,
              "#46039f"
             ],
             [
              0.2222222222222222,
              "#7201a8"
             ],
             [
              0.3333333333333333,
              "#9c179e"
             ],
             [
              0.4444444444444444,
              "#bd3786"
             ],
             [
              0.5555555555555556,
              "#d8576b"
             ],
             [
              0.6666666666666666,
              "#ed7953"
             ],
             [
              0.7777777777777778,
              "#fb9f3a"
             ],
             [
              0.8888888888888888,
              "#fdca26"
             ],
             [
              1,
              "#f0f921"
             ]
            ],
            "type": "heatmap"
           }
          ],
          "histogram": [
           {
            "marker": {
             "pattern": {
              "fillmode": "overlay",
              "size": 10,
              "solidity": 0.2
             }
            },
            "type": "histogram"
           }
          ],
          "histogram2d": [
           {
            "colorbar": {
             "outlinewidth": 0,
             "ticks": ""
            },
            "colorscale": [
             [
              0,
              "#0d0887"
             ],
             [
              0.1111111111111111,
              "#46039f"
             ],
             [
              0.2222222222222222,
              "#7201a8"
             ],
             [
              0.3333333333333333,
              "#9c179e"
             ],
             [
              0.4444444444444444,
              "#bd3786"
             ],
             [
              0.5555555555555556,
              "#d8576b"
             ],
             [
              0.6666666666666666,
              "#ed7953"
             ],
             [
              0.7777777777777778,
              "#fb9f3a"
             ],
             [
              0.8888888888888888,
              "#fdca26"
             ],
             [
              1,
              "#f0f921"
             ]
            ],
            "type": "histogram2d"
           }
          ],
          "histogram2dcontour": [
           {
            "colorbar": {
             "outlinewidth": 0,
             "ticks": ""
            },
            "colorscale": [
             [
              0,
              "#0d0887"
             ],
             [
              0.1111111111111111,
              "#46039f"
             ],
             [
              0.2222222222222222,
              "#7201a8"
             ],
             [
              0.3333333333333333,
              "#9c179e"
             ],
             [
              0.4444444444444444,
              "#bd3786"
             ],
             [
              0.5555555555555556,
              "#d8576b"
             ],
             [
              0.6666666666666666,
              "#ed7953"
             ],
             [
              0.7777777777777778,
              "#fb9f3a"
             ],
             [
              0.8888888888888888,
              "#fdca26"
             ],
             [
              1,
              "#f0f921"
             ]
            ],
            "type": "histogram2dcontour"
           }
          ],
          "mesh3d": [
           {
            "colorbar": {
             "outlinewidth": 0,
             "ticks": ""
            },
            "type": "mesh3d"
           }
          ],
          "parcoords": [
           {
            "line": {
             "colorbar": {
              "outlinewidth": 0,
              "ticks": ""
             }
            },
            "type": "parcoords"
           }
          ],
          "pie": [
           {
            "automargin": true,
            "type": "pie"
           }
          ],
          "scatter": [
           {
            "fillpattern": {
             "fillmode": "overlay",
             "size": 10,
             "solidity": 0.2
            },
            "type": "scatter"
           }
          ],
          "scatter3d": [
           {
            "line": {
             "colorbar": {
              "outlinewidth": 0,
              "ticks": ""
             }
            },
            "marker": {
             "colorbar": {
              "outlinewidth": 0,
              "ticks": ""
             }
            },
            "type": "scatter3d"
           }
          ],
          "scattercarpet": [
           {
            "marker": {
             "colorbar": {
              "outlinewidth": 0,
              "ticks": ""
             }
            },
            "type": "scattercarpet"
           }
          ],
          "scattergeo": [
           {
            "marker": {
             "colorbar": {
              "outlinewidth": 0,
              "ticks": ""
             }
            },
            "type": "scattergeo"
           }
          ],
          "scattergl": [
           {
            "marker": {
             "colorbar": {
              "outlinewidth": 0,
              "ticks": ""
             }
            },
            "type": "scattergl"
           }
          ],
          "scattermap": [
           {
            "marker": {
             "colorbar": {
              "outlinewidth": 0,
              "ticks": ""
             }
            },
            "type": "scattermap"
           }
          ],
          "scattermapbox": [
           {
            "marker": {
             "colorbar": {
              "outlinewidth": 0,
              "ticks": ""
             }
            },
            "type": "scattermapbox"
           }
          ],
          "scatterpolar": [
           {
            "marker": {
             "colorbar": {
              "outlinewidth": 0,
              "ticks": ""
             }
            },
            "type": "scatterpolar"
           }
          ],
          "scatterpolargl": [
           {
            "marker": {
             "colorbar": {
              "outlinewidth": 0,
              "ticks": ""
             }
            },
            "type": "scatterpolargl"
           }
          ],
          "scatterternary": [
           {
            "marker": {
             "colorbar": {
              "outlinewidth": 0,
              "ticks": ""
             }
            },
            "type": "scatterternary"
           }
          ],
          "surface": [
           {
            "colorbar": {
             "outlinewidth": 0,
             "ticks": ""
            },
            "colorscale": [
             [
              0,
              "#0d0887"
             ],
             [
              0.1111111111111111,
              "#46039f"
             ],
             [
              0.2222222222222222,
              "#7201a8"
             ],
             [
              0.3333333333333333,
              "#9c179e"
             ],
             [
              0.4444444444444444,
              "#bd3786"
             ],
             [
              0.5555555555555556,
              "#d8576b"
             ],
             [
              0.6666666666666666,
              "#ed7953"
             ],
             [
              0.7777777777777778,
              "#fb9f3a"
             ],
             [
              0.8888888888888888,
              "#fdca26"
             ],
             [
              1,
              "#f0f921"
             ]
            ],
            "type": "surface"
           }
          ],
          "table": [
           {
            "cells": {
             "fill": {
              "color": "#EBF0F8"
             },
             "line": {
              "color": "white"
             }
            },
            "header": {
             "fill": {
              "color": "#C8D4E3"
             },
             "line": {
              "color": "white"
             }
            },
            "type": "table"
           }
          ]
         },
         "layout": {
          "annotationdefaults": {
           "arrowcolor": "#2a3f5f",
           "arrowhead": 0,
           "arrowwidth": 1
          },
          "autotypenumbers": "strict",
          "coloraxis": {
           "colorbar": {
            "outlinewidth": 0,
            "ticks": ""
           }
          },
          "colorscale": {
           "diverging": [
            [
             0,
             "#8e0152"
            ],
            [
             0.1,
             "#c51b7d"
            ],
            [
             0.2,
             "#de77ae"
            ],
            [
             0.3,
             "#f1b6da"
            ],
            [
             0.4,
             "#fde0ef"
            ],
            [
             0.5,
             "#f7f7f7"
            ],
            [
             0.6,
             "#e6f5d0"
            ],
            [
             0.7,
             "#b8e186"
            ],
            [
             0.8,
             "#7fbc41"
            ],
            [
             0.9,
             "#4d9221"
            ],
            [
             1,
             "#276419"
            ]
           ],
           "sequential": [
            [
             0,
             "#0d0887"
            ],
            [
             0.1111111111111111,
             "#46039f"
            ],
            [
             0.2222222222222222,
             "#7201a8"
            ],
            [
             0.3333333333333333,
             "#9c179e"
            ],
            [
             0.4444444444444444,
             "#bd3786"
            ],
            [
             0.5555555555555556,
             "#d8576b"
            ],
            [
             0.6666666666666666,
             "#ed7953"
            ],
            [
             0.7777777777777778,
             "#fb9f3a"
            ],
            [
             0.8888888888888888,
             "#fdca26"
            ],
            [
             1,
             "#f0f921"
            ]
           ],
           "sequentialminus": [
            [
             0,
             "#0d0887"
            ],
            [
             0.1111111111111111,
             "#46039f"
            ],
            [
             0.2222222222222222,
             "#7201a8"
            ],
            [
             0.3333333333333333,
             "#9c179e"
            ],
            [
             0.4444444444444444,
             "#bd3786"
            ],
            [
             0.5555555555555556,
             "#d8576b"
            ],
            [
             0.6666666666666666,
             "#ed7953"
            ],
            [
             0.7777777777777778,
             "#fb9f3a"
            ],
            [
             0.8888888888888888,
             "#fdca26"
            ],
            [
             1,
             "#f0f921"
            ]
           ]
          },
          "colorway": [
           "#636efa",
           "#EF553B",
           "#00cc96",
           "#ab63fa",
           "#FFA15A",
           "#19d3f3",
           "#FF6692",
           "#B6E880",
           "#FF97FF",
           "#FECB52"
          ],
          "font": {
           "color": "#2a3f5f"
          },
          "geo": {
           "bgcolor": "white",
           "lakecolor": "white",
           "landcolor": "#E5ECF6",
           "showlakes": true,
           "showland": true,
           "subunitcolor": "white"
          },
          "hoverlabel": {
           "align": "left"
          },
          "hovermode": "closest",
          "mapbox": {
           "style": "light"
          },
          "paper_bgcolor": "white",
          "plot_bgcolor": "#E5ECF6",
          "polar": {
           "angularaxis": {
            "gridcolor": "white",
            "linecolor": "white",
            "ticks": ""
           },
           "bgcolor": "#E5ECF6",
           "radialaxis": {
            "gridcolor": "white",
            "linecolor": "white",
            "ticks": ""
           }
          },
          "scene": {
           "xaxis": {
            "backgroundcolor": "#E5ECF6",
            "gridcolor": "white",
            "gridwidth": 2,
            "linecolor": "white",
            "showbackground": true,
            "ticks": "",
            "zerolinecolor": "white"
           },
           "yaxis": {
            "backgroundcolor": "#E5ECF6",
            "gridcolor": "white",
            "gridwidth": 2,
            "linecolor": "white",
            "showbackground": true,
            "ticks": "",
            "zerolinecolor": "white"
           },
           "zaxis": {
            "backgroundcolor": "#E5ECF6",
            "gridcolor": "white",
            "gridwidth": 2,
            "linecolor": "white",
            "showbackground": true,
            "ticks": "",
            "zerolinecolor": "white"
           }
          },
          "shapedefaults": {
           "line": {
            "color": "#2a3f5f"
           }
          },
          "ternary": {
           "aaxis": {
            "gridcolor": "white",
            "linecolor": "white",
            "ticks": ""
           },
           "baxis": {
            "gridcolor": "white",
            "linecolor": "white",
            "ticks": ""
           },
           "bgcolor": "#E5ECF6",
           "caxis": {
            "gridcolor": "white",
            "linecolor": "white",
            "ticks": ""
           }
          },
          "title": {
           "x": 0.05
          },
          "xaxis": {
           "automargin": true,
           "gridcolor": "white",
           "linecolor": "white",
           "ticks": "",
           "title": {
            "standoff": 15
           },
           "zerolinecolor": "white",
           "zerolinewidth": 2
          },
          "yaxis": {
           "automargin": true,
           "gridcolor": "white",
           "linecolor": "white",
           "ticks": "",
           "title": {
            "standoff": 15
           },
           "zerolinecolor": "white",
           "zerolinewidth": 2
          }
         }
        },
        "width": 950,
        "xaxis": {
         "showgrid": false,
         "visible": false,
         "zeroline": false
        },
        "yaxis": {
         "showgrid": false,
         "visible": false,
         "zeroline": false
        }
       }
      }
     },
     "metadata": {},
     "output_type": "display_data"
    },
    {
     "data": {
      "application/vnd.plotly.v1+json": {
       "config": {
        "plotlyServerURL": "https://plot.ly"
       },
       "data": [
        {
         "marker": {
          "color": [
           "orange",
           "orange",
           "orange",
           "orange",
           "orange",
           "orange",
           "orange",
           "orange",
           "orange",
           "orange",
           "orange",
           "orange",
           "orange",
           "orange",
           "orange",
           "orange",
           "orange",
           "orange",
           "orange",
           "orange",
           "orange",
           "orange",
           "orange",
           "orange",
           "orange",
           "orange",
           "orange",
           "orange",
           "orange",
           "orange",
           "orange",
           "orange"
          ],
          "opacity": 1,
          "size": [
           12,
           12,
           12,
           12,
           12,
           12,
           12,
           12,
           12,
           12,
           12,
           12,
           12,
           12,
           12,
           12,
           12,
           12,
           12,
           12,
           12,
           12,
           12,
           12,
           12,
           12,
           12,
           12,
           12,
           12,
           12,
           12
          ],
          "sizemode": "diameter",
          "symbol": "circle"
         },
         "mode": "markers",
         "name": "Graph Vertices",
         "showlegend": false,
         "type": "scatter3d",
         "x": [
          1.75,
          2.25,
          1.75,
          1.75,
          1.75,
          1.5,
          1.75,
          1.75,
          1.75,
          1.5,
          2.25,
          1.5,
          2.5,
          2.25,
          2.25,
          2.25,
          2.25,
          1.5,
          2.5,
          1.75,
          2.5,
          2.25,
          2.25,
          1.75,
          1.75,
          1.75,
          2.25,
          2.25,
          1.75,
          2.25,
          2.5,
          2.25
         ],
         "y": [
          0.5,
          0.25,
          0.25,
          -0.5,
          -0.25,
          -0.25,
          -0.5,
          0.25,
          0.25,
          0.25,
          -0.25,
          -0.25,
          -0.25,
          -0.5,
          -0.5,
          0.5,
          0.25,
          0.25,
          0.25,
          -0.25,
          0.25,
          -0.25,
          0.25,
          0.25,
          0.5,
          -0.25,
          0.25,
          0.5,
          -0.25,
          -0.25,
          -0.25,
          -0.25
         ],
         "z": [
          0.25,
          -0.5,
          -0.25,
          -0.25,
          0.25,
          0.25,
          0.25,
          0.5,
          -0.5,
          -0.25,
          -0.5,
          -0.25,
          0.25,
          0.25,
          -0.25,
          0.25,
          0.25,
          0.25,
          0.25,
          0.5,
          -0.25,
          0.5,
          -0.25,
          0.25,
          -0.25,
          -0.5,
          0.5,
          -0.25,
          -0.25,
          0.25,
          -0.25,
          -0.25
         ]
        },
        {
         "customdata": [
          "",
          "",
          "",
          "",
          "",
          "",
          "",
          "",
          "",
          "",
          "",
          "",
          "",
          "",
          "",
          "",
          "",
          "",
          "",
          "",
          "",
          "",
          "",
          "",
          "",
          "",
          "",
          "",
          "",
          "",
          "",
          ""
         ],
         "hoverinfo": "text",
         "hovertemplate": [
          "Click ",
          "Click ",
          "Click ",
          "Click ",
          "Click ",
          "Click ",
          "Click ",
          "Click ",
          "Click ",
          "Click ",
          "Click ",
          "Click ",
          "Click ",
          "Click ",
          "Click ",
          "Click ",
          "Click ",
          "Click ",
          "Click ",
          "Click ",
          "Click ",
          "Click ",
          "Click ",
          "Click ",
          "Click ",
          "Click ",
          "Click ",
          "Click ",
          "Click ",
          "Click ",
          "Click ",
          "Click "
         ],
         "hovertext": [
          "",
          "",
          "",
          "",
          "",
          "",
          "",
          "",
          "",
          "",
          "",
          "",
          "",
          "",
          "",
          "",
          "",
          "",
          "",
          "",
          "",
          "",
          "",
          "",
          "",
          "",
          "",
          "",
          "",
          "",
          "",
          ""
         ],
         "legendgroup": "4",
         "legendrank": 4,
         "marker": {
          "color": [
           "#FFA500",
           "#FFA500",
           "#FFA500",
           "#FFA500",
           "#FFA500",
           "#FFA500",
           "#FFA500",
           "#FFA500",
           "#FFA500",
           "#FFA500",
           "#FFA500",
           "#FFA500",
           "#FFA500",
           "#FFA500",
           "#FFA500",
           "#FFA500",
           "#FFA500",
           "#FFA500",
           "#FFA500",
           "#FFA500",
           "#FFA500",
           "#FFA500",
           "#FFA500",
           "#FFA500",
           "#FFA500",
           "#FFA500",
           "#FFA500",
           "#FFA500",
           "#FFA500",
           "#FFA500",
           "#FFA500",
           "#FFA500"
          ],
          "opacity": 1,
          "size": [
           15,
           13,
           5,
           21,
           9,
           30,
           31,
           22,
           32,
           17,
           28,
           26,
           34,
           35,
           24,
           20,
           10,
           16,
           23,
           33,
           27,
           36,
           8,
           12,
           18,
           25,
           19,
           14,
           6,
           11,
           29,
           7
          ],
          "sizemode": "diameter",
          "symbol": "circle"
         },
         "mode": "markers",
         "name": "Graph Vertices",
         "showlegend": false,
         "text": [
          "",
          "",
          "",
          "",
          "",
          "",
          "",
          "",
          "",
          "",
          "",
          "",
          "",
          "",
          "",
          "",
          "",
          "",
          "",
          "",
          "",
          "",
          "",
          "",
          "",
          "",
          "",
          "",
          "",
          "",
          "",
          ""
         ],
         "type": "scatter3d",
         "x": [
          1.75,
          2.25,
          1.75,
          1.75,
          1.75,
          1.5,
          1.75,
          1.75,
          1.75,
          1.5,
          2.25,
          1.5,
          2.5,
          2.25,
          2.25,
          2.25,
          2.25,
          1.5,
          2.5,
          1.75,
          2.5,
          2.25,
          2.25,
          1.75,
          1.75,
          1.75,
          2.25,
          2.25,
          1.75,
          2.25,
          2.5,
          2.25
         ],
         "y": [
          0.5,
          0.25,
          0.25,
          -0.5,
          -0.25,
          -0.25,
          -0.5,
          0.25,
          0.25,
          0.25,
          -0.25,
          -0.25,
          -0.25,
          -0.5,
          -0.5,
          0.5,
          0.25,
          0.25,
          0.25,
          -0.25,
          0.25,
          -0.25,
          0.25,
          0.25,
          0.5,
          -0.25,
          0.25,
          0.5,
          -0.25,
          -0.25,
          -0.25,
          -0.25
         ],
         "z": [
          0.25,
          -0.5,
          -0.25,
          -0.25,
          0.25,
          0.25,
          0.25,
          0.5,
          -0.5,
          -0.25,
          -0.5,
          -0.25,
          0.25,
          0.25,
          -0.25,
          0.25,
          0.25,
          0.25,
          0.25,
          0.5,
          -0.25,
          0.5,
          -0.25,
          0.25,
          -0.25,
          -0.5,
          0.5,
          -0.25,
          -0.25,
          0.25,
          -0.25,
          -0.25
         ]
        },
        {
         "hoverinfo": "text",
         "legendgroup": "5",
         "legendrank": 5,
         "line": {
          "color": "orange",
          "dash": "solid",
          "width": 2
         },
         "marker": {
          "size": 0
         },
         "mode": "lines",
         "name": "Graph Edges",
         "showlegend": false,
         "text": "",
         "type": "scatter3d",
         "x": [
          1.75,
          1.75,
          null,
          2.25,
          2.25,
          null,
          1.75,
          1.75,
          null,
          1.75,
          1.5,
          null,
          1.75,
          1.75,
          null,
          1.75,
          1.75,
          null,
          1.75,
          2.25,
          null,
          1.75,
          1.75,
          null,
          1.75,
          1.75,
          null,
          1.75,
          2.25,
          null,
          1.75,
          1.75,
          null,
          1.75,
          1.75,
          null,
          1.75,
          1.75,
          null,
          1.75,
          1.75,
          null,
          1.75,
          1.5,
          null,
          1.75,
          1.75,
          null,
          2.25,
          2.25,
          null,
          1.75,
          1.5,
          null,
          2.25,
          2.5,
          null,
          2.25,
          2.25,
          null,
          2.25,
          2.25,
          null,
          2.25,
          2.25,
          null,
          2.25,
          2.25,
          null,
          2.25,
          2.25,
          null,
          2.25,
          2.25,
          null,
          1.75,
          2.25,
          null,
          2.25,
          2.5,
          null,
          1.75,
          1.5,
          null,
          2.25,
          2.5,
          null,
          2.25,
          2.25,
          null,
          2.25,
          2.25,
          null,
          2.25,
          2.25,
          null,
          1.75,
          1.75,
          null,
          1.75,
          2.25,
          null,
          2.25,
          2.25,
          null,
          2.25,
          2.5,
          null
         ],
         "y": [
          0.25,
          0.5,
          null,
          0.25,
          0.25,
          null,
          0.25,
          0.25,
          null,
          0.25,
          0.25,
          null,
          0.25,
          0.5,
          null,
          0.25,
          -0.25,
          null,
          0.25,
          0.25,
          null,
          0.25,
          0.25,
          null,
          -0.25,
          -0.5,
          null,
          -0.25,
          -0.25,
          null,
          -0.25,
          -0.25,
          null,
          0.25,
          -0.25,
          null,
          -0.25,
          -0.5,
          null,
          -0.25,
          -0.25,
          null,
          -0.25,
          -0.25,
          null,
          0.25,
          0.25,
          null,
          -0.25,
          -0.25,
          null,
          -0.25,
          -0.25,
          null,
          -0.25,
          -0.25,
          null,
          -0.25,
          -0.5,
          null,
          -0.25,
          -0.5,
          null,
          0.25,
          0.5,
          null,
          0.25,
          -0.25,
          null,
          0.25,
          0.25,
          null,
          0.25,
          0.25,
          null,
          0.25,
          0.25,
          null,
          0.25,
          0.25,
          null,
          0.25,
          0.25,
          null,
          0.25,
          0.25,
          null,
          -0.25,
          -0.25,
          null,
          0.25,
          -0.25,
          null,
          0.25,
          0.5,
          null,
          -0.25,
          -0.25,
          null,
          -0.25,
          -0.25,
          null,
          -0.25,
          -0.25,
          null,
          -0.25,
          -0.25,
          null
         ],
         "z": [
          0.25,
          0.25,
          null,
          -0.25,
          -0.5,
          null,
          -0.25,
          -0.5,
          null,
          -0.25,
          -0.25,
          null,
          -0.25,
          -0.25,
          null,
          -0.25,
          -0.25,
          null,
          -0.25,
          -0.25,
          null,
          -0.25,
          0.25,
          null,
          -0.25,
          -0.25,
          null,
          0.25,
          0.25,
          null,
          -0.25,
          0.25,
          null,
          0.25,
          0.25,
          null,
          0.25,
          0.25,
          null,
          0.25,
          0.5,
          null,
          0.25,
          0.25,
          null,
          0.25,
          0.5,
          null,
          -0.25,
          -0.5,
          null,
          -0.25,
          -0.25,
          null,
          0.25,
          0.25,
          null,
          0.25,
          0.25,
          null,
          -0.25,
          -0.25,
          null,
          0.25,
          0.25,
          null,
          0.25,
          0.25,
          null,
          0.25,
          0.5,
          null,
          -0.25,
          0.25,
          null,
          0.25,
          0.25,
          null,
          0.25,
          0.25,
          null,
          0.25,
          0.25,
          null,
          -0.25,
          -0.25,
          null,
          0.25,
          0.5,
          null,
          -0.25,
          -0.25,
          null,
          -0.25,
          -0.25,
          null,
          -0.25,
          -0.5,
          null,
          -0.25,
          -0.25,
          null,
          -0.25,
          0.25,
          null,
          -0.25,
          -0.25,
          null
         ]
        },
        {
         "marker": {
          "color": [
           "blue",
           "blue",
           "blue",
           "blue",
           "blue",
           "blue",
           "blue",
           "blue"
          ],
          "opacity": 1,
          "size": [
           12,
           12,
           12,
           12,
           12,
           12,
           12,
           12
          ],
          "sizemode": "diameter",
          "symbol": "circle"
         },
         "mode": "markers",
         "name": "Graph Vertices",
         "showlegend": false,
         "type": "scatter3d",
         "x": [
          2.275,
          1.775,
          1.775,
          1.525,
          1.775,
          2.525,
          2.275,
          2.275
         ],
         "y": [
          0.275,
          0.275,
          0.275,
          0.275,
          0.275,
          0.275,
          -0.225,
          0.275
         ],
         "z": [
          -0.225,
          -0.225,
          -0.475,
          -0.225,
          0.275,
          -0.225,
          -0.225,
          -0.475
         ]
        },
        {
         "customdata": [
          "",
          "",
          "",
          "",
          "",
          "",
          "",
          ""
         ],
         "hoverinfo": "text",
         "hovertemplate": [
          "Click ",
          "Click ",
          "Click ",
          "Click ",
          "Click ",
          "Click ",
          "Click ",
          "Click "
         ],
         "hovertext": [
          "",
          "",
          "",
          "",
          "",
          "",
          "",
          ""
         ],
         "legendgroup": "4",
         "legendrank": 4,
         "marker": {
          "color": [
           "#0000FF",
           "#0000FF",
           "#0000FF",
           "#0000FF",
           "#0000FF",
           "#FF0000",
           "#FF0000",
           "#FF0000"
          ],
          "opacity": 1,
          "size": [
           11,
           10,
           19,
           20,
           23,
           35,
           36,
           34
          ],
          "sizemode": "diameter",
          "symbol": "circle"
         },
         "mode": "markers",
         "name": "Graph Vertices",
         "showlegend": false,
         "text": [
          "",
          "",
          "",
          "",
          "",
          "",
          "",
          ""
         ],
         "type": "scatter3d",
         "x": [
          2.275,
          1.775,
          1.775,
          1.525,
          1.775,
          2.525,
          2.275,
          2.275
         ],
         "y": [
          0.275,
          0.275,
          0.275,
          0.275,
          0.275,
          0.275,
          -0.225,
          0.275
         ],
         "z": [
          -0.225,
          -0.225,
          -0.475,
          -0.225,
          0.275,
          -0.225,
          -0.225,
          -0.475
         ]
        },
        {
         "hoverinfo": "text",
         "legendgroup": "5",
         "legendrank": 5,
         "line": {
          "color": "blue",
          "dash": "solid",
          "width": 4
         },
         "marker": {
          "size": 0
         },
         "mode": "lines",
         "name": "Graph Edges",
         "showlegend": false,
         "text": "",
         "type": "scatter3d",
         "x": [
          2.275,
          2.275,
          null,
          2.275,
          2.525,
          null,
          2.275,
          2.275,
          null,
          1.775,
          2.275,
          null,
          1.775,
          1.775,
          null,
          1.775,
          1.525,
          null,
          1.775,
          1.775,
          null
         ],
         "y": [
          0.275,
          -0.225,
          null,
          0.275,
          0.275,
          null,
          0.275,
          0.275,
          null,
          0.275,
          0.275,
          null,
          0.275,
          0.275,
          null,
          0.275,
          0.275,
          null,
          0.275,
          0.275,
          null
         ],
         "z": [
          -0.225,
          -0.225,
          null,
          -0.225,
          -0.225,
          null,
          -0.225,
          -0.475,
          null,
          -0.225,
          -0.225,
          null,
          -0.225,
          -0.475,
          null,
          -0.225,
          -0.225,
          null,
          -0.225,
          0.275,
          null
         ]
        }
       ],
       "layout": {
        "autosize": true,
        "height": 500,
        "margin": {
         "b": 40,
         "l": 40,
         "r": 40,
         "t": 40
        },
        "paper_bgcolor": "RGBA(0,0,0,0)",
        "plot_bgcolor": "RGBA(0,0,0,0)",
        "scene": {
         "aspectmode": "data",
         "camera": {
          "center": {
           "x": 0,
           "y": 0,
           "z": 0
          },
          "eye": {
           "x": -1.25,
           "y": -1.25,
           "z": 1.25
          },
          "projection": {
           "type": "perspective"
          },
          "up": {
           "x": 0,
           "y": 0,
           "z": 1
          }
         },
         "xaxis": {
          "visible": false
         },
         "yaxis": {
          "visible": false
         },
         "zaxis": {
          "visible": false
         }
        },
        "showlegend": true,
        "template": {
         "data": {
          "bar": [
           {
            "error_x": {
             "color": "#2a3f5f"
            },
            "error_y": {
             "color": "#2a3f5f"
            },
            "marker": {
             "line": {
              "color": "#E5ECF6",
              "width": 0.5
             },
             "pattern": {
              "fillmode": "overlay",
              "size": 10,
              "solidity": 0.2
             }
            },
            "type": "bar"
           }
          ],
          "barpolar": [
           {
            "marker": {
             "line": {
              "color": "#E5ECF6",
              "width": 0.5
             },
             "pattern": {
              "fillmode": "overlay",
              "size": 10,
              "solidity": 0.2
             }
            },
            "type": "barpolar"
           }
          ],
          "carpet": [
           {
            "aaxis": {
             "endlinecolor": "#2a3f5f",
             "gridcolor": "white",
             "linecolor": "white",
             "minorgridcolor": "white",
             "startlinecolor": "#2a3f5f"
            },
            "baxis": {
             "endlinecolor": "#2a3f5f",
             "gridcolor": "white",
             "linecolor": "white",
             "minorgridcolor": "white",
             "startlinecolor": "#2a3f5f"
            },
            "type": "carpet"
           }
          ],
          "choropleth": [
           {
            "colorbar": {
             "outlinewidth": 0,
             "ticks": ""
            },
            "type": "choropleth"
           }
          ],
          "contour": [
           {
            "colorbar": {
             "outlinewidth": 0,
             "ticks": ""
            },
            "colorscale": [
             [
              0,
              "#0d0887"
             ],
             [
              0.1111111111111111,
              "#46039f"
             ],
             [
              0.2222222222222222,
              "#7201a8"
             ],
             [
              0.3333333333333333,
              "#9c179e"
             ],
             [
              0.4444444444444444,
              "#bd3786"
             ],
             [
              0.5555555555555556,
              "#d8576b"
             ],
             [
              0.6666666666666666,
              "#ed7953"
             ],
             [
              0.7777777777777778,
              "#fb9f3a"
             ],
             [
              0.8888888888888888,
              "#fdca26"
             ],
             [
              1,
              "#f0f921"
             ]
            ],
            "type": "contour"
           }
          ],
          "contourcarpet": [
           {
            "colorbar": {
             "outlinewidth": 0,
             "ticks": ""
            },
            "type": "contourcarpet"
           }
          ],
          "heatmap": [
           {
            "colorbar": {
             "outlinewidth": 0,
             "ticks": ""
            },
            "colorscale": [
             [
              0,
              "#0d0887"
             ],
             [
              0.1111111111111111,
              "#46039f"
             ],
             [
              0.2222222222222222,
              "#7201a8"
             ],
             [
              0.3333333333333333,
              "#9c179e"
             ],
             [
              0.4444444444444444,
              "#bd3786"
             ],
             [
              0.5555555555555556,
              "#d8576b"
             ],
             [
              0.6666666666666666,
              "#ed7953"
             ],
             [
              0.7777777777777778,
              "#fb9f3a"
             ],
             [
              0.8888888888888888,
              "#fdca26"
             ],
             [
              1,
              "#f0f921"
             ]
            ],
            "type": "heatmap"
           }
          ],
          "histogram": [
           {
            "marker": {
             "pattern": {
              "fillmode": "overlay",
              "size": 10,
              "solidity": 0.2
             }
            },
            "type": "histogram"
           }
          ],
          "histogram2d": [
           {
            "colorbar": {
             "outlinewidth": 0,
             "ticks": ""
            },
            "colorscale": [
             [
              0,
              "#0d0887"
             ],
             [
              0.1111111111111111,
              "#46039f"
             ],
             [
              0.2222222222222222,
              "#7201a8"
             ],
             [
              0.3333333333333333,
              "#9c179e"
             ],
             [
              0.4444444444444444,
              "#bd3786"
             ],
             [
              0.5555555555555556,
              "#d8576b"
             ],
             [
              0.6666666666666666,
              "#ed7953"
             ],
             [
              0.7777777777777778,
              "#fb9f3a"
             ],
             [
              0.8888888888888888,
              "#fdca26"
             ],
             [
              1,
              "#f0f921"
             ]
            ],
            "type": "histogram2d"
           }
          ],
          "histogram2dcontour": [
           {
            "colorbar": {
             "outlinewidth": 0,
             "ticks": ""
            },
            "colorscale": [
             [
              0,
              "#0d0887"
             ],
             [
              0.1111111111111111,
              "#46039f"
             ],
             [
              0.2222222222222222,
              "#7201a8"
             ],
             [
              0.3333333333333333,
              "#9c179e"
             ],
             [
              0.4444444444444444,
              "#bd3786"
             ],
             [
              0.5555555555555556,
              "#d8576b"
             ],
             [
              0.6666666666666666,
              "#ed7953"
             ],
             [
              0.7777777777777778,
              "#fb9f3a"
             ],
             [
              0.8888888888888888,
              "#fdca26"
             ],
             [
              1,
              "#f0f921"
             ]
            ],
            "type": "histogram2dcontour"
           }
          ],
          "mesh3d": [
           {
            "colorbar": {
             "outlinewidth": 0,
             "ticks": ""
            },
            "type": "mesh3d"
           }
          ],
          "parcoords": [
           {
            "line": {
             "colorbar": {
              "outlinewidth": 0,
              "ticks": ""
             }
            },
            "type": "parcoords"
           }
          ],
          "pie": [
           {
            "automargin": true,
            "type": "pie"
           }
          ],
          "scatter": [
           {
            "fillpattern": {
             "fillmode": "overlay",
             "size": 10,
             "solidity": 0.2
            },
            "type": "scatter"
           }
          ],
          "scatter3d": [
           {
            "line": {
             "colorbar": {
              "outlinewidth": 0,
              "ticks": ""
             }
            },
            "marker": {
             "colorbar": {
              "outlinewidth": 0,
              "ticks": ""
             }
            },
            "type": "scatter3d"
           }
          ],
          "scattercarpet": [
           {
            "marker": {
             "colorbar": {
              "outlinewidth": 0,
              "ticks": ""
             }
            },
            "type": "scattercarpet"
           }
          ],
          "scattergeo": [
           {
            "marker": {
             "colorbar": {
              "outlinewidth": 0,
              "ticks": ""
             }
            },
            "type": "scattergeo"
           }
          ],
          "scattergl": [
           {
            "marker": {
             "colorbar": {
              "outlinewidth": 0,
              "ticks": ""
             }
            },
            "type": "scattergl"
           }
          ],
          "scattermap": [
           {
            "marker": {
             "colorbar": {
              "outlinewidth": 0,
              "ticks": ""
             }
            },
            "type": "scattermap"
           }
          ],
          "scattermapbox": [
           {
            "marker": {
             "colorbar": {
              "outlinewidth": 0,
              "ticks": ""
             }
            },
            "type": "scattermapbox"
           }
          ],
          "scatterpolar": [
           {
            "marker": {
             "colorbar": {
              "outlinewidth": 0,
              "ticks": ""
             }
            },
            "type": "scatterpolar"
           }
          ],
          "scatterpolargl": [
           {
            "marker": {
             "colorbar": {
              "outlinewidth": 0,
              "ticks": ""
             }
            },
            "type": "scatterpolargl"
           }
          ],
          "scatterternary": [
           {
            "marker": {
             "colorbar": {
              "outlinewidth": 0,
              "ticks": ""
             }
            },
            "type": "scatterternary"
           }
          ],
          "surface": [
           {
            "colorbar": {
             "outlinewidth": 0,
             "ticks": ""
            },
            "colorscale": [
             [
              0,
              "#0d0887"
             ],
             [
              0.1111111111111111,
              "#46039f"
             ],
             [
              0.2222222222222222,
              "#7201a8"
             ],
             [
              0.3333333333333333,
              "#9c179e"
             ],
             [
              0.4444444444444444,
              "#bd3786"
             ],
             [
              0.5555555555555556,
              "#d8576b"
             ],
             [
              0.6666666666666666,
              "#ed7953"
             ],
             [
              0.7777777777777778,
              "#fb9f3a"
             ],
             [
              0.8888888888888888,
              "#fdca26"
             ],
             [
              1,
              "#f0f921"
             ]
            ],
            "type": "surface"
           }
          ],
          "table": [
           {
            "cells": {
             "fill": {
              "color": "#EBF0F8"
             },
             "line": {
              "color": "white"
             }
            },
            "header": {
             "fill": {
              "color": "#C8D4E3"
             },
             "line": {
              "color": "white"
             }
            },
            "type": "table"
           }
          ]
         },
         "layout": {
          "annotationdefaults": {
           "arrowcolor": "#2a3f5f",
           "arrowhead": 0,
           "arrowwidth": 1
          },
          "autotypenumbers": "strict",
          "coloraxis": {
           "colorbar": {
            "outlinewidth": 0,
            "ticks": ""
           }
          },
          "colorscale": {
           "diverging": [
            [
             0,
             "#8e0152"
            ],
            [
             0.1,
             "#c51b7d"
            ],
            [
             0.2,
             "#de77ae"
            ],
            [
             0.3,
             "#f1b6da"
            ],
            [
             0.4,
             "#fde0ef"
            ],
            [
             0.5,
             "#f7f7f7"
            ],
            [
             0.6,
             "#e6f5d0"
            ],
            [
             0.7,
             "#b8e186"
            ],
            [
             0.8,
             "#7fbc41"
            ],
            [
             0.9,
             "#4d9221"
            ],
            [
             1,
             "#276419"
            ]
           ],
           "sequential": [
            [
             0,
             "#0d0887"
            ],
            [
             0.1111111111111111,
             "#46039f"
            ],
            [
             0.2222222222222222,
             "#7201a8"
            ],
            [
             0.3333333333333333,
             "#9c179e"
            ],
            [
             0.4444444444444444,
             "#bd3786"
            ],
            [
             0.5555555555555556,
             "#d8576b"
            ],
            [
             0.6666666666666666,
             "#ed7953"
            ],
            [
             0.7777777777777778,
             "#fb9f3a"
            ],
            [
             0.8888888888888888,
             "#fdca26"
            ],
            [
             1,
             "#f0f921"
            ]
           ],
           "sequentialminus": [
            [
             0,
             "#0d0887"
            ],
            [
             0.1111111111111111,
             "#46039f"
            ],
            [
             0.2222222222222222,
             "#7201a8"
            ],
            [
             0.3333333333333333,
             "#9c179e"
            ],
            [
             0.4444444444444444,
             "#bd3786"
            ],
            [
             0.5555555555555556,
             "#d8576b"
            ],
            [
             0.6666666666666666,
             "#ed7953"
            ],
            [
             0.7777777777777778,
             "#fb9f3a"
            ],
            [
             0.8888888888888888,
             "#fdca26"
            ],
            [
             1,
             "#f0f921"
            ]
           ]
          },
          "colorway": [
           "#636efa",
           "#EF553B",
           "#00cc96",
           "#ab63fa",
           "#FFA15A",
           "#19d3f3",
           "#FF6692",
           "#B6E880",
           "#FF97FF",
           "#FECB52"
          ],
          "font": {
           "color": "#2a3f5f"
          },
          "geo": {
           "bgcolor": "white",
           "lakecolor": "white",
           "landcolor": "#E5ECF6",
           "showlakes": true,
           "showland": true,
           "subunitcolor": "white"
          },
          "hoverlabel": {
           "align": "left"
          },
          "hovermode": "closest",
          "mapbox": {
           "style": "light"
          },
          "paper_bgcolor": "white",
          "plot_bgcolor": "#E5ECF6",
          "polar": {
           "angularaxis": {
            "gridcolor": "white",
            "linecolor": "white",
            "ticks": ""
           },
           "bgcolor": "#E5ECF6",
           "radialaxis": {
            "gridcolor": "white",
            "linecolor": "white",
            "ticks": ""
           }
          },
          "scene": {
           "xaxis": {
            "backgroundcolor": "#E5ECF6",
            "gridcolor": "white",
            "gridwidth": 2,
            "linecolor": "white",
            "showbackground": true,
            "ticks": "",
            "zerolinecolor": "white"
           },
           "yaxis": {
            "backgroundcolor": "#E5ECF6",
            "gridcolor": "white",
            "gridwidth": 2,
            "linecolor": "white",
            "showbackground": true,
            "ticks": "",
            "zerolinecolor": "white"
           },
           "zaxis": {
            "backgroundcolor": "#E5ECF6",
            "gridcolor": "white",
            "gridwidth": 2,
            "linecolor": "white",
            "showbackground": true,
            "ticks": "",
            "zerolinecolor": "white"
           }
          },
          "shapedefaults": {
           "line": {
            "color": "#2a3f5f"
           }
          },
          "ternary": {
           "aaxis": {
            "gridcolor": "white",
            "linecolor": "white",
            "ticks": ""
           },
           "baxis": {
            "gridcolor": "white",
            "linecolor": "white",
            "ticks": ""
           },
           "bgcolor": "#E5ECF6",
           "caxis": {
            "gridcolor": "white",
            "linecolor": "white",
            "ticks": ""
           }
          },
          "title": {
           "x": 0.05
          },
          "xaxis": {
           "automargin": true,
           "gridcolor": "white",
           "linecolor": "white",
           "ticks": "",
           "title": {
            "standoff": 15
           },
           "zerolinecolor": "white",
           "zerolinewidth": 2
          },
          "yaxis": {
           "automargin": true,
           "gridcolor": "white",
           "linecolor": "white",
           "ticks": "",
           "title": {
            "standoff": 15
           },
           "zerolinecolor": "white",
           "zerolinewidth": 2
          }
         }
        },
        "width": 950,
        "xaxis": {
         "showgrid": false,
         "visible": false,
         "zeroline": false
        },
        "yaxis": {
         "showgrid": false,
         "visible": false,
         "zeroline": false
        }
       }
      }
     },
     "metadata": {},
     "output_type": "display_data"
    },
    {
     "data": {
      "application/vnd.plotly.v1+json": {
       "config": {
        "plotlyServerURL": "https://plot.ly"
       },
       "data": [
        {
         "marker": {
          "color": [
           "orange",
           "orange",
           "orange",
           "orange",
           "orange",
           "orange",
           "orange",
           "orange",
           "orange",
           "orange",
           "orange",
           "orange",
           "orange",
           "orange",
           "orange",
           "orange",
           "orange",
           "orange",
           "orange",
           "orange",
           "orange",
           "orange",
           "orange",
           "orange",
           "orange",
           "orange",
           "orange",
           "orange",
           "orange",
           "orange",
           "orange",
           "orange"
          ],
          "opacity": 1,
          "size": [
           12,
           12,
           12,
           12,
           12,
           12,
           12,
           12,
           12,
           12,
           12,
           12,
           12,
           12,
           12,
           12,
           12,
           12,
           12,
           12,
           12,
           12,
           12,
           12,
           12,
           12,
           12,
           12,
           12,
           12,
           12,
           12
          ],
          "sizemode": "diameter",
          "symbol": "circle"
         },
         "mode": "markers",
         "name": "Graph Vertices",
         "showlegend": false,
         "type": "scatter3d",
         "x": [
          1.75,
          2.25,
          1.75,
          1.75,
          1.75,
          1.5,
          1.75,
          1.75,
          1.75,
          1.5,
          2.25,
          1.5,
          2.5,
          2.25,
          2.25,
          2.25,
          2.25,
          1.5,
          2.5,
          1.75,
          2.5,
          2.25,
          2.25,
          1.75,
          1.75,
          1.75,
          2.25,
          2.25,
          1.75,
          2.25,
          2.5,
          2.25
         ],
         "y": [
          0.5,
          0.25,
          0.25,
          -0.5,
          -0.25,
          -0.25,
          -0.5,
          0.25,
          0.25,
          0.25,
          -0.25,
          -0.25,
          -0.25,
          -0.5,
          -0.5,
          0.5,
          0.25,
          0.25,
          0.25,
          -0.25,
          0.25,
          -0.25,
          0.25,
          0.25,
          0.5,
          -0.25,
          0.25,
          0.5,
          -0.25,
          -0.25,
          -0.25,
          -0.25
         ],
         "z": [
          0.25,
          -0.5,
          -0.25,
          -0.25,
          0.25,
          0.25,
          0.25,
          0.5,
          -0.5,
          -0.25,
          -0.5,
          -0.25,
          0.25,
          0.25,
          -0.25,
          0.25,
          0.25,
          0.25,
          0.25,
          0.5,
          -0.25,
          0.5,
          -0.25,
          0.25,
          -0.25,
          -0.5,
          0.5,
          -0.25,
          -0.25,
          0.25,
          -0.25,
          -0.25
         ]
        },
        {
         "customdata": [
          "",
          "",
          "",
          "",
          "",
          "",
          "",
          "",
          "",
          "",
          "",
          "",
          "",
          "",
          "",
          "",
          "",
          "",
          "",
          "",
          "",
          "",
          "",
          "",
          "",
          "",
          "",
          "",
          "",
          "",
          "",
          ""
         ],
         "hoverinfo": "text",
         "hovertemplate": [
          "Click ",
          "Click ",
          "Click ",
          "Click ",
          "Click ",
          "Click ",
          "Click ",
          "Click ",
          "Click ",
          "Click ",
          "Click ",
          "Click ",
          "Click ",
          "Click ",
          "Click ",
          "Click ",
          "Click ",
          "Click ",
          "Click ",
          "Click ",
          "Click ",
          "Click ",
          "Click ",
          "Click ",
          "Click ",
          "Click ",
          "Click ",
          "Click ",
          "Click ",
          "Click ",
          "Click ",
          "Click "
         ],
         "hovertext": [
          "",
          "",
          "",
          "",
          "",
          "",
          "",
          "",
          "",
          "",
          "",
          "",
          "",
          "",
          "",
          "",
          "",
          "",
          "",
          "",
          "",
          "",
          "",
          "",
          "",
          "",
          "",
          "",
          "",
          "",
          "",
          ""
         ],
         "legendgroup": "4",
         "legendrank": 4,
         "marker": {
          "color": [
           "#FFA500",
           "#FFA500",
           "#FFA500",
           "#FFA500",
           "#FFA500",
           "#FFA500",
           "#FFA500",
           "#FFA500",
           "#FFA500",
           "#FFA500",
           "#FFA500",
           "#FFA500",
           "#FFA500",
           "#FFA500",
           "#FFA500",
           "#FFA500",
           "#FFA500",
           "#FFA500",
           "#FFA500",
           "#FFA500",
           "#FFA500",
           "#FFA500",
           "#FFA500",
           "#FFA500",
           "#FFA500",
           "#FFA500",
           "#FFA500",
           "#FFA500",
           "#FFA500",
           "#FFA500",
           "#FFA500",
           "#FFA500"
          ],
          "opacity": 1,
          "size": [
           15,
           13,
           5,
           21,
           9,
           30,
           31,
           22,
           32,
           17,
           28,
           26,
           34,
           35,
           24,
           20,
           10,
           16,
           23,
           33,
           27,
           36,
           8,
           12,
           18,
           25,
           19,
           14,
           6,
           11,
           29,
           7
          ],
          "sizemode": "diameter",
          "symbol": "circle"
         },
         "mode": "markers",
         "name": "Graph Vertices",
         "showlegend": false,
         "text": [
          "",
          "",
          "",
          "",
          "",
          "",
          "",
          "",
          "",
          "",
          "",
          "",
          "",
          "",
          "",
          "",
          "",
          "",
          "",
          "",
          "",
          "",
          "",
          "",
          "",
          "",
          "",
          "",
          "",
          "",
          "",
          ""
         ],
         "type": "scatter3d",
         "x": [
          1.75,
          2.25,
          1.75,
          1.75,
          1.75,
          1.5,
          1.75,
          1.75,
          1.75,
          1.5,
          2.25,
          1.5,
          2.5,
          2.25,
          2.25,
          2.25,
          2.25,
          1.5,
          2.5,
          1.75,
          2.5,
          2.25,
          2.25,
          1.75,
          1.75,
          1.75,
          2.25,
          2.25,
          1.75,
          2.25,
          2.5,
          2.25
         ],
         "y": [
          0.5,
          0.25,
          0.25,
          -0.5,
          -0.25,
          -0.25,
          -0.5,
          0.25,
          0.25,
          0.25,
          -0.25,
          -0.25,
          -0.25,
          -0.5,
          -0.5,
          0.5,
          0.25,
          0.25,
          0.25,
          -0.25,
          0.25,
          -0.25,
          0.25,
          0.25,
          0.5,
          -0.25,
          0.25,
          0.5,
          -0.25,
          -0.25,
          -0.25,
          -0.25
         ],
         "z": [
          0.25,
          -0.5,
          -0.25,
          -0.25,
          0.25,
          0.25,
          0.25,
          0.5,
          -0.5,
          -0.25,
          -0.5,
          -0.25,
          0.25,
          0.25,
          -0.25,
          0.25,
          0.25,
          0.25,
          0.25,
          0.5,
          -0.25,
          0.5,
          -0.25,
          0.25,
          -0.25,
          -0.5,
          0.5,
          -0.25,
          -0.25,
          0.25,
          -0.25,
          -0.25
         ]
        },
        {
         "hoverinfo": "text",
         "legendgroup": "5",
         "legendrank": 5,
         "line": {
          "color": "orange",
          "dash": "solid",
          "width": 2
         },
         "marker": {
          "size": 0
         },
         "mode": "lines",
         "name": "Graph Edges",
         "showlegend": false,
         "text": "",
         "type": "scatter3d",
         "x": [
          1.75,
          1.75,
          null,
          2.25,
          2.25,
          null,
          1.75,
          1.75,
          null,
          1.75,
          1.5,
          null,
          1.75,
          1.75,
          null,
          1.75,
          1.75,
          null,
          1.75,
          2.25,
          null,
          1.75,
          1.75,
          null,
          1.75,
          1.75,
          null,
          1.75,
          2.25,
          null,
          1.75,
          1.75,
          null,
          1.75,
          1.75,
          null,
          1.75,
          1.75,
          null,
          1.75,
          1.75,
          null,
          1.75,
          1.5,
          null,
          1.75,
          1.75,
          null,
          2.25,
          2.25,
          null,
          1.75,
          1.5,
          null,
          2.25,
          2.5,
          null,
          2.25,
          2.25,
          null,
          2.25,
          2.25,
          null,
          2.25,
          2.25,
          null,
          2.25,
          2.25,
          null,
          2.25,
          2.25,
          null,
          2.25,
          2.25,
          null,
          1.75,
          2.25,
          null,
          2.25,
          2.5,
          null,
          1.75,
          1.5,
          null,
          2.25,
          2.5,
          null,
          2.25,
          2.25,
          null,
          2.25,
          2.25,
          null,
          2.25,
          2.25,
          null,
          1.75,
          1.75,
          null,
          1.75,
          2.25,
          null,
          2.25,
          2.25,
          null,
          2.25,
          2.5,
          null
         ],
         "y": [
          0.25,
          0.5,
          null,
          0.25,
          0.25,
          null,
          0.25,
          0.25,
          null,
          0.25,
          0.25,
          null,
          0.25,
          0.5,
          null,
          0.25,
          -0.25,
          null,
          0.25,
          0.25,
          null,
          0.25,
          0.25,
          null,
          -0.25,
          -0.5,
          null,
          -0.25,
          -0.25,
          null,
          -0.25,
          -0.25,
          null,
          0.25,
          -0.25,
          null,
          -0.25,
          -0.5,
          null,
          -0.25,
          -0.25,
          null,
          -0.25,
          -0.25,
          null,
          0.25,
          0.25,
          null,
          -0.25,
          -0.25,
          null,
          -0.25,
          -0.25,
          null,
          -0.25,
          -0.25,
          null,
          -0.25,
          -0.5,
          null,
          -0.25,
          -0.5,
          null,
          0.25,
          0.5,
          null,
          0.25,
          -0.25,
          null,
          0.25,
          0.25,
          null,
          0.25,
          0.25,
          null,
          0.25,
          0.25,
          null,
          0.25,
          0.25,
          null,
          0.25,
          0.25,
          null,
          0.25,
          0.25,
          null,
          -0.25,
          -0.25,
          null,
          0.25,
          -0.25,
          null,
          0.25,
          0.5,
          null,
          -0.25,
          -0.25,
          null,
          -0.25,
          -0.25,
          null,
          -0.25,
          -0.25,
          null,
          -0.25,
          -0.25,
          null
         ],
         "z": [
          0.25,
          0.25,
          null,
          -0.25,
          -0.5,
          null,
          -0.25,
          -0.5,
          null,
          -0.25,
          -0.25,
          null,
          -0.25,
          -0.25,
          null,
          -0.25,
          -0.25,
          null,
          -0.25,
          -0.25,
          null,
          -0.25,
          0.25,
          null,
          -0.25,
          -0.25,
          null,
          0.25,
          0.25,
          null,
          -0.25,
          0.25,
          null,
          0.25,
          0.25,
          null,
          0.25,
          0.25,
          null,
          0.25,
          0.5,
          null,
          0.25,
          0.25,
          null,
          0.25,
          0.5,
          null,
          -0.25,
          -0.5,
          null,
          -0.25,
          -0.25,
          null,
          0.25,
          0.25,
          null,
          0.25,
          0.25,
          null,
          -0.25,
          -0.25,
          null,
          0.25,
          0.25,
          null,
          0.25,
          0.25,
          null,
          0.25,
          0.5,
          null,
          -0.25,
          0.25,
          null,
          0.25,
          0.25,
          null,
          0.25,
          0.25,
          null,
          0.25,
          0.25,
          null,
          -0.25,
          -0.25,
          null,
          0.25,
          0.5,
          null,
          -0.25,
          -0.25,
          null,
          -0.25,
          -0.25,
          null,
          -0.25,
          -0.5,
          null,
          -0.25,
          -0.25,
          null,
          -0.25,
          0.25,
          null,
          -0.25,
          -0.25,
          null
         ]
        },
        {
         "marker": {
          "color": [
           "blue",
           "blue",
           "blue",
           "blue",
           "blue",
           "blue",
           "blue",
           "blue"
          ],
          "opacity": 1,
          "size": [
           12,
           12,
           12,
           12,
           12,
           12,
           12,
           12
          ],
          "sizemode": "diameter",
          "symbol": "circle"
         },
         "mode": "markers",
         "name": "Graph Vertices",
         "showlegend": false,
         "type": "scatter3d",
         "x": [
          1.525,
          1.775,
          2.275,
          1.775,
          2.275,
          1.775,
          2.525,
          2.275
         ],
         "y": [
          0.275,
          0.275,
          0.525,
          0.275,
          0.275,
          0.275,
          0.275,
          0.275
         ],
         "z": [
          -0.225,
          0.275,
          -0.225,
          -0.475,
          -0.225,
          -0.225,
          -0.225,
          -0.475
         ]
        },
        {
         "customdata": [
          "",
          "",
          "",
          "",
          "",
          "",
          "",
          ""
         ],
         "hoverinfo": "text",
         "hovertemplate": [
          "Click ",
          "Click ",
          "Click ",
          "Click ",
          "Click ",
          "Click ",
          "Click ",
          "Click "
         ],
         "hovertext": [
          "",
          "",
          "",
          "",
          "",
          "",
          "",
          ""
         ],
         "legendgroup": "4",
         "legendrank": 4,
         "marker": {
          "color": [
           "#0000FF",
           "#0000FF",
           "#FF0000",
           "#0000FF",
           "#0000FF",
           "#0000FF",
           "#FF0000",
           "#FF0000"
          ],
          "opacity": 1,
          "size": [
           20,
           23,
           35,
           19,
           11,
           10,
           36,
           34
          ],
          "sizemode": "diameter",
          "symbol": "circle"
         },
         "mode": "markers",
         "name": "Graph Vertices",
         "showlegend": false,
         "text": [
          "",
          "",
          "",
          "",
          "",
          "",
          "",
          ""
         ],
         "type": "scatter3d",
         "x": [
          1.525,
          1.775,
          2.275,
          1.775,
          2.275,
          1.775,
          2.525,
          2.275
         ],
         "y": [
          0.275,
          0.275,
          0.525,
          0.275,
          0.275,
          0.275,
          0.275,
          0.275
         ],
         "z": [
          -0.225,
          0.275,
          -0.225,
          -0.475,
          -0.225,
          -0.225,
          -0.225,
          -0.475
         ]
        },
        {
         "hoverinfo": "text",
         "legendgroup": "5",
         "legendrank": 5,
         "line": {
          "color": "blue",
          "dash": "solid",
          "width": 4
         },
         "marker": {
          "size": 0
         },
         "mode": "lines",
         "name": "Graph Edges",
         "showlegend": false,
         "text": "",
         "type": "scatter3d",
         "x": [
          1.775,
          1.525,
          null,
          1.775,
          1.775,
          null,
          2.275,
          2.275,
          null,
          1.775,
          1.775,
          null,
          2.275,
          2.525,
          null,
          1.775,
          2.275,
          null,
          2.275,
          2.275,
          null
         ],
         "y": [
          0.275,
          0.275,
          null,
          0.275,
          0.275,
          null,
          0.275,
          0.525,
          null,
          0.275,
          0.275,
          null,
          0.275,
          0.275,
          null,
          0.275,
          0.275,
          null,
          0.275,
          0.275,
          null
         ],
         "z": [
          -0.225,
          -0.225,
          null,
          -0.225,
          0.275,
          null,
          -0.225,
          -0.225,
          null,
          -0.225,
          -0.475,
          null,
          -0.225,
          -0.225,
          null,
          -0.225,
          -0.225,
          null,
          -0.225,
          -0.475,
          null
         ]
        }
       ],
       "layout": {
        "autosize": true,
        "height": 500,
        "margin": {
         "b": 40,
         "l": 40,
         "r": 40,
         "t": 40
        },
        "paper_bgcolor": "RGBA(0,0,0,0)",
        "plot_bgcolor": "RGBA(0,0,0,0)",
        "scene": {
         "aspectmode": "data",
         "camera": {
          "center": {
           "x": 0,
           "y": 0,
           "z": 0
          },
          "eye": {
           "x": -1.25,
           "y": -1.25,
           "z": 1.25
          },
          "projection": {
           "type": "perspective"
          },
          "up": {
           "x": 0,
           "y": 0,
           "z": 1
          }
         },
         "xaxis": {
          "visible": false
         },
         "yaxis": {
          "visible": false
         },
         "zaxis": {
          "visible": false
         }
        },
        "showlegend": true,
        "template": {
         "data": {
          "bar": [
           {
            "error_x": {
             "color": "#2a3f5f"
            },
            "error_y": {
             "color": "#2a3f5f"
            },
            "marker": {
             "line": {
              "color": "#E5ECF6",
              "width": 0.5
             },
             "pattern": {
              "fillmode": "overlay",
              "size": 10,
              "solidity": 0.2
             }
            },
            "type": "bar"
           }
          ],
          "barpolar": [
           {
            "marker": {
             "line": {
              "color": "#E5ECF6",
              "width": 0.5
             },
             "pattern": {
              "fillmode": "overlay",
              "size": 10,
              "solidity": 0.2
             }
            },
            "type": "barpolar"
           }
          ],
          "carpet": [
           {
            "aaxis": {
             "endlinecolor": "#2a3f5f",
             "gridcolor": "white",
             "linecolor": "white",
             "minorgridcolor": "white",
             "startlinecolor": "#2a3f5f"
            },
            "baxis": {
             "endlinecolor": "#2a3f5f",
             "gridcolor": "white",
             "linecolor": "white",
             "minorgridcolor": "white",
             "startlinecolor": "#2a3f5f"
            },
            "type": "carpet"
           }
          ],
          "choropleth": [
           {
            "colorbar": {
             "outlinewidth": 0,
             "ticks": ""
            },
            "type": "choropleth"
           }
          ],
          "contour": [
           {
            "colorbar": {
             "outlinewidth": 0,
             "ticks": ""
            },
            "colorscale": [
             [
              0,
              "#0d0887"
             ],
             [
              0.1111111111111111,
              "#46039f"
             ],
             [
              0.2222222222222222,
              "#7201a8"
             ],
             [
              0.3333333333333333,
              "#9c179e"
             ],
             [
              0.4444444444444444,
              "#bd3786"
             ],
             [
              0.5555555555555556,
              "#d8576b"
             ],
             [
              0.6666666666666666,
              "#ed7953"
             ],
             [
              0.7777777777777778,
              "#fb9f3a"
             ],
             [
              0.8888888888888888,
              "#fdca26"
             ],
             [
              1,
              "#f0f921"
             ]
            ],
            "type": "contour"
           }
          ],
          "contourcarpet": [
           {
            "colorbar": {
             "outlinewidth": 0,
             "ticks": ""
            },
            "type": "contourcarpet"
           }
          ],
          "heatmap": [
           {
            "colorbar": {
             "outlinewidth": 0,
             "ticks": ""
            },
            "colorscale": [
             [
              0,
              "#0d0887"
             ],
             [
              0.1111111111111111,
              "#46039f"
             ],
             [
              0.2222222222222222,
              "#7201a8"
             ],
             [
              0.3333333333333333,
              "#9c179e"
             ],
             [
              0.4444444444444444,
              "#bd3786"
             ],
             [
              0.5555555555555556,
              "#d8576b"
             ],
             [
              0.6666666666666666,
              "#ed7953"
             ],
             [
              0.7777777777777778,
              "#fb9f3a"
             ],
             [
              0.8888888888888888,
              "#fdca26"
             ],
             [
              1,
              "#f0f921"
             ]
            ],
            "type": "heatmap"
           }
          ],
          "histogram": [
           {
            "marker": {
             "pattern": {
              "fillmode": "overlay",
              "size": 10,
              "solidity": 0.2
             }
            },
            "type": "histogram"
           }
          ],
          "histogram2d": [
           {
            "colorbar": {
             "outlinewidth": 0,
             "ticks": ""
            },
            "colorscale": [
             [
              0,
              "#0d0887"
             ],
             [
              0.1111111111111111,
              "#46039f"
             ],
             [
              0.2222222222222222,
              "#7201a8"
             ],
             [
              0.3333333333333333,
              "#9c179e"
             ],
             [
              0.4444444444444444,
              "#bd3786"
             ],
             [
              0.5555555555555556,
              "#d8576b"
             ],
             [
              0.6666666666666666,
              "#ed7953"
             ],
             [
              0.7777777777777778,
              "#fb9f3a"
             ],
             [
              0.8888888888888888,
              "#fdca26"
             ],
             [
              1,
              "#f0f921"
             ]
            ],
            "type": "histogram2d"
           }
          ],
          "histogram2dcontour": [
           {
            "colorbar": {
             "outlinewidth": 0,
             "ticks": ""
            },
            "colorscale": [
             [
              0,
              "#0d0887"
             ],
             [
              0.1111111111111111,
              "#46039f"
             ],
             [
              0.2222222222222222,
              "#7201a8"
             ],
             [
              0.3333333333333333,
              "#9c179e"
             ],
             [
              0.4444444444444444,
              "#bd3786"
             ],
             [
              0.5555555555555556,
              "#d8576b"
             ],
             [
              0.6666666666666666,
              "#ed7953"
             ],
             [
              0.7777777777777778,
              "#fb9f3a"
             ],
             [
              0.8888888888888888,
              "#fdca26"
             ],
             [
              1,
              "#f0f921"
             ]
            ],
            "type": "histogram2dcontour"
           }
          ],
          "mesh3d": [
           {
            "colorbar": {
             "outlinewidth": 0,
             "ticks": ""
            },
            "type": "mesh3d"
           }
          ],
          "parcoords": [
           {
            "line": {
             "colorbar": {
              "outlinewidth": 0,
              "ticks": ""
             }
            },
            "type": "parcoords"
           }
          ],
          "pie": [
           {
            "automargin": true,
            "type": "pie"
           }
          ],
          "scatter": [
           {
            "fillpattern": {
             "fillmode": "overlay",
             "size": 10,
             "solidity": 0.2
            },
            "type": "scatter"
           }
          ],
          "scatter3d": [
           {
            "line": {
             "colorbar": {
              "outlinewidth": 0,
              "ticks": ""
             }
            },
            "marker": {
             "colorbar": {
              "outlinewidth": 0,
              "ticks": ""
             }
            },
            "type": "scatter3d"
           }
          ],
          "scattercarpet": [
           {
            "marker": {
             "colorbar": {
              "outlinewidth": 0,
              "ticks": ""
             }
            },
            "type": "scattercarpet"
           }
          ],
          "scattergeo": [
           {
            "marker": {
             "colorbar": {
              "outlinewidth": 0,
              "ticks": ""
             }
            },
            "type": "scattergeo"
           }
          ],
          "scattergl": [
           {
            "marker": {
             "colorbar": {
              "outlinewidth": 0,
              "ticks": ""
             }
            },
            "type": "scattergl"
           }
          ],
          "scattermap": [
           {
            "marker": {
             "colorbar": {
              "outlinewidth": 0,
              "ticks": ""
             }
            },
            "type": "scattermap"
           }
          ],
          "scattermapbox": [
           {
            "marker": {
             "colorbar": {
              "outlinewidth": 0,
              "ticks": ""
             }
            },
            "type": "scattermapbox"
           }
          ],
          "scatterpolar": [
           {
            "marker": {
             "colorbar": {
              "outlinewidth": 0,
              "ticks": ""
             }
            },
            "type": "scatterpolar"
           }
          ],
          "scatterpolargl": [
           {
            "marker": {
             "colorbar": {
              "outlinewidth": 0,
              "ticks": ""
             }
            },
            "type": "scatterpolargl"
           }
          ],
          "scatterternary": [
           {
            "marker": {
             "colorbar": {
              "outlinewidth": 0,
              "ticks": ""
             }
            },
            "type": "scatterternary"
           }
          ],
          "surface": [
           {
            "colorbar": {
             "outlinewidth": 0,
             "ticks": ""
            },
            "colorscale": [
             [
              0,
              "#0d0887"
             ],
             [
              0.1111111111111111,
              "#46039f"
             ],
             [
              0.2222222222222222,
              "#7201a8"
             ],
             [
              0.3333333333333333,
              "#9c179e"
             ],
             [
              0.4444444444444444,
              "#bd3786"
             ],
             [
              0.5555555555555556,
              "#d8576b"
             ],
             [
              0.6666666666666666,
              "#ed7953"
             ],
             [
              0.7777777777777778,
              "#fb9f3a"
             ],
             [
              0.8888888888888888,
              "#fdca26"
             ],
             [
              1,
              "#f0f921"
             ]
            ],
            "type": "surface"
           }
          ],
          "table": [
           {
            "cells": {
             "fill": {
              "color": "#EBF0F8"
             },
             "line": {
              "color": "white"
             }
            },
            "header": {
             "fill": {
              "color": "#C8D4E3"
             },
             "line": {
              "color": "white"
             }
            },
            "type": "table"
           }
          ]
         },
         "layout": {
          "annotationdefaults": {
           "arrowcolor": "#2a3f5f",
           "arrowhead": 0,
           "arrowwidth": 1
          },
          "autotypenumbers": "strict",
          "coloraxis": {
           "colorbar": {
            "outlinewidth": 0,
            "ticks": ""
           }
          },
          "colorscale": {
           "diverging": [
            [
             0,
             "#8e0152"
            ],
            [
             0.1,
             "#c51b7d"
            ],
            [
             0.2,
             "#de77ae"
            ],
            [
             0.3,
             "#f1b6da"
            ],
            [
             0.4,
             "#fde0ef"
            ],
            [
             0.5,
             "#f7f7f7"
            ],
            [
             0.6,
             "#e6f5d0"
            ],
            [
             0.7,
             "#b8e186"
            ],
            [
             0.8,
             "#7fbc41"
            ],
            [
             0.9,
             "#4d9221"
            ],
            [
             1,
             "#276419"
            ]
           ],
           "sequential": [
            [
             0,
             "#0d0887"
            ],
            [
             0.1111111111111111,
             "#46039f"
            ],
            [
             0.2222222222222222,
             "#7201a8"
            ],
            [
             0.3333333333333333,
             "#9c179e"
            ],
            [
             0.4444444444444444,
             "#bd3786"
            ],
            [
             0.5555555555555556,
             "#d8576b"
            ],
            [
             0.6666666666666666,
             "#ed7953"
            ],
            [
             0.7777777777777778,
             "#fb9f3a"
            ],
            [
             0.8888888888888888,
             "#fdca26"
            ],
            [
             1,
             "#f0f921"
            ]
           ],
           "sequentialminus": [
            [
             0,
             "#0d0887"
            ],
            [
             0.1111111111111111,
             "#46039f"
            ],
            [
             0.2222222222222222,
             "#7201a8"
            ],
            [
             0.3333333333333333,
             "#9c179e"
            ],
            [
             0.4444444444444444,
             "#bd3786"
            ],
            [
             0.5555555555555556,
             "#d8576b"
            ],
            [
             0.6666666666666666,
             "#ed7953"
            ],
            [
             0.7777777777777778,
             "#fb9f3a"
            ],
            [
             0.8888888888888888,
             "#fdca26"
            ],
            [
             1,
             "#f0f921"
            ]
           ]
          },
          "colorway": [
           "#636efa",
           "#EF553B",
           "#00cc96",
           "#ab63fa",
           "#FFA15A",
           "#19d3f3",
           "#FF6692",
           "#B6E880",
           "#FF97FF",
           "#FECB52"
          ],
          "font": {
           "color": "#2a3f5f"
          },
          "geo": {
           "bgcolor": "white",
           "lakecolor": "white",
           "landcolor": "#E5ECF6",
           "showlakes": true,
           "showland": true,
           "subunitcolor": "white"
          },
          "hoverlabel": {
           "align": "left"
          },
          "hovermode": "closest",
          "mapbox": {
           "style": "light"
          },
          "paper_bgcolor": "white",
          "plot_bgcolor": "#E5ECF6",
          "polar": {
           "angularaxis": {
            "gridcolor": "white",
            "linecolor": "white",
            "ticks": ""
           },
           "bgcolor": "#E5ECF6",
           "radialaxis": {
            "gridcolor": "white",
            "linecolor": "white",
            "ticks": ""
           }
          },
          "scene": {
           "xaxis": {
            "backgroundcolor": "#E5ECF6",
            "gridcolor": "white",
            "gridwidth": 2,
            "linecolor": "white",
            "showbackground": true,
            "ticks": "",
            "zerolinecolor": "white"
           },
           "yaxis": {
            "backgroundcolor": "#E5ECF6",
            "gridcolor": "white",
            "gridwidth": 2,
            "linecolor": "white",
            "showbackground": true,
            "ticks": "",
            "zerolinecolor": "white"
           },
           "zaxis": {
            "backgroundcolor": "#E5ECF6",
            "gridcolor": "white",
            "gridwidth": 2,
            "linecolor": "white",
            "showbackground": true,
            "ticks": "",
            "zerolinecolor": "white"
           }
          },
          "shapedefaults": {
           "line": {
            "color": "#2a3f5f"
           }
          },
          "ternary": {
           "aaxis": {
            "gridcolor": "white",
            "linecolor": "white",
            "ticks": ""
           },
           "baxis": {
            "gridcolor": "white",
            "linecolor": "white",
            "ticks": ""
           },
           "bgcolor": "#E5ECF6",
           "caxis": {
            "gridcolor": "white",
            "linecolor": "white",
            "ticks": ""
           }
          },
          "title": {
           "x": 0.05
          },
          "xaxis": {
           "automargin": true,
           "gridcolor": "white",
           "linecolor": "white",
           "ticks": "",
           "title": {
            "standoff": 15
           },
           "zerolinecolor": "white",
           "zerolinewidth": 2
          },
          "yaxis": {
           "automargin": true,
           "gridcolor": "white",
           "linecolor": "white",
           "ticks": "",
           "title": {
            "standoff": 15
           },
           "zerolinecolor": "white",
           "zerolinewidth": 2
          }
         }
        },
        "width": 950,
        "xaxis": {
         "showgrid": false,
         "visible": false,
         "zeroline": false
        },
        "yaxis": {
         "showgrid": false,
         "visible": false,
         "zeroline": false
        }
       }
      }
     },
     "metadata": {},
     "output_type": "display_data"
    }
   ],
   "source": [
    "# Step 5: Isomorphism matching without key\n",
    "matches = Graph.Match(g1, g2)\n",
    "print(len(matches), \"matches found\")\n",
    "\n",
    "new_verts = [(Vertex.X(v), Vertex.Y(v), Vertex.Z(v)) for v in verts1]\n",
    "new_dicts = [d for d in vert_dicts1]\n",
    "for match in matches[:3]:\n",
    "    for key in match.keys():\n",
    "        vi2 = key\n",
    "        vi1 = match.get(key)\n",
    "        new_verts[vi1] = ([Vertex.X(verts2[vi2])+0.025, Vertex.Y(verts2[vi2])+0.025, Vertex.Z(verts2[vi2])+0.025])\n",
    "        new_dicts[vi1] = vert_dicts1[vi1]\n",
    "\n",
    "    g4 = Graph.ByMeshData(vertices=new_verts, edges=edges1, vertexDictionaries=new_dicts, edgeDictionaries=edge_dicts1)\n",
    "    p4 = Plotly.DataByGraph(g4, edgeColor=\"blue\", edgeWidth=4, vertexSizeKey=\"position\", vertexColorKey=\"removeColor\", vertexBorderColor=\"blue\")\n",
    "    figure = Plotly.FigureByData(p2+p4)\n",
    "    Plotly.Show(figure)"
   ]
  }
 ],
 "metadata": {
  "kernelspec": {
   "display_name": "Python 3",
   "language": "python",
   "name": "python3"
  },
  "language_info": {
   "codemirror_mode": {
    "name": "ipython",
    "version": 3
   },
   "file_extension": ".py",
   "mimetype": "text/x-python",
   "name": "python",
   "nbconvert_exporter": "python",
   "pygments_lexer": "ipython3",
   "version": "3.11.9"
  }
 },
 "nbformat": 4,
 "nbformat_minor": 5
}
