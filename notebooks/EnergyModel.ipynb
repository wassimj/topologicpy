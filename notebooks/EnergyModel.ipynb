{
 "cells": [
  {
   "cell_type": "code",
   "execution_count": null,
   "id": "2177f180",
   "metadata": {},
   "outputs": [],
   "source": [
    "# You don't need these two lines if you have pip installed topologicpy\n",
    "import sys\n",
    "sys.path.append(\"C:/Users/sarwj/OneDrive - Cardiff University/Documents/GitHub/topologicpy/src\")"
   ]
  },
  {
   "cell_type": "markdown",
   "id": "fc2f458e",
   "metadata": {},
   "source": [
    "## Import the needed classes"
   ]
  },
  {
   "cell_type": "code",
   "execution_count": null,
   "id": "d73a2db2",
   "metadata": {},
   "outputs": [],
   "source": [
    "# Import the needed classes\n",
    "from topologicpy.Vertex import Vertex\n",
    "from topologicpy.Face import Face\n",
    "from topologicpy.Cell import Cell\n",
    "from topologicpy.CellComplex import CellComplex\n",
    "from topologicpy.Cluster import Cluster\n",
    "from topologicpy.Topology import Topology\n",
    "from topologicpy.Dictionary import Dictionary\n",
    "from topologicpy.Color import Color\n",
    "from topologicpy.Plotly import Plotly\n",
    "from topologicpy.EnergyModel import EnergyModel\n",
    "from topologicpy.Helper import Helper\n",
    "print(\"\\nDONE\")"
   ]
  },
  {
   "cell_type": "markdown",
   "id": "45b84a34",
   "metadata": {},
   "source": [
    "## Check software versions"
   ]
  },
  {
   "cell_type": "code",
   "execution_count": null,
   "id": "12875fda",
   "metadata": {},
   "outputs": [],
   "source": [
    "import sys\n",
    "print(\"This workflow was designed and verified to work with python 3.11, TopologicPy 0.8.54 and OpenStudio SDK 3.10.0.\\n\")\n",
    "py_version = sys.version.split()[0]\n",
    "print(\"Python version:\", py_version)\n",
    "\n",
    "print(\"TopologicPy Version:\", Helper.Version(check=False))\n",
    "print(\"OpenStudio SDK Version:\", EnergyModel.Version(check=False))\n",
    "print(\" \")\n",
    "print(\"TopologicPy Version:\", Helper.Version(check=True))\n",
    "print(\"OpenStudio SDK Version:\", EnergyModel.Version(check=True))\n",
    "print(\"\\nDONE\")"
   ]
  },
  {
   "cell_type": "markdown",
   "id": "9cfb2360",
   "metadata": {},
   "source": [
    "## Set the input variables for path names and load geometries"
   ]
  },
  {
   "cell_type": "code",
   "execution_count": null,
   "id": "de5b7f6d",
   "metadata": {},
   "outputs": [],
   "source": [
    "# Set the needed file paths. Change to match your computer paths\n",
    "weatherFilePath = r\"C:\\Users\\sarwj\\OneDrive - Cardiff University\\Documents\\GitHub\\topologicpy\\assets\\EnergyModel\\GBR_London.Gatwick.037760_IWEC.epw\"\n",
    "designDayFilePath = r\"C:\\Users\\sarwj\\OneDrive - Cardiff University\\Documents\\GitHub\\topologicpy\\assets\\EnergyModel\\GBR_London.Gatwick.037760_IWEC.ddy\"\n",
    "osBinaryPath = r\"C:\\openstudio-3.10.0\\bin\\openstudio.exe\"\n",
    "outputFolder = r\"C:\\Users\\sarwj\\OneDrive - Cardiff University\\Desktop\\EnergyModels\"\n",
    "buildingPath = r\"C:\\Users\\sarwj\\OneDrive - Cardiff University\\Documents\\GitHub\\topologicpy\\assets\\EnergyModel\\TopologicBuilding.brep\"\n",
    "shadingPath = r\"C:\\Users\\sarwj\\OneDrive - Cardiff University\\Documents\\GitHub\\topologicpy\\assets\\EnergyModel\\TopologicShadingSurfaces.brep\"\n",
    "osModelPath=r\"C:\\Users\\sarwj\\OneDrive - Cardiff University\\Documents\\GitHub\\topologicpy\\assets\\EnergyModel\\OSMTemplate-OfficeBuilding-3.10.0.osm\"\n",
    "print(\"\\nDONE\")"
   ]
  },
  {
   "cell_type": "markdown",
   "id": "5059192c",
   "metadata": {},
   "source": [
    "## Load and set the building geometry, apertures (External Windows), and shading surfaces"
   ]
  },
  {
   "cell_type": "code",
   "execution_count": null,
   "id": "b68e4581",
   "metadata": {},
   "outputs": [],
   "source": [
    "# BUILDING\n",
    "building = Topology.ByBREPPath(buildingPath)\n",
    "\n",
    "# APERTURES\n",
    "# Decompose the building\n",
    "d = CellComplex.Decompose(building)\n",
    "# Specify a glazing (window to wall) ratio:\n",
    "import math\n",
    "gr = 0.25\n",
    "# Create apertures (windows) by scaling the external vertical walls\n",
    "# Get the external vertical faces\n",
    "walls = d['externalVerticalFaces']\n",
    "apertures = []\n",
    "for wall in walls:\n",
    "    centroid = Topology.Centroid(wall)\n",
    "    aperture = Topology.Scale(wall, centroid, math.sqrt(gr), math.sqrt(gr), math.sqrt(gr))\n",
    "    apertures.append(aperture)\n",
    "building = Topology.AddApertures(building, apertures, subTopologyType=\"face\")\n",
    "\n",
    "# SHADING SURFACES\n",
    "shadingSurfaces = Topology.ByBREPPath(shadingPath)\n",
    "\n",
    "# DISPLAY RESULT\n",
    "Topology.Show(building, shadingSurfaces, apertures)\n",
    "print(\"\\nDONE\")"
   ]
  },
  {
   "cell_type": "markdown",
   "id": "914a4cee",
   "metadata": {},
   "source": [
    "## Create an Energy Model"
   ]
  },
  {
   "cell_type": "code",
   "execution_count": null,
   "id": "586c35f8",
   "metadata": {},
   "outputs": [],
   "source": [
    "#import openstudio\n",
    "\n",
    "#ddyModel = openstudio.openstudioenergyplus.loadAndTranslateIdf(openstudio.toPath(designDayFilePath))\n",
    "\n",
    "model = EnergyModel.ByTopology(building=building,\n",
    "                               shadingSurfaces = shadingSurfaces,\n",
    "                               osModelPath=osModelPath,\n",
    "                               weatherFilePath=weatherFilePath,\n",
    "                               designDayFilePath=designDayFilePath,\n",
    "                               glazingRatio=0.25)\n",
    "\n",
    "print(\"THIS IS A SNIPPET OF THE OSM MODEL TO VERIFY THAT IT WORKED.\")\n",
    "print(str(model)[:900])\n",
    "print(\"\\nDONE\")"
   ]
  },
  {
   "cell_type": "markdown",
   "id": "166f68da",
   "metadata": {},
   "source": [
    "## Export the model to OSM and GBXML"
   ]
  },
  {
   "cell_type": "code",
   "execution_count": null,
   "id": "4fde964f",
   "metadata": {},
   "outputs": [],
   "source": [
    "# Uncomment these files and change output path if you wish to export the model\n",
    "#status01 = EnergyModel.ExportToOSM(model, outputFolder+\"/EnergModel.osm\", overwrite=True)\n",
    "#status02 = EnergyModel.ExportToGbXML(model, outputFolder+\"/EnergModel.xml\", overwrite=True)\n"
   ]
  },
  {
   "cell_type": "markdown",
   "id": "8460a981",
   "metadata": {},
   "source": [
    "## Run the Simulation"
   ]
  },
  {
   "cell_type": "code",
   "execution_count": null,
   "id": "3cac4559",
   "metadata": {},
   "outputs": [],
   "source": [
    "# Run the simulation\n",
    "model = EnergyModel.Run(model, weatherFilePath=weatherFilePath,\n",
    "                        osBinaryPath=osBinaryPath, outputFolder=outputFolder)\n",
    "print(\"\\nDONE\")"
   ]
  },
  {
   "cell_type": "markdown",
   "id": "9bb224ac",
   "metadata": {},
   "source": [
    "## Get the space names used in the energy model"
   ]
  },
  {
   "cell_type": "code",
   "execution_count": null,
   "id": "f76b606d",
   "metadata": {},
   "outputs": [],
   "source": [
    "# Get the topologies from the energy model. These have the correct dictionaries with space names etc.\n",
    "topologies = EnergyModel.Topologies(model)\n",
    "cells = topologies['cells']\n",
    "\n",
    "# Get the required row names for the SQL query\n",
    "names = []\n",
    "for cell in cells:\n",
    "    d = Topology.Dictionary(cell)\n",
    "    name = Dictionary.ValueAtKey(d, 'TOPOLOGIC_name')\n",
    "    name = name.upper()+\"_THERMAL_ZONE\"\n",
    "    names.append(name)\n",
    "print(\"\\nDONE\")"
   ]
  },
  {
   "cell_type": "markdown",
   "id": "3464f2c9",
   "metadata": {},
   "source": [
    "## Set the report, table, and column names to retrieve from the SQL data"
   ]
  },
  {
   "cell_type": "code",
   "execution_count": null,
   "id": "94d542f1",
   "metadata": {},
   "outputs": [],
   "source": [
    "# Set the report, table, and column names to retrieve from the SQL data\n",
    "\n",
    "# Here we specify three possible reports. We get them by index for convenience.\n",
    "reports = [\"HVACSizingSummary\", \"HVACSizingSummary\", \"SystemSummary\"]\n",
    "forStrings = [\"Entire Facility\", \"Entire Facility\", \"Entire Facility\"]\n",
    "tableNames = [\"Zone Sensible Cooling\", \"Zone Sensible Heating\", \"Time Not Comfortable Based on Simple ASHRAE 55-2004\"]\n",
    "columnNames = [\"User Design Load\", \"User Design Load\", \"Summer or Winter Clothes\"]\n",
    "unitsList = [\"W\", \"W\", \"hr\"]\n",
    "\n",
    "# Choose report 0, 1, or 2\n",
    "index = 0 \n",
    "\n",
    "reportName = reports[index]\n",
    "reportForString = forStrings[index]\n",
    "tableName = tableNames[index]\n",
    "columnName = columnNames[index]\n",
    "units = unitsList[index]\n",
    "\n",
    "# Get the values from the SQL data\n",
    "values = EnergyModel.Query(model,\n",
    "                          reportName = reportName,\n",
    "                          reportForString = reportForString,\n",
    "                          tableName = tableName,\n",
    "                          columnName = columnName,\n",
    "                          rowNames = names,\n",
    "                          units = units)\n",
    "print(\"\\nDONE\")"
   ]
  },
  {
   "cell_type": "markdown",
   "id": "07fef5f9",
   "metadata": {},
   "source": [
    "## Apply the values to the bottom face(s) of each space/cell."
   ]
  },
  {
   "cell_type": "code",
   "execution_count": null,
   "id": "5ea10041",
   "metadata": {},
   "outputs": [],
   "source": [
    "# This section is to apply the values only to the bottom face of each cell.\n",
    "faces = []\n",
    "selectors = []\n",
    "for i, cell in enumerate(cells):\n",
    "    d = Cell.Decompose(cell)\n",
    "    bottomFaces = d['bottomHorizontalFaces']\n",
    "    for bottomFace in bottomFaces:\n",
    "        d = Dictionary.ByKeysValues([\"value\", \"label\"], [values[i], str(round(values[i], 2))])\n",
    "        faces.append(bottomFace)\n",
    "        s = Face.InternalVertex(bottomFace)\n",
    "        s = Topology.SetDictionary(s, d)\n",
    "        selectors.append(s)\n",
    "faceCluster = Cluster.ByTopologies(faces)\n",
    "faceCluster = Topology.TransferDictionariesBySelectors(faceCluster, selectors, tranFaces=True, tolerance=0.0001)\n",
    "print(\"\\nDONE\")"
   ]
  },
  {
   "cell_type": "markdown",
   "id": "11b132af",
   "metadata": {},
   "source": [
    "## Create a Plotly figure and draw it."
   ]
  },
  {
   "cell_type": "code",
   "execution_count": null,
   "id": "0f1dc8b5",
   "metadata": {},
   "outputs": [],
   "source": [
    "# Create a Plotly figure and draw it.\n",
    "# Create a cluster to represent the building envelope (translucent). This is just for visualisation.\n",
    "envelopeCluster = Cluster.ByTopologies(cells+apertures+Topology.Faces(shadingSurfaces))\n",
    "plotlyData = Plotly.DataByTopology(envelopeCluster, faceOpacity=0.1)\n",
    "\n",
    "# Add the color-coded faces\n",
    "colorScale = \"thermal\"\n",
    "plotlyData += Plotly.DataByTopology(faceCluster, faceOpacity=1, faceGroupKey=\"value\",\n",
    "                              faceLabelKey=\"label\", faceGroups=values,\n",
    "                              colorScale=colorScale)\n",
    "# Create a Plotly Figure\n",
    "figure = Plotly.FigureByData(plotlyData, width=800, height=600)\n",
    "\n",
    "# Add a colorbar\n",
    "figure = Plotly.AddColorBar(figure, values=values, width=30, outlineWidth=1,\n",
    "                            nTicks=len(values), title=tableName, subTitle=columnName,\n",
    "                            units=units, colorScale=colorScale, mantissa=2)\n",
    "# Show plotly figure\n",
    "Plotly.Show(figure)\n",
    "print(\"\\nDONE\")"
   ]
  }
 ],
 "metadata": {
  "kernelspec": {
   "display_name": "Python 3",
   "language": "python",
   "name": "python3"
  },
  "language_info": {
   "codemirror_mode": {
    "name": "ipython",
    "version": 3
   },
   "file_extension": ".py",
   "mimetype": "text/x-python",
   "name": "python",
   "nbconvert_exporter": "python",
   "pygments_lexer": "ipython3",
   "version": "3.11.9"
  }
 },
 "nbformat": 4,
 "nbformat_minor": 5
}
