{
 "cells": [
  {
   "cell_type": "markdown",
   "id": "7fe34a27",
   "metadata": {},
   "source": [
    "## Graph Booleans"
   ]
  },
  {
   "cell_type": "code",
   "execution_count": null,
   "id": "8b07528e",
   "metadata": {},
   "outputs": [],
   "source": [
    "# Import TopologicPy modules. This is not needed on other computers\n",
    "import sys\n",
    "sys.path.append(\"C:/Users/sarwj/OneDrive - Cardiff University/Documents/GitHub/topologicpy/src\")"
   ]
  },
  {
   "cell_type": "code",
   "execution_count": null,
   "id": "52962a74",
   "metadata": {},
   "outputs": [],
   "source": [
    "from topologicpy.Vertex import Vertex\n",
    "from topologicpy.Edge import Edge\n",
    "from topologicpy.CellComplex import CellComplex\n",
    "from topologicpy.Topology import Topology\n",
    "from topologicpy.Graph import Graph\n",
    "from topologicpy.Plotly import Plotly\n",
    "from topologicpy.Dictionary import Dictionary\n",
    "print(\"TopologicPy Libraries imported.\")"
   ]
  },
  {
   "cell_type": "code",
   "execution_count": null,
   "id": "429715ce",
   "metadata": {},
   "outputs": [],
   "source": [
    "# Step 1: Base graph\n",
    "topology = CellComplex.Prism()\n",
    "g1 = Graph.ByTopology(topology, toExteriorTopologies=True)\n",
    "\n",
    "# Give each vertex in the graph a unique sequential id and a blue color.\n",
    "verts1 = Graph.Vertices(g1)\n",
    "for i, v in enumerate(verts1):\n",
    "    d = Dictionary.ByKeysValues([\"id\", \"color\"], [str(i+5), \"blue\"])\n",
    "    v = Topology.SetDictionary(v, d)\n",
    "\n",
    "# Create a second graph by moving the vertices and edges to a new location.\n",
    "verts2 = [Topology.Translate(v, 2, 0, 0) for v in verts1]\n",
    "e1 = Graph.Edges(g1)\n",
    "edges2 = [Topology.Translate(e, 2, 0, 0) for e in e1]\n",
    "\n",
    "# Remove 15 random vertices (and edges) from g1\n",
    "for i in range(15):\n",
    "    g1 = Graph.RemoveVertex(g1, verts1[0])\n",
    "\n",
    "g1 = Graph.RemoveIsolatedVertices(g1)\n",
    "verts1 = Graph.Vertices(g1)\n",
    "e1 = Graph.Edges(g1)\n",
    "\n",
    "\n",
    "# Get the mesh data of g1 to reconstruct it later on.\n",
    "mesh_data = Graph.MeshData(g1)\n",
    "edges1 = mesh_data['edges']\n",
    "vert_dicts1 = mesh_data['vertexDictionaries']\n",
    "edge_dicts1 = mesh_data['edgeDictionaries']\n",
    "\n",
    "\n",
    "g2 = Graph.ByVerticesEdges(verts2, edges2)\n",
    "verts2 = Graph.Vertices(g2)\n",
    "edges2 = Graph.Edges(g2)\n",
    "\n",
    "\n",
    "# Add parent key to vertex and edge dictionaries:\n",
    "vertices_g1 = Graph.Vertices(g1)\n",
    "edges_g1 = Graph.Edges(g1)\n",
    "both = vertices_g1+edges_g1\n",
    "for b in both:\n",
    "    d = Topology.Dictionary(b)\n",
    "    d = Dictionary.SetValueAtKey(d, \"parent\", \"g1\")\n",
    "    b = Topology.SetDictionary(b, d)\n",
    "\n",
    "vertices_g2 = Graph.Vertices(g2)\n",
    "edges_g2 = Graph.Edges(g2)\n",
    "both = vertices_g2+edges_g2\n",
    "for b in both:\n",
    "    d = Topology.Dictionary(b)\n",
    "    d = Dictionary.SetValueAtKey(d, \"parent\", \"g2\")\n",
    "    b = Topology.SetDictionary(b, d)\n",
    "\n",
    "# Add an extra random edge to g1\n",
    "vertices = Graph.Vertices(g1)\n",
    "v1 = vertices[0]\n",
    "v2 = Topology.Translate(v1, 0.2, -0.4, -0.3)\n",
    "d = Topology.Dictionary(v1)\n",
    "d = Dictionary.SetValuesAtKeys(d, [\"parent\",\"id\"], [\"g1\",len(vertices_g2)])\n",
    "v2 = Topology.SetDictionary(v2, d)\n",
    "e = Edge.ByVertices(v1, v2)\n",
    "d = Dictionary.ByKeysValues(['category', 'parent', 'relationship'], [100, 'g1', 'Undefined'])\n",
    "e = Topology.SetDictionary(e, d)\n",
    "g1 = Graph.AddEdge(g1, e, transferEdgeDictionaries= True)\n",
    "\n",
    "# Step 3: Show the two graphs\n",
    "p1 = Plotly.DataByGraph(g1, edgeWidth=2, vertexSizeKey=\"id\", vertexColorKey=\"color\", vertexBorderColorKey=\"color\")\n",
    "p2 = Plotly.DataByGraph(g2, edgeWidth=2, vertexSizeKey=\"id\", vertexColorKey=\"color\", vertexBorderColorKey=\"color\")\n",
    "figure = Plotly.FigureByData(p1+p2)\n",
    "Plotly.Show(figure)"
   ]
  },
  {
   "cell_type": "code",
   "execution_count": null,
   "id": "4f4c1d92",
   "metadata": {},
   "outputs": [],
   "source": [
    "from topologicpy.Dictionary import Dictionary\n",
    "from topologicpy.Topology import Topology\n",
    "from topologicpy.Graph import Graph\n",
    "\n",
    "u_1 = Graph.Union(g1, g2, vertexKey=\"id\")\n",
    "vertices = Graph.Vertices(u_1)\n",
    "print(\"Vertices:\")\n",
    "for v in vertices:\n",
    "    d = Topology.Dictionary(v)\n",
    "    print(\" \", Dictionary.Keys(d), Dictionary.Values(d))\n",
    "\n",
    "edges = Graph.Edges(u_1)\n",
    "print(\"Edges:\")\n",
    "for e in edges:\n",
    "    d = Topology.Dictionary(e)\n",
    "    print(\" \", Dictionary.Keys(d), Dictionary.Values(d))\n",
    "Topology.Show(u_1, vertexSizeKey=\"id\")"
   ]
  }
 ],
 "metadata": {
  "kernelspec": {
   "display_name": "Python 3",
   "language": "python",
   "name": "python3"
  },
  "language_info": {
   "codemirror_mode": {
    "name": "ipython",
    "version": 3
   },
   "file_extension": ".py",
   "mimetype": "text/x-python",
   "name": "python",
   "nbconvert_exporter": "python",
   "pygments_lexer": "ipython3",
   "version": "3.11.9"
  }
 },
 "nbformat": 4,
 "nbformat_minor": 5
}
