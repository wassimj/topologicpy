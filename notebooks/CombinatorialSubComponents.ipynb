{
 "cells": [
  {
   "cell_type": "markdown",
   "id": "81a5f751",
   "metadata": {},
   "source": [
    "## Generating Combinatorial Sub-Components from Connected Topologies and Graphs\n",
    "\n",
    "This tutorial demonstrates how to generate multiple sub-components from a connected topology  \n",
    "(e.g., `Graph`, `CellComplex`, `Cell`, `Shell`, or `Wire`). A `Cluster` can also be used,  \n",
    "but you must specify the sub-topology type explicitly. However, using a `Cluster` is best avoided if possible.\n",
    "\n",
    "If not specified otherwise using `Cluster` sub-components will be of a topology type based on the following \n",
    "The generated sub-components can vary in size, controlled by the `minSize` and `maxSize` parameters.  \n",
    "You can specify the maximum number of combinations using `maxCombinations`  \n",
    "(*note: this number is not guaranteed to be reached*).  \n",
    "The `timeLimit` parameter (in seconds) sets the maximum duration allowed for the operation.\n",
    "\n",
    "As much as possible, the resulting combinations will be balanced across the range of possible member sizes."
   ]
  },
  {
   "cell_type": "code",
   "execution_count": null,
   "id": "fe75f63c",
   "metadata": {},
   "outputs": [],
   "source": [
    "# Import TopologicPy modules. This is not needed on other computers\n",
    "import sys\n",
    "sys.path.append(\"C:/Users/sarwj/OneDrive - Cardiff University/Documents/GitHub/topologicpy/src\")\n",
    "\n"
   ]
  },
  {
   "cell_type": "markdown",
   "id": "9d804b64",
   "metadata": {},
   "source": [
    "## Import all the required libraries"
   ]
  },
  {
   "cell_type": "code",
   "execution_count": null,
   "id": "22571bdc",
   "metadata": {},
   "outputs": [],
   "source": [
    "from topologicpy.Helper import Helper\n",
    "from topologicpy.Topology import Topology\n",
    "from topologicpy.Cluster import Cluster\n",
    "from topologicpy.CellComplex import CellComplex\n",
    "from topologicpy.Cell import Cell\n",
    "from topologicpy.Shell import Shell\n",
    "from topologicpy.Wire import Wire\n",
    "from topologicpy.Graph import Graph\n",
    "from topologicpy.Plotly import Plotly\n",
    "print(\"TopologicPy Libraries imported.\")"
   ]
  },
  {
   "cell_type": "markdown",
   "id": "bc2b31ed",
   "metadata": {},
   "source": [
    "## Make sure you have the latest version from PyPi"
   ]
  },
  {
   "cell_type": "code",
   "execution_count": null,
   "id": "259a9b47",
   "metadata": {},
   "outputs": [],
   "source": [
    "# Print the topologicpy version\n",
    "print(\"This version requires TopologicPy v0.8.35 or newer.\")\n",
    "print(Helper.Version())"
   ]
  },
  {
   "cell_type": "markdown",
   "id": "cae00334",
   "metadata": {},
   "source": [
    "### Generate SubCombinations of a CellComplex"
   ]
  },
  {
   "cell_type": "code",
   "execution_count": null,
   "id": "1ac47dd5",
   "metadata": {},
   "outputs": [],
   "source": [
    "from topologicpy.CellComplex import CellComplex\n",
    "\n",
    "cc = CellComplex.Prism(uSides=3, vSides=3, wSides=3)\n",
    "Topology.Show(cc, width=500, height=500)"
   ]
  },
  {
   "cell_type": "code",
   "execution_count": null,
   "id": "132e64a8",
   "metadata": {},
   "outputs": [],
   "source": [
    "# Create a list of combinations. This will be a list of CellComplexes that are sub topologies of the above cellComplex.\n",
    "# Note: The time limit applies only to generating the numeric combinations, not the actual cellComplexes. So the operation\n",
    "# may take longer than the specified timeLimit parameter.\n",
    "cc_combinations = Topology.SubCombinations(\n",
    "    cc,\n",
    "    minSize = 2,\n",
    "    maxSize = 6,\n",
    "    maxCombinations=10,\n",
    "    timeLimit=30\n",
    "    )\n",
    "\n",
    "print(f\"Generated {len(cc_combinations)} cellComplex combinations.\")"
   ]
  },
  {
   "cell_type": "code",
   "execution_count": null,
   "id": "d969e7eb",
   "metadata": {},
   "outputs": [],
   "source": [
    "# Display a cellComplex combination. Choose an number for \"n\" below\n",
    "\n",
    "n = 4\n",
    "\n",
    "# Do not change the code below this line\n",
    "n = max(min(n, len(cc_combinations)-1),0)\n",
    "d1 = Plotly.DataByTopology(Cluster.ByTopologies(Topology.Edges(cc)))\n",
    "d2 = Plotly.DataByTopology(cc_combinations[n], faceColor=\"beige\", faceOpacity=1)\n",
    "figure = Plotly.FigureByData(d1+d2, width=500, height=500)\n",
    "Plotly.Show(figure)"
   ]
  },
  {
   "cell_type": "markdown",
   "id": "37fa6e5a",
   "metadata": {},
   "source": [
    "### Let's do the same but use `faces` instead of `cells`. This will create `shells`"
   ]
  },
  {
   "cell_type": "code",
   "execution_count": null,
   "id": "d272fe3c",
   "metadata": {},
   "outputs": [],
   "source": [
    "# Create a list of combinations. This will be a list of CellComplexes that are sub topologies of the above cellComplex.\n",
    "# Note: The time limit applies only to generating the numeric combinations, not the actual cellComplexes. So the operation\n",
    "# may take longer than the specified timeLimit parameter.\n",
    "shell_combinations = Topology.SubCombinations(\n",
    "    cc,\n",
    "    minSize = 2,\n",
    "    maxSize = 6,\n",
    "    maxCombinations=10,\n",
    "    subTopologyType=\"face\",\n",
    "    timeLimit=30\n",
    "    )\n",
    "\n",
    "# Sometimes we get Clusters, so ensure we get Shells.\n",
    "shell_combinations = [Shell.ByFaces(Topology.Faces(x)) for x in shell_combinations]\n",
    "print(f\"Generated {len(shell_combinations)} shell combinations.\")"
   ]
  },
  {
   "cell_type": "code",
   "execution_count": null,
   "id": "375b6761",
   "metadata": {},
   "outputs": [],
   "source": [
    "# Display a cellComplex combination. Choose an number for \"n\" below\n",
    "print(shell_combinations)\n",
    "n = 10\n",
    "\n",
    "# Do not change the code below this line\n",
    "n = max(min(n, len(shell_combinations)-1),0)\n",
    "d1 = Plotly.DataByTopology(Cluster.ByTopologies(Topology.Edges(cc)))\n",
    "d2 = Plotly.DataByTopology(shell_combinations[n], faceColor=\"beige\", faceOpacity=1)\n",
    "figure = Plotly.FigureByData(d1+d2, width=500, height=500)\n",
    "Plotly.Show(figure)"
   ]
  },
  {
   "cell_type": "markdown",
   "id": "2f208be1",
   "metadata": {},
   "source": [
    "### Let's do the same for a graph"
   ]
  },
  {
   "cell_type": "code",
   "execution_count": null,
   "id": "3acdac43",
   "metadata": {},
   "outputs": [],
   "source": [
    "graph = Graph.ByTopology(cc, toExteriorTopologies=True)\n",
    "Topology.Show(graph, width=500, height=500, vertexSize=4)"
   ]
  },
  {
   "cell_type": "code",
   "execution_count": null,
   "id": "1bc2edde",
   "metadata": {},
   "outputs": [],
   "source": [
    "# For a graph, minSize and maxSize refer to vertices. However, when we include the edges, additional vertices may be added.\n",
    "graph_combinations = Topology.SubCombinations(\n",
    "    graph,\n",
    "    minSize = 2,\n",
    "    maxSize = 8,\n",
    "    maxCombinations=50,\n",
    "    timeLimit=60,\n",
    "    removeCoplanarFaces = True\n",
    ")\n",
    "\n",
    "print(f\"Generated {len(graph_combinations)} sub-graph combinations.\")"
   ]
  },
  {
   "cell_type": "code",
   "execution_count": null,
   "id": "72f350a5",
   "metadata": {},
   "outputs": [],
   "source": [
    "# Display a sub-graph combination. Choose an number for \"n\" below\n",
    "n = 10\n",
    "\n",
    "# Do not change the code below this line\n",
    "n = max(min(n, len(graph_combinations)-1),0)\n",
    "d1 = Plotly.DataByGraph(graph, vertexSize=4)\n",
    "d2 = Plotly.DataByGraph(graph_combinations[n], edgeColor=\"black\", edgeWidth=5, vertexSize=8, vertexColor=\"blue\")\n",
    "figure = Plotly.FigureByData(d1+d2, width=500, height=500)\n",
    "Plotly.Show(figure)"
   ]
  }
 ],
 "metadata": {
  "kernelspec": {
   "display_name": "Python 3",
   "language": "python",
   "name": "python3"
  },
  "language_info": {
   "codemirror_mode": {
    "name": "ipython",
    "version": 3
   },
   "file_extension": ".py",
   "mimetype": "text/x-python",
   "name": "python",
   "nbconvert_exporter": "python",
   "pygments_lexer": "ipython3",
   "version": "3.11.9"
  }
 },
 "nbformat": 4,
 "nbformat_minor": 5
}
