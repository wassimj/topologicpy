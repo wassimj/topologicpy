{
 "cells": [
  {
   "cell_type": "code",
   "execution_count": null,
   "id": "ff65158d",
   "metadata": {},
   "outputs": [],
   "source": [
    "# You don't need these two lines if you have pip installed topologicpy\n",
    "import sys\n",
    "sys.path.append(\"C:/Users/sarwj/OneDrive - Cardiff University/Documents/GitHub/topologicpy/src\")"
   ]
  },
  {
   "cell_type": "markdown",
   "id": "542e2a81",
   "metadata": {},
   "source": [
    "## Import the needed classes"
   ]
  },
  {
   "cell_type": "code",
   "execution_count": null,
   "id": "ff96bdd9",
   "metadata": {},
   "outputs": [],
   "source": [
    "from topologicpy.Vertex import Vertex\n",
    "from topologicpy.Edge import Edge\n",
    "from topologicpy.Topology import Topology\n",
    "from topologicpy.CellComplex import CellComplex\n",
    "from topologicpy.Graph import Graph\n",
    "from topologicpy.Kuzu import Kuzu\n",
    "from topologicpy.Dictionary import Dictionary\n",
    "from topologicpy.Helper import Helper"
   ]
  },
  {
   "cell_type": "markdown",
   "id": "f0a01d53",
   "metadata": {},
   "source": [
    "## Check Software Versions"
   ]
  },
  {
   "cell_type": "code",
   "execution_count": null,
   "id": "6c75b381",
   "metadata": {},
   "outputs": [],
   "source": [
    "import sys\n",
    "print(\"This workflow was designed and verified to work with python 3.11 and TopologicPy 0.8.58.\\n\")\n",
    "py_version = sys.version.split()[0]\n",
    "print(\"Python version:\", py_version)\n",
    "\n",
    "print(\"TopologicPy Version:\", Helper.Version(check=False))\n",
    "print(\" \")\n",
    "print(\"TopologicPy Version:\", Helper.Version(check=True))\n",
    "print(\"\\nDONE\")"
   ]
  },
  {
   "cell_type": "markdown",
   "id": "1e10caff",
   "metadata": {},
   "source": [
    "## Create a sample graph"
   ]
  },
  {
   "cell_type": "code",
   "execution_count": null,
   "id": "f3f1ef49",
   "metadata": {},
   "outputs": [],
   "source": [
    "c = CellComplex.Prism(uSides=3, vSides=3, wSides=3)\n",
    "sample_graph = Graph.ByTopology(c, toExteriorTopologies=False)\n",
    "# Set a graph_id\n",
    "d = Dictionary.ByKeysValues([\"graph_id\", \"title\"], [1, \"Sample Graph\"])\n",
    "sample_graph = Topology.SetDictionary(sample_graph, d)\n",
    "vertices = Graph.Vertices(sample_graph)\n",
    "for i, v in enumerate(vertices):\n",
    "    d = Dictionary.ByKeyValue(\"label\", str(i+1))\n",
    "    v = Topology.SetDictionary(v, d)\n",
    "Topology.Show(sample_graph, vertexSize=12, showVertexLabel=True, vertexLabelKey=\"label\")\n",
    "print(\"\\nDone\")"
   ]
  },
  {
   "cell_type": "markdown",
   "id": "5da4599f",
   "metadata": {},
   "source": [
    "## Create an Induced Subgraph from 10 of the vertices"
   ]
  },
  {
   "cell_type": "code",
   "execution_count": null,
   "id": "d2cac97e",
   "metadata": {},
   "outputs": [],
   "source": [
    "from topologicpy.Vertex import Vertex\n",
    "from topologicpy.Edge import Edge\n",
    "\n",
    "vertices = Graph.Vertices(sample_graph)[:10]\n",
    "induced_g = Graph.InducedSubgraph(sample_graph, vertices, strict=True)\n",
    "Topology.Show(induced_g, vertexSize=12, showVertexLabel=True, vertexLabelKey=\"label\")\n"
   ]
  },
  {
   "cell_type": "markdown",
   "id": "67609de2",
   "metadata": {},
   "source": [
    "## Create a K-Hops Subgraph of the Sample Graph"
   ]
  },
  {
   "cell_type": "code",
   "execution_count": null,
   "id": "c2191b36",
   "metadata": {},
   "outputs": [],
   "source": [
    "vertices = Graph.Vertices(sample_graph)[0:1]\n",
    "sub_graph = Graph.KHopsSubgraph(sample_graph, vertices, k=2)\n",
    "# Set a graph_id\n",
    "d = Dictionary.ByKeysValues([\"graph_id\", \"title\"], [2, \"Sub Graph\"])\n",
    "sub_graph = Topology.SetDictionary(sub_graph, d)\n",
    "Topology.Show(sub_graph, vertexSize=12, showVertexLabel=True, vertexLabelKey=\"label\")"
   ]
  },
  {
   "cell_type": "markdown",
   "id": "4f9b95ca",
   "metadata": {},
   "source": [
    "## Specify the Kuzu database file path (usually the name ends with .kuzu) and initialize the Database manager."
   ]
  },
  {
   "cell_type": "code",
   "execution_count": null,
   "id": "9fe8a581",
   "metadata": {},
   "outputs": [],
   "source": [
    "# Your database will be created and maintained at the following db_path\n",
    "db_path = r\"C:\\Users\\sarwj\\OneDrive - Cardiff University\\Desktop\\Test01.kuzu\"\n",
    "manager = Kuzu.Manager(db_path)\n",
    "print(\"\\nDone\")"
   ]
  },
  {
   "cell_type": "markdown",
   "id": "690fd314",
   "metadata": {},
   "source": [
    "## Empty the database (especially if you are repeatedly testing this workflow)"
   ]
  },
  {
   "cell_type": "code",
   "execution_count": null,
   "id": "f3872a4e",
   "metadata": {},
   "outputs": [],
   "source": [
    "status = Kuzu.EmptyDatabase(manager)\n",
    "if status:\n",
    "    print(\"The Kuzu database has been successfully emptied.\")\n",
    "else:\n",
    "    print(\"Emptying the Kuzu database has failed.\")\n",
    "print(\"\\nDone\")"
   ]
  },
  {
   "cell_type": "markdown",
   "id": "85572ede",
   "metadata": {},
   "source": [
    "## Upsert the sample topologic graph and subgraph to the Kuzu database\n",
    "(Upsert is a portmanteau of \"update\" and \"insert\".  Upsert is a database operation that inserts a new record into a table if a record with a matching key doesn't exist, or updates an existing record if a match is found)"
   ]
  },
  {
   "cell_type": "code",
   "execution_count": null,
   "id": "9399bdb4",
   "metadata": {},
   "outputs": [],
   "source": [
    "graph_id1 = Kuzu.UpsertGraph(manager, sample_graph, graphIDKey=\"graph_id\")\n",
    "print(\"Graph ID:\", graph_id1, \"has been upserted to the Kuzu database\")\n",
    "graph_id2 = Kuzu.UpsertGraph(manager, sub_graph, graphIDKey=\"graph_id\")\n",
    "print(\"Graph ID:\", graph_id2, \"has been upserted to the Kuzu database\")\n",
    "print(\"\\nDone\")"
   ]
  },
  {
   "cell_type": "markdown",
   "id": "a4a158ae",
   "metadata": {},
   "source": [
    "## List all current Graph Cards"
   ]
  },
  {
   "cell_type": "code",
   "execution_count": null,
   "id": "7d3fc92e",
   "metadata": {},
   "outputs": [],
   "source": [
    "cards = Kuzu.ListGraphs(manager)\n",
    "print(\"The Kuzu database contains:\", len(cards), \"graphs.\")\n",
    "for card in cards:\n",
    "    print(card)"
   ]
  },
  {
   "cell_type": "markdown",
   "id": "d286450d",
   "metadata": {},
   "source": [
    "## Retrieve the graphs back through their id."
   ]
  },
  {
   "cell_type": "code",
   "execution_count": null,
   "id": "746d58c4",
   "metadata": {},
   "outputs": [],
   "source": [
    "graph_ids = [card['id'] for card in cards]\n",
    "print(\"Graph IDs:\", graph_ids)\n",
    "new_graphs = []\n",
    "for graph_id in graph_ids:\n",
    "    new_graph = Kuzu.GraphByID(manager, graph_id)\n",
    "    new_graphs.append(new_graph)\n",
    "    Topology.Show(new_graph, vertexSize=12, showVertexLabel=True, vertexLabelKey=\"label\")\n",
    "print(\"\\nDone\")"
   ]
  },
  {
   "cell_type": "markdown",
   "id": "7568beb5",
   "metadata": {},
   "source": [
    "## Check the graph dictionary"
   ]
  },
  {
   "cell_type": "code",
   "execution_count": null,
   "id": "1d05074d",
   "metadata": {},
   "outputs": [],
   "source": [
    "for new_graph in new_graphs:\n",
    "    g_dict = Topology.Dictionary(new_graph)\n",
    "    print(Dictionary.Keys(g_dict), Dictionary.Values(g_dict))\n",
    "print(\"\\nDone\")"
   ]
  },
  {
   "cell_type": "markdown",
   "id": "f726a128",
   "metadata": {},
   "source": [
    "## Check the vertices dictionaries of the Subgraph"
   ]
  },
  {
   "cell_type": "code",
   "execution_count": null,
   "id": "cc04db51",
   "metadata": {},
   "outputs": [],
   "source": [
    "vertices = Graph.Vertices(new_graphs[1], sortBy=None)\n",
    "for v in vertices:\n",
    "    v_dict = Topology.Dictionary(v)\n",
    "    print(Dictionary.Keys(v_dict), Dictionary.Values(v_dict))\n",
    "print(\"\\nDone\")"
   ]
  },
  {
   "cell_type": "markdown",
   "id": "fd827941",
   "metadata": {},
   "source": [
    "## Check the edge dictionaries of the subgraph"
   ]
  },
  {
   "cell_type": "code",
   "execution_count": null,
   "id": "081098af",
   "metadata": {},
   "outputs": [],
   "source": [
    "edges = Graph.Edges(new_graphs[1], sortBy=\"label\", reverse=True)\n",
    "for e in edges:\n",
    "    e_dict = Topology.Dictionary(e)\n",
    "    print(Dictionary.Keys(e_dict), Dictionary.Values(e_dict))\n",
    "print(\"\\nDone\")"
   ]
  },
  {
   "cell_type": "markdown",
   "id": "61abacf4",
   "metadata": {},
   "source": [
    "## Try ByCSV Files\n",
    "You can load topologic graphs (created for machine learning) that are saved in CSV format. See Graph.ByCSVPath. Try Kuzu.ByCSVPath on your own"
   ]
  },
  {
   "cell_type": "code",
   "execution_count": null,
   "id": "1f42a933",
   "metadata": {},
   "outputs": [],
   "source": [
    "csv_path = \"INPUT YOUR CSV FOLDER PATH HERE\"\n",
    "\n",
    "status = Kuzu.EmptyDatabase(manager)\n",
    "if status:\n",
    "    print(\"The Kuzu database has been successfully emptied.\")\n",
    "else:\n",
    "    print(\"Emptying the Kuzu database has failed.\")\n",
    "print(\"\\nDone\")\n",
    "\n",
    "_ = Kuzu.ByCSVPath(manager, csv_path)\n",
    "cards = Kuzu.ListGraphs(manager)\n",
    "print(\"The Kuzu database contains:\", len(cards), \"graphs.\")\n",
    "print(\"Printing up to 10 cards or the total number of cards whichever is less.\")\n",
    "for card in min(len(cards), 10):\n",
    "    print(card)"
   ]
  }
 ],
 "metadata": {
  "kernelspec": {
   "display_name": "Python 3",
   "language": "python",
   "name": "python3"
  },
  "language_info": {
   "codemirror_mode": {
    "name": "ipython",
    "version": 3
   },
   "file_extension": ".py",
   "mimetype": "text/x-python",
   "name": "python",
   "nbconvert_exporter": "python",
   "pygments_lexer": "ipython3",
   "version": "3.11.9"
  }
 },
 "nbformat": 4,
 "nbformat_minor": 5
}
