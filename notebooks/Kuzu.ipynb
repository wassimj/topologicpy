{
 "cells": [
  {
   "cell_type": "code",
   "execution_count": null,
   "id": "ff65158d",
   "metadata": {},
   "outputs": [],
   "source": [
    "# You don't need these two lines if you have pip installed topologicpy\n",
    "import sys\n",
    "sys.path.append(\"C:/Users/sarwj/OneDrive - Cardiff University/Documents/GitHub/topologicpy/src\")"
   ]
  },
  {
   "cell_type": "markdown",
   "id": "542e2a81",
   "metadata": {},
   "source": [
    "## Import the needed classes"
   ]
  },
  {
   "cell_type": "code",
   "execution_count": null,
   "id": "ff96bdd9",
   "metadata": {},
   "outputs": [],
   "source": [
    "from topologicpy.Topology import Topology\n",
    "from topologicpy.CellComplex import CellComplex\n",
    "from topologicpy.Graph import Graph\n",
    "from topologicpy.Kuzu import Kuzu\n",
    "from topologicpy.Dictionary import Dictionary\n",
    "from topologicpy.Helper import Helper"
   ]
  },
  {
   "cell_type": "markdown",
   "id": "f0a01d53",
   "metadata": {},
   "source": [
    "## Check Software Versions"
   ]
  },
  {
   "cell_type": "code",
   "execution_count": null,
   "id": "6c75b381",
   "metadata": {},
   "outputs": [],
   "source": [
    "import sys\n",
    "print(\"This workflow was designed and verified to work with python 3.11 and TopologicPy 0.8.56.\\n\")\n",
    "py_version = sys.version.split()[0]\n",
    "print(\"Python version:\", py_version)\n",
    "\n",
    "print(\"TopologicPy Version:\", Helper.Version(check=False))\n",
    "print(\" \")\n",
    "print(\"TopologicPy Version:\", Helper.Version(check=True))\n",
    "print(\"\\nDONE\")"
   ]
  },
  {
   "cell_type": "markdown",
   "id": "1e10caff",
   "metadata": {},
   "source": [
    "## Create a sample graph"
   ]
  },
  {
   "cell_type": "code",
   "execution_count": null,
   "id": "f3f1ef49",
   "metadata": {},
   "outputs": [],
   "source": [
    "c = CellComplex.Prism()\n",
    "g = Graph.ByTopology(c, toExteriorTopologies=True)\n",
    "# Set a graph_id\n",
    "d = Dictionary.ByKeysValues([\"graph_id\", \"title\"], [1, \"Sample Graph\"])\n",
    "g = Topology.SetDictionary(g, d)\n",
    "Topology.Show(g, vertexSize=12)\n",
    "print(\"\\nDone\")"
   ]
  },
  {
   "cell_type": "markdown",
   "id": "4f9b95ca",
   "metadata": {},
   "source": [
    "## Specify the Kuzu database file path (usually the name ends with .kuzu)"
   ]
  },
  {
   "cell_type": "code",
   "execution_count": null,
   "id": "9fe8a581",
   "metadata": {},
   "outputs": [],
   "source": [
    "db_path = r\"C:\\Users\\sarwj\\OneDrive - Cardiff University\\Desktop\\Test01.kuzu\"\n",
    "print(\"\\nDone\")"
   ]
  },
  {
   "cell_type": "markdown",
   "id": "690fd314",
   "metadata": {},
   "source": [
    "## Empty the database (especially if you are repeatedly testing this workflow)"
   ]
  },
  {
   "cell_type": "code",
   "execution_count": null,
   "id": "f3872a4e",
   "metadata": {},
   "outputs": [],
   "source": [
    "status = Kuzu.EmptyDatabase(db_path)\n",
    "if status:\n",
    "    print(\"The Kuzu database has been emptied.\")\n",
    "else:\n",
    "    print(\"Emptying the Kuzu database has failed.\")\n",
    "print(\"\\nDone\")"
   ]
  },
  {
   "cell_type": "markdown",
   "id": "85572ede",
   "metadata": {},
   "source": [
    "## Upsert the sample topologic graph to the Kuzu database\n",
    "(Upsert is a portmanteau of \"update\" and \"insert\".  Upsert is a database operation that inserts a new record into a table if a record with a matching key doesn't exist, or updates an existing record if a match is found)"
   ]
  },
  {
   "cell_type": "code",
   "execution_count": null,
   "id": "9399bdb4",
   "metadata": {},
   "outputs": [],
   "source": [
    "graph_id = Kuzu.UpsertGraph(db_path, g, graphIDKey=\"graph_id\")\n",
    "print(\"Graph ID:\", graph_id, \"has been upserted to the Kuzu database\")\n",
    "print(\"\\nDone\")"
   ]
  },
  {
   "cell_type": "markdown",
   "id": "d286450d",
   "metadata": {},
   "source": [
    "## Retrieve the graph back through its id."
   ]
  },
  {
   "cell_type": "code",
   "execution_count": null,
   "id": "746d58c4",
   "metadata": {},
   "outputs": [],
   "source": [
    "new_g = Kuzu.GraphByID(db_path, graph_id)\n",
    "print(new_g)\n",
    "Topology.Show(new_g, vertexSize=12)\n",
    "print(\"\\nDone\")"
   ]
  },
  {
   "cell_type": "markdown",
   "id": "7568beb5",
   "metadata": {},
   "source": [
    "## Check the graph dictionary"
   ]
  },
  {
   "cell_type": "code",
   "execution_count": null,
   "id": "1d05074d",
   "metadata": {},
   "outputs": [],
   "source": [
    "g_dict = Topology.Dictionary(new_g)\n",
    "print(Dictionary.Keys(g_dict), Dictionary.Values(g_dict))\n",
    "print(\"\\nDone\")"
   ]
  },
  {
   "cell_type": "markdown",
   "id": "f726a128",
   "metadata": {},
   "source": [
    "## Check the vertices dictionaries"
   ]
  },
  {
   "cell_type": "code",
   "execution_count": null,
   "id": "cc04db51",
   "metadata": {},
   "outputs": [],
   "source": [
    "vertices = Graph.Vertices(new_g)\n",
    "for v in vertices:\n",
    "    v_dict = Topology.Dictionary(v)\n",
    "    print(Dictionary.Keys(v_dict), Dictionary.Values(v_dict))\n",
    "print(\"\\nDone\")"
   ]
  },
  {
   "cell_type": "markdown",
   "id": "fd827941",
   "metadata": {},
   "source": [
    "## Check the edge dictionaries"
   ]
  },
  {
   "cell_type": "code",
   "execution_count": null,
   "id": "081098af",
   "metadata": {},
   "outputs": [],
   "source": [
    "edges = Graph.Edges(new_g)\n",
    "for e in edges:\n",
    "    e_dict = Topology.Dictionary(e)\n",
    "    print(Dictionary.Keys(e_dict), Dictionary.Values(e_dict))\n",
    "print(\"\\nDone\")"
   ]
  }
 ],
 "metadata": {
  "kernelspec": {
   "display_name": "Python 3",
   "language": "python",
   "name": "python3"
  },
  "language_info": {
   "codemirror_mode": {
    "name": "ipython",
    "version": 3
   },
   "file_extension": ".py",
   "mimetype": "text/x-python",
   "name": "python",
   "nbconvert_exporter": "python",
   "pygments_lexer": "ipython3",
   "version": "3.11.9"
  }
 },
 "nbformat": 4,
 "nbformat_minor": 5
}
