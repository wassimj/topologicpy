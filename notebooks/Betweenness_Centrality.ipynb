{
 "cells": [
  {
   "cell_type": "markdown",
   "id": "f0f886d7",
   "metadata": {},
   "source": [
    "# Vertex and Edge Betweenness in Graph Theory\n",
    "- **Vertex Betweenness** is a centrality measure that quantifies the importance of a vertex in a graph. It is defined as the number of shortest paths between pairs of vertices that pass through a given vertex, normalized by the total number of shortest paths in the graph. Vertices with high betweenness often act as critical connectors or bottlenecks.\n",
    "\n",
    "- **Edge Betweenness** is similar to vertex betweenness but applies to edges. It measures the number of shortest paths between vertex pairs that traverse a specific edge. Edges with high betweenness typically represent critical links in the network.\n",
    "\n",
    "Both measures are useful for identifying key components in networks, such as influencers in social networks or weak points in infrastructure systems."
   ]
  },
  {
   "cell_type": "code",
   "execution_count": 1,
   "id": "ddb6a1c6-fbc5-4c99-b5c3-d2204c3f2feb",
   "metadata": {},
   "outputs": [
    {
     "name": "stdout",
     "output_type": "stream",
     "text": [
      "----------------------------------------------------------------------\n",
      "The version that you are using (0.7.98) is NEWER than the latest version (0.7.97) available from PyPI.\n",
      "----------------------------------------------------------------------\n",
      " \n",
      "Vertex Betweenness Scores: [0.058125, 0.86799, 0.0, 0.0, 1.0, 0.0, 0.0, 0.630657, 0.358666, 0.058125, 0.0, 0.417443, 0.616612, 0.0, 0.844733, 0.0, 0.750362, 0.0, 0.615596, 0.0, 0.591817, 0.227216, 0.816682, 0.898726]\n",
      "Edge Betweenness Scores: [0.090517, 0.0, 0.176724, 0.190014, 0.00431, 0.086566, 0.093391, 0.094828, 0.094828, 0.334411, 0.49569, 1.0, 0.360273, 0.287356, 0.094828, 0.094828, 0.715517, 0.306034, 0.163793, 0.090517, 0.094828, 0.439655, 0.08046, 0.094828, 0.192888, 0.038793, 0.08944, 0.094828, 0.077945, 0.094828, 0.094828, 0.922414, 0.155532]\n"
     ]
    },
    {
     "data": {
      "application/vnd.plotly.v1+json": {
       "config": {
        "plotlyServerURL": "https://plot.ly"
       },
       "data": [
        {
         "hoverinfo": "text",
         "hovertext": [
          "Special_Education_Room: 0.058125",
          "Corridor_2: 0.86799",
          "Corridor_5: 0.0",
          "Corridor_6: 0.0",
          "Sports_Field: 1.0",
          "Main_Entrance_Hall: 0.0",
          "Counseling_Office: 0.0",
          "Outdoor_Space: 0.630657",
          "Workshop: 0.358666",
          "Gymnasium: 0.058125",
          "Corridor_3: 0.0",
          "Cafeteria: 0.417443",
          "Daycare_Room: 0.616612",
          "Administrative_Office: 0.0",
          "Study_Room: 0.844733",
          "Library: 0.0",
          "High_School_Wing: 0.750362",
          "Corridor_4: 0.0",
          "Lobby: 0.615596",
          "Principals_Office: 0.0",
          "Swimming_Pool: 0.591817",
          "Kitchen: 0.227216",
          "Corridor_1: 0.816682",
          "Elementary_School: 0.898726"
         ],
         "legendgroup": "1",
         "legendrank": 1,
         "marker": {
          "color": [
           "#000000",
           "#000000",
           "#000000",
           "#000000",
           "#000000",
           "#000000",
           "#000000",
           "#000000",
           "#000000",
           "#000000",
           "#000000",
           "#000000",
           "#000000",
           "#000000",
           "#000000",
           "#000000",
           "#000000",
           "#000000",
           "#000000",
           "#000000",
           "#000000",
           "#000000",
           "#000000",
           "#000000"
          ],
          "opacity": 1,
          "size": [
           4.58125,
           12.6799,
           4,
           4,
           14,
           4,
           4,
           10.30657,
           7.58666,
           4.58125,
           4,
           8.174430000000001,
           10.16612,
           4,
           12.44733,
           4,
           11.50362,
           4,
           10.15596,
           4,
           9.91817,
           6.2721599999999995,
           12.16682,
           12.987260000000001
          ]
         },
         "mode": "markers+text",
         "name": "1: Untitled Graph (Vertices)",
         "showlegend": false,
         "text": [
          "Special_Education_Room: 0.058125",
          "Corridor_2: 0.86799",
          "Corridor_5: 0.0",
          "Corridor_6: 0.0",
          "Sports_Field: 1.0",
          "Main_Entrance_Hall: 0.0",
          "Counseling_Office: 0.0",
          "Outdoor_Space: 0.630657",
          "Workshop: 0.358666",
          "Gymnasium: 0.058125",
          "Corridor_3: 0.0",
          "Cafeteria: 0.417443",
          "Daycare_Room: 0.616612",
          "Administrative_Office: 0.0",
          "Study_Room: 0.844733",
          "Library: 0.0",
          "High_School_Wing: 0.750362",
          "Corridor_4: 0.0",
          "Lobby: 0.615596",
          "Principals_Office: 0.0",
          "Swimming_Pool: 0.591817",
          "Kitchen: 0.227216",
          "Corridor_1: 0.816682",
          "Elementary_School: 0.898726"
         ],
         "type": "scatter3d",
         "x": [
          1.140563,
          0.593099,
          -0.757157,
          0.756506,
          0.591174,
          -0.386704,
          1.183046,
          0.238152,
          0.68542,
          1.044483,
          0.77798,
          -0.183801,
          0.634412,
          1.056588,
          0.684049,
          0.874529,
          0.708981,
          -0.663489,
          0.979183,
          1.244423,
          0.789094,
          -0.506391,
          0.797848,
          0.520669
         ],
         "y": [
          1.568066,
          -0.014045,
          0.78626,
          -0.55996,
          0.472635,
          0.467432,
          1.264286,
          0.43026,
          -0.294203,
          1.627656,
          1.462845,
          0.569563,
          0.214425,
          -0.044811,
          -0.041671,
          1.60929,
          0.173332,
          0.967058,
          1.358686,
          1.434361,
          0.919952,
          0.772343,
          0.074606,
          0.199856
         ],
         "z": [
          0,
          0,
          0,
          0,
          0,
          0,
          0,
          0,
          0,
          0,
          0,
          0,
          0,
          0,
          0,
          0,
          0,
          0,
          0,
          0,
          0,
          0,
          0,
          0
         ]
        },
        {
         "hoverinfo": "text",
         "legendgroup": "2",
         "legendrank": 2,
         "line": {
          "color": "red",
          "width": 4.198275000000001
         },
         "marker": {
          "size": 1.0495687500000002,
          "symbol": "circle"
         },
         "mode": "markers+lines",
         "name": "1: Untitled Graph (Edges)",
         "showlegend": false,
         "text": "0.439655",
         "type": "scatter3d",
         "x": [
          -0.183801,
          -0.355235,
          null,
          -0.355235,
          -0.506391,
          null
         ],
         "y": [
          0.569563,
          0.654823,
          null,
          0.654823,
          0.772343,
          null
         ],
         "z": [
          0,
          0,
          null,
          0,
          0,
          null
         ]
        },
        {
         "hoverinfo": "text",
         "legendgroup": "2",
         "legendrank": 2,
         "line": {
          "color": "red",
          "width": 2.4472
         },
         "marker": {
          "size": 0.6118,
          "symbol": "circle"
         },
         "mode": "markers+lines",
         "name": "1: Untitled Graph (Edges)",
         "showlegend": false,
         "text": "0.08944",
         "type": "scatter3d",
         "x": [
          0.708981,
          0.707266,
          null,
          0.707266,
          0.684049,
          null
         ],
         "y": [
          0.173332,
          0.064584,
          null,
          0.064584,
          -0.041671,
          null
         ],
         "z": [
          0,
          0,
          null,
          0,
          0,
          null
         ]
        },
        {
         "hoverinfo": "text",
         "legendgroup": "2",
         "legendrank": 2,
         "line": {
          "color": "red",
          "width": 3.6720550000000003
         },
         "marker": {
          "size": 0.9180137500000001,
          "symbol": "circle"
         },
         "mode": "markers+lines",
         "name": "1: Untitled Graph (Edges)",
         "showlegend": false,
         "text": "0.334411",
         "type": "scatter3d",
         "x": [
          0.520669,
          0.542283,
          null,
          0.542283,
          0.591174,
          null
         ],
         "y": [
          0.199856,
          0.339771,
          null,
          0.339771,
          0.472635,
          null
         ],
         "z": [
          0,
          0,
          null,
          0,
          0,
          null
         ]
        },
        {
         "hoverinfo": "text",
         "legendgroup": "2",
         "legendrank": 2,
         "line": {
          "color": "red",
          "width": 2.4741400000000002
         },
         "marker": {
          "size": 0.6185350000000001,
          "symbol": "circle"
         },
         "mode": "markers+lines",
         "name": "1: Untitled Graph (Edges)",
         "showlegend": false,
         "text": "0.094828",
         "type": "scatter3d",
         "x": [
          -0.506391,
          -0.63247,
          null,
          -0.63247,
          -0.757157,
          null,
          0.68542,
          0.734251,
          null,
          0.734251,
          0.756506,
          null,
          -0.386704,
          -0.290359,
          null,
          -0.290359,
          -0.183801,
          null,
          0.979183,
          1.085835,
          null,
          1.085835,
          1.183046,
          null,
          0.979183,
          0.873374,
          null,
          0.873374,
          0.77798,
          null,
          0.797848,
          0.933189,
          null,
          0.933189,
          1.056588,
          null,
          0.874529,
          0.939387,
          null,
          0.939387,
          0.979183,
          null,
          -0.663489,
          -0.575204,
          null,
          -0.575204,
          -0.506391,
          null,
          0.979183,
          1.10802,
          null,
          1.10802,
          1.244423,
          null
         ],
         "y": [
          0.772343,
          0.766763,
          null,
          0.766763,
          0.78626,
          null,
          -0.294203,
          -0.423527,
          null,
          -0.423527,
          -0.55996,
          null,
          0.467432,
          0.528642,
          null,
          0.528642,
          0.569563,
          null,
          1.358686,
          1.321679,
          null,
          1.321679,
          1.264286,
          null,
          1.358686,
          1.400706,
          null,
          1.400706,
          1.462845,
          null,
          0.074606,
          0.027834,
          null,
          0.027834,
          -0.044811,
          null,
          1.60929,
          1.489221,
          null,
          1.489221,
          1.358686,
          null,
          0.967058,
          0.877555,
          null,
          0.877555,
          0.772343,
          null,
          1.358686,
          1.409786,
          null,
          1.409786,
          1.434361,
          null
         ],
         "z": [
          0,
          0,
          null,
          0,
          0,
          null,
          0,
          0,
          null,
          0,
          0,
          null,
          0,
          0,
          null,
          0,
          0,
          null,
          0,
          0,
          null,
          0,
          0,
          null,
          0,
          0,
          null,
          0,
          0,
          null,
          0,
          0,
          null,
          0,
          0,
          null,
          0,
          0,
          null,
          0,
          0,
          null,
          0,
          0,
          null,
          0,
          0,
          null,
          0,
          0,
          null,
          0,
          0,
          null
         ]
        },
        {
         "hoverinfo": "text",
         "legendgroup": "2",
         "legendrank": 2,
         "line": {
          "color": "red",
          "width": 5.577585
         },
         "marker": {
          "size": 1.39439625,
          "symbol": "circle"
         },
         "mode": "markers+lines",
         "name": "1: Untitled Graph (Edges)",
         "showlegend": false,
         "text": "0.715517",
         "type": "scatter3d",
         "x": [
          0.238152,
          0.020211,
          null,
          0.020211,
          -0.183801,
          null
         ],
         "y": [
          0.43026,
          0.478814,
          null,
          0.478814,
          0.569563,
          null
         ],
         "z": [
          0,
          0,
          null,
          0,
          0,
          null
         ]
        },
        {
         "hoverinfo": "text",
         "legendgroup": "2",
         "legendrank": 2,
         "line": {
          "color": "red",
          "width": 2.88362
         },
         "marker": {
          "size": 0.720905,
          "symbol": "circle"
         },
         "mode": "markers+lines",
         "name": "1: Untitled Graph (Edges)",
         "showlegend": false,
         "text": "0.176724",
         "type": "scatter3d",
         "x": [
          0.593099,
          0.653268,
          null,
          0.653268,
          0.68542,
          null
         ],
         "y": [
          -0.014045,
          -0.149508,
          null,
          -0.149508,
          -0.294203,
          null
         ],
         "z": [
          0,
          0,
          null,
          0,
          0,
          null
         ]
        },
        {
         "hoverinfo": "text",
         "legendgroup": "2",
         "legendrank": 2,
         "line": {
          "color": "red",
          "width": 2.77766
         },
         "marker": {
          "size": 0.694415,
          "symbol": "circle"
         },
         "mode": "markers+lines",
         "name": "1: Untitled Graph (Edges)",
         "showlegend": false,
         "text": "0.155532",
         "type": "scatter3d",
         "x": [
          0.520669,
          0.665521,
          null,
          0.665521,
          0.797848,
          null
         ],
         "y": [
          0.199856,
          0.15109,
          null,
          0.15109,
          0.074606,
          null
         ],
         "z": [
          0,
          0,
          null,
          0,
          0,
          null
         ]
        },
        {
         "hoverinfo": "text",
         "legendgroup": "2",
         "legendrank": 2,
         "line": {
          "color": "red",
          "width": 2.4023
         },
         "marker": {
          "size": 0.600575,
          "symbol": "circle"
         },
         "mode": "markers+lines",
         "name": "1: Untitled Graph (Edges)",
         "showlegend": false,
         "text": "0.08046",
         "type": "scatter3d",
         "x": [
          0.634412,
          0.723121,
          null,
          0.723121,
          0.797848,
          null
         ],
         "y": [
          0.214425,
          0.152687,
          null,
          0.152687,
          0.074606,
          null
         ],
         "z": [
          0,
          0,
          null,
          0,
          0,
          null
         ]
        },
        {
         "hoverinfo": "text",
         "legendgroup": "2",
         "legendrank": 2,
         "line": {
          "color": "red",
          "width": 2.389725
         },
         "marker": {
          "size": 0.59743125,
          "symbol": "circle"
         },
         "mode": "markers+lines",
         "name": "1: Untitled Graph (Edges)",
         "showlegend": false,
         "text": "0.077945",
         "type": "scatter3d",
         "x": [
          0.708981,
          0.758351,
          null,
          0.758351,
          0.797848,
          null
         ],
         "y": [
          0.173332,
          0.128412,
          null,
          0.128412,
          0.074606,
          null
         ],
         "z": [
          0,
          0,
          null,
          0,
          0,
          null
         ]
        },
        {
         "hoverinfo": "text",
         "legendgroup": "2",
         "legendrank": 2,
         "line": {
          "color": "red",
          "width": 3.801365
         },
         "marker": {
          "size": 0.95034125,
          "symbol": "circle"
         },
         "mode": "markers+lines",
         "name": "1: Untitled Graph (Edges)",
         "showlegend": false,
         "text": "0.360273",
         "type": "scatter3d",
         "x": [
          0.708981,
          0.635112,
          null,
          0.635112,
          0.591174,
          null
         ],
         "y": [
          0.173332,
          0.317093,
          null,
          0.317093,
          0.472635,
          null
         ],
         "z": [
          0,
          0,
          null,
          0,
          0,
          null
         ]
        },
        {
         "hoverinfo": "text",
         "legendgroup": "2",
         "legendrank": 2,
         "line": {
          "color": "red",
          "width": 4.4784500000000005
         },
         "marker": {
          "size": 1.1196125000000001,
          "symbol": "circle"
         },
         "mode": "markers+lines",
         "name": "1: Untitled Graph (Edges)",
         "showlegend": false,
         "text": "0.49569",
         "type": "scatter3d",
         "x": [
          0.238152,
          0.412544,
          null,
          0.412544,
          0.591174,
          null
         ],
         "y": [
          0.43026,
          0.469099,
          null,
          0.469099,
          0.472635,
          null
         ],
         "z": [
          0,
          0,
          null,
          0,
          0,
          null
         ]
        },
        {
         "hoverinfo": "text",
         "legendgroup": "2",
         "legendrank": 2,
         "line": {
          "color": "red",
          "width": 2.02155
         },
         "marker": {
          "size": 0.5053875,
          "symbol": "circle"
         },
         "mode": "markers+lines",
         "name": "1: Untitled Graph (Edges)",
         "showlegend": false,
         "text": "0.00431",
         "type": "scatter3d",
         "x": [
          0.684049,
          0.637193,
          null,
          0.637193,
          0.593099,
          null
         ],
         "y": [
          -0.041671,
          -0.032405,
          null,
          -0.032405,
          -0.014045,
          null
         ],
         "z": [
          0,
          0,
          null,
          0,
          0,
          null
         ]
        },
        {
         "hoverinfo": "text",
         "legendgroup": "2",
         "legendrank": 2,
         "line": {
          "color": "red",
          "width": 2.43283
         },
         "marker": {
          "size": 0.6082075,
          "symbol": "circle"
         },
         "mode": "markers+lines",
         "name": "1: Untitled Graph (Edges)",
         "showlegend": false,
         "text": "0.086566",
         "type": "scatter3d",
         "x": [
          0.708981,
          0.660409,
          null,
          0.660409,
          0.593099,
          null
         ],
         "y": [
          0.173332,
          0.07385,
          null,
          0.07385,
          -0.014045,
          null
         ],
         "z": [
          0,
          0,
          null,
          0,
          0,
          null
         ]
        },
        {
         "hoverinfo": "text",
         "legendgroup": "2",
         "legendrank": 2,
         "line": {
          "color": "red",
          "width": 2.466955
         },
         "marker": {
          "size": 0.61673875,
          "symbol": "circle"
         },
         "mode": "markers+lines",
         "name": "1: Untitled Graph (Edges)",
         "showlegend": false,
         "text": "0.093391",
         "type": "scatter3d",
         "x": [
          0.634412,
          0.625179,
          null,
          0.625179,
          0.593099,
          null
         ],
         "y": [
          0.214425,
          0.098124,
          null,
          0.098124,
          -0.014045,
          null
         ],
         "z": [
          0,
          0,
          null,
          0,
          0,
          null
         ]
        },
        {
         "hoverinfo": "text",
         "legendgroup": "2",
         "legendrank": 2,
         "line": {
          "color": "red",
          "width": 2.452585
         },
         "marker": {
          "size": 0.61314625,
          "symbol": "circle"
         },
         "mode": "markers+lines",
         "name": "1: Untitled Graph (Edges)",
         "showlegend": false,
         "text": "0.090517",
         "type": "scatter3d",
         "x": [
          1.140563,
          1.070342,
          null,
          1.070342,
          0.979183,
          null,
          1.044483,
          1.025281,
          null,
          1.025281,
          0.979183,
          null
         ],
         "y": [
          1.568066,
          1.455307,
          null,
          1.455307,
          1.358686,
          null,
          1.627656,
          1.489906,
          null,
          1.489906,
          1.358686,
          null
         ],
         "z": [
          0,
          0,
          null,
          0,
          0,
          null,
          0,
          0,
          null,
          0,
          0,
          null
         ]
        },
        {
         "hoverinfo": "text",
         "legendgroup": "2",
         "legendrank": 2,
         "line": {
          "color": "red",
          "width": 2.9644399999999997
         },
         "marker": {
          "size": 0.7411099999999999,
          "symbol": "circle"
         },
         "mode": "markers+lines",
         "name": "1: Untitled Graph (Edges)",
         "showlegend": false,
         "text": "0.192888",
         "type": "scatter3d",
         "x": [
          0.520669,
          0.614435,
          null,
          0.614435,
          0.684049,
          null
         ],
         "y": [
          0.199856,
          0.087261,
          null,
          0.087261,
          -0.041671,
          null
         ],
         "z": [
          0,
          0,
          null,
          0,
          0,
          null
         ]
        },
        {
         "hoverinfo": "text",
         "legendgroup": "2",
         "legendrank": 2,
         "line": {
          "color": "red",
          "width": 2.95007
         },
         "marker": {
          "size": 0.7375175,
          "symbol": "circle"
         },
         "mode": "markers+lines",
         "name": "1: Untitled Graph (Edges)",
         "showlegend": false,
         "text": "0.190014",
         "type": "scatter3d",
         "x": [
          0.520669,
          0.567579,
          null,
          0.567579,
          0.593099,
          null
         ],
         "y": [
          0.199856,
          0.096527,
          null,
          0.096527,
          -0.014045,
          null
         ],
         "z": [
          0,
          0,
          null,
          0,
          0,
          null
         ]
        },
        {
         "hoverinfo": "text",
         "legendgroup": "2",
         "legendrank": 2,
         "line": {
          "color": "red",
          "width": 3.53017
         },
         "marker": {
          "size": 0.8825425,
          "symbol": "circle"
         },
         "mode": "markers+lines",
         "name": "1: Untitled Graph (Edges)",
         "showlegend": false,
         "text": "0.306034",
         "type": "scatter3d",
         "x": [
          0.520669,
          0.36789,
          null,
          0.36789,
          0.238152,
          null
         ],
         "y": [
          0.199856,
          0.300932,
          null,
          0.300932,
          0.43026,
          null
         ],
         "z": [
          0,
          0,
          null,
          0,
          0,
          null
         ]
        },
        {
         "hoverinfo": "text",
         "legendgroup": "2",
         "legendrank": 2,
         "line": {
          "color": "red",
          "width": 7
         },
         "marker": {
          "size": 1.75,
          "symbol": "circle"
         },
         "mode": "markers+lines",
         "name": "1: Untitled Graph (Edges)",
         "showlegend": false,
         "text": "1.0",
         "type": "scatter3d",
         "x": [
          0.789094,
          0.7125,
          null,
          0.7125,
          0.591174,
          null
         ],
         "y": [
          0.919952,
          0.686397,
          null,
          0.686397,
          0.472635,
          null
         ],
         "z": [
          0,
          0,
          null,
          0,
          0,
          null
         ]
        },
        {
         "hoverinfo": "text",
         "legendgroup": "2",
         "legendrank": 2,
         "line": {
          "color": "red",
          "width": 2
         },
         "marker": {
          "size": 0.5,
          "symbol": "circle"
         },
         "mode": "markers+lines",
         "name": "1: Untitled Graph (Edges)",
         "showlegend": false,
         "text": "0.0",
         "type": "scatter3d",
         "x": [
          1.140563,
          1.089543,
          null,
          1.089543,
          1.044483,
          null
         ],
         "y": [
          1.568066,
          1.593057,
          null,
          1.593057,
          1.627656,
          null
         ],
         "z": [
          0,
          0,
          null,
          0,
          0,
          null
         ]
        },
        {
         "hoverinfo": "text",
         "legendgroup": "2",
         "legendrank": 2,
         "line": {
          "color": "red",
          "width": 6.61207
         },
         "marker": {
          "size": 1.6530175,
          "symbol": "circle"
         },
         "mode": "markers+lines",
         "name": "1: Untitled Graph (Edges)",
         "showlegend": false,
         "text": "0.922414",
         "type": "scatter3d",
         "x": [
          0.789094,
          0.862202,
          null,
          0.862202,
          0.979183,
          null
         ],
         "y": [
          0.919952,
          1.148824,
          null,
          1.148824,
          1.358686,
          null
         ],
         "z": [
          0,
          0,
          null,
          0,
          0,
          null
         ]
        },
        {
         "hoverinfo": "text",
         "legendgroup": "2",
         "legendrank": 2,
         "line": {
          "color": "red",
          "width": 3.4367799999999997
         },
         "marker": {
          "size": 0.8591949999999999,
          "symbol": "circle"
         },
         "mode": "markers+lines",
         "name": "1: Untitled Graph (Edges)",
         "showlegend": false,
         "text": "0.287356",
         "type": "scatter3d",
         "x": [
          0.634412,
          0.599883,
          null,
          0.599883,
          0.591174,
          null
         ],
         "y": [
          0.214425,
          0.341368,
          null,
          0.341368,
          0.472635,
          null
         ],
         "z": [
          0,
          0,
          null,
          0,
          0,
          null
         ]
        },
        {
         "hoverinfo": "text",
         "legendgroup": "2",
         "legendrank": 2,
         "line": {
          "color": "red",
          "width": 2.818965
         },
         "marker": {
          "size": 0.70474125,
          "symbol": "circle"
         },
         "mode": "markers+lines",
         "name": "1: Untitled Graph (Edges)",
         "showlegend": false,
         "text": "0.163793",
         "type": "scatter3d",
         "x": [
          0.684049,
          0.697361,
          null,
          0.697361,
          0.68542,
          null
         ],
         "y": [
          -0.041671,
          -0.167869,
          null,
          -0.167869,
          -0.294203,
          null
         ],
         "z": [
          0,
          0,
          null,
          0,
          0,
          null
         ]
        },
        {
         "hoverinfo": "text",
         "legendgroup": "2",
         "legendrank": 2,
         "line": {
          "color": "red",
          "width": 2.193965
         },
         "marker": {
          "size": 0.54849125,
          "symbol": "circle"
         },
         "mode": "markers+lines",
         "name": "1: Untitled Graph (Edges)",
         "showlegend": false,
         "text": "0.038793",
         "type": "scatter3d",
         "x": [
          0.797848,
          0.746762,
          null,
          0.746762,
          0.684049,
          null
         ],
         "y": [
          0.074606,
          0.010778,
          null,
          0.010778,
          -0.041671,
          null
         ],
         "z": [
          0,
          0,
          null,
          0,
          0,
          null
         ]
        }
       ],
       "layout": {
        "autosize": true,
        "height": 500,
        "margin": {
         "b": 40,
         "l": 40,
         "r": 40,
         "t": 40
        },
        "paper_bgcolor": "RGBA(0,0,0,0)",
        "plot_bgcolor": "RGBA(0,0,0,0)",
        "scene": {
         "aspectmode": "data",
         "camera": {
          "center": {
           "x": 0,
           "y": 0,
           "z": 0
          },
          "eye": {
           "x": 0,
           "y": 0,
           "z": 1.75
          },
          "projection": {
           "type": "perspective"
          },
          "up": {
           "x": 1,
           "y": 0,
           "z": 0
          }
         },
         "xaxis": {
          "visible": false
         },
         "yaxis": {
          "visible": false
         },
         "zaxis": {
          "visible": false
         }
        },
        "showlegend": true,
        "template": {
         "data": {
          "bar": [
           {
            "error_x": {
             "color": "#2a3f5f"
            },
            "error_y": {
             "color": "#2a3f5f"
            },
            "marker": {
             "line": {
              "color": "#E5ECF6",
              "width": 0.5
             },
             "pattern": {
              "fillmode": "overlay",
              "size": 10,
              "solidity": 0.2
             }
            },
            "type": "bar"
           }
          ],
          "barpolar": [
           {
            "marker": {
             "line": {
              "color": "#E5ECF6",
              "width": 0.5
             },
             "pattern": {
              "fillmode": "overlay",
              "size": 10,
              "solidity": 0.2
             }
            },
            "type": "barpolar"
           }
          ],
          "carpet": [
           {
            "aaxis": {
             "endlinecolor": "#2a3f5f",
             "gridcolor": "white",
             "linecolor": "white",
             "minorgridcolor": "white",
             "startlinecolor": "#2a3f5f"
            },
            "baxis": {
             "endlinecolor": "#2a3f5f",
             "gridcolor": "white",
             "linecolor": "white",
             "minorgridcolor": "white",
             "startlinecolor": "#2a3f5f"
            },
            "type": "carpet"
           }
          ],
          "choropleth": [
           {
            "colorbar": {
             "outlinewidth": 0,
             "ticks": ""
            },
            "type": "choropleth"
           }
          ],
          "contour": [
           {
            "colorbar": {
             "outlinewidth": 0,
             "ticks": ""
            },
            "colorscale": [
             [
              0,
              "#0d0887"
             ],
             [
              0.1111111111111111,
              "#46039f"
             ],
             [
              0.2222222222222222,
              "#7201a8"
             ],
             [
              0.3333333333333333,
              "#9c179e"
             ],
             [
              0.4444444444444444,
              "#bd3786"
             ],
             [
              0.5555555555555556,
              "#d8576b"
             ],
             [
              0.6666666666666666,
              "#ed7953"
             ],
             [
              0.7777777777777778,
              "#fb9f3a"
             ],
             [
              0.8888888888888888,
              "#fdca26"
             ],
             [
              1,
              "#f0f921"
             ]
            ],
            "type": "contour"
           }
          ],
          "contourcarpet": [
           {
            "colorbar": {
             "outlinewidth": 0,
             "ticks": ""
            },
            "type": "contourcarpet"
           }
          ],
          "heatmap": [
           {
            "colorbar": {
             "outlinewidth": 0,
             "ticks": ""
            },
            "colorscale": [
             [
              0,
              "#0d0887"
             ],
             [
              0.1111111111111111,
              "#46039f"
             ],
             [
              0.2222222222222222,
              "#7201a8"
             ],
             [
              0.3333333333333333,
              "#9c179e"
             ],
             [
              0.4444444444444444,
              "#bd3786"
             ],
             [
              0.5555555555555556,
              "#d8576b"
             ],
             [
              0.6666666666666666,
              "#ed7953"
             ],
             [
              0.7777777777777778,
              "#fb9f3a"
             ],
             [
              0.8888888888888888,
              "#fdca26"
             ],
             [
              1,
              "#f0f921"
             ]
            ],
            "type": "heatmap"
           }
          ],
          "heatmapgl": [
           {
            "colorbar": {
             "outlinewidth": 0,
             "ticks": ""
            },
            "colorscale": [
             [
              0,
              "#0d0887"
             ],
             [
              0.1111111111111111,
              "#46039f"
             ],
             [
              0.2222222222222222,
              "#7201a8"
             ],
             [
              0.3333333333333333,
              "#9c179e"
             ],
             [
              0.4444444444444444,
              "#bd3786"
             ],
             [
              0.5555555555555556,
              "#d8576b"
             ],
             [
              0.6666666666666666,
              "#ed7953"
             ],
             [
              0.7777777777777778,
              "#fb9f3a"
             ],
             [
              0.8888888888888888,
              "#fdca26"
             ],
             [
              1,
              "#f0f921"
             ]
            ],
            "type": "heatmapgl"
           }
          ],
          "histogram": [
           {
            "marker": {
             "pattern": {
              "fillmode": "overlay",
              "size": 10,
              "solidity": 0.2
             }
            },
            "type": "histogram"
           }
          ],
          "histogram2d": [
           {
            "colorbar": {
             "outlinewidth": 0,
             "ticks": ""
            },
            "colorscale": [
             [
              0,
              "#0d0887"
             ],
             [
              0.1111111111111111,
              "#46039f"
             ],
             [
              0.2222222222222222,
              "#7201a8"
             ],
             [
              0.3333333333333333,
              "#9c179e"
             ],
             [
              0.4444444444444444,
              "#bd3786"
             ],
             [
              0.5555555555555556,
              "#d8576b"
             ],
             [
              0.6666666666666666,
              "#ed7953"
             ],
             [
              0.7777777777777778,
              "#fb9f3a"
             ],
             [
              0.8888888888888888,
              "#fdca26"
             ],
             [
              1,
              "#f0f921"
             ]
            ],
            "type": "histogram2d"
           }
          ],
          "histogram2dcontour": [
           {
            "colorbar": {
             "outlinewidth": 0,
             "ticks": ""
            },
            "colorscale": [
             [
              0,
              "#0d0887"
             ],
             [
              0.1111111111111111,
              "#46039f"
             ],
             [
              0.2222222222222222,
              "#7201a8"
             ],
             [
              0.3333333333333333,
              "#9c179e"
             ],
             [
              0.4444444444444444,
              "#bd3786"
             ],
             [
              0.5555555555555556,
              "#d8576b"
             ],
             [
              0.6666666666666666,
              "#ed7953"
             ],
             [
              0.7777777777777778,
              "#fb9f3a"
             ],
             [
              0.8888888888888888,
              "#fdca26"
             ],
             [
              1,
              "#f0f921"
             ]
            ],
            "type": "histogram2dcontour"
           }
          ],
          "mesh3d": [
           {
            "colorbar": {
             "outlinewidth": 0,
             "ticks": ""
            },
            "type": "mesh3d"
           }
          ],
          "parcoords": [
           {
            "line": {
             "colorbar": {
              "outlinewidth": 0,
              "ticks": ""
             }
            },
            "type": "parcoords"
           }
          ],
          "pie": [
           {
            "automargin": true,
            "type": "pie"
           }
          ],
          "scatter": [
           {
            "fillpattern": {
             "fillmode": "overlay",
             "size": 10,
             "solidity": 0.2
            },
            "type": "scatter"
           }
          ],
          "scatter3d": [
           {
            "line": {
             "colorbar": {
              "outlinewidth": 0,
              "ticks": ""
             }
            },
            "marker": {
             "colorbar": {
              "outlinewidth": 0,
              "ticks": ""
             }
            },
            "type": "scatter3d"
           }
          ],
          "scattercarpet": [
           {
            "marker": {
             "colorbar": {
              "outlinewidth": 0,
              "ticks": ""
             }
            },
            "type": "scattercarpet"
           }
          ],
          "scattergeo": [
           {
            "marker": {
             "colorbar": {
              "outlinewidth": 0,
              "ticks": ""
             }
            },
            "type": "scattergeo"
           }
          ],
          "scattergl": [
           {
            "marker": {
             "colorbar": {
              "outlinewidth": 0,
              "ticks": ""
             }
            },
            "type": "scattergl"
           }
          ],
          "scattermapbox": [
           {
            "marker": {
             "colorbar": {
              "outlinewidth": 0,
              "ticks": ""
             }
            },
            "type": "scattermapbox"
           }
          ],
          "scatterpolar": [
           {
            "marker": {
             "colorbar": {
              "outlinewidth": 0,
              "ticks": ""
             }
            },
            "type": "scatterpolar"
           }
          ],
          "scatterpolargl": [
           {
            "marker": {
             "colorbar": {
              "outlinewidth": 0,
              "ticks": ""
             }
            },
            "type": "scatterpolargl"
           }
          ],
          "scatterternary": [
           {
            "marker": {
             "colorbar": {
              "outlinewidth": 0,
              "ticks": ""
             }
            },
            "type": "scatterternary"
           }
          ],
          "surface": [
           {
            "colorbar": {
             "outlinewidth": 0,
             "ticks": ""
            },
            "colorscale": [
             [
              0,
              "#0d0887"
             ],
             [
              0.1111111111111111,
              "#46039f"
             ],
             [
              0.2222222222222222,
              "#7201a8"
             ],
             [
              0.3333333333333333,
              "#9c179e"
             ],
             [
              0.4444444444444444,
              "#bd3786"
             ],
             [
              0.5555555555555556,
              "#d8576b"
             ],
             [
              0.6666666666666666,
              "#ed7953"
             ],
             [
              0.7777777777777778,
              "#fb9f3a"
             ],
             [
              0.8888888888888888,
              "#fdca26"
             ],
             [
              1,
              "#f0f921"
             ]
            ],
            "type": "surface"
           }
          ],
          "table": [
           {
            "cells": {
             "fill": {
              "color": "#EBF0F8"
             },
             "line": {
              "color": "white"
             }
            },
            "header": {
             "fill": {
              "color": "#C8D4E3"
             },
             "line": {
              "color": "white"
             }
            },
            "type": "table"
           }
          ]
         },
         "layout": {
          "annotationdefaults": {
           "arrowcolor": "#2a3f5f",
           "arrowhead": 0,
           "arrowwidth": 1
          },
          "autotypenumbers": "strict",
          "coloraxis": {
           "colorbar": {
            "outlinewidth": 0,
            "ticks": ""
           }
          },
          "colorscale": {
           "diverging": [
            [
             0,
             "#8e0152"
            ],
            [
             0.1,
             "#c51b7d"
            ],
            [
             0.2,
             "#de77ae"
            ],
            [
             0.3,
             "#f1b6da"
            ],
            [
             0.4,
             "#fde0ef"
            ],
            [
             0.5,
             "#f7f7f7"
            ],
            [
             0.6,
             "#e6f5d0"
            ],
            [
             0.7,
             "#b8e186"
            ],
            [
             0.8,
             "#7fbc41"
            ],
            [
             0.9,
             "#4d9221"
            ],
            [
             1,
             "#276419"
            ]
           ],
           "sequential": [
            [
             0,
             "#0d0887"
            ],
            [
             0.1111111111111111,
             "#46039f"
            ],
            [
             0.2222222222222222,
             "#7201a8"
            ],
            [
             0.3333333333333333,
             "#9c179e"
            ],
            [
             0.4444444444444444,
             "#bd3786"
            ],
            [
             0.5555555555555556,
             "#d8576b"
            ],
            [
             0.6666666666666666,
             "#ed7953"
            ],
            [
             0.7777777777777778,
             "#fb9f3a"
            ],
            [
             0.8888888888888888,
             "#fdca26"
            ],
            [
             1,
             "#f0f921"
            ]
           ],
           "sequentialminus": [
            [
             0,
             "#0d0887"
            ],
            [
             0.1111111111111111,
             "#46039f"
            ],
            [
             0.2222222222222222,
             "#7201a8"
            ],
            [
             0.3333333333333333,
             "#9c179e"
            ],
            [
             0.4444444444444444,
             "#bd3786"
            ],
            [
             0.5555555555555556,
             "#d8576b"
            ],
            [
             0.6666666666666666,
             "#ed7953"
            ],
            [
             0.7777777777777778,
             "#fb9f3a"
            ],
            [
             0.8888888888888888,
             "#fdca26"
            ],
            [
             1,
             "#f0f921"
            ]
           ]
          },
          "colorway": [
           "#636efa",
           "#EF553B",
           "#00cc96",
           "#ab63fa",
           "#FFA15A",
           "#19d3f3",
           "#FF6692",
           "#B6E880",
           "#FF97FF",
           "#FECB52"
          ],
          "font": {
           "color": "#2a3f5f"
          },
          "geo": {
           "bgcolor": "white",
           "lakecolor": "white",
           "landcolor": "#E5ECF6",
           "showlakes": true,
           "showland": true,
           "subunitcolor": "white"
          },
          "hoverlabel": {
           "align": "left"
          },
          "hovermode": "closest",
          "mapbox": {
           "style": "light"
          },
          "paper_bgcolor": "white",
          "plot_bgcolor": "#E5ECF6",
          "polar": {
           "angularaxis": {
            "gridcolor": "white",
            "linecolor": "white",
            "ticks": ""
           },
           "bgcolor": "#E5ECF6",
           "radialaxis": {
            "gridcolor": "white",
            "linecolor": "white",
            "ticks": ""
           }
          },
          "scene": {
           "xaxis": {
            "backgroundcolor": "#E5ECF6",
            "gridcolor": "white",
            "gridwidth": 2,
            "linecolor": "white",
            "showbackground": true,
            "ticks": "",
            "zerolinecolor": "white"
           },
           "yaxis": {
            "backgroundcolor": "#E5ECF6",
            "gridcolor": "white",
            "gridwidth": 2,
            "linecolor": "white",
            "showbackground": true,
            "ticks": "",
            "zerolinecolor": "white"
           },
           "zaxis": {
            "backgroundcolor": "#E5ECF6",
            "gridcolor": "white",
            "gridwidth": 2,
            "linecolor": "white",
            "showbackground": true,
            "ticks": "",
            "zerolinecolor": "white"
           }
          },
          "shapedefaults": {
           "line": {
            "color": "#2a3f5f"
           }
          },
          "ternary": {
           "aaxis": {
            "gridcolor": "white",
            "linecolor": "white",
            "ticks": ""
           },
           "baxis": {
            "gridcolor": "white",
            "linecolor": "white",
            "ticks": ""
           },
           "bgcolor": "#E5ECF6",
           "caxis": {
            "gridcolor": "white",
            "linecolor": "white",
            "ticks": ""
           }
          },
          "title": {
           "x": 0.05
          },
          "xaxis": {
           "automargin": true,
           "gridcolor": "white",
           "linecolor": "white",
           "ticks": "",
           "title": {
            "standoff": 15
           },
           "zerolinecolor": "white",
           "zerolinewidth": 2
          },
          "yaxis": {
           "automargin": true,
           "gridcolor": "white",
           "linecolor": "white",
           "ticks": "",
           "title": {
            "standoff": 15
           },
           "zerolinecolor": "white",
           "zerolinewidth": 2
          }
         }
        },
        "width": 950,
        "xaxis": {
         "showgrid": false,
         "visible": false,
         "zeroline": false
        },
        "yaxis": {
         "showgrid": false,
         "visible": false,
         "zeroline": false
        }
       }
      }
     },
     "metadata": {},
     "output_type": "display_data"
    }
   ],
   "source": [
    "from topologicpy.Graph import Graph\n",
    "from topologicpy.Dictionary import Dictionary\n",
    "from topologicpy.Topology import Topology\n",
    "from topologicpy.Helper import Helper\n",
    "\n",
    "# Print Version Information\n",
    "print(\"----------------------------------------------------------------------\")\n",
    "print(Helper.Version())\n",
    "print(\"----------------------------------------------------------------------\")\n",
    "print(\" \")\n",
    "\n",
    "#Topologicpy\n",
    "adjacencyMatrix = [[0,0,0,0,1,0,0,0,0,0,1,0,0,0,0,0,0,0,0,0,0,0,0,0],\n",
    "                   [0,0,0,0,1,1,0,0,0,1,1,0,0,0,0,0,0,0,0,0,0,0,0,0],\n",
    "                   [0,0,0,0,1,1,0,0,0,0,1,0,0,0,0,0,0,0,0,0,0,0,0,0],\n",
    "                   [0,0,0,0,0,0,0,0,0,0,0,0,0,1,0,0,0,0,0,0,0,0,0,0],\n",
    "                   [1,1,1,0,0,0,0,0,0,0,0,0,0,0,1,0,0,0,0,0,0,0,0,0],\n",
    "                   [0,1,1,0,1,0,0,0,0,0,0,0,0,0,0,0,0,0,0,0,0,0,1,0],\n",
    "                   [0,0,0,0,0,0,0,0,1,0,0,0,0,1,0,0,0,0,0,0,0,0,0,0],\n",
    "                   [0,0,0,0,0,0,0,0,0,0,1,0,0,1,0,0,0,0,0,0,0,0,0,0],\n",
    "                   [0,0,0,0,0,0,1,0,0,0,0,0,0,1,0,0,0,0,0,0,0,0,0,0],\n",
    "                   [0,0,0,0,0,0,0,0,0,0,1,0,0,0,0,0,0,0,1,0,0,0,0,0],\n",
    "                   [1,1,1,0,0,0,0,1,0,1,0,0,0,0,0,0,0,0,0,0,0,0,0,0],\n",
    "                   [1,1,1,0,0,1,0,0,0,0,0,0,0,0,0,0,0,0,0,0,0,0,0,0],\n",
    "                   [0,0,0,0,0,0,0,0,0,0,0,0,0,0,0,0,0,0,1,0,0,0,0,0],\n",
    "                   [0,0,0,0,0,0,1,1,1,0,0,0,0,0,0,1,1,1,0,0,0,0,0,0],\n",
    "                   [0,0,0,0,1,0,0,0,0,0,0,0,0,0,0,0,0,0,0,0,0,0,0,0],\n",
    "                   [0,0,0,0,0,0,0,0,0,0,0,0,0,1,0,0,0,0,0,0,0,0,0,0],\n",
    "                   [0,0,0,0,0,0,0,0,0,0,0,0,0,1,0,0,0,0,0,0,0,0,0,0],\n",
    "                   [0,0,0,0,0,0,0,0,0,0,0,0,0,1,0,0,0,0,0,0,0,0,0,0],\n",
    "                   [0,0,0,0,0,0,0,0,0,1,0,0,1,0,0,0,0,0,0,0,1,0,0,0],\n",
    "                   [0,0,0,0,0,0,0,0,0,0,0,0,0,0,0,0,0,0,0,0,1,0,0,0],\n",
    "                   [0,0,0,0,0,0,0,0,0,0,0,0,0,0,0,0,0,0,1,1,0,1,0,0],\n",
    "                   [0,0,0,0,0,0,0,0,0,0,0,0,0,0,0,0,0,0,0,0,1,0,0,0],\n",
    "                   [0,0,0,0,0,1,0,0,0,0,0,1,0,0,0,0,0,0,0,0,0,0,0,1],\n",
    "                   [0,0,0,0,0,0,0,0,0,0,0,0,0,0,0,0,0,0,0,0,0,0,1,0]]\n",
    "\n",
    "node_names = [\n",
    "\"Daycare_Room\",\n",
    "\"Elementary_School\",\n",
    "\"High_School_Wing\",\n",
    "\"Library\",\n",
    "\"Corridor_1\",\n",
    "\"Study_Room\",\n",
    "\"Special_Education_Room\",\n",
    "\"Swimming_Pool\",\n",
    "\"Gymnasium\",\n",
    "\"Outdoor_Space\",\n",
    "\"Sports_Field\",\n",
    "\"Corridor_2\",\n",
    "\"Main_Entrance_Hall\",\n",
    "\"Lobby\",\n",
    "\"Administrative_Office\",\n",
    "\"Principals_Office\",\n",
    "\"Counseling_Office\",\n",
    "\"Corridor_3\",\n",
    "\"Cafeteria\",\n",
    "\"Corridor_4\",\n",
    "\"Kitchen\",\n",
    "\"Corridor_5\",\n",
    "\"Workshop\",\n",
    "\"Corridor_6\"]\n",
    "\n",
    "dictionaries = []\n",
    "for i, row in enumerate(adjacencyMatrix):\n",
    "    d = Dictionary.ByKeyValue(\"name\", node_names[i])\n",
    "    dictionaries.append(d)\n",
    "    #print(f\"{node_names[i]}: {row}\")\n",
    "    \n",
    "g = Graph.ByAdjacencyMatrix(adjacencyMatrix, dictionaries=dictionaries)\n",
    "vertices = Graph.Vertices(g)\n",
    "flat_g = Graph.Reshape(g, shape=\"spring 2D\", k=0.15, rootVertex=vertices[0])\n",
    "for v in vertices:\n",
    "    d = Topology.Dictionary(v)\n",
    "    #print(Dictionary.Keys(d), Dictionary.Values(d))\n",
    "\n",
    "# Vertex Betweenness Centrality\n",
    "vertex_betweenness_scores = Graph.BetweennessCentrality(flat_g, method=\"vertex\")\n",
    "print(\"Vertex Betweenness Scores:\", vertex_betweenness_scores)\n",
    "vertices = Graph.Vertices(flat_g)\n",
    "for vertex in vertices:\n",
    "    d = Topology.Dictionary(vertex)\n",
    "    name = Dictionary.ValueAtKey(d, \"name\")\n",
    "    b_c = Dictionary.ValueAtKey(d, \"betweenness_centrality\")\n",
    "    vertexSize = 4 + b_c*10\n",
    "    label = name+\": \"+str(b_c)\n",
    "    d = Dictionary.SetValueAtKey(d, \"label\", label)\n",
    "    d = Dictionary.SetValueAtKey(d, \"vertexSize\", vertexSize)\n",
    "    vertex = Topology.SetDictionary(vertex, d)\n",
    "\n",
    "# Edge Betweenness Centrality\n",
    "edge_betweenness_scores = Graph.BetweennessCentrality(flat_g, method=\"edge\")\n",
    "print(\"Edge Betweenness Scores:\", edge_betweenness_scores)\n",
    "edges = Graph.Edges(flat_g)\n",
    "for edge in edges:\n",
    "    d = Topology.Dictionary(edge)\n",
    "    edgeWidth = 2 + Dictionary.ValueAtKey(d, \"betweenness_centrality\")*5\n",
    "    d = Dictionary.SetValueAtKey(d, \"edgeWidth\", edgeWidth)\n",
    "    edge = Topology.SetDictionary(edge, d)\n",
    "\n",
    "# Choose your rendering environment:\n",
    "renderer = \"vscode\"\n",
    "# renderer = \"jupyterlab\"\n",
    "# renderer = \"colab\"\n",
    "# renderer = \"browser\"\n",
    "\n",
    "Topology.Show(flat_g, sagitta=0.05, sides=2,\n",
    "              absolute=False, vertexSizeKey=\"vertexSize\", \n",
    "              vertexLabelKey=\"label\", showVertexLabel=True,\n",
    "              edgeWidthKey=\"edgeWidth\", edgeLabelKey=\"betweenness_centrality\",\n",
    "              camera=[0,0,1.75], up=[1,0,0], renderer=renderer)\n"
   ]
  }
 ],
 "metadata": {
  "kernelspec": {
   "display_name": "Python 3",
   "language": "python",
   "name": "python3"
  },
  "language_info": {
   "codemirror_mode": {
    "name": "ipython",
    "version": 3
   },
   "file_extension": ".py",
   "mimetype": "text/x-python",
   "name": "python",
   "nbconvert_exporter": "python",
   "pygments_lexer": "ipython3",
   "version": "3.11.9"
  }
 },
 "nbformat": 4,
 "nbformat_minor": 5
}
