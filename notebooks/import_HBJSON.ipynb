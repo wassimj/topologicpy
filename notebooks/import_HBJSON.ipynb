{
 "cells": [
  {
   "cell_type": "code",
   "execution_count": null,
   "id": "722bfd24",
   "metadata": {},
   "outputs": [],
   "source": [
    "# You don't need these two lines if you have pip installed topologicpy\n",
    "import sys\n",
    "sys.path.append(\"C:/Users/sarwj/OneDrive - Cardiff University/Documents/GitHub/topologicpy/src\")"
   ]
  },
  {
   "cell_type": "markdown",
   "id": "6a036f5f",
   "metadata": {},
   "source": [
    "## Import the needed classes"
   ]
  },
  {
   "cell_type": "code",
   "execution_count": null,
   "id": "efab42ff",
   "metadata": {},
   "outputs": [],
   "source": [
    "# Import the needed classes\n",
    "from topologicpy.Plotly import Plotly\n",
    "from topologicpy.Cluster import Cluster\n",
    "from topologicpy.Topology import Topology\n",
    "from topologicpy.Dictionary import Dictionary\n",
    "from topologicpy.Helper import Helper\n",
    "from topologicpy.Honeybee import Honeybee\n",
    "\n",
    "print(\"\\nDONE\")"
   ]
  },
  {
   "cell_type": "markdown",
   "id": "aee5b423",
   "metadata": {},
   "source": [
    "## Check Software Versions"
   ]
  },
  {
   "cell_type": "code",
   "execution_count": null,
   "id": "d617f75e",
   "metadata": {},
   "outputs": [],
   "source": [
    "import sys\n",
    "print(\"This workflow was designed and verified to work with python 3.11 and TopologicPy 0.8.55.\\n\")\n",
    "py_version = sys.version.split()[0]\n",
    "print(\"Python version:\", py_version)\n",
    "\n",
    "print(\"TopologicPy Version:\", Helper.Version(check=False))\n",
    "print(\" \")\n",
    "print(\"TopologicPy Version:\", Helper.Version(check=True))\n",
    "print(\"\\nDONE\")"
   ]
  },
  {
   "cell_type": "markdown",
   "id": "804a29b9",
   "metadata": {},
   "source": [
    "## Set the HBJSON file path and load the file"
   ]
  },
  {
   "cell_type": "code",
   "execution_count": null,
   "id": "fd8b7ed9",
   "metadata": {},
   "outputs": [],
   "source": [
    "path = r\"C:\\Users\\sarwj\\OneDrive - Cardiff University\\Documents\\GitHub\\topologicpy\\assets\\EnergyModel\\TopologicBuilding.hbjson\"\n",
    "\n",
    "dictionary = Honeybee.ByHBJSONPath(path, silent=False)\n",
    "\n",
    "print(\"Rooms:\", len(dictionary['rooms']))\n",
    "print(\"Faces:\", len(dictionary['faces']))\n",
    "print(\"Shades:\", len(dictionary['shades']))\n",
    "print(\"Apertures:\", len(dictionary['apertures']))\n",
    "print(\"Doors:\", len(dictionary['doors']))\n",
    "print(\"Orphaned Rooms:\", len(dictionary['orphanedRooms']))\n",
    "print(\"Orphaned Faces:\", len(dictionary['orphanedFaces']))\n",
    "print(\"Orphaned Shades:\", len(dictionary['orphanedShades']))\n",
    "print(\"Orphaned Apertures:\", len(dictionary['orphanedApertures']))\n",
    "print(\"Orphaned Doors:\", len(dictionary['orphanedDoors']))\n",
    "print(\"Properties:\", len(dictionary['properties']))\n",
    "print(\"\\nDone\")"
   ]
  },
  {
   "cell_type": "markdown",
   "id": "44eefd32",
   "metadata": {},
   "source": [
    "## Create a Plotly figure and draw it."
   ]
  },
  {
   "cell_type": "code",
   "execution_count": null,
   "id": "103ee42a",
   "metadata": {},
   "outputs": [],
   "source": [
    "data = []\n",
    "if dictionary['rooms']:\n",
    "    data = Plotly.DataByTopology(Cluster.ByTopologies(dictionary['rooms']))\n",
    "if dictionary['orphanedRooms']:\n",
    "    data += Plotly.DataByTopology(Cluster.ByTopologies(dictionary['orphanedRooms']), faceColor=\"red\")\n",
    "if dictionary['shades']:\n",
    "    data += Plotly.DataByTopology(Cluster.ByTopologies(dictionary['shades']), faceColor=\"green\")\n",
    "if dictionary['orphanedShades']:\n",
    "    data += Plotly.DataByTopology(Cluster.ByTopologies(dictionary['orphanedShades']), faceColor=\"green\")\n",
    "if dictionary['orphanedFaces']:\n",
    "    data += Plotly.DataByTopology(Cluster.ByTopologies(dictionary['orphanedFaces']), faceColor=\"orange\")\n",
    "if dictionary['apertures']:\n",
    "    data += Plotly.DataByTopology(Cluster.ByTopologies(dictionary['apertures']), faceColor=\"lightblue\")\n",
    "\n",
    "fig = Plotly.FigureByData(data, width=1024, height=1024)\n",
    "Plotly.Show(fig)\n",
    "print(\"\\nDone\")"
   ]
  }
 ],
 "metadata": {
  "kernelspec": {
   "display_name": "Python 3",
   "language": "python",
   "name": "python3"
  },
  "language_info": {
   "codemirror_mode": {
    "name": "ipython",
    "version": 3
   },
   "file_extension": ".py",
   "mimetype": "text/x-python",
   "name": "python",
   "nbconvert_exporter": "python",
   "pygments_lexer": "ipython3",
   "version": "3.11.9"
  }
 },
 "nbformat": 4,
 "nbformat_minor": 5
}
