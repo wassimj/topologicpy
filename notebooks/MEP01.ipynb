{
 "cells": [
  {
   "cell_type": "markdown",
   "id": "f360689b",
   "metadata": {},
   "source": [
    "# Proof of Concept for Use of topologicpy for MEP\n",
    "Disclaimer: I am **NOT** an MEP expert! The assumptions and calculations in this notebook are probably completely wrong. Yet, the general concept should still apply. Always form your own impressions and make your own decisions.\n",
    "This program is free software: you can redistribute it and/or modify it under the terms of the GNU Affero General Public License as published by the Free Software Foundation, either version 3 of the License, or (at your option) any later\n",
    "version.\n",
    "\n",
    "This program is distributed in the hope that it will be useful, but **WITHOUT\n",
    "ANY WARRANTY**; without even the implied warranty of **MERCHANTABILITY** or **FITNESS\n",
    "FOR A PARTICULAR PURPOSE**. See the GNU Affero General Public License for more\n",
    "details."
   ]
  },
  {
   "cell_type": "markdown",
   "id": "9481f3dc",
   "metadata": {},
   "source": [
    "## Import the needed python libraries"
   ]
  },
  {
   "cell_type": "code",
   "execution_count": 1,
   "id": "fc746c32",
   "metadata": {},
   "outputs": [],
   "source": [
    "import sys #This is not needed on your machine\n",
    "sys.path.append(\"C:/Users/wassimj/Documents/GitHub\") #This is not needed on your machine\n",
    "from topologicpy.Vertex import Vertex\n",
    "from topologicpy.Edge import Edge\n",
    "from topologicpy.Wire import Wire\n",
    "from topologicpy.Face import Face\n",
    "from topologicpy.Shell import Shell\n",
    "from topologicpy.Cell import Cell\n",
    "from topologicpy.CellComplex import CellComplex\n",
    "from topologicpy.Cluster import Cluster\n",
    "from topologicpy.Topology import Topology\n",
    "from topologicpy.Graph import Graph\n",
    "from topologicpy.Dictionary import Dictionary\n",
    "from topologicpy.Vector import Vector\n",
    "from topologicpy.Helper import Helper\n",
    "from topologicpy.Plotly import Plotly\n"
   ]
  },
  {
   "cell_type": "markdown",
   "id": "be198deb",
   "metadata": {},
   "source": [
    "## Import or Create the building geometry (CellComplex with Apertures)"
   ]
  },
  {
   "cell_type": "code",
   "execution_count": 2,
   "id": "813f6ec6",
   "metadata": {},
   "outputs": [],
   "source": [
    "building = CellComplex.Prism(width=10, length=12, height=3, uSides=1, vSides=3, wSides=1, placement=\"lowerleft\")\n",
    "corridor = Cell.Prism(origin=Vertex.ByCoordinates(4,0,0), width=2,length=12,height=3, placement=\"lowerleft\")\n",
    "building = Topology.Merge(building, corridor)\n",
    "source = Cell.Prism(origin=Vertex.ByCoordinates(4,-2,0), width=2, length=2, height=3, placement=\"lowerleft\")\n",
    "building = Topology.Merge(building, source)\n",
    "selectors = []\n",
    "cells = Topology.Cells(building)\n",
    "for cell in cells:\n",
    "    centroid = Topology.Centroid(cell)\n",
    "    if Vertex.X(centroid) < 4 or Vertex.X(centroid) > 6:\n",
    "        d = Dictionary.ByKeyValue(\"name\", \"room\")\n",
    "        centroid = Topology.SetDictionary(centroid, d)\n",
    "    elif Vertex.Y(centroid) < 0:\n",
    "        d = Dictionary.ByKeyValue(\"name\", \"source\")\n",
    "        centroid = Topology.SetDictionary(centroid, d)\n",
    "    else:\n",
    "        d = Dictionary.ByKeyValue(\"name\", \"corridor\")\n",
    "        centroid = Topology.SetDictionary(centroid, d)\n",
    "    selectors.append(centroid)\n",
    "\n",
    "building = Topology.TransferDictionariesBySelectors(building, selectors, tranCells=True)\n",
    "\n",
    "d = CellComplex.Decompose(building)\n",
    "int_walls = d['internalVerticalFaces']\n",
    "selected_walls = []\n",
    "for int_wall in int_walls:\n",
    "    cells = Topology.SuperTopologies(int_wall, building, topologyType=\"cell\")\n",
    "    types = []\n",
    "    for cell in cells:\n",
    "        d = Topology.Dictionary(cell)\n",
    "        room_type = Dictionary.ValueAtKey(d, \"name\")\n",
    "        types.append(room_type)\n",
    "    if \"room\" in types and \"corridor\" in types:\n",
    "        selected_walls.append(int_wall)\n",
    "    elif \"corridor\" in types and \"source\" in types:\n",
    "        selected_walls.append(int_wall)\n",
    "    elif types == [\"corridor\", \"corridor\"]:\n",
    "        selected_walls.append(int_wall)\n",
    "apertures = []\n",
    "for w in selected_walls:\n",
    "    centroid = Topology.Centroid(w)\n",
    "    apertures.append(Topology.Scale(w, origin=centroid, x=0.5, y=0.5, z=0.5))\n",
    "\n",
    "building = Topology.AddApertures(building, apertures, subTopologyType=\"face\")\n"
   ]
  },
  {
   "cell_type": "markdown",
   "id": "f15f9de1",
   "metadata": {},
   "source": [
    "## Derive a Tree Graph from the building"
   ]
  },
  {
   "cell_type": "code",
   "execution_count": 3,
   "id": "dd51b8b1",
   "metadata": {},
   "outputs": [],
   "source": [
    "graph = Graph.ByTopology(building, direct=False, directApertures=True)\n",
    "graph = Graph.Tree(graph, Vertex.ByCoordinates(5,-1,1.5))"
   ]
  },
  {
   "cell_type": "markdown",
   "id": "0036be8d",
   "metadata": {},
   "source": [
    "## Visualize the Building and the Tree Graph"
   ]
  },
  {
   "cell_type": "code",
   "execution_count": 4,
   "id": "b0672b72",
   "metadata": {},
   "outputs": [],
   "source": [
    "edges = Graph.Edges(graph)\n",
    "cones = []\n",
    "for edge in edges:\n",
    "    base = Edge.VertexByParameter(edge, 0.85)\n",
    "    top = Edge.EndVertex(edge)\n",
    "    height = Vertex.Distance(base, top)\n",
    "    direction = Edge.Direction(edge)\n",
    "    cones.append(Cell.Cone(origin=base, baseRadius=0.1, height=height, direction=direction, placement=\"bottom\"))\n",
    "cones = Cluster.ByTopologies(cones)\n",
    "g_top = Graph.Topology(graph)\n",
    "data01 = Plotly.DataByTopology(g_top, vertexSize=4, edgeColor=\"red\", edgeWidth=3, vertexColor=\"blue\")\n",
    "data02 = Plotly.DataByTopology(building)\n",
    "data03 = Plotly.DataByTopology(cones, showVertices=False, faceOpacity=1, faceColor=\"black\")\n",
    "figure = Plotly.FigureByData(data01+data02+data03)\n",
    "Plotly.Show(figure)"
   ]
  },
  {
   "cell_type": "markdown",
   "id": "6b19fb0c",
   "metadata": {},
   "source": [
    "## Assign attributes to graph edges (ducts)"
   ]
  },
  {
   "cell_type": "code",
   "execution_count": 5,
   "id": "60ce9800",
   "metadata": {},
   "outputs": [],
   "source": [
    "edges = Graph.Edges(graph)\n",
    "for edge in edges:\n",
    "    sv = Edge.StartVertex(edge)\n",
    "    ev = Edge.EndVertex(edge)\n",
    "    length = Edge.Length(edge)\n",
    "    if Verrtex.IsInternal(sv, source):\n",
    "        diam = 0.5\n",
    "    elif Vertex.IsInternal(sv, corridor) and Vertex.IsInternal(ev, corridor):\n",
    "        diam = 0.4\n",
    "    else:\n",
    "        diam = 0.2\n",
    "    d = Dictionary.ByKeysValues([\"diameter\", \"airflow\", \"label\"], [diam, 1, \"Diam: \"+str(diam)+\"/ Length: \"+str(length)])\n",
    "    edge = Topology.SetDictionary(edge, d)    "
   ]
  },
  {
   "cell_type": "markdown",
   "id": "edd2b3f9",
   "metadata": {},
   "source": [
    "## Visualize ducts in 3D"
   ]
  },
  {
   "cell_type": "code",
   "execution_count": 6,
   "id": "ddc23e37",
   "metadata": {},
   "outputs": [],
   "source": [
    "edges = Graph.Edges(graph)\n",
    "ducts = []\n",
    "for edge in edges:\n",
    "    origin = Edge.StartVertex(edge)\n",
    "    direction = Edge.Direction(edge)\n",
    "    d = Topology.Dictionary(edge)\n",
    "    diameter = Dictionary.ValueAtKey(d, \"diameter\")\n",
    "    direction = Edge.Direction(edge)\n",
    "    height = Edge.Length(edge)\n",
    "    duct = Cell.Cylinder(origin=origin, radius=diameter*0.5, height=height, direction=direction, placement=\"bottom\")\n",
    "    ducts.append(duct)\n",
    "data01 = Plotly.DataByTopology(Cluster.ByTopologies(ducts), showVertices=False, faceColor=\"red\", faceOpacity=1)\n",
    "data02 = Plotly.DataByTopology(building)\n",
    "figure = Plotly.FigureByData(data01+data02)\n",
    "Plotly.Show(figure)"
   ]
  },
  {
   "cell_type": "markdown",
   "id": "549fe4de",
   "metadata": {},
   "source": [
    "## Define a Pressure Drop function. This is most likely completely wrong!"
   ]
  },
  {
   "cell_type": "code",
   "execution_count": 7,
   "id": "9c17d962",
   "metadata": {},
   "outputs": [],
   "source": [
    "def compute_pressure_drop_hvac(graph, air_density):\n",
    "    \"\"\"\n",
    "    Compute pressure drop in an HVAC system using the given formula.\n",
    "\n",
    "    Parameters:\n",
    "    - graph: Directed graph representing the HVAC system (networkx.DiGraph).\n",
    "    - airflow_rate: Airflow rate through each duct (dict of edges to airflow rates).\n",
    "    - duct_diameter: Diameter of each duct (dict of edges to diameters).\n",
    "    - duct_length: Length of each duct (dict of edges to lengths).\n",
    "    - air_density: Density of the air.\n",
    "\n",
    "    Returns:\n",
    "    - pressure_drop: Dictionary of nodes to pressure drops.\n",
    "    \"\"\"\n",
    "    vertices = Graph.Vertices(graph)\n",
    "    for v in vertices:\n",
    "        d = Dictionary.ByKeysValues([\"pressure_drop\", \"label\"], [0, \"P.D. 0\"])\n",
    "        v = Topology.SetDictionary(v, d)\n",
    "\n",
    "    edges = Graph.Edges(graph)\n",
    "    for edge in edges:\n",
    "        d = Topology.Dictionary(edge)\n",
    "        airflow = Dictionary.ValueAtKey(d, \"airflow\")\n",
    "        diameter = Dictionary.ValueAtKey(d, \"diameter\")\n",
    "        length = Edge.Length(edge)\n",
    "\n",
    "        velocity = airflow / (3.14159 * (diameter / 2)**2)  # Calculate velocity based on airflow and duct diameter\n",
    "        friction_factor = 0.03  # You may need to adjust this based on the specific characteristics of your system\n",
    "        ev = Edge.EndVertex(edge)\n",
    "        ev = Graph.NearestVertex(graph, ev)\n",
    "        d_v = Topology.Dictionary(ev)\n",
    "        pressure_drop = Dictionary.ValueAtKey(d_v, \"pressure_drop\")\n",
    "        pressure_drop += friction_factor * (length / diameter) * (air_density * velocity**2 / 2)\n",
    "        d_v = Dictionary.ByKeysValues([\"pressure_drop\", \"label\"], [pressure_drop, \"P.D. \"+str(pressure_drop)])\n",
    "        ev = Topology.SetDictionary(ev, d_v)\n",
    "\n",
    "    return graph"
   ]
  },
  {
   "cell_type": "markdown",
   "id": "cccaa3c4",
   "metadata": {},
   "source": [
    "## Calculate Pressure Drop"
   ]
  },
  {
   "cell_type": "code",
   "execution_count": 8,
   "id": "f82d3783",
   "metadata": {},
   "outputs": [],
   "source": [
    "air_density = 1.2  # kg/m^3\n",
    "\n",
    "graph = compute_pressure_drop_hvac(graph, air_density)\n",
    "vertices = Graph.Vertices(graph)\n",
    "groups = []\n",
    "for v in vertices:\n",
    "    d = Topology.Dictionary(v)\n",
    "    print(Dictionary.Keys(d), Dictionary.Values(d))\n",
    "    p_d = Dictionary.ValueAtKey(d, \"pressure_drop\")\n",
    "    groups.append(p_d)\n",
    "groups = list(set(groups))"
   ]
  },
  {
   "cell_type": "markdown",
   "id": "020abd8f",
   "metadata": {},
   "source": [
    "## Visualise Pressure Drop in Pyvis"
   ]
  },
  {
   "cell_type": "code",
   "execution_count": 9,
   "id": "637fd21a",
   "metadata": {},
   "outputs": [],
   "source": [
    "status = Graph.PyvisGraph(graph, \"C:/Users/wassimj/mep.html\", vertexGroupKey=\"pressure_drop\", vertexGroups=groups, vertexLabelKey=\"label\", edgeLabelKey=\"label\")"
   ]
  },
  {
   "cell_type": "code",
   "execution_count": null,
   "id": "c2d248f7",
   "metadata": {},
   "outputs": [],
   "source": []
  }
 ],
 "metadata": {
  "kernelspec": {
   "display_name": "Python 3 (ipykernel)",
   "language": "python",
   "name": "python3"
  },
  "language_info": {
   "codemirror_mode": {
    "name": "ipython",
    "version": 3
   },
   "file_extension": ".py",
   "mimetype": "text/x-python",
   "name": "python",
   "nbconvert_exporter": "python",
   "pygments_lexer": "ipython3",
   "version": "3.10.9"
  }
 },
 "nbformat": 4,
 "nbformat_minor": 5
}
