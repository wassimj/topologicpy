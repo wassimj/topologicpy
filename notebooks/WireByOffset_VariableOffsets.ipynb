{
 "cells": [
  {
   "cell_type": "code",
   "execution_count": 1,
   "id": "9459c850-4745-454e-b623-0d9da2095395",
   "metadata": {},
   "outputs": [],
   "source": [
    "# This is not needed on machines that have pip installed topologicpy\n",
    "import sys\n",
    "sys.path.append(\"C:/Users/sarwj/OneDrive - Cardiff University/Documents/GitHub/topologicpy/src/\")\n"
   ]
  },
  {
   "cell_type": "code",
   "execution_count": 2,
   "id": "d22d70d6-76f0-4503-8f93-8a9446dbc18a",
   "metadata": {},
   "outputs": [],
   "source": [
    "# Import all the classes that you will use here.\n",
    "from topologicpy.Vertex import Vertex\n",
    "from topologicpy.Edge import Edge\n",
    "from topologicpy.Wire import Wire\n",
    "from topologicpy.Face import Face\n",
    "from topologicpy.Shell import Shell\n",
    "from topologicpy.Cluster import Cluster\n",
    "from topologicpy.Topology import Topology\n",
    "from topologicpy.Dictionary import Dictionary"
   ]
  },
  {
   "cell_type": "code",
   "execution_count": 3,
   "id": "911f99d4-4a51-4ccc-8671-f55ec91bea3d",
   "metadata": {},
   "outputs": [
    {
     "data": {
      "application/vnd.plotly.v1+json": {
       "config": {
        "plotlyServerURL": "https://plot.ly"
       },
       "data": [
        {
         "hoverinfo": "text",
         "hovertext": "",
         "legendgroup": "1",
         "legendrank": 1,
         "marker": {
          "color": "black",
          "size": 1.1
         },
         "mode": "markers",
         "name": "Topology Vertices",
         "showlegend": false,
         "text": "",
         "type": "scatter3d",
         "x": [
          2,
          1.885404,
          1.768824,
          1.650381,
          1.530201,
          1.40841,
          1.285136,
          1.16051,
          1.034662,
          0.907724,
          0.779832,
          0.651118,
          0.521719,
          0.39177,
          0.26141,
          0.130774,
          0,
          -0.130774,
          -0.26141,
          -0.39177,
          -0.521719,
          -0.651118,
          -0.779832,
          -0.907724,
          -1.034662,
          -1.16051,
          -1.285136,
          -1.40841,
          -1.530201,
          -1.650381,
          -1.768824,
          -1.885404,
          -2
         ],
         "y": [
          0,
          0.063039,
          0.122328,
          0.177804,
          0.229408,
          0.277086,
          0.320789,
          0.360468,
          0.396085,
          0.427599,
          0.454979,
          0.478196,
          0.497225,
          0.512046,
          0.522644,
          0.529007,
          0.531129,
          0.529007,
          0.522644,
          0.512046,
          0.497225,
          0.478196,
          0.454979,
          0.427599,
          0.396085,
          0.360468,
          0.320789,
          0.277086,
          0.229408,
          0.177804,
          0.122328,
          0.063039,
          0
         ],
         "z": [
          0,
          0,
          0,
          0,
          0,
          0,
          0,
          0,
          0,
          0,
          0,
          0,
          0,
          0,
          0,
          0,
          0,
          0,
          0,
          0,
          0,
          0,
          0,
          0,
          0,
          0,
          0,
          0,
          0,
          0,
          0,
          0,
          0
         ]
        },
        {
         "hoverinfo": "text",
         "legendgroup": "2",
         "legendrank": 2,
         "line": {
          "color": "black",
          "width": 1
         },
         "marker": {
          "size": 0
         },
         "mode": "lines",
         "name": "Topology Edges",
         "showlegend": false,
         "text": "",
         "type": "scatter3d",
         "x": [
          2,
          1.885404,
          null,
          1.885404,
          1.768824,
          null,
          1.768824,
          1.650381,
          null,
          1.650381,
          1.530201,
          null,
          1.530201,
          1.40841,
          null,
          1.40841,
          1.285136,
          null,
          1.285136,
          1.16051,
          null,
          1.16051,
          1.034662,
          null,
          1.034662,
          0.907724,
          null,
          0.907724,
          0.779832,
          null,
          0.779832,
          0.651118,
          null,
          0.651118,
          0.521719,
          null,
          0.521719,
          0.39177,
          null,
          0.39177,
          0.26141,
          null,
          0.26141,
          0.130774,
          null,
          0.130774,
          0,
          null,
          0,
          -0.130774,
          null,
          -0.130774,
          -0.26141,
          null,
          -0.26141,
          -0.39177,
          null,
          -0.39177,
          -0.521719,
          null,
          -0.521719,
          -0.651118,
          null,
          -0.651118,
          -0.779832,
          null,
          -0.779832,
          -0.907724,
          null,
          -0.907724,
          -1.034662,
          null,
          -1.034662,
          -1.16051,
          null,
          -1.16051,
          -1.285136,
          null,
          -1.285136,
          -1.40841,
          null,
          -1.40841,
          -1.530201,
          null,
          -1.530201,
          -1.650381,
          null,
          -1.650381,
          -1.768824,
          null,
          -1.768824,
          -1.885404,
          null,
          -1.885404,
          -2,
          null
         ],
         "y": [
          0,
          0.063039,
          null,
          0.063039,
          0.122328,
          null,
          0.122328,
          0.177804,
          null,
          0.177804,
          0.229408,
          null,
          0.229408,
          0.277086,
          null,
          0.277086,
          0.320789,
          null,
          0.320789,
          0.360468,
          null,
          0.360468,
          0.396085,
          null,
          0.396085,
          0.427599,
          null,
          0.427599,
          0.454979,
          null,
          0.454979,
          0.478196,
          null,
          0.478196,
          0.497225,
          null,
          0.497225,
          0.512046,
          null,
          0.512046,
          0.522644,
          null,
          0.522644,
          0.529007,
          null,
          0.529007,
          0.531129,
          null,
          0.531129,
          0.529007,
          null,
          0.529007,
          0.522644,
          null,
          0.522644,
          0.512046,
          null,
          0.512046,
          0.497225,
          null,
          0.497225,
          0.478196,
          null,
          0.478196,
          0.454979,
          null,
          0.454979,
          0.427599,
          null,
          0.427599,
          0.396085,
          null,
          0.396085,
          0.360468,
          null,
          0.360468,
          0.320789,
          null,
          0.320789,
          0.277086,
          null,
          0.277086,
          0.229408,
          null,
          0.229408,
          0.177804,
          null,
          0.177804,
          0.122328,
          null,
          0.122328,
          0.063039,
          null,
          0.063039,
          0,
          null
         ],
         "z": [
          0,
          0,
          null,
          0,
          0,
          null,
          0,
          0,
          null,
          0,
          0,
          null,
          0,
          0,
          null,
          0,
          0,
          null,
          0,
          0,
          null,
          0,
          0,
          null,
          0,
          0,
          null,
          0,
          0,
          null,
          0,
          0,
          null,
          0,
          0,
          null,
          0,
          0,
          null,
          0,
          0,
          null,
          0,
          0,
          null,
          0,
          0,
          null,
          0,
          0,
          null,
          0,
          0,
          null,
          0,
          0,
          null,
          0,
          0,
          null,
          0,
          0,
          null,
          0,
          0,
          null,
          0,
          0,
          null,
          0,
          0,
          null,
          0,
          0,
          null,
          0,
          0,
          null,
          0,
          0,
          null,
          0,
          0,
          null,
          0,
          0,
          null,
          0,
          0,
          null,
          0,
          0,
          null,
          0,
          0,
          null
         ]
        },
        {
         "hoverinfo": "text",
         "hovertext": "",
         "legendgroup": "1",
         "legendrank": 1,
         "marker": {
          "color": "black",
          "size": 1.1
         },
         "mode": "markers",
         "name": "Topology Vertices",
         "showlegend": false,
         "text": "",
         "type": "scatter3d",
         "x": [
          2,
          0.5
         ],
         "y": [
          0,
          0.5
         ],
         "z": [
          0,
          0
         ]
        },
        {
         "hoverinfo": "text",
         "legendgroup": "2",
         "legendrank": 2,
         "line": {
          "color": "black",
          "width": 1
         },
         "marker": {
          "size": 0
         },
         "mode": "lines",
         "name": "Topology Edges",
         "showlegend": false,
         "text": "",
         "type": "scatter3d",
         "x": [
          2,
          0.5,
          null
         ],
         "y": [
          0,
          0.5,
          null
         ],
         "z": [
          0,
          0,
          null
         ]
        },
        {
         "hoverinfo": "text",
         "hovertext": "",
         "legendgroup": "1",
         "legendrank": 1,
         "marker": {
          "color": "black",
          "size": 1.1
         },
         "mode": "markers",
         "name": "Topology Vertices",
         "showlegend": false,
         "text": "",
         "type": "scatter3d",
         "x": [
          0.5,
          -2
         ],
         "y": [
          0.5,
          0
         ],
         "z": [
          0,
          0
         ]
        },
        {
         "hoverinfo": "text",
         "legendgroup": "2",
         "legendrank": 2,
         "line": {
          "color": "black",
          "width": 1
         },
         "marker": {
          "size": 0
         },
         "mode": "lines",
         "name": "Topology Edges",
         "showlegend": false,
         "text": "",
         "type": "scatter3d",
         "x": [
          0.5,
          -2,
          null
         ],
         "y": [
          0.5,
          0,
          null
         ],
         "z": [
          0,
          0,
          null
         ]
        }
       ],
       "layout": {
        "height": 500,
        "margin": {
         "b": 0,
         "l": 0,
         "r": 0,
         "t": 20
        },
        "paper_bgcolor": "rgba(0, 0, 0, 0)",
        "plot_bgcolor": "rgba(0, 0, 0, 0)",
        "scene": {
         "aspectmode": "data",
         "aspectratio": {
          "x": 3.1115251996739097,
          "y": 0.41315531694440094,
          "z": 0.7778812999184774
         },
         "camera": {
          "center": {
           "x": 0,
           "y": 0,
           "z": 0
          },
          "eye": {
           "x": 0,
           "y": 0,
           "z": 3
          },
          "projection": {
           "type": "orthographic"
          },
          "up": {
           "x": 0,
           "y": 1,
           "z": 0
          }
         },
         "xaxis": {
          "type": "linear",
          "visible": false
         },
         "yaxis": {
          "type": "linear",
          "visible": false
         },
         "zaxis": {
          "type": "linear",
          "visible": false
         }
        },
        "showlegend": true,
        "template": {
         "data": {
          "bar": [
           {
            "error_x": {
             "color": "#2a3f5f"
            },
            "error_y": {
             "color": "#2a3f5f"
            },
            "marker": {
             "line": {
              "color": "#E5ECF6",
              "width": 0.5
             },
             "pattern": {
              "fillmode": "overlay",
              "size": 10,
              "solidity": 0.2
             }
            },
            "type": "bar"
           }
          ],
          "barpolar": [
           {
            "marker": {
             "line": {
              "color": "#E5ECF6",
              "width": 0.5
             },
             "pattern": {
              "fillmode": "overlay",
              "size": 10,
              "solidity": 0.2
             }
            },
            "type": "barpolar"
           }
          ],
          "carpet": [
           {
            "aaxis": {
             "endlinecolor": "#2a3f5f",
             "gridcolor": "white",
             "linecolor": "white",
             "minorgridcolor": "white",
             "startlinecolor": "#2a3f5f"
            },
            "baxis": {
             "endlinecolor": "#2a3f5f",
             "gridcolor": "white",
             "linecolor": "white",
             "minorgridcolor": "white",
             "startlinecolor": "#2a3f5f"
            },
            "type": "carpet"
           }
          ],
          "choropleth": [
           {
            "colorbar": {
             "outlinewidth": 0,
             "ticks": ""
            },
            "type": "choropleth"
           }
          ],
          "contour": [
           {
            "colorbar": {
             "outlinewidth": 0,
             "ticks": ""
            },
            "colorscale": [
             [
              0,
              "#0d0887"
             ],
             [
              0.1111111111111111,
              "#46039f"
             ],
             [
              0.2222222222222222,
              "#7201a8"
             ],
             [
              0.3333333333333333,
              "#9c179e"
             ],
             [
              0.4444444444444444,
              "#bd3786"
             ],
             [
              0.5555555555555556,
              "#d8576b"
             ],
             [
              0.6666666666666666,
              "#ed7953"
             ],
             [
              0.7777777777777778,
              "#fb9f3a"
             ],
             [
              0.8888888888888888,
              "#fdca26"
             ],
             [
              1,
              "#f0f921"
             ]
            ],
            "type": "contour"
           }
          ],
          "contourcarpet": [
           {
            "colorbar": {
             "outlinewidth": 0,
             "ticks": ""
            },
            "type": "contourcarpet"
           }
          ],
          "heatmap": [
           {
            "colorbar": {
             "outlinewidth": 0,
             "ticks": ""
            },
            "colorscale": [
             [
              0,
              "#0d0887"
             ],
             [
              0.1111111111111111,
              "#46039f"
             ],
             [
              0.2222222222222222,
              "#7201a8"
             ],
             [
              0.3333333333333333,
              "#9c179e"
             ],
             [
              0.4444444444444444,
              "#bd3786"
             ],
             [
              0.5555555555555556,
              "#d8576b"
             ],
             [
              0.6666666666666666,
              "#ed7953"
             ],
             [
              0.7777777777777778,
              "#fb9f3a"
             ],
             [
              0.8888888888888888,
              "#fdca26"
             ],
             [
              1,
              "#f0f921"
             ]
            ],
            "type": "heatmap"
           }
          ],
          "heatmapgl": [
           {
            "colorbar": {
             "outlinewidth": 0,
             "ticks": ""
            },
            "colorscale": [
             [
              0,
              "#0d0887"
             ],
             [
              0.1111111111111111,
              "#46039f"
             ],
             [
              0.2222222222222222,
              "#7201a8"
             ],
             [
              0.3333333333333333,
              "#9c179e"
             ],
             [
              0.4444444444444444,
              "#bd3786"
             ],
             [
              0.5555555555555556,
              "#d8576b"
             ],
             [
              0.6666666666666666,
              "#ed7953"
             ],
             [
              0.7777777777777778,
              "#fb9f3a"
             ],
             [
              0.8888888888888888,
              "#fdca26"
             ],
             [
              1,
              "#f0f921"
             ]
            ],
            "type": "heatmapgl"
           }
          ],
          "histogram": [
           {
            "marker": {
             "pattern": {
              "fillmode": "overlay",
              "size": 10,
              "solidity": 0.2
             }
            },
            "type": "histogram"
           }
          ],
          "histogram2d": [
           {
            "colorbar": {
             "outlinewidth": 0,
             "ticks": ""
            },
            "colorscale": [
             [
              0,
              "#0d0887"
             ],
             [
              0.1111111111111111,
              "#46039f"
             ],
             [
              0.2222222222222222,
              "#7201a8"
             ],
             [
              0.3333333333333333,
              "#9c179e"
             ],
             [
              0.4444444444444444,
              "#bd3786"
             ],
             [
              0.5555555555555556,
              "#d8576b"
             ],
             [
              0.6666666666666666,
              "#ed7953"
             ],
             [
              0.7777777777777778,
              "#fb9f3a"
             ],
             [
              0.8888888888888888,
              "#fdca26"
             ],
             [
              1,
              "#f0f921"
             ]
            ],
            "type": "histogram2d"
           }
          ],
          "histogram2dcontour": [
           {
            "colorbar": {
             "outlinewidth": 0,
             "ticks": ""
            },
            "colorscale": [
             [
              0,
              "#0d0887"
             ],
             [
              0.1111111111111111,
              "#46039f"
             ],
             [
              0.2222222222222222,
              "#7201a8"
             ],
             [
              0.3333333333333333,
              "#9c179e"
             ],
             [
              0.4444444444444444,
              "#bd3786"
             ],
             [
              0.5555555555555556,
              "#d8576b"
             ],
             [
              0.6666666666666666,
              "#ed7953"
             ],
             [
              0.7777777777777778,
              "#fb9f3a"
             ],
             [
              0.8888888888888888,
              "#fdca26"
             ],
             [
              1,
              "#f0f921"
             ]
            ],
            "type": "histogram2dcontour"
           }
          ],
          "mesh3d": [
           {
            "colorbar": {
             "outlinewidth": 0,
             "ticks": ""
            },
            "type": "mesh3d"
           }
          ],
          "parcoords": [
           {
            "line": {
             "colorbar": {
              "outlinewidth": 0,
              "ticks": ""
             }
            },
            "type": "parcoords"
           }
          ],
          "pie": [
           {
            "automargin": true,
            "type": "pie"
           }
          ],
          "scatter": [
           {
            "fillpattern": {
             "fillmode": "overlay",
             "size": 10,
             "solidity": 0.2
            },
            "type": "scatter"
           }
          ],
          "scatter3d": [
           {
            "line": {
             "colorbar": {
              "outlinewidth": 0,
              "ticks": ""
             }
            },
            "marker": {
             "colorbar": {
              "outlinewidth": 0,
              "ticks": ""
             }
            },
            "type": "scatter3d"
           }
          ],
          "scattercarpet": [
           {
            "marker": {
             "colorbar": {
              "outlinewidth": 0,
              "ticks": ""
             }
            },
            "type": "scattercarpet"
           }
          ],
          "scattergeo": [
           {
            "marker": {
             "colorbar": {
              "outlinewidth": 0,
              "ticks": ""
             }
            },
            "type": "scattergeo"
           }
          ],
          "scattergl": [
           {
            "marker": {
             "colorbar": {
              "outlinewidth": 0,
              "ticks": ""
             }
            },
            "type": "scattergl"
           }
          ],
          "scattermapbox": [
           {
            "marker": {
             "colorbar": {
              "outlinewidth": 0,
              "ticks": ""
             }
            },
            "type": "scattermapbox"
           }
          ],
          "scatterpolar": [
           {
            "marker": {
             "colorbar": {
              "outlinewidth": 0,
              "ticks": ""
             }
            },
            "type": "scatterpolar"
           }
          ],
          "scatterpolargl": [
           {
            "marker": {
             "colorbar": {
              "outlinewidth": 0,
              "ticks": ""
             }
            },
            "type": "scatterpolargl"
           }
          ],
          "scatterternary": [
           {
            "marker": {
             "colorbar": {
              "outlinewidth": 0,
              "ticks": ""
             }
            },
            "type": "scatterternary"
           }
          ],
          "surface": [
           {
            "colorbar": {
             "outlinewidth": 0,
             "ticks": ""
            },
            "colorscale": [
             [
              0,
              "#0d0887"
             ],
             [
              0.1111111111111111,
              "#46039f"
             ],
             [
              0.2222222222222222,
              "#7201a8"
             ],
             [
              0.3333333333333333,
              "#9c179e"
             ],
             [
              0.4444444444444444,
              "#bd3786"
             ],
             [
              0.5555555555555556,
              "#d8576b"
             ],
             [
              0.6666666666666666,
              "#ed7953"
             ],
             [
              0.7777777777777778,
              "#fb9f3a"
             ],
             [
              0.8888888888888888,
              "#fdca26"
             ],
             [
              1,
              "#f0f921"
             ]
            ],
            "type": "surface"
           }
          ],
          "table": [
           {
            "cells": {
             "fill": {
              "color": "#EBF0F8"
             },
             "line": {
              "color": "white"
             }
            },
            "header": {
             "fill": {
              "color": "#C8D4E3"
             },
             "line": {
              "color": "white"
             }
            },
            "type": "table"
           }
          ]
         },
         "layout": {
          "annotationdefaults": {
           "arrowcolor": "#2a3f5f",
           "arrowhead": 0,
           "arrowwidth": 1
          },
          "autotypenumbers": "strict",
          "coloraxis": {
           "colorbar": {
            "outlinewidth": 0,
            "ticks": ""
           }
          },
          "colorscale": {
           "diverging": [
            [
             0,
             "#8e0152"
            ],
            [
             0.1,
             "#c51b7d"
            ],
            [
             0.2,
             "#de77ae"
            ],
            [
             0.3,
             "#f1b6da"
            ],
            [
             0.4,
             "#fde0ef"
            ],
            [
             0.5,
             "#f7f7f7"
            ],
            [
             0.6,
             "#e6f5d0"
            ],
            [
             0.7,
             "#b8e186"
            ],
            [
             0.8,
             "#7fbc41"
            ],
            [
             0.9,
             "#4d9221"
            ],
            [
             1,
             "#276419"
            ]
           ],
           "sequential": [
            [
             0,
             "#0d0887"
            ],
            [
             0.1111111111111111,
             "#46039f"
            ],
            [
             0.2222222222222222,
             "#7201a8"
            ],
            [
             0.3333333333333333,
             "#9c179e"
            ],
            [
             0.4444444444444444,
             "#bd3786"
            ],
            [
             0.5555555555555556,
             "#d8576b"
            ],
            [
             0.6666666666666666,
             "#ed7953"
            ],
            [
             0.7777777777777778,
             "#fb9f3a"
            ],
            [
             0.8888888888888888,
             "#fdca26"
            ],
            [
             1,
             "#f0f921"
            ]
           ],
           "sequentialminus": [
            [
             0,
             "#0d0887"
            ],
            [
             0.1111111111111111,
             "#46039f"
            ],
            [
             0.2222222222222222,
             "#7201a8"
            ],
            [
             0.3333333333333333,
             "#9c179e"
            ],
            [
             0.4444444444444444,
             "#bd3786"
            ],
            [
             0.5555555555555556,
             "#d8576b"
            ],
            [
             0.6666666666666666,
             "#ed7953"
            ],
            [
             0.7777777777777778,
             "#fb9f3a"
            ],
            [
             0.8888888888888888,
             "#fdca26"
            ],
            [
             1,
             "#f0f921"
            ]
           ]
          },
          "colorway": [
           "#636efa",
           "#EF553B",
           "#00cc96",
           "#ab63fa",
           "#FFA15A",
           "#19d3f3",
           "#FF6692",
           "#B6E880",
           "#FF97FF",
           "#FECB52"
          ],
          "font": {
           "color": "#2a3f5f"
          },
          "geo": {
           "bgcolor": "white",
           "lakecolor": "white",
           "landcolor": "#E5ECF6",
           "showlakes": true,
           "showland": true,
           "subunitcolor": "white"
          },
          "hoverlabel": {
           "align": "left"
          },
          "hovermode": "closest",
          "mapbox": {
           "style": "light"
          },
          "paper_bgcolor": "white",
          "plot_bgcolor": "#E5ECF6",
          "polar": {
           "angularaxis": {
            "gridcolor": "white",
            "linecolor": "white",
            "ticks": ""
           },
           "bgcolor": "#E5ECF6",
           "radialaxis": {
            "gridcolor": "white",
            "linecolor": "white",
            "ticks": ""
           }
          },
          "scene": {
           "xaxis": {
            "backgroundcolor": "#E5ECF6",
            "gridcolor": "white",
            "gridwidth": 2,
            "linecolor": "white",
            "showbackground": true,
            "ticks": "",
            "zerolinecolor": "white"
           },
           "yaxis": {
            "backgroundcolor": "#E5ECF6",
            "gridcolor": "white",
            "gridwidth": 2,
            "linecolor": "white",
            "showbackground": true,
            "ticks": "",
            "zerolinecolor": "white"
           },
           "zaxis": {
            "backgroundcolor": "#E5ECF6",
            "gridcolor": "white",
            "gridwidth": 2,
            "linecolor": "white",
            "showbackground": true,
            "ticks": "",
            "zerolinecolor": "white"
           }
          },
          "shapedefaults": {
           "line": {
            "color": "#2a3f5f"
           }
          },
          "ternary": {
           "aaxis": {
            "gridcolor": "white",
            "linecolor": "white",
            "ticks": ""
           },
           "baxis": {
            "gridcolor": "white",
            "linecolor": "white",
            "ticks": ""
           },
           "bgcolor": "#E5ECF6",
           "caxis": {
            "gridcolor": "white",
            "linecolor": "white",
            "ticks": ""
           }
          },
          "title": {
           "x": 0.05
          },
          "xaxis": {
           "automargin": true,
           "gridcolor": "white",
           "linecolor": "white",
           "ticks": "",
           "title": {
            "standoff": 15
           },
           "zerolinecolor": "white",
           "zerolinewidth": 2
          },
          "yaxis": {
           "automargin": true,
           "gridcolor": "white",
           "linecolor": "white",
           "ticks": "",
           "title": {
            "standoff": 15
           },
           "zerolinecolor": "white",
           "zerolinewidth": 2
          }
         }
        },
        "width": 950,
        "xaxis": {
         "showgrid": false,
         "visible": false,
         "zeroline": false
        },
        "yaxis": {
         "showgrid": false,
         "visible": false,
         "zeroline": false
        }
       }
      },
      "image/png": "[encoded data removed]"
     },
     "metadata": {},
     "output_type": "display_data"
    }
   ],
   "source": [
    "# Example of creating a segmented arc that passes through three vertices.\n",
    "# Create three vertices\n",
    "sv = Vertex.ByCoordinates(2, 0, 0)\n",
    "mv = Vertex.ByCoordinates(0.5, 0.5, 0)\n",
    "ev = Vertex.ByCoordinates(-2, 0, 0)\n",
    "\n",
    "# Create two edges between the vertices\n",
    "e1 = Edge.ByVertices(sv, mv)\n",
    "e2 = Edge.ByVertices(mv, ev)\n",
    "\n",
    "# Create an arc that passes through the three vertices\n",
    "arc = Wire.Arc(startVertex=sv, middleVertex=mv, endVertex=ev, sides=32, close= False)\n",
    "\n",
    "# Show that arc\n",
    "Topology.Show(arc, e1, e2, renderer=\"jupyterlab\", projection=\"ortho\", camera=[0,0,3], up=[0,1,0])"
   ]
  },
  {
   "cell_type": "code",
   "execution_count": 6,
   "id": "bd3d1df7-4bcd-4ab7-957b-089671eb20fb",
   "metadata": {},
   "outputs": [
    {
     "data": {
      "application/vnd.plotly.v1+json": {
       "config": {
        "plotlyServerURL": "https://plot.ly"
       },
       "data": [
        {
         "hoverinfo": "text",
         "hovertext": "",
         "legendgroup": "1",
         "legendrank": 1,
         "marker": {
          "color": "black",
          "size": 3
         },
         "mode": "markers",
         "name": "Topology Vertices",
         "showlegend": false,
         "text": "",
         "type": "scatter3d",
         "x": [
          -4.000326,
          -17.308581,
          -8.295796,
          5.799622,
          11.449632,
          33.219338,
          36.835496,
          48.945062,
          43.172821,
          59.710068,
          54.878078,
          32.112614,
          27.656311
         ],
         "y": [
          -4.008922,
          -17.345775,
          -26.885338,
          -23.257669,
          -45.915153,
          -52.331098,
          -38.988252,
          -35.871659,
          -12.723842,
          3.848944,
          8.963355,
          3.104243,
          -13.338721
         ],
         "z": [
          1.12218,
          4.855438,
          2.90457,
          -0.723108,
          -1.427569,
          -6.65667,
          -7.973255,
          -11.089844,
          -10.370148,
          -15.00921,
          -13.963299,
          -8.104245,
          -6.481772
         ]
        },
        {
         "hoverinfo": "text",
         "legendgroup": "2",
         "legendrank": 2,
         "line": {
          "color": "black",
          "width": 1
         },
         "marker": {
          "size": 0
         },
         "mode": "lines",
         "name": "Topology Edges",
         "showlegend": false,
         "text": "",
         "type": "scatter3d",
         "x": [
          -4.000326,
          -17.308581,
          null,
          -17.308581,
          -8.295796,
          null,
          -8.295796,
          5.799622,
          null,
          5.799622,
          11.449632,
          null,
          11.449632,
          33.219338,
          null,
          33.219338,
          36.835496,
          null,
          36.835496,
          48.945062,
          null,
          48.945062,
          43.172821,
          null,
          43.172821,
          59.710068,
          null,
          59.710068,
          54.878078,
          null,
          54.878078,
          32.112614,
          null,
          32.112614,
          27.656311,
          null,
          27.656311,
          -4.000326,
          null
         ],
         "y": [
          -4.008922,
          -17.345775,
          null,
          -17.345775,
          -26.885338,
          null,
          -26.885338,
          -23.257669,
          null,
          -23.257669,
          -45.915153,
          null,
          -45.915153,
          -52.331098,
          null,
          -52.331098,
          -38.988252,
          null,
          -38.988252,
          -35.871659,
          null,
          -35.871659,
          -12.723842,
          null,
          -12.723842,
          3.848944,
          null,
          3.848944,
          8.963355,
          null,
          8.963355,
          3.104243,
          null,
          3.104243,
          -13.338721,
          null,
          -13.338721,
          -4.008922,
          null
         ],
         "z": [
          1.12218,
          4.855438,
          null,
          4.855438,
          2.90457,
          null,
          2.90457,
          -0.723108,
          null,
          -0.723108,
          -1.427569,
          null,
          -1.427569,
          -6.65667,
          null,
          -6.65667,
          -7.973255,
          null,
          -7.973255,
          -11.089844,
          null,
          -11.089844,
          -10.370148,
          null,
          -10.370148,
          -15.00921,
          null,
          -15.00921,
          -13.963299,
          null,
          -13.963299,
          -8.104245,
          null,
          -8.104245,
          -6.481772,
          null,
          -6.481772,
          1.12218,
          null
         ]
        },
        {
         "hoverinfo": "text",
         "hovertext": "",
         "legendgroup": "1",
         "legendrank": 1,
         "marker": {
          "color": "black",
          "size": 3
         },
         "mode": "markers",
         "name": "Topology Vertices",
         "showlegend": false,
         "text": "",
         "type": "scatter3d",
         "x": [
          0,
          -18.001428,
          -7.812078,
          6.283311,
          12.566622,
          36.851362,
          40.757401,
          54.85279,
          48.569479,
          66.570908,
          56.381557,
          28.190779,
          24.28474
         ],
         "y": [
          0,
          -18.04018,
          -28.825018,
          -25.197346,
          -50.394693,
          -57.551859,
          -43.13935,
          -39.511678,
          -14.314332,
          3.725848,
          14.510686,
          7.255343,
          -7.157166
         ],
         "z": [
          0,
          5.049799,
          2.844256,
          -0.783416,
          -1.566832,
          -7.400047,
          -8.822175,
          -12.449846,
          -11.66643,
          -16.716229,
          -14.510686,
          -7.255343,
          -5.833215
         ]
        },
        {
         "hoverinfo": "text",
         "legendgroup": "2",
         "legendrank": 2,
         "line": {
          "color": "black",
          "width": 1
         },
         "marker": {
          "size": 0
         },
         "mode": "lines",
         "name": "Topology Edges",
         "showlegend": false,
         "text": "",
         "type": "scatter3d",
         "x": [
          0,
          -18.001428,
          null,
          -18.001428,
          -7.812078,
          null,
          -7.812078,
          6.283311,
          null,
          6.283311,
          12.566622,
          null,
          12.566622,
          36.851362,
          null,
          36.851362,
          40.757401,
          null,
          40.757401,
          54.85279,
          null,
          54.85279,
          48.569479,
          null,
          48.569479,
          66.570908,
          null,
          66.570908,
          56.381557,
          null,
          56.381557,
          28.190779,
          null,
          28.190779,
          24.28474,
          null,
          24.28474,
          0,
          null
         ],
         "y": [
          0,
          -18.04018,
          null,
          -18.04018,
          -28.825018,
          null,
          -28.825018,
          -25.197346,
          null,
          -25.197346,
          -50.394693,
          null,
          -50.394693,
          -57.551859,
          null,
          -57.551859,
          -43.13935,
          null,
          -43.13935,
          -39.511678,
          null,
          -39.511678,
          -14.314332,
          null,
          -14.314332,
          3.725848,
          null,
          3.725848,
          14.510686,
          null,
          14.510686,
          7.255343,
          null,
          7.255343,
          -7.157166,
          null,
          -7.157166,
          0,
          null
         ],
         "z": [
          0,
          5.049799,
          null,
          5.049799,
          2.844256,
          null,
          2.844256,
          -0.783416,
          null,
          -0.783416,
          -1.566832,
          null,
          -1.566832,
          -7.400047,
          null,
          -7.400047,
          -8.822175,
          null,
          -8.822175,
          -12.449846,
          null,
          -12.449846,
          -11.66643,
          null,
          -11.66643,
          -16.716229,
          null,
          -16.716229,
          -14.510686,
          null,
          -14.510686,
          -7.255343,
          null,
          -7.255343,
          -5.833215,
          null,
          -5.833215,
          0,
          null
         ]
        },
        {
         "hoverinfo": "text",
         "legendgroup": "2",
         "legendrank": 2,
         "line": {
          "color": "red",
          "width": 6
         },
         "marker": {
          "size": 0
         },
         "mode": "lines",
         "name": "X-Axis",
         "showlegend": false,
         "text": "",
         "type": "scatter3d",
         "x": [
          0,
          6,
          null
         ],
         "y": [
          0,
          0,
          null
         ],
         "z": [
          0,
          0,
          null
         ]
        },
        {
         "hoverinfo": "text",
         "legendgroup": "2",
         "legendrank": 2,
         "line": {
          "color": "green",
          "width": 6
         },
         "marker": {
          "size": 0
         },
         "mode": "lines",
         "name": "Y-Axis",
         "showlegend": false,
         "text": "",
         "type": "scatter3d",
         "x": [
          0,
          0,
          null
         ],
         "y": [
          0,
          6,
          null
         ],
         "z": [
          0,
          0,
          null
         ]
        },
        {
         "hoverinfo": "text",
         "legendgroup": "2",
         "legendrank": 2,
         "line": {
          "color": "blue",
          "width": 6
         },
         "marker": {
          "size": 0
         },
         "mode": "lines",
         "name": "Z-Axis",
         "showlegend": false,
         "text": "",
         "type": "scatter3d",
         "x": [
          0,
          0,
          null
         ],
         "y": [
          0,
          0,
          null
         ],
         "z": [
          0,
          6,
          null
         ]
        }
       ],
       "layout": {
        "height": 500,
        "margin": {
         "b": 0,
         "l": 0,
         "r": 0,
         "t": 20
        },
        "paper_bgcolor": "rgba(0, 0, 0, 0)",
        "plot_bgcolor": "rgba(0, 0, 0, 0)",
        "scene": {
         "aspectmode": "data",
         "aspectratio": {
          "x": 1.634821245686167,
          "y": 1.3930013661230247,
          "z": 0.4391149109452555
         },
         "camera": {
          "center": {
           "x": 0,
           "y": 0,
           "z": 0
          },
          "eye": {
           "x": -1.3561661970110934,
           "y": -1.3561661970110932,
           "z": 1.3561661970110934
          },
          "projection": {
           "type": "perspective"
          },
          "up": {
           "x": 0,
           "y": 0,
           "z": 1
          }
         },
         "xaxis": {
          "type": "linear",
          "visible": false
         },
         "yaxis": {
          "type": "linear",
          "visible": false
         },
         "zaxis": {
          "type": "linear",
          "visible": false
         }
        },
        "showlegend": true,
        "template": {
         "data": {
          "bar": [
           {
            "error_x": {
             "color": "#2a3f5f"
            },
            "error_y": {
             "color": "#2a3f5f"
            },
            "marker": {
             "line": {
              "color": "#E5ECF6",
              "width": 0.5
             },
             "pattern": {
              "fillmode": "overlay",
              "size": 10,
              "solidity": 0.2
             }
            },
            "type": "bar"
           }
          ],
          "barpolar": [
           {
            "marker": {
             "line": {
              "color": "#E5ECF6",
              "width": 0.5
             },
             "pattern": {
              "fillmode": "overlay",
              "size": 10,
              "solidity": 0.2
             }
            },
            "type": "barpolar"
           }
          ],
          "carpet": [
           {
            "aaxis": {
             "endlinecolor": "#2a3f5f",
             "gridcolor": "white",
             "linecolor": "white",
             "minorgridcolor": "white",
             "startlinecolor": "#2a3f5f"
            },
            "baxis": {
             "endlinecolor": "#2a3f5f",
             "gridcolor": "white",
             "linecolor": "white",
             "minorgridcolor": "white",
             "startlinecolor": "#2a3f5f"
            },
            "type": "carpet"
           }
          ],
          "choropleth": [
           {
            "colorbar": {
             "outlinewidth": 0,
             "ticks": ""
            },
            "type": "choropleth"
           }
          ],
          "contour": [
           {
            "colorbar": {
             "outlinewidth": 0,
             "ticks": ""
            },
            "colorscale": [
             [
              0,
              "#0d0887"
             ],
             [
              0.1111111111111111,
              "#46039f"
             ],
             [
              0.2222222222222222,
              "#7201a8"
             ],
             [
              0.3333333333333333,
              "#9c179e"
             ],
             [
              0.4444444444444444,
              "#bd3786"
             ],
             [
              0.5555555555555556,
              "#d8576b"
             ],
             [
              0.6666666666666666,
              "#ed7953"
             ],
             [
              0.7777777777777778,
              "#fb9f3a"
             ],
             [
              0.8888888888888888,
              "#fdca26"
             ],
             [
              1,
              "#f0f921"
             ]
            ],
            "type": "contour"
           }
          ],
          "contourcarpet": [
           {
            "colorbar": {
             "outlinewidth": 0,
             "ticks": ""
            },
            "type": "contourcarpet"
           }
          ],
          "heatmap": [
           {
            "colorbar": {
             "outlinewidth": 0,
             "ticks": ""
            },
            "colorscale": [
             [
              0,
              "#0d0887"
             ],
             [
              0.1111111111111111,
              "#46039f"
             ],
             [
              0.2222222222222222,
              "#7201a8"
             ],
             [
              0.3333333333333333,
              "#9c179e"
             ],
             [
              0.4444444444444444,
              "#bd3786"
             ],
             [
              0.5555555555555556,
              "#d8576b"
             ],
             [
              0.6666666666666666,
              "#ed7953"
             ],
             [
              0.7777777777777778,
              "#fb9f3a"
             ],
             [
              0.8888888888888888,
              "#fdca26"
             ],
             [
              1,
              "#f0f921"
             ]
            ],
            "type": "heatmap"
           }
          ],
          "heatmapgl": [
           {
            "colorbar": {
             "outlinewidth": 0,
             "ticks": ""
            },
            "colorscale": [
             [
              0,
              "#0d0887"
             ],
             [
              0.1111111111111111,
              "#46039f"
             ],
             [
              0.2222222222222222,
              "#7201a8"
             ],
             [
              0.3333333333333333,
              "#9c179e"
             ],
             [
              0.4444444444444444,
              "#bd3786"
             ],
             [
              0.5555555555555556,
              "#d8576b"
             ],
             [
              0.6666666666666666,
              "#ed7953"
             ],
             [
              0.7777777777777778,
              "#fb9f3a"
             ],
             [
              0.8888888888888888,
              "#fdca26"
             ],
             [
              1,
              "#f0f921"
             ]
            ],
            "type": "heatmapgl"
           }
          ],
          "histogram": [
           {
            "marker": {
             "pattern": {
              "fillmode": "overlay",
              "size": 10,
              "solidity": 0.2
             }
            },
            "type": "histogram"
           }
          ],
          "histogram2d": [
           {
            "colorbar": {
             "outlinewidth": 0,
             "ticks": ""
            },
            "colorscale": [
             [
              0,
              "#0d0887"
             ],
             [
              0.1111111111111111,
              "#46039f"
             ],
             [
              0.2222222222222222,
              "#7201a8"
             ],
             [
              0.3333333333333333,
              "#9c179e"
             ],
             [
              0.4444444444444444,
              "#bd3786"
             ],
             [
              0.5555555555555556,
              "#d8576b"
             ],
             [
              0.6666666666666666,
              "#ed7953"
             ],
             [
              0.7777777777777778,
              "#fb9f3a"
             ],
             [
              0.8888888888888888,
              "#fdca26"
             ],
             [
              1,
              "#f0f921"
             ]
            ],
            "type": "histogram2d"
           }
          ],
          "histogram2dcontour": [
           {
            "colorbar": {
             "outlinewidth": 0,
             "ticks": ""
            },
            "colorscale": [
             [
              0,
              "#0d0887"
             ],
             [
              0.1111111111111111,
              "#46039f"
             ],
             [
              0.2222222222222222,
              "#7201a8"
             ],
             [
              0.3333333333333333,
              "#9c179e"
             ],
             [
              0.4444444444444444,
              "#bd3786"
             ],
             [
              0.5555555555555556,
              "#d8576b"
             ],
             [
              0.6666666666666666,
              "#ed7953"
             ],
             [
              0.7777777777777778,
              "#fb9f3a"
             ],
             [
              0.8888888888888888,
              "#fdca26"
             ],
             [
              1,
              "#f0f921"
             ]
            ],
            "type": "histogram2dcontour"
           }
          ],
          "mesh3d": [
           {
            "colorbar": {
             "outlinewidth": 0,
             "ticks": ""
            },
            "type": "mesh3d"
           }
          ],
          "parcoords": [
           {
            "line": {
             "colorbar": {
              "outlinewidth": 0,
              "ticks": ""
             }
            },
            "type": "parcoords"
           }
          ],
          "pie": [
           {
            "automargin": true,
            "type": "pie"
           }
          ],
          "scatter": [
           {
            "fillpattern": {
             "fillmode": "overlay",
             "size": 10,
             "solidity": 0.2
            },
            "type": "scatter"
           }
          ],
          "scatter3d": [
           {
            "line": {
             "colorbar": {
              "outlinewidth": 0,
              "ticks": ""
             }
            },
            "marker": {
             "colorbar": {
              "outlinewidth": 0,
              "ticks": ""
             }
            },
            "type": "scatter3d"
           }
          ],
          "scattercarpet": [
           {
            "marker": {
             "colorbar": {
              "outlinewidth": 0,
              "ticks": ""
             }
            },
            "type": "scattercarpet"
           }
          ],
          "scattergeo": [
           {
            "marker": {
             "colorbar": {
              "outlinewidth": 0,
              "ticks": ""
             }
            },
            "type": "scattergeo"
           }
          ],
          "scattergl": [
           {
            "marker": {
             "colorbar": {
              "outlinewidth": 0,
              "ticks": ""
             }
            },
            "type": "scattergl"
           }
          ],
          "scattermapbox": [
           {
            "marker": {
             "colorbar": {
              "outlinewidth": 0,
              "ticks": ""
             }
            },
            "type": "scattermapbox"
           }
          ],
          "scatterpolar": [
           {
            "marker": {
             "colorbar": {
              "outlinewidth": 0,
              "ticks": ""
             }
            },
            "type": "scatterpolar"
           }
          ],
          "scatterpolargl": [
           {
            "marker": {
             "colorbar": {
              "outlinewidth": 0,
              "ticks": ""
             }
            },
            "type": "scatterpolargl"
           }
          ],
          "scatterternary": [
           {
            "marker": {
             "colorbar": {
              "outlinewidth": 0,
              "ticks": ""
             }
            },
            "type": "scatterternary"
           }
          ],
          "surface": [
           {
            "colorbar": {
             "outlinewidth": 0,
             "ticks": ""
            },
            "colorscale": [
             [
              0,
              "#0d0887"
             ],
             [
              0.1111111111111111,
              "#46039f"
             ],
             [
              0.2222222222222222,
              "#7201a8"
             ],
             [
              0.3333333333333333,
              "#9c179e"
             ],
             [
              0.4444444444444444,
              "#bd3786"
             ],
             [
              0.5555555555555556,
              "#d8576b"
             ],
             [
              0.6666666666666666,
              "#ed7953"
             ],
             [
              0.7777777777777778,
              "#fb9f3a"
             ],
             [
              0.8888888888888888,
              "#fdca26"
             ],
             [
              1,
              "#f0f921"
             ]
            ],
            "type": "surface"
           }
          ],
          "table": [
           {
            "cells": {
             "fill": {
              "color": "#EBF0F8"
             },
             "line": {
              "color": "white"
             }
            },
            "header": {
             "fill": {
              "color": "#C8D4E3"
             },
             "line": {
              "color": "white"
             }
            },
            "type": "table"
           }
          ]
         },
         "layout": {
          "annotationdefaults": {
           "arrowcolor": "#2a3f5f",
           "arrowhead": 0,
           "arrowwidth": 1
          },
          "autotypenumbers": "strict",
          "coloraxis": {
           "colorbar": {
            "outlinewidth": 0,
            "ticks": ""
           }
          },
          "colorscale": {
           "diverging": [
            [
             0,
             "#8e0152"
            ],
            [
             0.1,
             "#c51b7d"
            ],
            [
             0.2,
             "#de77ae"
            ],
            [
             0.3,
             "#f1b6da"
            ],
            [
             0.4,
             "#fde0ef"
            ],
            [
             0.5,
             "#f7f7f7"
            ],
            [
             0.6,
             "#e6f5d0"
            ],
            [
             0.7,
             "#b8e186"
            ],
            [
             0.8,
             "#7fbc41"
            ],
            [
             0.9,
             "#4d9221"
            ],
            [
             1,
             "#276419"
            ]
           ],
           "sequential": [
            [
             0,
             "#0d0887"
            ],
            [
             0.1111111111111111,
             "#46039f"
            ],
            [
             0.2222222222222222,
             "#7201a8"
            ],
            [
             0.3333333333333333,
             "#9c179e"
            ],
            [
             0.4444444444444444,
             "#bd3786"
            ],
            [
             0.5555555555555556,
             "#d8576b"
            ],
            [
             0.6666666666666666,
             "#ed7953"
            ],
            [
             0.7777777777777778,
             "#fb9f3a"
            ],
            [
             0.8888888888888888,
             "#fdca26"
            ],
            [
             1,
             "#f0f921"
            ]
           ],
           "sequentialminus": [
            [
             0,
             "#0d0887"
            ],
            [
             0.1111111111111111,
             "#46039f"
            ],
            [
             0.2222222222222222,
             "#7201a8"
            ],
            [
             0.3333333333333333,
             "#9c179e"
            ],
            [
             0.4444444444444444,
             "#bd3786"
            ],
            [
             0.5555555555555556,
             "#d8576b"
            ],
            [
             0.6666666666666666,
             "#ed7953"
            ],
            [
             0.7777777777777778,
             "#fb9f3a"
            ],
            [
             0.8888888888888888,
             "#fdca26"
            ],
            [
             1,
             "#f0f921"
            ]
           ]
          },
          "colorway": [
           "#636efa",
           "#EF553B",
           "#00cc96",
           "#ab63fa",
           "#FFA15A",
           "#19d3f3",
           "#FF6692",
           "#B6E880",
           "#FF97FF",
           "#FECB52"
          ],
          "font": {
           "color": "#2a3f5f"
          },
          "geo": {
           "bgcolor": "white",
           "lakecolor": "white",
           "landcolor": "#E5ECF6",
           "showlakes": true,
           "showland": true,
           "subunitcolor": "white"
          },
          "hoverlabel": {
           "align": "left"
          },
          "hovermode": "closest",
          "mapbox": {
           "style": "light"
          },
          "paper_bgcolor": "white",
          "plot_bgcolor": "#E5ECF6",
          "polar": {
           "angularaxis": {
            "gridcolor": "white",
            "linecolor": "white",
            "ticks": ""
           },
           "bgcolor": "#E5ECF6",
           "radialaxis": {
            "gridcolor": "white",
            "linecolor": "white",
            "ticks": ""
           }
          },
          "scene": {
           "xaxis": {
            "backgroundcolor": "#E5ECF6",
            "gridcolor": "white",
            "gridwidth": 2,
            "linecolor": "white",
            "showbackground": true,
            "ticks": "",
            "zerolinecolor": "white"
           },
           "yaxis": {
            "backgroundcolor": "#E5ECF6",
            "gridcolor": "white",
            "gridwidth": 2,
            "linecolor": "white",
            "showbackground": true,
            "ticks": "",
            "zerolinecolor": "white"
           },
           "zaxis": {
            "backgroundcolor": "#E5ECF6",
            "gridcolor": "white",
            "gridwidth": 2,
            "linecolor": "white",
            "showbackground": true,
            "ticks": "",
            "zerolinecolor": "white"
           }
          },
          "shapedefaults": {
           "line": {
            "color": "#2a3f5f"
           }
          },
          "ternary": {
           "aaxis": {
            "gridcolor": "white",
            "linecolor": "white",
            "ticks": ""
           },
           "baxis": {
            "gridcolor": "white",
            "linecolor": "white",
            "ticks": ""
           },
           "bgcolor": "#E5ECF6",
           "caxis": {
            "gridcolor": "white",
            "linecolor": "white",
            "ticks": ""
           }
          },
          "title": {
           "x": 0.05
          },
          "xaxis": {
           "automargin": true,
           "gridcolor": "white",
           "linecolor": "white",
           "ticks": "",
           "title": {
            "standoff": 15
           },
           "zerolinecolor": "white",
           "zerolinewidth": 2
          },
          "yaxis": {
           "automargin": true,
           "gridcolor": "white",
           "linecolor": "white",
           "ticks": "",
           "title": {
            "standoff": 15
           },
           "zerolinecolor": "white",
           "zerolinewidth": 2
          }
         }
        },
        "width": 950,
        "xaxis": {
         "showgrid": false,
         "visible": false,
         "zeroline": false
        },
        "yaxis": {
         "showgrid": false,
         "visible": false,
         "zeroline": false
        }
       }
      },
      "image/png": "[encoded data removed]"
     },
     "metadata": {},
     "output_type": "display_data"
    }
   ],
   "source": [
    "# Example of creating an offset wire. This works for both closed and open wires, but they must be manifold (connected head to tail like a polyline)\n",
    "\n",
    "# Create an Einstein mono-tile wire\n",
    "r = Wire.Einstein(radius=30)\n",
    "# Rotate it just to show that wires do not have to be in the XY plane for them to work. They can be in 3D space.\n",
    "r = Topology.Rotate(r, axis=[0,1,1,], angle=20)\n",
    "# Get its edges\n",
    "edges = Topology.Edges(r)\n",
    "# Loop through the edges and asssign them random offsets\n",
    "for i, edge in enumerate(edges):\n",
    "    d = Dictionary.ByKeyValue(\"offset\", min((i),5))\n",
    "    if i == 3:\n",
    "        d = Dictionary.ByKeyValue(\"offset\", 0.0)\n",
    "    edge = Topology.SetDictionary(edge, d)\n",
    "\n",
    "# Create a new offset wire based on the custom edge offsets\n",
    "new_wire = Wire.ByOffset(r, offset=3, offsetKey=\"offset\", bisectors=False, tolerance=0.0001)\n",
    "Topology.Show(new_wire, r, vertexSize=3, renderer=\"jupyterlab\", xAxis=True, yAxis=True, zAxis=True, axisSize=6)"
   ]
  },
  {
   "cell_type": "code",
   "execution_count": 13,
   "id": "a0a12b07-e8ff-4210-81a9-01ada9b13c7d",
   "metadata": {
    "scrolled": true
   },
   "outputs": [
    {
     "data": {
      "application/vnd.plotly.v1+json": {
       "config": {
        "plotlyServerURL": "https://plot.ly"
       },
       "data": [
        {
         "hoverinfo": "text",
         "hovertext": "",
         "legendgroup": "1",
         "legendrank": 1,
         "marker": {
          "color": "black",
          "size": 1.1
         },
         "mode": "markers",
         "name": "Topology Vertices",
         "showlegend": false,
         "text": "",
         "type": "scatter3d",
         "x": [
          -252.526228,
          -0.197477
         ],
         "y": [
          173.534993,
          -37.697626
         ],
         "z": [
          0,
          0
         ]
        },
        {
         "hoverinfo": "text",
         "legendgroup": "2",
         "legendrank": 2,
         "line": {
          "color": "black",
          "width": 1
         },
         "marker": {
          "size": 0
         },
         "mode": "lines",
         "name": "Topology Edges",
         "showlegend": false,
         "text": "",
         "type": "scatter3d",
         "x": [
          -252.526228,
          -0.197477,
          null
         ],
         "y": [
          173.534993,
          -37.697626,
          null
         ],
         "z": [
          0,
          0,
          null
         ]
        },
        {
         "hoverinfo": "text",
         "hovertext": "",
         "legendgroup": "1",
         "legendrank": 1,
         "marker": {
          "color": "black",
          "size": 1.1
         },
         "mode": "markers",
         "name": "Topology Vertices",
         "showlegend": false,
         "text": "",
         "type": "scatter3d",
         "x": [
          -53.473232,
          132.250143
         ],
         "y": [
          363.461657,
          120.518198
         ],
         "z": [
          0,
          0
         ]
        },
        {
         "hoverinfo": "text",
         "legendgroup": "2",
         "legendrank": 2,
         "line": {
          "color": "black",
          "width": 1
         },
         "marker": {
          "size": 0
         },
         "mode": "lines",
         "name": "Topology Edges",
         "showlegend": false,
         "text": "",
         "type": "scatter3d",
         "x": [
          -53.473232,
          132.250143,
          null
         ],
         "y": [
          363.461657,
          120.518198,
          null
         ],
         "z": [
          0,
          0,
          null
         ]
        },
        {
         "hoverinfo": "text",
         "hovertext": "",
         "legendgroup": "1",
         "legendrank": 1,
         "marker": {
          "color": "black",
          "size": 1.1
         },
         "mode": "markers",
         "name": "Topology Vertices",
         "showlegend": false,
         "text": "",
         "type": "scatter3d",
         "x": [
          228.210589,
          304.122374
         ],
         "y": [
          140.038077,
          305.553601
         ],
         "z": [
          0,
          0
         ]
        },
        {
         "hoverinfo": "text",
         "legendgroup": "2",
         "legendrank": 2,
         "line": {
          "color": "black",
          "width": 1
         },
         "marker": {
          "size": 0
         },
         "mode": "lines",
         "name": "Topology Edges",
         "showlegend": false,
         "text": "",
         "type": "scatter3d",
         "x": [
          228.210589,
          304.122374,
          null
         ],
         "y": [
          140.038077,
          305.553601,
          null
         ],
         "z": [
          0,
          0,
          null
         ]
        },
        {
         "hoverinfo": "text",
         "hovertext": "",
         "legendgroup": "1",
         "legendrank": 1,
         "marker": {
          "color": "black",
          "size": 1.1
         },
         "mode": "markers",
         "name": "Topology Vertices",
         "showlegend": false,
         "text": "",
         "type": "scatter3d",
         "x": [
          168.211956,
          241.879744
         ],
         "y": [
          227.728387,
          334.100466
         ],
         "z": [
          0,
          0
         ]
        },
        {
         "hoverinfo": "text",
         "legendgroup": "2",
         "legendrank": 2,
         "line": {
          "color": "black",
          "width": 1
         },
         "marker": {
          "size": 0
         },
         "mode": "lines",
         "name": "Topology Edges",
         "showlegend": false,
         "text": "",
         "type": "scatter3d",
         "x": [
          168.211956,
          241.879744,
          null
         ],
         "y": [
          227.728387,
          334.100466,
          null
         ],
         "z": [
          0,
          0,
          null
         ]
        },
        {
         "hoverinfo": "text",
         "hovertext": "",
         "legendgroup": "1",
         "legendrank": 1,
         "marker": {
          "color": "black",
          "size": 1.1
         },
         "mode": "markers",
         "name": "Topology Vertices",
         "showlegend": false,
         "text": "",
         "type": "scatter3d",
         "x": [
          302.943709,
          465.183822
         ],
         "y": [
          159.311063,
          -14.063521
         ],
         "z": [
          0,
          0
         ]
        },
        {
         "hoverinfo": "text",
         "legendgroup": "2",
         "legendrank": 2,
         "line": {
          "color": "black",
          "width": 1
         },
         "marker": {
          "size": 0
         },
         "mode": "lines",
         "name": "Topology Edges",
         "showlegend": false,
         "text": "",
         "type": "scatter3d",
         "x": [
          302.943709,
          465.183822,
          null
         ],
         "y": [
          159.311063,
          -14.063521,
          null
         ],
         "z": [
          0,
          0,
          null
         ]
        },
        {
         "hoverinfo": "text",
         "hovertext": "",
         "legendgroup": "1",
         "legendrank": 1,
         "marker": {
          "color": "black",
          "size": 1.1
         },
         "mode": "markers",
         "name": "Topology Vertices",
         "showlegend": false,
         "text": "",
         "type": "scatter3d",
         "x": [
          -93.531623,
          -120.92589
         ],
         "y": [
          -75.033818,
          -357.907176
         ],
         "z": [
          0,
          0
         ]
        },
        {
         "hoverinfo": "text",
         "legendgroup": "2",
         "legendrank": 2,
         "line": {
          "color": "black",
          "width": 1
         },
         "marker": {
          "size": 0
         },
         "mode": "lines",
         "name": "Topology Edges",
         "showlegend": false,
         "text": "",
         "type": "scatter3d",
         "x": [
          -93.531623,
          -120.92589,
          null
         ],
         "y": [
          -75.033818,
          -357.907176,
          null
         ],
         "z": [
          0,
          0,
          null
         ]
        },
        {
         "hoverinfo": "text",
         "hovertext": "",
         "legendgroup": "1",
         "legendrank": 1,
         "marker": {
          "color": "black",
          "size": 1.1
         },
         "mode": "markers",
         "name": "Topology Vertices",
         "showlegend": false,
         "text": "",
         "type": "scatter3d",
         "x": [
          272.503927,
          348.549858
         ],
         "y": [
          75.30166,
          285.177449
         ],
         "z": [
          0,
          0
         ]
        },
        {
         "hoverinfo": "text",
         "legendgroup": "2",
         "legendrank": 2,
         "line": {
          "color": "black",
          "width": 1
         },
         "marker": {
          "size": 0
         },
         "mode": "lines",
         "name": "Topology Edges",
         "showlegend": false,
         "text": "",
         "type": "scatter3d",
         "x": [
          272.503927,
          348.549858,
          null
         ],
         "y": [
          75.30166,
          285.177449,
          null
         ],
         "z": [
          0,
          0,
          null
         ]
        },
        {
         "hoverinfo": "text",
         "hovertext": "",
         "legendgroup": "1",
         "legendrank": 1,
         "marker": {
          "color": "black",
          "size": 1.1
         },
         "mode": "markers",
         "name": "Topology Vertices",
         "showlegend": false,
         "text": "",
         "type": "scatter3d",
         "x": [
          193.48786,
          503.611856
         ],
         "y": [
          356.294844,
          214.060053
         ],
         "z": [
          0,
          0
         ]
        },
        {
         "hoverinfo": "text",
         "legendgroup": "2",
         "legendrank": 2,
         "line": {
          "color": "black",
          "width": 1
         },
         "marker": {
          "size": 0
         },
         "mode": "lines",
         "name": "Topology Edges",
         "showlegend": false,
         "text": "",
         "type": "scatter3d",
         "x": [
          193.48786,
          503.611856,
          null
         ],
         "y": [
          356.294844,
          214.060053,
          null
         ],
         "z": [
          0,
          0,
          null
         ]
        },
        {
         "hoverinfo": "text",
         "hovertext": "",
         "legendgroup": "1",
         "legendrank": 1,
         "marker": {
          "color": "black",
          "size": 1.1
         },
         "mode": "markers",
         "name": "Topology Vertices",
         "showlegend": false,
         "text": "",
         "type": "scatter3d",
         "x": [
          -47.244608,
          192.402329
         ],
         "y": [
          -93.89796,
          192.373226
         ],
         "z": [
          0,
          0
         ]
        },
        {
         "hoverinfo": "text",
         "legendgroup": "2",
         "legendrank": 2,
         "line": {
          "color": "black",
          "width": 1
         },
         "marker": {
          "size": 0
         },
         "mode": "lines",
         "name": "Topology Edges",
         "showlegend": false,
         "text": "",
         "type": "scatter3d",
         "x": [
          -47.244608,
          192.402329,
          null
         ],
         "y": [
          -93.89796,
          192.373226,
          null
         ],
         "z": [
          0,
          0,
          null
         ]
        },
        {
         "hoverinfo": "text",
         "hovertext": "",
         "legendgroup": "1",
         "legendrank": 1,
         "marker": {
          "color": "black",
          "size": 1.1
         },
         "mode": "markers",
         "name": "Topology Vertices",
         "showlegend": false,
         "text": "",
         "type": "scatter3d",
         "x": [
          -387.48343,
          24.462339
         ],
         "y": [
          44.76541,
          437.82398
         ],
         "z": [
          0,
          0
         ]
        },
        {
         "hoverinfo": "text",
         "legendgroup": "2",
         "legendrank": 2,
         "line": {
          "color": "black",
          "width": 1
         },
         "marker": {
          "size": 0
         },
         "mode": "lines",
         "name": "Topology Edges",
         "showlegend": false,
         "text": "",
         "type": "scatter3d",
         "x": [
          -387.48343,
          24.462339,
          null
         ],
         "y": [
          44.76541,
          437.82398,
          null
         ],
         "z": [
          0,
          0,
          null
         ]
        },
        {
         "hoverinfo": "text",
         "hovertext": "",
         "legendgroup": "1",
         "legendrank": 1,
         "marker": {
          "color": "black",
          "size": 1.1
         },
         "mode": "markers",
         "name": "Topology Vertices",
         "showlegend": false,
         "text": "",
         "type": "scatter3d",
         "x": [
          -271.064987,
          78.413577
         ],
         "y": [
          -2.680598,
          358.972172
         ],
         "z": [
          0,
          0
         ]
        },
        {
         "hoverinfo": "text",
         "legendgroup": "2",
         "legendrank": 2,
         "line": {
          "color": "black",
          "width": 1
         },
         "marker": {
          "size": 0
         },
         "mode": "lines",
         "name": "Topology Edges",
         "showlegend": false,
         "text": "",
         "type": "scatter3d",
         "x": [
          -271.064987,
          78.413577,
          null
         ],
         "y": [
          -2.680598,
          358.972172,
          null
         ],
         "z": [
          0,
          0,
          null
         ]
        },
        {
         "hoverinfo": "text",
         "hovertext": "",
         "legendgroup": "1",
         "legendrank": 1,
         "marker": {
          "color": "black",
          "size": 1.1
         },
         "mode": "markers",
         "name": "Topology Vertices",
         "showlegend": false,
         "text": "",
         "type": "scatter3d",
         "x": [
          110.384386,
          -446.863097
         ],
         "y": [
          -158.13921,
          68.965425
         ],
         "z": [
          0,
          0
         ]
        },
        {
         "hoverinfo": "text",
         "legendgroup": "2",
         "legendrank": 2,
         "line": {
          "color": "black",
          "width": 1
         },
         "marker": {
          "size": 0
         },
         "mode": "lines",
         "name": "Topology Edges",
         "showlegend": false,
         "text": "",
         "type": "scatter3d",
         "x": [
          110.384386,
          -446.863097,
          null
         ],
         "y": [
          -158.13921,
          68.965425,
          null
         ],
         "z": [
          0,
          0,
          null
         ]
        },
        {
         "hoverinfo": "text",
         "hovertext": "",
         "legendgroup": "1",
         "legendrank": 1,
         "marker": {
          "color": "black",
          "size": 1.1
         },
         "mode": "markers",
         "name": "Topology Vertices",
         "showlegend": false,
         "text": "",
         "type": "scatter3d",
         "x": [
          345.900304,
          -9.476393
         ],
         "y": [
          -31.969969,
          487.426743
         ],
         "z": [
          0,
          0
         ]
        },
        {
         "hoverinfo": "text",
         "legendgroup": "2",
         "legendrank": 2,
         "line": {
          "color": "black",
          "width": 1
         },
         "marker": {
          "size": 0
         },
         "mode": "lines",
         "name": "Topology Edges",
         "showlegend": false,
         "text": "",
         "type": "scatter3d",
         "x": [
          345.900304,
          -9.476393,
          null
         ],
         "y": [
          -31.969969,
          487.426743,
          null
         ],
         "z": [
          0,
          0,
          null
         ]
        },
        {
         "hoverinfo": "text",
         "hovertext": "",
         "legendgroup": "1",
         "legendrank": 1,
         "marker": {
          "color": "black",
          "size": 1.1
         },
         "mode": "markers",
         "name": "Topology Vertices",
         "showlegend": false,
         "text": "",
         "type": "scatter3d",
         "x": [
          -316.488214,
          375.339794
         ],
         "y": [
          -229.635114,
          565.231109
         ],
         "z": [
          0,
          0
         ]
        },
        {
         "hoverinfo": "text",
         "legendgroup": "2",
         "legendrank": 2,
         "line": {
          "color": "black",
          "width": 1
         },
         "marker": {
          "size": 0
         },
         "mode": "lines",
         "name": "Topology Edges",
         "showlegend": false,
         "text": "",
         "type": "scatter3d",
         "x": [
          -316.488214,
          375.339794,
          null
         ],
         "y": [
          -229.635114,
          565.231109,
          null
         ],
         "z": [
          0,
          0,
          null
         ]
        },
        {
         "hoverinfo": "text",
         "hovertext": "",
         "legendgroup": "1",
         "legendrank": 1,
         "marker": {
          "color": "black",
          "size": 1.1
         },
         "mode": "markers",
         "name": "Topology Vertices",
         "showlegend": false,
         "text": "",
         "type": "scatter3d",
         "x": [
          261.787476,
          -270.226159
         ],
         "y": [
          -145.522286,
          432.753405
         ],
         "z": [
          0,
          0
         ]
        },
        {
         "hoverinfo": "text",
         "legendgroup": "2",
         "legendrank": 2,
         "line": {
          "color": "black",
          "width": 1
         },
         "marker": {
          "size": 0
         },
         "mode": "lines",
         "name": "Topology Edges",
         "showlegend": false,
         "text": "",
         "type": "scatter3d",
         "x": [
          261.787476,
          -270.226159,
          null
         ],
         "y": [
          -145.522286,
          432.753405,
          null
         ],
         "z": [
          0,
          0,
          null
         ]
        },
        {
         "hoverinfo": "text",
         "hovertext": "",
         "legendgroup": "1",
         "legendrank": 1,
         "marker": {
          "color": "black",
          "size": 1.1
         },
         "mode": "markers",
         "name": "Topology Vertices",
         "showlegend": false,
         "text": "",
         "type": "scatter3d",
         "x": [
          -98.654384,
          -324.930904,
          -341.3542,
          25.432739,
          47.330467,
          441.489566,
          397.694111
         ],
         "y": [
          395.158417,
          183.480382,
          -165.058451,
          -227.102013,
          -46.445759,
          73.991744,
          384.209553
         ],
         "z": [
          0,
          0,
          0,
          0,
          0,
          0,
          0
         ]
        },
        {
         "hoverinfo": "text",
         "legendgroup": "2",
         "legendrank": 2,
         "line": {
          "color": "black",
          "width": 1
         },
         "marker": {
          "size": 0
         },
         "mode": "lines",
         "name": "Topology Edges",
         "showlegend": false,
         "text": "",
         "type": "scatter3d",
         "x": [
          -98.654384,
          -324.930904,
          null,
          -324.930904,
          -341.3542,
          null,
          -341.3542,
          25.432739,
          null,
          25.432739,
          47.330467,
          null,
          47.330467,
          441.489566,
          null,
          441.489566,
          397.694111,
          null,
          397.694111,
          -98.654384,
          null
         ],
         "y": [
          395.158417,
          183.480382,
          null,
          183.480382,
          -165.058451,
          null,
          -165.058451,
          -227.102013,
          null,
          -227.102013,
          -46.445759,
          null,
          -46.445759,
          73.991744,
          null,
          73.991744,
          384.209553,
          null,
          384.209553,
          395.158417,
          null
         ],
         "z": [
          0,
          0,
          null,
          0,
          0,
          null,
          0,
          0,
          null,
          0,
          0,
          null,
          0,
          0,
          null,
          0,
          0,
          null,
          0,
          0,
          null
         ]
        }
       ],
       "layout": {
        "height": 500,
        "margin": {
         "b": 0,
         "l": 0,
         "r": 0,
         "t": 20
        },
        "paper_bgcolor": "rgba(0, 0, 0, 0)",
        "plot_bgcolor": "rgba(0, 0, 0, 0)",
        "scene": {
         "aspectmode": "manual",
         "aspectratio": {
          "x": 2.1606706258019606,
          "y": 2.098527446364701,
          "z": 0.002273253618080308
         },
         "camera": {
          "center": {
           "x": 0,
           "y": 0,
           "z": 0
          },
          "eye": {
           "x": 0,
           "y": 0,
           "z": 3
          },
          "projection": {
           "type": "orthographic"
          },
          "up": {
           "x": 0,
           "y": 1,
           "z": 0
          }
         },
         "xaxis": {
          "type": "linear",
          "visible": false
         },
         "yaxis": {
          "type": "linear",
          "visible": false
         },
         "zaxis": {
          "type": "linear",
          "visible": false
         }
        },
        "showlegend": true,
        "template": {
         "data": {
          "bar": [
           {
            "error_x": {
             "color": "#2a3f5f"
            },
            "error_y": {
             "color": "#2a3f5f"
            },
            "marker": {
             "line": {
              "color": "#E5ECF6",
              "width": 0.5
             },
             "pattern": {
              "fillmode": "overlay",
              "size": 10,
              "solidity": 0.2
             }
            },
            "type": "bar"
           }
          ],
          "barpolar": [
           {
            "marker": {
             "line": {
              "color": "#E5ECF6",
              "width": 0.5
             },
             "pattern": {
              "fillmode": "overlay",
              "size": 10,
              "solidity": 0.2
             }
            },
            "type": "barpolar"
           }
          ],
          "carpet": [
           {
            "aaxis": {
             "endlinecolor": "#2a3f5f",
             "gridcolor": "white",
             "linecolor": "white",
             "minorgridcolor": "white",
             "startlinecolor": "#2a3f5f"
            },
            "baxis": {
             "endlinecolor": "#2a3f5f",
             "gridcolor": "white",
             "linecolor": "white",
             "minorgridcolor": "white",
             "startlinecolor": "#2a3f5f"
            },
            "type": "carpet"
           }
          ],
          "choropleth": [
           {
            "colorbar": {
             "outlinewidth": 0,
             "ticks": ""
            },
            "type": "choropleth"
           }
          ],
          "contour": [
           {
            "colorbar": {
             "outlinewidth": 0,
             "ticks": ""
            },
            "colorscale": [
             [
              0,
              "#0d0887"
             ],
             [
              0.1111111111111111,
              "#46039f"
             ],
             [
              0.2222222222222222,
              "#7201a8"
             ],
             [
              0.3333333333333333,
              "#9c179e"
             ],
             [
              0.4444444444444444,
              "#bd3786"
             ],
             [
              0.5555555555555556,
              "#d8576b"
             ],
             [
              0.6666666666666666,
              "#ed7953"
             ],
             [
              0.7777777777777778,
              "#fb9f3a"
             ],
             [
              0.8888888888888888,
              "#fdca26"
             ],
             [
              1,
              "#f0f921"
             ]
            ],
            "type": "contour"
           }
          ],
          "contourcarpet": [
           {
            "colorbar": {
             "outlinewidth": 0,
             "ticks": ""
            },
            "type": "contourcarpet"
           }
          ],
          "heatmap": [
           {
            "colorbar": {
             "outlinewidth": 0,
             "ticks": ""
            },
            "colorscale": [
             [
              0,
              "#0d0887"
             ],
             [
              0.1111111111111111,
              "#46039f"
             ],
             [
              0.2222222222222222,
              "#7201a8"
             ],
             [
              0.3333333333333333,
              "#9c179e"
             ],
             [
              0.4444444444444444,
              "#bd3786"
             ],
             [
              0.5555555555555556,
              "#d8576b"
             ],
             [
              0.6666666666666666,
              "#ed7953"
             ],
             [
              0.7777777777777778,
              "#fb9f3a"
             ],
             [
              0.8888888888888888,
              "#fdca26"
             ],
             [
              1,
              "#f0f921"
             ]
            ],
            "type": "heatmap"
           }
          ],
          "heatmapgl": [
           {
            "colorbar": {
             "outlinewidth": 0,
             "ticks": ""
            },
            "colorscale": [
             [
              0,
              "#0d0887"
             ],
             [
              0.1111111111111111,
              "#46039f"
             ],
             [
              0.2222222222222222,
              "#7201a8"
             ],
             [
              0.3333333333333333,
              "#9c179e"
             ],
             [
              0.4444444444444444,
              "#bd3786"
             ],
             [
              0.5555555555555556,
              "#d8576b"
             ],
             [
              0.6666666666666666,
              "#ed7953"
             ],
             [
              0.7777777777777778,
              "#fb9f3a"
             ],
             [
              0.8888888888888888,
              "#fdca26"
             ],
             [
              1,
              "#f0f921"
             ]
            ],
            "type": "heatmapgl"
           }
          ],
          "histogram": [
           {
            "marker": {
             "pattern": {
              "fillmode": "overlay",
              "size": 10,
              "solidity": 0.2
             }
            },
            "type": "histogram"
           }
          ],
          "histogram2d": [
           {
            "colorbar": {
             "outlinewidth": 0,
             "ticks": ""
            },
            "colorscale": [
             [
              0,
              "#0d0887"
             ],
             [
              0.1111111111111111,
              "#46039f"
             ],
             [
              0.2222222222222222,
              "#7201a8"
             ],
             [
              0.3333333333333333,
              "#9c179e"
             ],
             [
              0.4444444444444444,
              "#bd3786"
             ],
             [
              0.5555555555555556,
              "#d8576b"
             ],
             [
              0.6666666666666666,
              "#ed7953"
             ],
             [
              0.7777777777777778,
              "#fb9f3a"
             ],
             [
              0.8888888888888888,
              "#fdca26"
             ],
             [
              1,
              "#f0f921"
             ]
            ],
            "type": "histogram2d"
           }
          ],
          "histogram2dcontour": [
           {
            "colorbar": {
             "outlinewidth": 0,
             "ticks": ""
            },
            "colorscale": [
             [
              0,
              "#0d0887"
             ],
             [
              0.1111111111111111,
              "#46039f"
             ],
             [
              0.2222222222222222,
              "#7201a8"
             ],
             [
              0.3333333333333333,
              "#9c179e"
             ],
             [
              0.4444444444444444,
              "#bd3786"
             ],
             [
              0.5555555555555556,
              "#d8576b"
             ],
             [
              0.6666666666666666,
              "#ed7953"
             ],
             [
              0.7777777777777778,
              "#fb9f3a"
             ],
             [
              0.8888888888888888,
              "#fdca26"
             ],
             [
              1,
              "#f0f921"
             ]
            ],
            "type": "histogram2dcontour"
           }
          ],
          "mesh3d": [
           {
            "colorbar": {
             "outlinewidth": 0,
             "ticks": ""
            },
            "type": "mesh3d"
           }
          ],
          "parcoords": [
           {
            "line": {
             "colorbar": {
              "outlinewidth": 0,
              "ticks": ""
             }
            },
            "type": "parcoords"
           }
          ],
          "pie": [
           {
            "automargin": true,
            "type": "pie"
           }
          ],
          "scatter": [
           {
            "fillpattern": {
             "fillmode": "overlay",
             "size": 10,
             "solidity": 0.2
            },
            "type": "scatter"
           }
          ],
          "scatter3d": [
           {
            "line": {
             "colorbar": {
              "outlinewidth": 0,
              "ticks": ""
             }
            },
            "marker": {
             "colorbar": {
              "outlinewidth": 0,
              "ticks": ""
             }
            },
            "type": "scatter3d"
           }
          ],
          "scattercarpet": [
           {
            "marker": {
             "colorbar": {
              "outlinewidth": 0,
              "ticks": ""
             }
            },
            "type": "scattercarpet"
           }
          ],
          "scattergeo": [
           {
            "marker": {
             "colorbar": {
              "outlinewidth": 0,
              "ticks": ""
             }
            },
            "type": "scattergeo"
           }
          ],
          "scattergl": [
           {
            "marker": {
             "colorbar": {
              "outlinewidth": 0,
              "ticks": ""
             }
            },
            "type": "scattergl"
           }
          ],
          "scattermapbox": [
           {
            "marker": {
             "colorbar": {
              "outlinewidth": 0,
              "ticks": ""
             }
            },
            "type": "scattermapbox"
           }
          ],
          "scatterpolar": [
           {
            "marker": {
             "colorbar": {
              "outlinewidth": 0,
              "ticks": ""
             }
            },
            "type": "scatterpolar"
           }
          ],
          "scatterpolargl": [
           {
            "marker": {
             "colorbar": {
              "outlinewidth": 0,
              "ticks": ""
             }
            },
            "type": "scatterpolargl"
           }
          ],
          "scatterternary": [
           {
            "marker": {
             "colorbar": {
              "outlinewidth": 0,
              "ticks": ""
             }
            },
            "type": "scatterternary"
           }
          ],
          "surface": [
           {
            "colorbar": {
             "outlinewidth": 0,
             "ticks": ""
            },
            "colorscale": [
             [
              0,
              "#0d0887"
             ],
             [
              0.1111111111111111,
              "#46039f"
             ],
             [
              0.2222222222222222,
              "#7201a8"
             ],
             [
              0.3333333333333333,
              "#9c179e"
             ],
             [
              0.4444444444444444,
              "#bd3786"
             ],
             [
              0.5555555555555556,
              "#d8576b"
             ],
             [
              0.6666666666666666,
              "#ed7953"
             ],
             [
              0.7777777777777778,
              "#fb9f3a"
             ],
             [
              0.8888888888888888,
              "#fdca26"
             ],
             [
              1,
              "#f0f921"
             ]
            ],
            "type": "surface"
           }
          ],
          "table": [
           {
            "cells": {
             "fill": {
              "color": "#EBF0F8"
             },
             "line": {
              "color": "white"
             }
            },
            "header": {
             "fill": {
              "color": "#C8D4E3"
             },
             "line": {
              "color": "white"
             }
            },
            "type": "table"
           }
          ]
         },
         "layout": {
          "annotationdefaults": {
           "arrowcolor": "#2a3f5f",
           "arrowhead": 0,
           "arrowwidth": 1
          },
          "autotypenumbers": "strict",
          "coloraxis": {
           "colorbar": {
            "outlinewidth": 0,
            "ticks": ""
           }
          },
          "colorscale": {
           "diverging": [
            [
             0,
             "#8e0152"
            ],
            [
             0.1,
             "#c51b7d"
            ],
            [
             0.2,
             "#de77ae"
            ],
            [
             0.3,
             "#f1b6da"
            ],
            [
             0.4,
             "#fde0ef"
            ],
            [
             0.5,
             "#f7f7f7"
            ],
            [
             0.6,
             "#e6f5d0"
            ],
            [
             0.7,
             "#b8e186"
            ],
            [
             0.8,
             "#7fbc41"
            ],
            [
             0.9,
             "#4d9221"
            ],
            [
             1,
             "#276419"
            ]
           ],
           "sequential": [
            [
             0,
             "#0d0887"
            ],
            [
             0.1111111111111111,
             "#46039f"
            ],
            [
             0.2222222222222222,
             "#7201a8"
            ],
            [
             0.3333333333333333,
             "#9c179e"
            ],
            [
             0.4444444444444444,
             "#bd3786"
            ],
            [
             0.5555555555555556,
             "#d8576b"
            ],
            [
             0.6666666666666666,
             "#ed7953"
            ],
            [
             0.7777777777777778,
             "#fb9f3a"
            ],
            [
             0.8888888888888888,
             "#fdca26"
            ],
            [
             1,
             "#f0f921"
            ]
           ],
           "sequentialminus": [
            [
             0,
             "#0d0887"
            ],
            [
             0.1111111111111111,
             "#46039f"
            ],
            [
             0.2222222222222222,
             "#7201a8"
            ],
            [
             0.3333333333333333,
             "#9c179e"
            ],
            [
             0.4444444444444444,
             "#bd3786"
            ],
            [
             0.5555555555555556,
             "#d8576b"
            ],
            [
             0.6666666666666666,
             "#ed7953"
            ],
            [
             0.7777777777777778,
             "#fb9f3a"
            ],
            [
             0.8888888888888888,
             "#fdca26"
            ],
            [
             1,
             "#f0f921"
            ]
           ]
          },
          "colorway": [
           "#636efa",
           "#EF553B",
           "#00cc96",
           "#ab63fa",
           "#FFA15A",
           "#19d3f3",
           "#FF6692",
           "#B6E880",
           "#FF97FF",
           "#FECB52"
          ],
          "font": {
           "color": "#2a3f5f"
          },
          "geo": {
           "bgcolor": "white",
           "lakecolor": "white",
           "landcolor": "#E5ECF6",
           "showlakes": true,
           "showland": true,
           "subunitcolor": "white"
          },
          "hoverlabel": {
           "align": "left"
          },
          "hovermode": "closest",
          "mapbox": {
           "style": "light"
          },
          "paper_bgcolor": "white",
          "plot_bgcolor": "#E5ECF6",
          "polar": {
           "angularaxis": {
            "gridcolor": "white",
            "linecolor": "white",
            "ticks": ""
           },
           "bgcolor": "#E5ECF6",
           "radialaxis": {
            "gridcolor": "white",
            "linecolor": "white",
            "ticks": ""
           }
          },
          "scene": {
           "xaxis": {
            "backgroundcolor": "#E5ECF6",
            "gridcolor": "white",
            "gridwidth": 2,
            "linecolor": "white",
            "showbackground": true,
            "ticks": "",
            "zerolinecolor": "white"
           },
           "yaxis": {
            "backgroundcolor": "#E5ECF6",
            "gridcolor": "white",
            "gridwidth": 2,
            "linecolor": "white",
            "showbackground": true,
            "ticks": "",
            "zerolinecolor": "white"
           },
           "zaxis": {
            "backgroundcolor": "#E5ECF6",
            "gridcolor": "white",
            "gridwidth": 2,
            "linecolor": "white",
            "showbackground": true,
            "ticks": "",
            "zerolinecolor": "white"
           }
          },
          "shapedefaults": {
           "line": {
            "color": "#2a3f5f"
           }
          },
          "ternary": {
           "aaxis": {
            "gridcolor": "white",
            "linecolor": "white",
            "ticks": ""
           },
           "baxis": {
            "gridcolor": "white",
            "linecolor": "white",
            "ticks": ""
           },
           "bgcolor": "#E5ECF6",
           "caxis": {
            "gridcolor": "white",
            "linecolor": "white",
            "ticks": ""
           }
          },
          "title": {
           "x": 0.05
          },
          "xaxis": {
           "automargin": true,
           "gridcolor": "white",
           "linecolor": "white",
           "ticks": "",
           "title": {
            "standoff": 15
           },
           "zerolinecolor": "white",
           "zerolinewidth": 2
          },
          "yaxis": {
           "automargin": true,
           "gridcolor": "white",
           "linecolor": "white",
           "ticks": "",
           "title": {
            "standoff": 15
           },
           "zerolinecolor": "white",
           "zerolinewidth": 2
          }
         }
        },
        "width": 950,
        "xaxis": {
         "showgrid": false,
         "visible": false,
         "zeroline": false
        },
        "yaxis": {
         "showgrid": false,
         "visible": false,
         "zeroline": false
        }
       }
      },
      "image/png": "[encoded data removed]"
     },
     "metadata": {},
     "output_type": "display_data"
    },
    {
     "data": {
      "application/vnd.plotly.v1+json": {
       "config": {
        "plotlyServerURL": "https://plot.ly"
       },
       "data": [
        {
         "hoverinfo": "text",
         "hovertext": "",
         "legendgroup": "1",
         "legendrank": 1,
         "marker": {
          "color": "black",
          "size": 0.001
         },
         "mode": "markers",
         "name": "Topology Vertices",
         "showlegend": false,
         "text": "",
         "type": "scatter3d",
         "x": [
          -38.897215,
          -37.202009,
          -37.468852,
          -39.608637,
          -42.906851,
          -96.209222,
          -97.359913,
          -98.472381,
          -99.51048,
          -100.440482,
          -162.818988,
          -164.149805,
          -164.675619,
          -164.320453,
          -163.13563,
          -137.071991,
          -135.148887,
          -132.850521,
          -130.522385,
          -128.514448
         ],
         "y": [
          383.589147,
          386.624178,
          390.090289,
          392.830079,
          393.928679,
          395.104463,
          394.995668,
          394.682071,
          394.173859,
          393.487548,
          335.133471,
          333.234035,
          330.975174,
          328.683278,
          326.689507,
          298.359424,
          296.992807,
          296.460372,
          296.842156,
          298.080768
         ],
         "z": [
          0,
          0,
          0,
          0,
          0,
          0,
          0,
          0,
          0,
          0,
          0,
          0,
          0,
          0,
          0,
          0,
          0,
          0,
          0,
          0
         ]
        },
        {
         "hoverinfo": "text",
         "legendgroup": "2",
         "legendrank": 2,
         "line": {
          "color": "black",
          "width": 1
         },
         "marker": {
          "size": 0
         },
         "mode": "lines",
         "name": "Topology Edges",
         "showlegend": false,
         "text": "",
         "type": "scatter3d",
         "x": [
          -38.897215,
          -37.202009,
          null,
          -37.202009,
          -37.468852,
          null,
          -37.468852,
          -39.608637,
          null,
          -39.608637,
          -42.906851,
          null,
          -42.906851,
          -96.209222,
          null,
          -96.209222,
          -97.359913,
          null,
          -97.359913,
          -98.472381,
          null,
          -98.472381,
          -99.51048,
          null,
          -99.51048,
          -100.440482,
          null,
          -100.440482,
          -162.818988,
          null,
          -162.818988,
          -164.149805,
          null,
          -164.149805,
          -164.675619,
          null,
          -164.675619,
          -164.320453,
          null,
          -164.320453,
          -163.13563,
          null,
          -163.13563,
          -137.071991,
          null,
          -137.071991,
          -135.148887,
          null,
          -135.148887,
          -132.850521,
          null,
          -132.850521,
          -130.522385,
          null,
          -130.522385,
          -128.514448,
          null,
          -128.514448,
          -38.897215,
          null
         ],
         "y": [
          383.589147,
          386.624178,
          null,
          386.624178,
          390.090289,
          null,
          390.090289,
          392.830079,
          null,
          392.830079,
          393.928679,
          null,
          393.928679,
          395.104463,
          null,
          395.104463,
          394.995668,
          null,
          394.995668,
          394.682071,
          null,
          394.682071,
          394.173859,
          null,
          394.173859,
          393.487548,
          null,
          393.487548,
          335.133471,
          null,
          335.133471,
          333.234035,
          null,
          333.234035,
          330.975174,
          null,
          330.975174,
          328.683278,
          null,
          328.683278,
          326.689507,
          null,
          326.689507,
          298.359424,
          null,
          298.359424,
          296.992807,
          null,
          296.992807,
          296.460372,
          null,
          296.460372,
          296.842156,
          null,
          296.842156,
          298.080768,
          null,
          298.080768,
          383.589147,
          null
         ],
         "z": [
          0,
          0,
          null,
          0,
          0,
          null,
          0,
          0,
          null,
          0,
          0,
          null,
          0,
          0,
          null,
          0,
          0,
          null,
          0,
          0,
          null,
          0,
          0,
          null,
          0,
          0,
          null,
          0,
          0,
          null,
          0,
          0,
          null,
          0,
          0,
          null,
          0,
          0,
          null,
          0,
          0,
          null,
          0,
          0,
          null,
          0,
          0,
          null,
          0,
          0,
          null,
          0,
          0,
          null,
          0,
          0,
          null,
          0,
          0,
          null
         ]
        },
        {
         "hoverinfo": "text",
         "hovertext": "",
         "legendgroup": "1",
         "legendrank": 1,
         "marker": {
          "color": "black",
          "size": 0.001
         },
         "mode": "markers",
         "name": "Topology Vertices",
         "showlegend": false,
         "text": "",
         "type": "scatter3d",
         "x": [
          50.346704,
          49.371604,
          48.209606,
          46.909819,
          45.527177,
          -13.173855,
          -14.339982,
          -15.466326,
          -16.514332,
          -17.448129,
          -45.377287,
          -46.60243,
          -47.143385,
          -46.934856,
          -46.002014,
          0.794463,
          2.762705,
          5.217969,
          7.734467,
          9.875791,
          67.874458,
          68.967423,
          69.460847,
          69.303477,
          68.51166
         ],
         "y": [
          389.367495,
          390.38223,
          391.176125,
          391.715627,
          391.977938,
          393.272801,
          393.16518,
          392.844579,
          392.321972,
          391.615249,
          364.966617,
          363.183003,
          361.08786,
          358.93408,
          356.981631,
          295.767507,
          294.152791,
          293.479767,
          293.86515,
          295.242109,
          355.261198,
          356.967612,
          358.933052,
          360.953363,
          362.818691
         ],
         "z": [
          0,
          0,
          0,
          0,
          0,
          0,
          0,
          0,
          0,
          0,
          0,
          0,
          0,
          0,
          0,
          0,
          0,
          0,
          0,
          0,
          0,
          0,
          0,
          0,
          0
         ]
        },
        {
         "hoverinfo": "text",
         "legendgroup": "2",
         "legendrank": 2,
         "line": {
          "color": "black",
          "width": 1
         },
         "marker": {
          "size": 0
         },
         "mode": "lines",
         "name": "Topology Edges",
         "showlegend": false,
         "text": "",
         "type": "scatter3d",
         "x": [
          50.346704,
          49.371604,
          null,
          49.371604,
          48.209606,
          null,
          48.209606,
          46.909819,
          null,
          46.909819,
          45.527177,
          null,
          45.527177,
          -13.173855,
          null,
          -13.173855,
          -14.339982,
          null,
          -14.339982,
          -15.466326,
          null,
          -15.466326,
          -16.514332,
          null,
          -16.514332,
          -17.448129,
          null,
          -17.448129,
          -45.377287,
          null,
          -45.377287,
          -46.60243,
          null,
          -46.60243,
          -47.143385,
          null,
          -47.143385,
          -46.934856,
          null,
          -46.934856,
          -46.002014,
          null,
          -46.002014,
          0.794463,
          null,
          0.794463,
          2.762705,
          null,
          2.762705,
          5.217969,
          null,
          5.217969,
          7.734467,
          null,
          7.734467,
          9.875791,
          null,
          9.875791,
          67.874458,
          null,
          67.874458,
          68.967423,
          null,
          68.967423,
          69.460847,
          null,
          69.460847,
          69.303477,
          null,
          69.303477,
          68.51166,
          null,
          68.51166,
          50.346704,
          null
         ],
         "y": [
          389.367495,
          390.38223,
          null,
          390.38223,
          391.176125,
          null,
          391.176125,
          391.715627,
          null,
          391.715627,
          391.977938,
          null,
          391.977938,
          393.272801,
          null,
          393.272801,
          393.16518,
          null,
          393.16518,
          392.844579,
          null,
          392.844579,
          392.321972,
          null,
          392.321972,
          391.615249,
          null,
          391.615249,
          364.966617,
          null,
          364.966617,
          363.183003,
          null,
          363.183003,
          361.08786,
          null,
          361.08786,
          358.93408,
          null,
          358.93408,
          356.981631,
          null,
          356.981631,
          295.767507,
          null,
          295.767507,
          294.152791,
          null,
          294.152791,
          293.479767,
          null,
          293.479767,
          293.86515,
          null,
          293.86515,
          295.242109,
          null,
          295.242109,
          355.261198,
          null,
          355.261198,
          356.967612,
          null,
          356.967612,
          358.933052,
          null,
          358.933052,
          360.953363,
          null,
          360.953363,
          362.818691,
          null,
          362.818691,
          389.367495,
          null
         ],
         "z": [
          0,
          0,
          null,
          0,
          0,
          null,
          0,
          0,
          null,
          0,
          0,
          null,
          0,
          0,
          null,
          0,
          0,
          null,
          0,
          0,
          null,
          0,
          0,
          null,
          0,
          0,
          null,
          0,
          0,
          null,
          0,
          0,
          null,
          0,
          0,
          null,
          0,
          0,
          null,
          0,
          0,
          null,
          0,
          0,
          null,
          0,
          0,
          null,
          0,
          0,
          null,
          0,
          0,
          null,
          0,
          0,
          null,
          0,
          0,
          null,
          0,
          0,
          null,
          0,
          0,
          null,
          0,
          0,
          null,
          0,
          0,
          null,
          0,
          0,
          null
         ]
        },
        {
         "hoverinfo": "text",
         "hovertext": "",
         "legendgroup": "1",
         "legendrank": 1,
         "marker": {
          "color": "black",
          "size": 0.001
         },
         "mode": "markers",
         "name": "Topology Vertices",
         "showlegend": false,
         "text": "",
         "type": "scatter3d",
         "x": [
          -122.577838,
          -123.887291,
          -124.397269,
          -124.034669,
          -122.851467,
          -68.242044,
          -66.268192,
          -63.899856,
          -61.519575,
          -59.511817,
          -1.36856,
          -0.229571,
          0.248534,
          0.010352,
          -0.916516,
          -48.11399,
          -50.033124,
          -52.418443,
          -54.881875,
          -57.022637
         ],
         "y": [
          291.305717,
          289.407664,
          287.158843,
          284.881609,
          282.90239,
          223.54438,
          222.137486,
          221.621321,
          222.079256,
          223.437326,
          283.606072,
          285.379522,
          287.432286,
          289.52649,
          291.41946,
          353.158226,
          354.733414,
          355.422287,
          355.11277,
          353.855219
         ],
         "z": [
          0,
          0,
          0,
          0,
          0,
          0,
          0,
          0,
          0,
          0,
          0,
          0,
          0,
          0,
          0,
          0,
          0,
          0,
          0,
          0
         ]
        },
        {
         "hoverinfo": "text",
         "legendgroup": "2",
         "legendrank": 2,
         "line": {
          "color": "black",
          "width": 1
         },
         "marker": {
          "size": 0
         },
         "mode": "lines",
         "name": "Topology Edges",
         "showlegend": false,
         "text": "",
         "type": "scatter3d",
         "x": [
          -122.577838,
          -123.887291,
          null,
          -123.887291,
          -124.397269,
          null,
          -124.397269,
          -124.034669,
          null,
          -124.034669,
          -122.851467,
          null,
          -122.851467,
          -68.242044,
          null,
          -68.242044,
          -66.268192,
          null,
          -66.268192,
          -63.899856,
          null,
          -63.899856,
          -61.519575,
          null,
          -61.519575,
          -59.511817,
          null,
          -59.511817,
          -1.36856,
          null,
          -1.36856,
          -0.229571,
          null,
          -0.229571,
          0.248534,
          null,
          0.248534,
          0.010352,
          null,
          0.010352,
          -0.916516,
          null,
          -0.916516,
          -48.11399,
          null,
          -48.11399,
          -50.033124,
          null,
          -50.033124,
          -52.418443,
          null,
          -52.418443,
          -54.881875,
          null,
          -54.881875,
          -57.022637,
          null,
          -57.022637,
          -122.577838,
          null
         ],
         "y": [
          291.305717,
          289.407664,
          null,
          289.407664,
          287.158843,
          null,
          287.158843,
          284.881609,
          null,
          284.881609,
          282.90239,
          null,
          282.90239,
          223.54438,
          null,
          223.54438,
          222.137486,
          null,
          222.137486,
          221.621321,
          null,
          221.621321,
          222.079256,
          null,
          222.079256,
          223.437326,
          null,
          223.437326,
          283.606072,
          null,
          283.606072,
          285.379522,
          null,
          285.379522,
          287.432286,
          null,
          287.432286,
          289.52649,
          null,
          289.52649,
          291.41946,
          null,
          291.41946,
          353.158226,
          null,
          353.158226,
          354.733414,
          null,
          354.733414,
          355.422287,
          null,
          355.422287,
          355.11277,
          null,
          355.11277,
          353.855219,
          null,
          353.855219,
          291.305717,
          null
         ],
         "z": [
          0,
          0,
          null,
          0,
          0,
          null,
          0,
          0,
          null,
          0,
          0,
          null,
          0,
          0,
          null,
          0,
          0,
          null,
          0,
          0,
          null,
          0,
          0,
          null,
          0,
          0,
          null,
          0,
          0,
          null,
          0,
          0,
          null,
          0,
          0,
          null,
          0,
          0,
          null,
          0,
          0,
          null,
          0,
          0,
          null,
          0,
          0,
          null,
          0,
          0,
          null,
          0,
          0,
          null,
          0,
          0,
          null,
          0,
          0,
          null
         ]
        },
        {
         "hoverinfo": "text",
         "hovertext": "",
         "legendgroup": "1",
         "legendrank": 1,
         "marker": {
          "color": "black",
          "size": 0.001
         },
         "mode": "markers",
         "name": "Topology Vertices",
         "showlegend": false,
         "text": "",
         "type": "scatter3d",
         "x": [
          -147.328466,
          -146.019011,
          -145.509034,
          -145.871636,
          -147.054842,
          -173.292212,
          -175.202994,
          -177.484469,
          -179.799693,
          -181.80674,
          -323.151202,
          -323.887928,
          -324.459907,
          -324.84975,
          -325.045607,
          -327.818056,
          -326.925956,
          -324.299043,
          -320.82625,
          -317.682749
         ],
         "y": [
          280.129379,
          282.027435,
          284.276259,
          286.553495,
          288.532715,
          317.051523,
          318.408559,
          318.944757,
          318.580929,
          317.370806,
          185.145279,
          184.261271,
          183.262735,
          182.180027,
          181.046063,
          122.209018,
          118.820828,
          116.502425,
          116.038339,
          117.585617
         ],
         "z": [
          0,
          0,
          0,
          0,
          0,
          0,
          0,
          0,
          0,
          0,
          0,
          0,
          0,
          0,
          0,
          0,
          0,
          0,
          0,
          0
         ]
        },
        {
         "hoverinfo": "text",
         "legendgroup": "2",
         "legendrank": 2,
         "line": {
          "color": "black",
          "width": 1
         },
         "marker": {
          "size": 0
         },
         "mode": "lines",
         "name": "Topology Edges",
         "showlegend": false,
         "text": "",
         "type": "scatter3d",
         "x": [
          -147.328466,
          -146.019011,
          null,
          -146.019011,
          -145.509034,
          null,
          -145.509034,
          -145.871636,
          null,
          -145.871636,
          -147.054842,
          null,
          -147.054842,
          -173.292212,
          null,
          -173.292212,
          -175.202994,
          null,
          -175.202994,
          -177.484469,
          null,
          -177.484469,
          -179.799693,
          null,
          -179.799693,
          -181.80674,
          null,
          -181.80674,
          -323.151202,
          null,
          -323.151202,
          -323.887928,
          null,
          -323.887928,
          -324.459907,
          null,
          -324.459907,
          -324.84975,
          null,
          -324.84975,
          -325.045607,
          null,
          -325.045607,
          -327.818056,
          null,
          -327.818056,
          -326.925956,
          null,
          -326.925956,
          -324.299043,
          null,
          -324.299043,
          -320.82625,
          null,
          -320.82625,
          -317.682749,
          null,
          -317.682749,
          -147.328466,
          null
         ],
         "y": [
          280.129379,
          282.027435,
          null,
          282.027435,
          284.276259,
          null,
          284.276259,
          286.553495,
          null,
          286.553495,
          288.532715,
          null,
          288.532715,
          317.051523,
          null,
          317.051523,
          318.408559,
          null,
          318.408559,
          318.944757,
          null,
          318.944757,
          318.580929,
          null,
          318.580929,
          317.370806,
          null,
          317.370806,
          185.145279,
          null,
          185.145279,
          184.261271,
          null,
          184.261271,
          183.262735,
          null,
          183.262735,
          182.180027,
          null,
          182.180027,
          181.046063,
          null,
          181.046063,
          122.209018,
          null,
          122.209018,
          118.820828,
          null,
          118.820828,
          116.502425,
          null,
          116.502425,
          116.038339,
          null,
          116.038339,
          117.585617,
          null,
          117.585617,
          280.129379,
          null
         ],
         "z": [
          0,
          0,
          null,
          0,
          0,
          null,
          0,
          0,
          null,
          0,
          0,
          null,
          0,
          0,
          null,
          0,
          0,
          null,
          0,
          0,
          null,
          0,
          0,
          null,
          0,
          0,
          null,
          0,
          0,
          null,
          0,
          0,
          null,
          0,
          0,
          null,
          0,
          0,
          null,
          0,
          0,
          null,
          0,
          0,
          null,
          0,
          0,
          null,
          0,
          0,
          null,
          0,
          0,
          null,
          0,
          0,
          null,
          0,
          0,
          null
         ]
        },
        {
         "hoverinfo": "text",
         "hovertext": "",
         "legendgroup": "1",
         "legendrank": 1,
         "marker": {
          "color": "black",
          "size": 0.001
         },
         "mode": "markers",
         "name": "Topology Vertices",
         "showlegend": false,
         "text": "",
         "type": "scatter3d",
         "x": [
          204.314438,
          205.701704,
          205.252131,
          203.104386,
          199.920926,
          75.052929,
          71.951381,
          69.723883,
          68.99489,
          69.968769,
          125.981546,
          127.996437,
          130.588532,
          133.249947,
          135.459216
         ],
         "y": [
          378.634503,
          381.67628,
          384.989104,
          387.551156,
          388.572187,
          391.326594,
          390.466189,
          388.142798,
          385.007759,
          381.93995,
          300.075222,
          298.280793,
          297.531926,
          297.975351,
          299.524185
         ],
         "z": [
          0,
          0,
          0,
          0,
          0,
          0,
          0,
          0,
          0,
          0,
          0,
          0,
          0,
          0,
          0
         ]
        },
        {
         "hoverinfo": "text",
         "legendgroup": "2",
         "legendrank": 2,
         "line": {
          "color": "black",
          "width": 1
         },
         "marker": {
          "size": 0
         },
         "mode": "lines",
         "name": "Topology Edges",
         "showlegend": false,
         "text": "",
         "type": "scatter3d",
         "x": [
          204.314438,
          205.701704,
          null,
          205.701704,
          205.252131,
          null,
          205.252131,
          203.104386,
          null,
          203.104386,
          199.920926,
          null,
          199.920926,
          75.052929,
          null,
          75.052929,
          71.951381,
          null,
          71.951381,
          69.723883,
          null,
          69.723883,
          68.99489,
          null,
          68.99489,
          69.968769,
          null,
          69.968769,
          125.981546,
          null,
          125.981546,
          127.996437,
          null,
          127.996437,
          130.588532,
          null,
          130.588532,
          133.249947,
          null,
          133.249947,
          135.459216,
          null,
          135.459216,
          204.314438,
          null
         ],
         "y": [
          378.634503,
          381.67628,
          null,
          381.67628,
          384.989104,
          null,
          384.989104,
          387.551156,
          null,
          387.551156,
          388.572187,
          null,
          388.572187,
          391.326594,
          null,
          391.326594,
          390.466189,
          null,
          390.466189,
          388.142798,
          null,
          388.142798,
          385.007759,
          null,
          385.007759,
          381.93995,
          null,
          381.93995,
          300.075222,
          null,
          300.075222,
          298.280793,
          null,
          298.280793,
          297.531926,
          null,
          297.531926,
          297.975351,
          null,
          297.975351,
          299.524185,
          null,
          299.524185,
          378.634503,
          null
         ],
         "z": [
          0,
          0,
          null,
          0,
          0,
          null,
          0,
          0,
          null,
          0,
          0,
          null,
          0,
          0,
          null,
          0,
          0,
          null,
          0,
          0,
          null,
          0,
          0,
          null,
          0,
          0,
          null,
          0,
          0,
          null,
          0,
          0,
          null,
          0,
          0,
          null,
          0,
          0,
          null,
          0,
          0,
          null,
          0,
          0,
          null
         ]
        },
        {
         "hoverinfo": "text",
         "hovertext": "",
         "legendgroup": "1",
         "legendrank": 1,
         "marker": {
          "color": "black",
          "size": 0.001
         },
         "mode": "markers",
         "name": "Topology Vertices",
         "showlegend": false,
         "text": "",
         "type": "scatter3d",
         "x": [
          119.178011,
          120.165937,
          120.583589,
          120.389946,
          119.604026,
          81.19376,
          79.24068,
          76.739456,
          74.144506,
          71.927278,
          14.759168,
          13.620178,
          13.142072,
          13.380254,
          14.307123,
          57.770889,
          59.802113,
          62.348196,
          64.930453,
          67.063399
         ],
         "y": [
          280.818148,
          282.503789,
          284.412441,
          286.356633,
          288.145408,
          344.283403,
          346.025676,
          346.796329,
          346.455352,
          345.064693,
          285.905131,
          284.13168,
          282.078915,
          279.984709,
          278.091737,
          221.237071,
          219.569638,
          218.91874,
          219.40675,
          220.941919
         ],
         "z": [
          0,
          0,
          0,
          0,
          0,
          0,
          0,
          0,
          0,
          0,
          0,
          0,
          0,
          0,
          0,
          0,
          0,
          0,
          0,
          0
         ]
        },
        {
         "hoverinfo": "text",
         "legendgroup": "2",
         "legendrank": 2,
         "line": {
          "color": "black",
          "width": 1
         },
         "marker": {
          "size": 0
         },
         "mode": "lines",
         "name": "Topology Edges",
         "showlegend": false,
         "text": "",
         "type": "scatter3d",
         "x": [
          119.178011,
          120.165937,
          null,
          120.165937,
          120.583589,
          null,
          120.583589,
          120.389946,
          null,
          120.389946,
          119.604026,
          null,
          119.604026,
          81.19376,
          null,
          81.19376,
          79.24068,
          null,
          79.24068,
          76.739456,
          null,
          76.739456,
          74.144506,
          null,
          74.144506,
          71.927278,
          null,
          71.927278,
          14.759168,
          null,
          14.759168,
          13.620178,
          null,
          13.620178,
          13.142072,
          null,
          13.142072,
          13.380254,
          null,
          13.380254,
          14.307123,
          null,
          14.307123,
          57.770889,
          null,
          57.770889,
          59.802113,
          null,
          59.802113,
          62.348196,
          null,
          62.348196,
          64.930453,
          null,
          64.930453,
          67.063399,
          null,
          67.063399,
          119.178011,
          null
         ],
         "y": [
          280.818148,
          282.503789,
          null,
          282.503789,
          284.412441,
          null,
          284.412441,
          286.356633,
          null,
          286.356633,
          288.145408,
          null,
          288.145408,
          344.283403,
          null,
          344.283403,
          346.025676,
          null,
          346.025676,
          346.796329,
          null,
          346.796329,
          346.455352,
          null,
          346.455352,
          345.064693,
          null,
          345.064693,
          285.905131,
          null,
          285.905131,
          284.13168,
          null,
          284.13168,
          282.078915,
          null,
          282.078915,
          279.984709,
          null,
          279.984709,
          278.091737,
          null,
          278.091737,
          221.237071,
          null,
          221.237071,
          219.569638,
          null,
          219.569638,
          218.91874,
          null,
          218.91874,
          219.40675,
          null,
          219.40675,
          220.941919,
          null,
          220.941919,
          280.818148,
          null
         ],
         "z": [
          0,
          0,
          null,
          0,
          0,
          null,
          0,
          0,
          null,
          0,
          0,
          null,
          0,
          0,
          null,
          0,
          0,
          null,
          0,
          0,
          null,
          0,
          0,
          null,
          0,
          0,
          null,
          0,
          0,
          null,
          0,
          0,
          null,
          0,
          0,
          null,
          0,
          0,
          null,
          0,
          0,
          null,
          0,
          0,
          null,
          0,
          0,
          null,
          0,
          0,
          null,
          0,
          0,
          null,
          0,
          0,
          null,
          0,
          0,
          null
         ]
        },
        {
         "hoverinfo": "text",
         "hovertext": "",
         "legendgroup": "1",
         "legendrank": 1,
         "marker": {
          "color": "black",
          "size": 0.001
         },
         "mode": "markers",
         "name": "Topology Vertices",
         "showlegend": false,
         "text": "",
         "type": "scatter3d",
         "x": [
          -53.220164,
          -54.444149,
          -54.890927,
          -54.498392,
          -53.321111,
          -2.089538,
          -0.043998,
          2.408487,
          4.8467,
          6.851873,
          56.34126,
          57.375653,
          57.777765,
          57.50313,
          56.582118,
          12.596129,
          10.627888,
          8.172626,
          5.656131,
          3.514808
         ],
         "y": [
          215.557679,
          213.668189,
          211.461677,
          209.244872,
          207.325936,
          151.639477,
          150.202479,
          149.718216,
          150.269862,
          151.762669,
          208.622801,
          210.376576,
          212.372573,
          214.390064,
          216.205947,
          273.743603,
          275.358317,
          276.03134,
          275.645958,
          274.269004
         ],
         "z": [
          0,
          0,
          0,
          0,
          0,
          0,
          0,
          0,
          0,
          0,
          0,
          0,
          0,
          0,
          0,
          0,
          0,
          0,
          0,
          0
         ]
        },
        {
         "hoverinfo": "text",
         "legendgroup": "2",
         "legendrank": 2,
         "line": {
          "color": "black",
          "width": 1
         },
         "marker": {
          "size": 0
         },
         "mode": "lines",
         "name": "Topology Edges",
         "showlegend": false,
         "text": "",
         "type": "scatter3d",
         "x": [
          -53.220164,
          -54.444149,
          null,
          -54.444149,
          -54.890927,
          null,
          -54.890927,
          -54.498392,
          null,
          -54.498392,
          -53.321111,
          null,
          -53.321111,
          -2.089538,
          null,
          -2.089538,
          -0.043998,
          null,
          -0.043998,
          2.408487,
          null,
          2.408487,
          4.8467,
          null,
          4.8467,
          6.851873,
          null,
          6.851873,
          56.34126,
          null,
          56.34126,
          57.375653,
          null,
          57.375653,
          57.777765,
          null,
          57.777765,
          57.50313,
          null,
          57.50313,
          56.582118,
          null,
          56.582118,
          12.596129,
          null,
          12.596129,
          10.627888,
          null,
          10.627888,
          8.172626,
          null,
          8.172626,
          5.656131,
          null,
          5.656131,
          3.514808,
          null,
          3.514808,
          -53.220164,
          null
         ],
         "y": [
          215.557679,
          213.668189,
          null,
          213.668189,
          211.461677,
          null,
          211.461677,
          209.244872,
          null,
          209.244872,
          207.325936,
          null,
          207.325936,
          151.639477,
          null,
          151.639477,
          150.202479,
          null,
          150.202479,
          149.718216,
          null,
          149.718216,
          150.269862,
          null,
          150.269862,
          151.762669,
          null,
          151.762669,
          208.622801,
          null,
          208.622801,
          210.376576,
          null,
          210.376576,
          212.372573,
          null,
          212.372573,
          214.390064,
          null,
          214.390064,
          216.205947,
          null,
          216.205947,
          273.743603,
          null,
          273.743603,
          275.358317,
          null,
          275.358317,
          276.03134,
          null,
          276.03134,
          275.645958,
          null,
          275.645958,
          274.269004,
          null,
          274.269004,
          215.557679,
          null
         ],
         "z": [
          0,
          0,
          null,
          0,
          0,
          null,
          0,
          0,
          null,
          0,
          0,
          null,
          0,
          0,
          null,
          0,
          0,
          null,
          0,
          0,
          null,
          0,
          0,
          null,
          0,
          0,
          null,
          0,
          0,
          null,
          0,
          0,
          null,
          0,
          0,
          null,
          0,
          0,
          null,
          0,
          0,
          null,
          0,
          0,
          null,
          0,
          0,
          null,
          0,
          0,
          null,
          0,
          0,
          null,
          0,
          0,
          null,
          0,
          0,
          null
         ]
        },
        {
         "hoverinfo": "text",
         "hovertext": "",
         "legendgroup": "1",
         "legendrank": 1,
         "marker": {
          "color": "black",
          "size": 0.001
         },
         "mode": "markers",
         "name": "Topology Vertices",
         "showlegend": false,
         "text": "",
         "type": "scatter3d",
         "x": [
          -77.610528,
          -76.386546,
          -75.939768,
          -76.332301,
          -77.509579,
          -132.834309,
          -134.757413,
          -137.055779,
          -139.383915,
          -141.391852,
          -242.741887,
          -244.127874,
          -244.561398,
          -243.96919,
          -242.451337,
          -175.374833,
          -173.415117,
          -171.209805,
          -169.046879,
          -167.208786
         ],
         "y": [
          204.708223,
          206.597711,
          208.80422,
          211.021023,
          212.939959,
          273.075576,
          274.442193,
          274.974628,
          274.592844,
          273.354232,
          176.650967,
          174.574701,
          172.116267,
          169.691163,
          167.709254,
          111.557429,
          110.50641,
          110.220535,
          110.737136,
          111.988751
         ],
         "z": [
          0,
          0,
          0,
          0,
          0,
          0,
          0,
          0,
          0,
          0,
          0,
          0,
          0,
          0,
          0,
          0,
          0,
          0,
          0,
          0
         ]
        },
        {
         "hoverinfo": "text",
         "legendgroup": "2",
         "legendrank": 2,
         "line": {
          "color": "black",
          "width": 1
         },
         "marker": {
          "size": 0
         },
         "mode": "lines",
         "name": "Topology Edges",
         "showlegend": false,
         "text": "",
         "type": "scatter3d",
         "x": [
          -77.610528,
          -76.386546,
          null,
          -76.386546,
          -75.939768,
          null,
          -75.939768,
          -76.332301,
          null,
          -76.332301,
          -77.509579,
          null,
          -77.509579,
          -132.834309,
          null,
          -132.834309,
          -134.757413,
          null,
          -134.757413,
          -137.055779,
          null,
          -137.055779,
          -139.383915,
          null,
          -139.383915,
          -141.391852,
          null,
          -141.391852,
          -242.741887,
          null,
          -242.741887,
          -244.127874,
          null,
          -244.127874,
          -244.561398,
          null,
          -244.561398,
          -243.96919,
          null,
          -243.96919,
          -242.451337,
          null,
          -242.451337,
          -175.374833,
          null,
          -175.374833,
          -173.415117,
          null,
          -173.415117,
          -171.209805,
          null,
          -171.209805,
          -169.046879,
          null,
          -169.046879,
          -167.208786,
          null,
          -167.208786,
          -77.610528,
          null
         ],
         "y": [
          204.708223,
          206.597711,
          null,
          206.597711,
          208.80422,
          null,
          208.80422,
          211.021023,
          null,
          211.021023,
          212.939959,
          null,
          212.939959,
          273.075576,
          null,
          273.075576,
          274.442193,
          null,
          274.442193,
          274.974628,
          null,
          274.974628,
          274.592844,
          null,
          274.592844,
          273.354232,
          null,
          273.354232,
          176.650967,
          null,
          176.650967,
          174.574701,
          null,
          174.574701,
          172.116267,
          null,
          172.116267,
          169.691163,
          null,
          169.691163,
          167.709254,
          null,
          167.709254,
          111.557429,
          null,
          111.557429,
          110.50641,
          null,
          110.50641,
          110.220535,
          null,
          110.220535,
          110.737136,
          null,
          110.737136,
          111.988751,
          null,
          111.988751,
          204.708223,
          null
         ],
         "z": [
          0,
          0,
          null,
          0,
          0,
          null,
          0,
          0,
          null,
          0,
          0,
          null,
          0,
          0,
          null,
          0,
          0,
          null,
          0,
          0,
          null,
          0,
          0,
          null,
          0,
          0,
          null,
          0,
          0,
          null,
          0,
          0,
          null,
          0,
          0,
          null,
          0,
          0,
          null,
          0,
          0,
          null,
          0,
          0,
          null,
          0,
          0,
          null,
          0,
          0,
          null,
          0,
          0,
          null,
          0,
          0,
          null,
          0,
          0,
          null
         ]
        },
        {
         "hoverinfo": "text",
         "hovertext": "",
         "legendgroup": "1",
         "legendrank": 1,
         "marker": {
          "color": "black",
          "size": 0.001
         },
         "mode": "markers",
         "name": "Topology Vertices",
         "showlegend": false,
         "text": "",
         "type": "scatter3d",
         "x": [
          -327.398701,
          -328.121177,
          -328.680923,
          -329.06105,
          -329.25009,
          -332.048419,
          -331.773021,
          -331.015687,
          -329.834382,
          -328.31952,
          -275.694436,
          -273.968777,
          -272.216075,
          -270.559469,
          -269.115345,
          -178.355521,
          -177.089516,
          -176.732544,
          -177.340996,
          -178.818752,
          -246.397318,
          -248.297131,
          -250.442439,
          -252.562742,
          -254.39069
         ],
         "y": [
          95.875501,
          94.998068,
          94.008853,
          92.937702,
          91.816933,
          32.431214,
          30.633829,
          28.980687,
          27.598315,
          26.592517,
          5.145322,
          4.811649,
          4.943066,
          5.530338,
          6.532207,
          100.453693,
          102.530655,
          104.936712,
          107.291775,
          109.223814,
          165.795958,
          166.841227,
          167.156708,
          166.702623,
          165.536228
         ],
         "z": [
          0,
          0,
          0,
          0,
          0,
          0,
          0,
          0,
          0,
          0,
          0,
          0,
          0,
          0,
          0,
          0,
          0,
          0,
          0,
          0,
          0,
          0,
          0,
          0,
          0
         ]
        },
        {
         "hoverinfo": "text",
         "legendgroup": "2",
         "legendrank": 2,
         "line": {
          "color": "black",
          "width": 1
         },
         "marker": {
          "size": 0
         },
         "mode": "lines",
         "name": "Topology Edges",
         "showlegend": false,
         "text": "",
         "type": "scatter3d",
         "x": [
          -327.398701,
          -328.121177,
          null,
          -328.121177,
          -328.680923,
          null,
          -328.680923,
          -329.06105,
          null,
          -329.06105,
          -329.25009,
          null,
          -329.25009,
          -332.048419,
          null,
          -332.048419,
          -331.773021,
          null,
          -331.773021,
          -331.015687,
          null,
          -331.015687,
          -329.834382,
          null,
          -329.834382,
          -328.31952,
          null,
          -328.31952,
          -275.694436,
          null,
          -275.694436,
          -273.968777,
          null,
          -273.968777,
          -272.216075,
          null,
          -272.216075,
          -270.559469,
          null,
          -270.559469,
          -269.115345,
          null,
          -269.115345,
          -178.355521,
          null,
          -178.355521,
          -177.089516,
          null,
          -177.089516,
          -176.732544,
          null,
          -176.732544,
          -177.340996,
          null,
          -177.340996,
          -178.818752,
          null,
          -178.818752,
          -246.397318,
          null,
          -246.397318,
          -248.297131,
          null,
          -248.297131,
          -250.442439,
          null,
          -250.442439,
          -252.562742,
          null,
          -252.562742,
          -254.39069,
          null,
          -254.39069,
          -327.398701,
          null
         ],
         "y": [
          95.875501,
          94.998068,
          null,
          94.998068,
          94.008853,
          null,
          94.008853,
          92.937702,
          null,
          92.937702,
          91.816933,
          null,
          91.816933,
          32.431214,
          null,
          32.431214,
          30.633829,
          null,
          30.633829,
          28.980687,
          null,
          28.980687,
          27.598315,
          null,
          27.598315,
          26.592517,
          null,
          26.592517,
          5.145322,
          null,
          5.145322,
          4.811649,
          null,
          4.811649,
          4.943066,
          null,
          4.943066,
          5.530338,
          null,
          5.530338,
          6.532207,
          null,
          6.532207,
          100.453693,
          null,
          100.453693,
          102.530655,
          null,
          102.530655,
          104.936712,
          null,
          104.936712,
          107.291775,
          null,
          107.291775,
          109.223814,
          null,
          109.223814,
          165.795958,
          null,
          165.795958,
          166.841227,
          null,
          166.841227,
          167.156708,
          null,
          167.156708,
          166.702623,
          null,
          166.702623,
          165.536228,
          null,
          165.536228,
          95.875501,
          null
         ],
         "z": [
          0,
          0,
          null,
          0,
          0,
          null,
          0,
          0,
          null,
          0,
          0,
          null,
          0,
          0,
          null,
          0,
          0,
          null,
          0,
          0,
          null,
          0,
          0,
          null,
          0,
          0,
          null,
          0,
          0,
          null,
          0,
          0,
          null,
          0,
          0,
          null,
          0,
          0,
          null,
          0,
          0,
          null,
          0,
          0,
          null,
          0,
          0,
          null,
          0,
          0,
          null,
          0,
          0,
          null,
          0,
          0,
          null,
          0,
          0,
          null,
          0,
          0,
          null,
          0,
          0,
          null,
          0,
          0,
          null,
          0,
          0,
          null,
          0,
          0,
          null
         ]
        },
        {
         "hoverinfo": "text",
         "hovertext": "",
         "legendgroup": "1",
         "legendrank": 1,
         "marker": {
          "color": "black",
          "size": 0.001
         },
         "mode": "markers",
         "name": "Topology Vertices",
         "showlegend": false,
         "text": "",
         "type": "scatter3d",
         "x": [
          398.406671,
          397.716616,
          396.410774,
          394.637417,
          392.597903,
          232.439633,
          231.137649,
          229.891856,
          228.75662,
          227.781483,
          207.307205,
          206.107561,
          206.0797,
          207.229047,
          209.331731,
          405.487376,
          408.595735,
          411.510099,
          413.459948,
          413.929768
         ],
         "y": [
          379.162211,
          381.134113,
          382.764863,
          383.869298,
          384.322014,
          387.854778,
          387.721062,
          387.319763,
          386.668395,
          385.795383,
          362.271706,
          359.820963,
          357.0925,
          354.61777,
          352.878803,
          262.91421,
          262.477688,
          263.643421,
          266.103205,
          269.206706
         ],
         "z": [
          0,
          0,
          0,
          0,
          0,
          0,
          0,
          0,
          0,
          0,
          0,
          0,
          0,
          0,
          0,
          0,
          0,
          0,
          0,
          0
         ]
        },
        {
         "hoverinfo": "text",
         "legendgroup": "2",
         "legendrank": 2,
         "line": {
          "color": "black",
          "width": 1
         },
         "marker": {
          "size": 0
         },
         "mode": "lines",
         "name": "Topology Edges",
         "showlegend": false,
         "text": "",
         "type": "scatter3d",
         "x": [
          398.406671,
          397.716616,
          null,
          397.716616,
          396.410774,
          null,
          396.410774,
          394.637417,
          null,
          394.637417,
          392.597903,
          null,
          392.597903,
          232.439633,
          null,
          232.439633,
          231.137649,
          null,
          231.137649,
          229.891856,
          null,
          229.891856,
          228.75662,
          null,
          228.75662,
          227.781483,
          null,
          227.781483,
          207.307205,
          null,
          207.307205,
          206.107561,
          null,
          206.107561,
          206.0797,
          null,
          206.0797,
          207.229047,
          null,
          207.229047,
          209.331731,
          null,
          209.331731,
          405.487376,
          null,
          405.487376,
          408.595735,
          null,
          408.595735,
          411.510099,
          null,
          411.510099,
          413.459948,
          null,
          413.459948,
          413.929768,
          null,
          413.929768,
          398.406671,
          null
         ],
         "y": [
          379.162211,
          381.134113,
          null,
          381.134113,
          382.764863,
          null,
          382.764863,
          383.869298,
          null,
          383.869298,
          384.322014,
          null,
          384.322014,
          387.854778,
          null,
          387.854778,
          387.721062,
          null,
          387.721062,
          387.319763,
          null,
          387.319763,
          386.668395,
          null,
          386.668395,
          385.795383,
          null,
          385.795383,
          362.271706,
          null,
          362.271706,
          359.820963,
          null,
          359.820963,
          357.0925,
          null,
          357.0925,
          354.61777,
          null,
          354.61777,
          352.878803,
          null,
          352.878803,
          262.91421,
          null,
          262.91421,
          262.477688,
          null,
          262.477688,
          263.643421,
          null,
          263.643421,
          266.103205,
          null,
          266.103205,
          269.206706,
          null,
          269.206706,
          379.162211,
          null
         ],
         "z": [
          0,
          0,
          null,
          0,
          0,
          null,
          0,
          0,
          null,
          0,
          0,
          null,
          0,
          0,
          null,
          0,
          0,
          null,
          0,
          0,
          null,
          0,
          0,
          null,
          0,
          0,
          null,
          0,
          0,
          null,
          0,
          0,
          null,
          0,
          0,
          null,
          0,
          0,
          null,
          0,
          0,
          null,
          0,
          0,
          null,
          0,
          0,
          null,
          0,
          0,
          null,
          0,
          0,
          null,
          0,
          0,
          null,
          0,
          0,
          null
         ]
        },
        {
         "hoverinfo": "text",
         "hovertext": "",
         "legendgroup": "1",
         "legendrank": 1,
         "marker": {
          "color": "black",
          "size": 0.001
         },
         "mode": "markers",
         "name": "Topology Vertices",
         "showlegend": false,
         "text": "",
         "type": "scatter3d",
         "x": [
          201.33143,
          199.482788,
          197.590067,
          195.81371,
          194.304301,
          140.994676,
          140.006754,
          139.589104,
          139.782748,
          140.568667,
          165.738088,
          167.883984,
          170.672969,
          173.465847,
          175.622529,
          233.933688,
          234.840661,
          234.690865,
          233.51016,
          231.50239
         ],
         "y": [
          348.846901,
          349.271947,
          349.146475,
          348.481119,
          347.332282,
          286.082847,
          284.397207,
          282.488558,
          280.544368,
          278.755597,
          241.96956,
          240.056991,
          239.361036,
          240.0412,
          241.941598,
          326.139526,
          328.546959,
          331.115206,
          333.400873,
          335.009349
         ],
         "z": [
          0,
          0,
          0,
          0,
          0,
          0,
          0,
          0,
          0,
          0,
          0,
          0,
          0,
          0,
          0,
          0,
          0,
          0,
          0,
          0
         ]
        },
        {
         "hoverinfo": "text",
         "legendgroup": "2",
         "legendrank": 2,
         "line": {
          "color": "black",
          "width": 1
         },
         "marker": {
          "size": 0
         },
         "mode": "lines",
         "name": "Topology Edges",
         "showlegend": false,
         "text": "",
         "type": "scatter3d",
         "x": [
          201.33143,
          199.482788,
          null,
          199.482788,
          197.590067,
          null,
          197.590067,
          195.81371,
          null,
          195.81371,
          194.304301,
          null,
          194.304301,
          140.994676,
          null,
          140.994676,
          140.006754,
          null,
          140.006754,
          139.589104,
          null,
          139.589104,
          139.782748,
          null,
          139.782748,
          140.568667,
          null,
          140.568667,
          165.738088,
          null,
          165.738088,
          167.883984,
          null,
          167.883984,
          170.672969,
          null,
          170.672969,
          173.465847,
          null,
          173.465847,
          175.622529,
          null,
          175.622529,
          233.933688,
          null,
          233.933688,
          234.840661,
          null,
          234.840661,
          234.690865,
          null,
          234.690865,
          233.51016,
          null,
          233.51016,
          231.50239,
          null,
          231.50239,
          201.33143,
          null
         ],
         "y": [
          348.846901,
          349.271947,
          null,
          349.271947,
          349.146475,
          null,
          349.146475,
          348.481119,
          null,
          348.481119,
          347.332282,
          null,
          347.332282,
          286.082847,
          null,
          286.082847,
          284.397207,
          null,
          284.397207,
          282.488558,
          null,
          282.488558,
          280.544368,
          null,
          280.544368,
          278.755597,
          null,
          278.755597,
          241.96956,
          null,
          241.96956,
          240.056991,
          null,
          240.056991,
          239.361036,
          null,
          239.361036,
          240.0412,
          null,
          240.0412,
          241.941598,
          null,
          241.941598,
          326.139526,
          null,
          326.139526,
          328.546959,
          null,
          328.546959,
          331.115206,
          null,
          331.115206,
          333.400873,
          null,
          333.400873,
          335.009349,
          null,
          335.009349,
          348.846901,
          null
         ],
         "z": [
          0,
          0,
          null,
          0,
          0,
          null,
          0,
          0,
          null,
          0,
          0,
          null,
          0,
          0,
          null,
          0,
          0,
          null,
          0,
          0,
          null,
          0,
          0,
          null,
          0,
          0,
          null,
          0,
          0,
          null,
          0,
          0,
          null,
          0,
          0,
          null,
          0,
          0,
          null,
          0,
          0,
          null,
          0,
          0,
          null,
          0,
          0,
          null,
          0,
          0,
          null,
          0,
          0,
          null,
          0,
          0,
          null,
          0,
          0,
          null
         ]
        },
        {
         "hoverinfo": "text",
         "hovertext": "",
         "legendgroup": "1",
         "legendrank": 1,
         "marker": {
          "color": "black",
          "size": 0.001
         },
         "mode": "markers",
         "name": "Topology Vertices",
         "showlegend": false,
         "text": "",
         "type": "scatter3d",
         "x": [
          134.191054,
          132.176163,
          129.584068,
          126.922653,
          124.713384,
          73.509929,
          72.47554,
          72.073429,
          72.348063,
          73.269071,
          126.521906,
          128.576391,
          131.156322,
          133.762152,
          135.889316,
          183.136966,
          184.087891,
          184.478914,
          184.272342,
          183.488088
         ],
         "y": [
          266.825778,
          268.620207,
          269.369074,
          268.925649,
          267.376815,
          208.547193,
          206.793419,
          204.797426,
          202.779937,
          200.964056,
          131.304287,
          129.616809,
          128.974591,
          129.501983,
          131.096869,
          187.536793,
          189.212952,
          191.09998,
          193.015991,
          194.776309
         ],
         "z": [
          0,
          0,
          0,
          0,
          0,
          0,
          0,
          0,
          0,
          0,
          0,
          0,
          0,
          0,
          0,
          0,
          0,
          0,
          0,
          0
         ]
        },
        {
         "hoverinfo": "text",
         "legendgroup": "2",
         "legendrank": 2,
         "line": {
          "color": "black",
          "width": 1
         },
         "marker": {
          "size": 0
         },
         "mode": "lines",
         "name": "Topology Edges",
         "showlegend": false,
         "text": "",
         "type": "scatter3d",
         "x": [
          134.191054,
          132.176163,
          null,
          132.176163,
          129.584068,
          null,
          129.584068,
          126.922653,
          null,
          126.922653,
          124.713384,
          null,
          124.713384,
          73.509929,
          null,
          73.509929,
          72.47554,
          null,
          72.47554,
          72.073429,
          null,
          72.073429,
          72.348063,
          null,
          72.348063,
          73.269071,
          null,
          73.269071,
          126.521906,
          null,
          126.521906,
          128.576391,
          null,
          128.576391,
          131.156322,
          null,
          131.156322,
          133.762152,
          null,
          133.762152,
          135.889316,
          null,
          135.889316,
          183.136966,
          null,
          183.136966,
          184.087891,
          null,
          184.087891,
          184.478914,
          null,
          184.478914,
          184.272342,
          null,
          184.272342,
          183.488088,
          null,
          183.488088,
          134.191054,
          null
         ],
         "y": [
          266.825778,
          268.620207,
          null,
          268.620207,
          269.369074,
          null,
          269.369074,
          268.925649,
          null,
          268.925649,
          267.376815,
          null,
          267.376815,
          208.547193,
          null,
          208.547193,
          206.793419,
          null,
          206.793419,
          204.797426,
          null,
          204.797426,
          202.779937,
          null,
          202.779937,
          200.964056,
          null,
          200.964056,
          131.304287,
          null,
          131.304287,
          129.616809,
          null,
          129.616809,
          128.974591,
          null,
          128.974591,
          129.501983,
          null,
          129.501983,
          131.096869,
          null,
          131.096869,
          187.536793,
          null,
          187.536793,
          189.212952,
          null,
          189.212952,
          191.09998,
          null,
          191.09998,
          193.015991,
          null,
          193.015991,
          194.776309,
          null,
          194.776309,
          266.825778,
          null
         ],
         "z": [
          0,
          0,
          null,
          0,
          0,
          null,
          0,
          0,
          null,
          0,
          0,
          null,
          0,
          0,
          null,
          0,
          0,
          null,
          0,
          0,
          null,
          0,
          0,
          null,
          0,
          0,
          null,
          0,
          0,
          null,
          0,
          0,
          null,
          0,
          0,
          null,
          0,
          0,
          null,
          0,
          0,
          null,
          0,
          0,
          null,
          0,
          0,
          null,
          0,
          0,
          null,
          0,
          0,
          null,
          0,
          0,
          null,
          0,
          0,
          null
         ]
        },
        {
         "hoverinfo": "text",
         "hovertext": "",
         "legendgroup": "1",
         "legendrank": 1,
         "marker": {
          "color": "black",
          "size": 0.001
         },
         "mode": "markers",
         "name": "Topology Vertices",
         "showlegend": false,
         "text": "",
         "type": "scatter3d",
         "x": [
          14.831158,
          13.734778,
          13.373387,
          13.793709,
          14.941403,
          74.529089,
          76.603006,
          79.084388,
          81.541123,
          83.545393,
          125.36256,
          126.360127,
          126.735529,
          126.447886,
          125.528522,
          72.08022,
          70.048995,
          67.50291,
          64.92065,
          62.787705
         ],
         "y": [
          141.129071,
          139.25149,
          137.107484,
          134.974249,
          133.127587,
          68.358369,
          66.917506,
          66.448501,
          67.033028,
          68.569297,
          118.522193,
          120.266924,
          122.241335,
          124.230427,
          126.017603,
          195.932923,
          197.600359,
          198.251257,
          197.763245,
          196.22807
         ],
         "z": [
          0,
          0,
          0,
          0,
          0,
          0,
          0,
          0,
          0,
          0,
          0,
          0,
          0,
          0,
          0,
          0,
          0,
          0,
          0,
          0
         ]
        },
        {
         "hoverinfo": "text",
         "legendgroup": "2",
         "legendrank": 2,
         "line": {
          "color": "black",
          "width": 1
         },
         "marker": {
          "size": 0
         },
         "mode": "lines",
         "name": "Topology Edges",
         "showlegend": false,
         "text": "",
         "type": "scatter3d",
         "x": [
          14.831158,
          13.734778,
          null,
          13.734778,
          13.373387,
          null,
          13.373387,
          13.793709,
          null,
          13.793709,
          14.941403,
          null,
          14.941403,
          74.529089,
          null,
          74.529089,
          76.603006,
          null,
          76.603006,
          79.084388,
          null,
          79.084388,
          81.541123,
          null,
          81.541123,
          83.545393,
          null,
          83.545393,
          125.36256,
          null,
          125.36256,
          126.360127,
          null,
          126.360127,
          126.735529,
          null,
          126.735529,
          126.447886,
          null,
          126.447886,
          125.528522,
          null,
          125.528522,
          72.08022,
          null,
          72.08022,
          70.048995,
          null,
          70.048995,
          67.50291,
          null,
          67.50291,
          64.92065,
          null,
          64.92065,
          62.787705,
          null,
          62.787705,
          14.831158,
          null
         ],
         "y": [
          141.129071,
          139.25149,
          null,
          139.25149,
          137.107484,
          null,
          137.107484,
          134.974249,
          null,
          134.974249,
          133.127587,
          null,
          133.127587,
          68.358369,
          null,
          68.358369,
          66.917506,
          null,
          66.917506,
          66.448501,
          null,
          66.448501,
          67.033028,
          null,
          67.033028,
          68.569297,
          null,
          68.569297,
          118.522193,
          null,
          118.522193,
          120.266924,
          null,
          120.266924,
          122.241335,
          null,
          122.241335,
          124.230427,
          null,
          124.230427,
          126.017603,
          null,
          126.017603,
          195.932923,
          null,
          195.932923,
          197.600359,
          null,
          197.600359,
          198.251257,
          null,
          198.251257,
          197.763245,
          null,
          197.763245,
          196.22807,
          null,
          196.22807,
          141.129071,
          null
         ],
         "z": [
          0,
          0,
          null,
          0,
          0,
          null,
          0,
          0,
          null,
          0,
          0,
          null,
          0,
          0,
          null,
          0,
          0,
          null,
          0,
          0,
          null,
          0,
          0,
          null,
          0,
          0,
          null,
          0,
          0,
          null,
          0,
          0,
          null,
          0,
          0,
          null,
          0,
          0,
          null,
          0,
          0,
          null,
          0,
          0,
          null,
          0,
          0,
          null,
          0,
          0,
          null,
          0,
          0,
          null,
          0,
          0,
          null,
          0,
          0,
          null
         ]
        },
        {
         "hoverinfo": "text",
         "hovertext": "",
         "legendgroup": "1",
         "legendrank": 1,
         "marker": {
          "color": "black",
          "size": 0.001
         },
         "mode": "markers",
         "name": "Topology Vertices",
         "showlegend": false,
         "text": "",
         "type": "scatter3d",
         "x": [
          -10.323155,
          -9.226775,
          -8.865384,
          -9.285706,
          -10.433398,
          -62.588557,
          -64.562409,
          -66.930746,
          -69.311028,
          -71.318787,
          -158.925876,
          -160.19188,
          -160.548852,
          -159.9404,
          -158.462644,
          -94.713809,
          -92.677984,
          -90.395889,
          -88.180741,
          -86.33657
         ],
         "y": [
          132.029632,
          133.907213,
          136.051217,
          138.184451,
          140.031114,
          196.721515,
          198.128411,
          198.644578,
          198.186644,
          196.828576,
          106.16971,
          104.092749,
          101.686692,
          99.331629,
          97.39959,
          44.033463,
          42.973262,
          42.726982,
          43.328425,
          44.695043
         ],
         "z": [
          0,
          0,
          0,
          0,
          0,
          0,
          0,
          0,
          0,
          0,
          0,
          0,
          0,
          0,
          0,
          0,
          0,
          0,
          0,
          0
         ]
        },
        {
         "hoverinfo": "text",
         "legendgroup": "2",
         "legendrank": 2,
         "line": {
          "color": "black",
          "width": 1
         },
         "marker": {
          "size": 0
         },
         "mode": "lines",
         "name": "Topology Edges",
         "showlegend": false,
         "text": "",
         "type": "scatter3d",
         "x": [
          -10.323155,
          -9.226775,
          null,
          -9.226775,
          -8.865384,
          null,
          -8.865384,
          -9.285706,
          null,
          -9.285706,
          -10.433398,
          null,
          -10.433398,
          -62.588557,
          null,
          -62.588557,
          -64.562409,
          null,
          -64.562409,
          -66.930746,
          null,
          -66.930746,
          -69.311028,
          null,
          -69.311028,
          -71.318787,
          null,
          -71.318787,
          -158.925876,
          null,
          -158.925876,
          -160.19188,
          null,
          -160.19188,
          -160.548852,
          null,
          -160.548852,
          -159.9404,
          null,
          -159.9404,
          -158.462644,
          null,
          -158.462644,
          -94.713809,
          null,
          -94.713809,
          -92.677984,
          null,
          -92.677984,
          -90.395889,
          null,
          -90.395889,
          -88.180741,
          null,
          -88.180741,
          -86.33657,
          null,
          -86.33657,
          -10.323155,
          null
         ],
         "y": [
          132.029632,
          133.907213,
          null,
          133.907213,
          136.051217,
          null,
          136.051217,
          138.184451,
          null,
          138.184451,
          140.031114,
          null,
          140.031114,
          196.721515,
          null,
          196.721515,
          198.128411,
          null,
          198.128411,
          198.644578,
          null,
          198.644578,
          198.186644,
          null,
          198.186644,
          196.828576,
          null,
          196.828576,
          106.16971,
          null,
          106.16971,
          104.092749,
          null,
          104.092749,
          101.686692,
          null,
          101.686692,
          99.331629,
          null,
          99.331629,
          97.39959,
          null,
          97.39959,
          44.033463,
          null,
          44.033463,
          42.973262,
          null,
          42.973262,
          42.726982,
          null,
          42.726982,
          43.328425,
          null,
          43.328425,
          44.695043,
          null,
          44.695043,
          132.029632,
          null
         ],
         "z": [
          0,
          0,
          null,
          0,
          0,
          null,
          0,
          0,
          null,
          0,
          0,
          null,
          0,
          0,
          null,
          0,
          0,
          null,
          0,
          0,
          null,
          0,
          0,
          null,
          0,
          0,
          null,
          0,
          0,
          null,
          0,
          0,
          null,
          0,
          0,
          null,
          0,
          0,
          null,
          0,
          0,
          null,
          0,
          0,
          null,
          0,
          0,
          null,
          0,
          0,
          null,
          0,
          0,
          null,
          0,
          0,
          null,
          0,
          0,
          null
         ]
        },
        {
         "hoverinfo": "text",
         "hovertext": "",
         "legendgroup": "1",
         "legendrank": 1,
         "marker": {
          "color": "black",
          "size": 0.001
         },
         "mode": "markers",
         "name": "Topology Vertices",
         "showlegend": false,
         "text": "",
         "type": "scatter3d",
         "x": [
          -161.906471,
          -163.866186,
          -166.071498,
          -168.234425,
          -170.072519,
          -255.795386,
          -257.161514,
          -257.239289,
          -256.011858,
          -253.745195,
          -165.300754,
          -163.498579,
          -161.672006,
          -159.964579,
          -158.510476,
          -96.84301,
          -95.725651,
          -95.461635,
          -96.089149,
          -97.517428
         ],
         "y": [
          95.065965,
          96.116986,
          96.402863,
          95.886263,
          94.634648,
          5.925712,
          3.406836,
          0.5424,
          -2.046896,
          -3.799973,
          -39.84527,
          -40.188289,
          -40.017611,
          -39.346649,
          -38.22813,
          32.623916,
          34.692961,
          37.029569,
          39.295769,
          41.163778
         ],
         "z": [
          0,
          0,
          0,
          0,
          0,
          0,
          0,
          0,
          0,
          0,
          0,
          0,
          0,
          0,
          0,
          0,
          0,
          0,
          0,
          0
         ]
        },
        {
         "hoverinfo": "text",
         "legendgroup": "2",
         "legendrank": 2,
         "line": {
          "color": "black",
          "width": 1
         },
         "marker": {
          "size": 0
         },
         "mode": "lines",
         "name": "Topology Edges",
         "showlegend": false,
         "text": "",
         "type": "scatter3d",
         "x": [
          -161.906471,
          -163.866186,
          null,
          -163.866186,
          -166.071498,
          null,
          -166.071498,
          -168.234425,
          null,
          -168.234425,
          -170.072519,
          null,
          -170.072519,
          -255.795386,
          null,
          -255.795386,
          -257.161514,
          null,
          -257.161514,
          -257.239289,
          null,
          -257.239289,
          -256.011858,
          null,
          -256.011858,
          -253.745195,
          null,
          -253.745195,
          -165.300754,
          null,
          -165.300754,
          -163.498579,
          null,
          -163.498579,
          -161.672006,
          null,
          -161.672006,
          -159.964579,
          null,
          -159.964579,
          -158.510476,
          null,
          -158.510476,
          -96.84301,
          null,
          -96.84301,
          -95.725651,
          null,
          -95.725651,
          -95.461635,
          null,
          -95.461635,
          -96.089149,
          null,
          -96.089149,
          -97.517428,
          null,
          -97.517428,
          -161.906471,
          null
         ],
         "y": [
          95.065965,
          96.116986,
          null,
          96.116986,
          96.402863,
          null,
          96.402863,
          95.886263,
          null,
          95.886263,
          94.634648,
          null,
          94.634648,
          5.925712,
          null,
          5.925712,
          3.406836,
          null,
          3.406836,
          0.5424,
          null,
          0.5424,
          -2.046896,
          null,
          -2.046896,
          -3.799973,
          null,
          -3.799973,
          -39.84527,
          null,
          -39.84527,
          -40.188289,
          null,
          -40.188289,
          -40.017611,
          null,
          -40.017611,
          -39.346649,
          null,
          -39.346649,
          -38.22813,
          null,
          -38.22813,
          32.623916,
          null,
          32.623916,
          34.692961,
          null,
          34.692961,
          37.029569,
          null,
          37.029569,
          39.295769,
          null,
          39.295769,
          41.163778,
          null,
          41.163778,
          95.065965,
          null
         ],
         "z": [
          0,
          0,
          null,
          0,
          0,
          null,
          0,
          0,
          null,
          0,
          0,
          null,
          0,
          0,
          null,
          0,
          0,
          null,
          0,
          0,
          null,
          0,
          0,
          null,
          0,
          0,
          null,
          0,
          0,
          null,
          0,
          0,
          null,
          0,
          0,
          null,
          0,
          0,
          null,
          0,
          0,
          null,
          0,
          0,
          null,
          0,
          0,
          null,
          0,
          0,
          null,
          0,
          0,
          null,
          0,
          0,
          null,
          0,
          0,
          null
         ]
        },
        {
         "hoverinfo": "text",
         "hovertext": "",
         "legendgroup": "1",
         "legendrank": 1,
         "marker": {
          "color": "black",
          "size": 0.001
         },
         "mode": "markers",
         "name": "Topology Vertices",
         "showlegend": false,
         "text": "",
         "type": "scatter3d",
         "x": [
          -324.938918,
          -327.724801,
          -330.371481,
          -332.330731,
          -333.196716,
          -341.103921,
          -340.752442,
          -339.711709,
          -338.102436,
          -336.11128,
          -281.515648,
          -279.994588,
          -278.511326,
          -277.15033,
          -275.989109,
          -174.467443,
          -173.249606,
          -173.264649,
          -174.509487,
          -176.728825
         ],
         "y": [
          13.336337,
          13.673279,
          12.740671,
          10.731687,
          8.062465,
          -159.746998,
          -161.86155,
          -163.735515,
          -165.151533,
          -165.945363,
          -175.180422,
          -175.203698,
          -174.865918,
          -174.186321,
          -173.203608,
          -56.561657,
          -54.04974,
          -51.258212,
          -48.759566,
          -47.066229
         ],
         "z": [
          0,
          0,
          0,
          0,
          0,
          0,
          0,
          0,
          0,
          0,
          0,
          0,
          0,
          0,
          0,
          0,
          0,
          0,
          0,
          0
         ]
        },
        {
         "hoverinfo": "text",
         "legendgroup": "2",
         "legendrank": 2,
         "line": {
          "color": "black",
          "width": 1
         },
         "marker": {
          "size": 0
         },
         "mode": "lines",
         "name": "Topology Edges",
         "showlegend": false,
         "text": "",
         "type": "scatter3d",
         "x": [
          -324.938918,
          -327.724801,
          null,
          -327.724801,
          -330.371481,
          null,
          -330.371481,
          -332.330731,
          null,
          -332.330731,
          -333.196716,
          null,
          -333.196716,
          -341.103921,
          null,
          -341.103921,
          -340.752442,
          null,
          -340.752442,
          -339.711709,
          null,
          -339.711709,
          -338.102436,
          null,
          -338.102436,
          -336.11128,
          null,
          -336.11128,
          -281.515648,
          null,
          -281.515648,
          -279.994588,
          null,
          -279.994588,
          -278.511326,
          null,
          -278.511326,
          -277.15033,
          null,
          -277.15033,
          -275.989109,
          null,
          -275.989109,
          -174.467443,
          null,
          -174.467443,
          -173.249606,
          null,
          -173.249606,
          -173.264649,
          null,
          -173.264649,
          -174.509487,
          null,
          -174.509487,
          -176.728825,
          null,
          -176.728825,
          -324.938918,
          null
         ],
         "y": [
          13.336337,
          13.673279,
          null,
          13.673279,
          12.740671,
          null,
          12.740671,
          10.731687,
          null,
          10.731687,
          8.062465,
          null,
          8.062465,
          -159.746998,
          null,
          -159.746998,
          -161.86155,
          null,
          -161.86155,
          -163.735515,
          null,
          -163.735515,
          -165.151533,
          null,
          -165.151533,
          -165.945363,
          null,
          -165.945363,
          -175.180422,
          null,
          -175.180422,
          -175.203698,
          null,
          -175.203698,
          -174.865918,
          null,
          -174.865918,
          -174.186321,
          null,
          -174.186321,
          -173.203608,
          null,
          -173.203608,
          -56.561657,
          null,
          -56.561657,
          -54.04974,
          null,
          -54.04974,
          -51.258212,
          null,
          -51.258212,
          -48.759566,
          null,
          -48.759566,
          -47.066229,
          null,
          -47.066229,
          13.336337,
          null
         ],
         "z": [
          0,
          0,
          null,
          0,
          0,
          null,
          0,
          0,
          null,
          0,
          0,
          null,
          0,
          0,
          null,
          0,
          0,
          null,
          0,
          0,
          null,
          0,
          0,
          null,
          0,
          0,
          null,
          0,
          0,
          null,
          0,
          0,
          null,
          0,
          0,
          null,
          0,
          0,
          null,
          0,
          0,
          null,
          0,
          0,
          null,
          0,
          0,
          null,
          0,
          0,
          null,
          0,
          0,
          null,
          0,
          0,
          null,
          0,
          0,
          null
         ]
        },
        {
         "hoverinfo": "text",
         "hovertext": "",
         "legendgroup": "1",
         "legendrank": 1,
         "marker": {
          "color": "black",
          "size": 0.001
         },
         "mode": "markers",
         "name": "Topology Vertices",
         "showlegend": false,
         "text": "",
         "type": "scatter3d",
         "x": [
          436.584888,
          438.403753,
          439.796641,
          440.615323,
          440.772678,
          417.085196,
          416.621522,
          415.868653,
          414.861184,
          413.645408,
          356.012277,
          353.611701,
          351.195155,
          349.167889,
          347.869869,
          307.261381,
          307.004505,
          307.137689,
          307.653259,
          308.521506,
          395.410895,
          396.740715,
          398.270114,
          399.905094,
          401.545173
         ],
         "y": [
          72.493052,
          73.515881,
          75.069686,
          76.989113,
          79.069903,
          246.856612,
          248.263524,
          249.539293,
          250.625296,
          251.471632,
          277.904339,
          278.446347,
          277.980679,
          276.585427,
          274.494571,
          162.421141,
          160.815412,
          159.194728,
          157.652476,
          156.277523,
          63.425041,
          62.447621,
          61.827371,
          61.602408,
          61.78656
         ],
         "z": [
          0,
          0,
          0,
          0,
          0,
          0,
          0,
          0,
          0,
          0,
          0,
          0,
          0,
          0,
          0,
          0,
          0,
          0,
          0,
          0,
          0,
          0,
          0,
          0,
          0
         ]
        },
        {
         "hoverinfo": "text",
         "legendgroup": "2",
         "legendrank": 2,
         "line": {
          "color": "black",
          "width": 1
         },
         "marker": {
          "size": 0
         },
         "mode": "lines",
         "name": "Topology Edges",
         "showlegend": false,
         "text": "",
         "type": "scatter3d",
         "x": [
          436.584888,
          438.403753,
          null,
          438.403753,
          439.796641,
          null,
          439.796641,
          440.615323,
          null,
          440.615323,
          440.772678,
          null,
          440.772678,
          417.085196,
          null,
          417.085196,
          416.621522,
          null,
          416.621522,
          415.868653,
          null,
          415.868653,
          414.861184,
          null,
          414.861184,
          413.645408,
          null,
          413.645408,
          356.012277,
          null,
          356.012277,
          353.611701,
          null,
          353.611701,
          351.195155,
          null,
          351.195155,
          349.167889,
          null,
          349.167889,
          347.869869,
          null,
          347.869869,
          307.261381,
          null,
          307.261381,
          307.004505,
          null,
          307.004505,
          307.137689,
          null,
          307.137689,
          307.653259,
          null,
          307.653259,
          308.521506,
          null,
          308.521506,
          395.410895,
          null,
          395.410895,
          396.740715,
          null,
          396.740715,
          398.270114,
          null,
          398.270114,
          399.905094,
          null,
          399.905094,
          401.545173,
          null,
          401.545173,
          436.584888,
          null
         ],
         "y": [
          72.493052,
          73.515881,
          null,
          73.515881,
          75.069686,
          null,
          75.069686,
          76.989113,
          null,
          76.989113,
          79.069903,
          null,
          79.069903,
          246.856612,
          null,
          246.856612,
          248.263524,
          null,
          248.263524,
          249.539293,
          null,
          249.539293,
          250.625296,
          null,
          250.625296,
          251.471632,
          null,
          251.471632,
          277.904339,
          null,
          277.904339,
          278.446347,
          null,
          278.446347,
          277.980679,
          null,
          277.980679,
          276.585427,
          null,
          276.585427,
          274.494571,
          null,
          274.494571,
          162.421141,
          null,
          162.421141,
          160.815412,
          null,
          160.815412,
          159.194728,
          null,
          159.194728,
          157.652476,
          null,
          157.652476,
          156.277523,
          null,
          156.277523,
          63.425041,
          null,
          63.425041,
          62.447621,
          null,
          62.447621,
          61.827371,
          null,
          61.827371,
          61.602408,
          null,
          61.602408,
          61.78656,
          null,
          61.78656,
          72.493052,
          null
         ],
         "z": [
          0,
          0,
          null,
          0,
          0,
          null,
          0,
          0,
          null,
          0,
          0,
          null,
          0,
          0,
          null,
          0,
          0,
          null,
          0,
          0,
          null,
          0,
          0,
          null,
          0,
          0,
          null,
          0,
          0,
          null,
          0,
          0,
          null,
          0,
          0,
          null,
          0,
          0,
          null,
          0,
          0,
          null,
          0,
          0,
          null,
          0,
          0,
          null,
          0,
          0,
          null,
          0,
          0,
          null,
          0,
          0,
          null,
          0,
          0,
          null,
          0,
          0,
          null,
          0,
          0,
          null,
          0,
          0,
          null,
          0,
          0,
          null,
          0,
          0,
          null
         ]
        },
        {
         "hoverinfo": "text",
         "hovertext": "",
         "legendgroup": "1",
         "legendrank": 1,
         "marker": {
          "color": "black",
          "size": 0.001
         },
         "mode": "markers",
         "name": "Topology Vertices",
         "showlegend": false,
         "text": "",
         "type": "scatter3d",
         "x": [
          342.73515,
          343.088858,
          342.624141,
          341.404274,
          339.595352,
          309.934962,
          307.660452,
          305.3599,
          303.369438,
          301.979893,
          233.8611,
          233.462599,
          233.414875,
          233.720496,
          234.363019,
          266.327858,
          268.837647,
          272.022286,
          274.993024,
          276.920808
         ],
         "y": [
          277.936027,
          280.126348,
          282.29583,
          284.149082,
          285.433767,
          299.037186,
          299.549468,
          299.170936,
          297.956897,
          296.084735,
          147.560845,
          146.084835,
          144.556721,
          143.058721,
          141.671432,
          94.953726,
          92.941887,
          92.489544,
          93.722933,
          96.297849
         ],
         "z": [
          0,
          0,
          0,
          0,
          0,
          0,
          0,
          0,
          0,
          0,
          0,
          0,
          0,
          0,
          0,
          0,
          0,
          0,
          0,
          0
         ]
        },
        {
         "hoverinfo": "text",
         "legendgroup": "2",
         "legendrank": 2,
         "line": {
          "color": "black",
          "width": 1
         },
         "marker": {
          "size": 0
         },
         "mode": "lines",
         "name": "Topology Edges",
         "showlegend": false,
         "text": "",
         "type": "scatter3d",
         "x": [
          342.73515,
          343.088858,
          null,
          343.088858,
          342.624141,
          null,
          342.624141,
          341.404274,
          null,
          341.404274,
          339.595352,
          null,
          339.595352,
          309.934962,
          null,
          309.934962,
          307.660452,
          null,
          307.660452,
          305.3599,
          null,
          305.3599,
          303.369438,
          null,
          303.369438,
          301.979893,
          null,
          301.979893,
          233.8611,
          null,
          233.8611,
          233.462599,
          null,
          233.462599,
          233.414875,
          null,
          233.414875,
          233.720496,
          null,
          233.720496,
          234.363019,
          null,
          234.363019,
          266.327858,
          null,
          266.327858,
          268.837647,
          null,
          268.837647,
          272.022286,
          null,
          272.022286,
          274.993024,
          null,
          274.993024,
          276.920808,
          null,
          276.920808,
          342.73515,
          null
         ],
         "y": [
          277.936027,
          280.126348,
          null,
          280.126348,
          282.29583,
          null,
          282.29583,
          284.149082,
          null,
          284.149082,
          285.433767,
          null,
          285.433767,
          299.037186,
          null,
          299.037186,
          299.549468,
          null,
          299.549468,
          299.170936,
          null,
          299.170936,
          297.956897,
          null,
          297.956897,
          296.084735,
          null,
          296.084735,
          147.560845,
          null,
          147.560845,
          146.084835,
          null,
          146.084835,
          144.556721,
          null,
          144.556721,
          143.058721,
          null,
          143.058721,
          141.671432,
          null,
          141.671432,
          94.953726,
          null,
          94.953726,
          92.941887,
          null,
          92.941887,
          92.489544,
          null,
          92.489544,
          93.722933,
          null,
          93.722933,
          96.297849,
          null,
          96.297849,
          277.936027,
          null
         ],
         "z": [
          0,
          0,
          null,
          0,
          0,
          null,
          0,
          0,
          null,
          0,
          0,
          null,
          0,
          0,
          null,
          0,
          0,
          null,
          0,
          0,
          null,
          0,
          0,
          null,
          0,
          0,
          null,
          0,
          0,
          null,
          0,
          0,
          null,
          0,
          0,
          null,
          0,
          0,
          null,
          0,
          0,
          null,
          0,
          0,
          null,
          0,
          0,
          null,
          0,
          0,
          null,
          0,
          0,
          null,
          0,
          0,
          null,
          0,
          0,
          null
         ]
        },
        {
         "hoverinfo": "text",
         "hovertext": "",
         "legendgroup": "1",
         "legendrank": 1,
         "marker": {
          "color": "black",
          "size": 0.001
         },
         "mode": "markers",
         "name": "Topology Vertices",
         "showlegend": false,
         "text": "",
         "type": "scatter3d",
         "x": [
          246.273057,
          244.261981,
          242.212141,
          240.338924,
          238.839161,
          175.429518,
          174.640172,
          174.365491,
          174.630099,
          175.410274,
          223.824585,
          226.220113,
          229.279244,
          232.203657,
          234.230185,
          298.344094,
          298.856374,
          298.477839,
          297.263798,
          295.391633
         ],
         "y": [
          328.234934,
          328.68644,
          328.470946,
          327.611095,
          326.197236,
          234.637357,
          233.01836,
          231.238257,
          229.456629,
          227.833194,
          157.073778,
          155.097317,
          154.561901,
          155.607255,
          157.96058,
          297.752238,
          300.026748,
          302.3273,
          304.317761,
          305.707302
         ],
         "z": [
          0,
          0,
          0,
          0,
          0,
          0,
          0,
          0,
          0,
          0,
          0,
          0,
          0,
          0,
          0,
          0,
          0,
          0,
          0,
          0
         ]
        },
        {
         "hoverinfo": "text",
         "legendgroup": "2",
         "legendrank": 2,
         "line": {
          "color": "black",
          "width": 1
         },
         "marker": {
          "size": 0
         },
         "mode": "lines",
         "name": "Topology Edges",
         "showlegend": false,
         "text": "",
         "type": "scatter3d",
         "x": [
          246.273057,
          244.261981,
          null,
          244.261981,
          242.212141,
          null,
          242.212141,
          240.338924,
          null,
          240.338924,
          238.839161,
          null,
          238.839161,
          175.429518,
          null,
          175.429518,
          174.640172,
          null,
          174.640172,
          174.365491,
          null,
          174.365491,
          174.630099,
          null,
          174.630099,
          175.410274,
          null,
          175.410274,
          223.824585,
          null,
          223.824585,
          226.220113,
          null,
          226.220113,
          229.279244,
          null,
          229.279244,
          232.203657,
          null,
          232.203657,
          234.230185,
          null,
          234.230185,
          298.344094,
          null,
          298.344094,
          298.856374,
          null,
          298.856374,
          298.477839,
          null,
          298.477839,
          297.263798,
          null,
          297.263798,
          295.391633,
          null,
          295.391633,
          246.273057,
          null
         ],
         "y": [
          328.234934,
          328.68644,
          null,
          328.68644,
          328.470946,
          null,
          328.470946,
          327.611095,
          null,
          327.611095,
          326.197236,
          null,
          326.197236,
          234.637357,
          null,
          234.637357,
          233.01836,
          null,
          233.01836,
          231.238257,
          null,
          231.238257,
          229.456629,
          null,
          229.456629,
          227.833194,
          null,
          227.833194,
          157.073778,
          null,
          157.073778,
          155.097317,
          null,
          155.097317,
          154.561901,
          null,
          154.561901,
          155.607255,
          null,
          155.607255,
          157.96058,
          null,
          157.96058,
          297.752238,
          null,
          297.752238,
          300.026748,
          null,
          300.026748,
          302.3273,
          null,
          302.3273,
          304.317761,
          null,
          304.317761,
          305.707302,
          null,
          305.707302,
          328.234934,
          null
         ],
         "z": [
          0,
          0,
          null,
          0,
          0,
          null,
          0,
          0,
          null,
          0,
          0,
          null,
          0,
          0,
          null,
          0,
          0,
          null,
          0,
          0,
          null,
          0,
          0,
          null,
          0,
          0,
          null,
          0,
          0,
          null,
          0,
          0,
          null,
          0,
          0,
          null,
          0,
          0,
          null,
          0,
          0,
          null,
          0,
          0,
          null,
          0,
          0,
          null,
          0,
          0,
          null,
          0,
          0,
          null,
          0,
          0,
          null,
          0,
          0,
          null
         ]
        },
        {
         "hoverinfo": "text",
         "hovertext": "",
         "legendgroup": "1",
         "legendrank": 1,
         "marker": {
          "color": "black",
          "size": 0.001
         },
         "mode": "markers",
         "name": "Topology Vertices",
         "showlegend": false,
         "text": "",
         "type": "scatter3d",
         "x": [
          88.000441,
          86.957354,
          86.628953,
          87.056052,
          88.185573,
          148.447759,
          149.779392,
          151.317011,
          152.963947,
          154.616657,
          288.642308,
          291.011,
          292.497971,
          292.795107,
          291.840838,
          195.218616,
          193.180935,
          190.554997,
          187.869741,
          185.666051
         ],
         "y": [
          61.428022,
          59.555255,
          57.436898,
          55.336215,
          53.514275,
          -11.988105,
          -12.984432,
          -13.618181,
          -13.84951,
          -13.663875,
          27.288411,
          28.723953,
          31.060703,
          33.814462,
          36.414626,
          177.631627,
          179.445871,
          180.186192,
          179.703469,
          178.094934
         ],
         "z": [
          0,
          0,
          0,
          0,
          0,
          0,
          0,
          0,
          0,
          0,
          0,
          0,
          0,
          0,
          0,
          0,
          0,
          0,
          0,
          0
         ]
        },
        {
         "hoverinfo": "text",
         "legendgroup": "2",
         "legendrank": 2,
         "line": {
          "color": "black",
          "width": 1
         },
         "marker": {
          "size": 0
         },
         "mode": "lines",
         "name": "Topology Edges",
         "showlegend": false,
         "text": "",
         "type": "scatter3d",
         "x": [
          88.000441,
          86.957354,
          null,
          86.957354,
          86.628953,
          null,
          86.628953,
          87.056052,
          null,
          87.056052,
          88.185573,
          null,
          88.185573,
          148.447759,
          null,
          148.447759,
          149.779392,
          null,
          149.779392,
          151.317011,
          null,
          151.317011,
          152.963947,
          null,
          152.963947,
          154.616657,
          null,
          154.616657,
          288.642308,
          null,
          288.642308,
          291.011,
          null,
          291.011,
          292.497971,
          null,
          292.497971,
          292.795107,
          null,
          292.795107,
          291.840838,
          null,
          291.840838,
          195.218616,
          null,
          195.218616,
          193.180935,
          null,
          193.180935,
          190.554997,
          null,
          190.554997,
          187.869741,
          null,
          187.869741,
          185.666051,
          null,
          185.666051,
          88.000441,
          null
         ],
         "y": [
          61.428022,
          59.555255,
          null,
          59.555255,
          57.436898,
          null,
          57.436898,
          55.336215,
          null,
          55.336215,
          53.514275,
          null,
          53.514275,
          -11.988105,
          null,
          -11.988105,
          -12.984432,
          null,
          -12.984432,
          -13.618181,
          null,
          -13.618181,
          -13.84951,
          null,
          -13.84951,
          -13.663875,
          null,
          -13.663875,
          27.288411,
          null,
          27.288411,
          28.723953,
          null,
          28.723953,
          31.060703,
          null,
          31.060703,
          33.814462,
          null,
          33.814462,
          36.414626,
          null,
          36.414626,
          177.631627,
          null,
          177.631627,
          179.445871,
          null,
          179.445871,
          180.186192,
          null,
          180.186192,
          179.703469,
          null,
          179.703469,
          178.094934,
          null,
          178.094934,
          61.428022,
          null
         ],
         "z": [
          0,
          0,
          null,
          0,
          0,
          null,
          0,
          0,
          null,
          0,
          0,
          null,
          0,
          0,
          null,
          0,
          0,
          null,
          0,
          0,
          null,
          0,
          0,
          null,
          0,
          0,
          null,
          0,
          0,
          null,
          0,
          0,
          null,
          0,
          0,
          null,
          0,
          0,
          null,
          0,
          0,
          null,
          0,
          0,
          null,
          0,
          0,
          null,
          0,
          0,
          null,
          0,
          0,
          null,
          0,
          0,
          null,
          0,
          0,
          null
         ]
        },
        {
         "hoverinfo": "text",
         "hovertext": "",
         "legendgroup": "1",
         "legendrank": 1,
         "marker": {
          "color": "black",
          "size": 0.001
         },
         "mode": "markers",
         "name": "Topology Vertices",
         "showlegend": false,
         "text": "",
         "type": "scatter3d",
         "x": [
          66.713759,
          67.756846,
          68.085247,
          67.658148,
          66.528627,
          6.597541,
          4.552,
          2.099512,
          -0.338702,
          -2.343877,
          -76.215082,
          -77.332442,
          -77.596458,
          -76.968943,
          -75.54066,
          -6.581521,
          -4.517787,
          -2.207408,
          0.026263,
          1.870609
         ],
         "y": [
          48.462978,
          50.335745,
          52.454102,
          54.554785,
          56.376725,
          121.519212,
          122.956211,
          123.440476,
          122.888829,
          121.396019,
          36.522694,
          34.453646,
          32.117036,
          29.850833,
          27.982823,
          -29.744994,
          -30.809095,
          -31.040299,
          -30.406248,
          -28.995682
         ],
         "z": [
          0,
          0,
          0,
          0,
          0,
          0,
          0,
          0,
          0,
          0,
          0,
          0,
          0,
          0,
          0,
          0,
          0,
          0,
          0,
          0
         ]
        },
        {
         "hoverinfo": "text",
         "legendgroup": "2",
         "legendrank": 2,
         "line": {
          "color": "black",
          "width": 1
         },
         "marker": {
          "size": 0
         },
         "mode": "lines",
         "name": "Topology Edges",
         "showlegend": false,
         "text": "",
         "type": "scatter3d",
         "x": [
          66.713759,
          67.756846,
          null,
          67.756846,
          68.085247,
          null,
          68.085247,
          67.658148,
          null,
          67.658148,
          66.528627,
          null,
          66.528627,
          6.597541,
          null,
          6.597541,
          4.552,
          null,
          4.552,
          2.099512,
          null,
          2.099512,
          -0.338702,
          null,
          -0.338702,
          -2.343877,
          null,
          -2.343877,
          -76.215082,
          null,
          -76.215082,
          -77.332442,
          null,
          -77.332442,
          -77.596458,
          null,
          -77.596458,
          -76.968943,
          null,
          -76.968943,
          -75.54066,
          null,
          -75.54066,
          -6.581521,
          null,
          -6.581521,
          -4.517787,
          null,
          -4.517787,
          -2.207408,
          null,
          -2.207408,
          0.026263,
          null,
          0.026263,
          1.870609,
          null,
          1.870609,
          66.713759,
          null
         ],
         "y": [
          48.462978,
          50.335745,
          null,
          50.335745,
          52.454102,
          null,
          52.454102,
          54.554785,
          null,
          54.554785,
          56.376725,
          null,
          56.376725,
          121.519212,
          null,
          121.519212,
          122.956211,
          null,
          122.956211,
          123.440476,
          null,
          123.440476,
          122.888829,
          null,
          122.888829,
          121.396019,
          null,
          121.396019,
          36.522694,
          null,
          36.522694,
          34.453646,
          null,
          34.453646,
          32.117036,
          null,
          32.117036,
          29.850833,
          null,
          29.850833,
          27.982823,
          null,
          27.982823,
          -29.744994,
          null,
          -29.744994,
          -30.809095,
          null,
          -30.809095,
          -31.040299,
          null,
          -31.040299,
          -30.406248,
          null,
          -30.406248,
          -28.995682,
          null,
          -28.995682,
          48.462978,
          null
         ],
         "z": [
          0,
          0,
          null,
          0,
          0,
          null,
          0,
          0,
          null,
          0,
          0,
          null,
          0,
          0,
          null,
          0,
          0,
          null,
          0,
          0,
          null,
          0,
          0,
          null,
          0,
          0,
          null,
          0,
          0,
          null,
          0,
          0,
          null,
          0,
          0,
          null,
          0,
          0,
          null,
          0,
          0,
          null,
          0,
          0,
          null,
          0,
          0,
          null,
          0,
          0,
          null,
          0,
          0,
          null,
          0,
          0,
          null,
          0,
          0,
          null
         ]
        },
        {
         "hoverinfo": "text",
         "hovertext": "",
         "legendgroup": "1",
         "legendrank": 1,
         "marker": {
          "color": "black",
          "size": 0.001
         },
         "mode": "markers",
         "name": "Topology Vertices",
         "showlegend": false,
         "text": "",
         "type": "scatter3d",
         "x": [
          -78.344193,
          -80.380019,
          -82.662114,
          -84.877261,
          -86.721432,
          -143.097151,
          -144.314989,
          -144.299945,
          -143.055105,
          -140.835764,
          -51.481639,
          -49.651135,
          -47.797313,
          -46.071994,
          -44.616475,
          -8.399811,
          -7.335709,
          -7.104504,
          -7.738554,
          -9.149121
         ],
         "y": [
          25.113234,
          26.173435,
          26.419715,
          25.818272,
          24.451654,
          -40.320537,
          -42.832455,
          -45.623984,
          -48.122631,
          -49.815968,
          -86.231947,
          -86.578919,
          -86.39323,
          -85.690087,
          -84.527074,
          -41.264321,
          -39.200587,
          -36.890207,
          -34.656535,
          -32.812189
         ],
         "z": [
          0,
          0,
          0,
          0,
          0,
          0,
          0,
          0,
          0,
          0,
          0,
          0,
          0,
          0,
          0,
          0,
          0,
          0,
          0,
          0
         ]
        },
        {
         "hoverinfo": "text",
         "legendgroup": "2",
         "legendrank": 2,
         "line": {
          "color": "black",
          "width": 1
         },
         "marker": {
          "size": 0
         },
         "mode": "lines",
         "name": "Topology Edges",
         "showlegend": false,
         "text": "",
         "type": "scatter3d",
         "x": [
          -78.344193,
          -80.380019,
          null,
          -80.380019,
          -82.662114,
          null,
          -82.662114,
          -84.877261,
          null,
          -84.877261,
          -86.721432,
          null,
          -86.721432,
          -143.097151,
          null,
          -143.097151,
          -144.314989,
          null,
          -144.314989,
          -144.299945,
          null,
          -144.299945,
          -143.055105,
          null,
          -143.055105,
          -140.835764,
          null,
          -140.835764,
          -51.481639,
          null,
          -51.481639,
          -49.651135,
          null,
          -49.651135,
          -47.797313,
          null,
          -47.797313,
          -46.071994,
          null,
          -46.071994,
          -44.616475,
          null,
          -44.616475,
          -8.399811,
          null,
          -8.399811,
          -7.335709,
          null,
          -7.335709,
          -7.104504,
          null,
          -7.104504,
          -7.738554,
          null,
          -7.738554,
          -9.149121,
          null,
          -9.149121,
          -78.344193,
          null
         ],
         "y": [
          25.113234,
          26.173435,
          null,
          26.173435,
          26.419715,
          null,
          26.419715,
          25.818272,
          null,
          25.818272,
          24.451654,
          null,
          24.451654,
          -40.320537,
          null,
          -40.320537,
          -42.832455,
          null,
          -42.832455,
          -45.623984,
          null,
          -45.623984,
          -48.122631,
          null,
          -48.122631,
          -49.815968,
          null,
          -49.815968,
          -86.231947,
          null,
          -86.231947,
          -86.578919,
          null,
          -86.578919,
          -86.39323,
          null,
          -86.39323,
          -85.690087,
          null,
          -85.690087,
          -84.527074,
          null,
          -84.527074,
          -41.264321,
          null,
          -41.264321,
          -39.200587,
          null,
          -39.200587,
          -36.890207,
          null,
          -36.890207,
          -34.656535,
          null,
          -34.656535,
          -32.812189,
          null,
          -32.812189,
          25.113234,
          null
         ],
         "z": [
          0,
          0,
          null,
          0,
          0,
          null,
          0,
          0,
          null,
          0,
          0,
          null,
          0,
          0,
          null,
          0,
          0,
          null,
          0,
          0,
          null,
          0,
          0,
          null,
          0,
          0,
          null,
          0,
          0,
          null,
          0,
          0,
          null,
          0,
          0,
          null,
          0,
          0,
          null,
          0,
          0,
          null,
          0,
          0,
          null,
          0,
          0,
          null,
          0,
          0,
          null,
          0,
          0,
          null,
          0,
          0,
          null,
          0,
          0,
          null
         ]
        },
        {
         "hoverinfo": "text",
         "hovertext": "",
         "legendgroup": "1",
         "legendrank": 1,
         "marker": {
          "color": "black",
          "size": 0.001
         },
         "mode": "markers",
         "name": "Topology Vertices",
         "showlegend": false,
         "text": "",
         "type": "scatter3d",
         "x": [
          -256.150977,
          -257.483339,
          -257.22661,
          -255.449316,
          -252.625861,
          -114.926609,
          -112.51207,
          -110.341505,
          -108.741791,
          -107.953838,
          -96.932063,
          -97.130414,
          -97.86257,
          -99.066385,
          -100.639677,
          -152.263849,
          -154.066023,
          -155.892595,
          -157.600022,
          -159.054124
         ],
         "y": [
          -170.21209,
          -173.039658,
          -176.154849,
          -178.726144,
          -180.0672,
          -203.359664,
          -203.196366,
          -202.126171,
          -200.310246,
          -198.022058,
          -84.210852,
          -82.329678,
          -80.585516,
          -79.126411,
          -78.076215,
          -57.036929,
          -56.69391,
          -56.864587,
          -57.535549,
          -58.654065
         ],
         "z": [
          0,
          0,
          0,
          0,
          0,
          0,
          0,
          0,
          0,
          0,
          0,
          0,
          0,
          0,
          0,
          0,
          0,
          0,
          0,
          0
         ]
        },
        {
         "hoverinfo": "text",
         "legendgroup": "2",
         "legendrank": 2,
         "line": {
          "color": "black",
          "width": 1
         },
         "marker": {
          "size": 0
         },
         "mode": "lines",
         "name": "Topology Edges",
         "showlegend": false,
         "text": "",
         "type": "scatter3d",
         "x": [
          -256.150977,
          -257.483339,
          null,
          -257.483339,
          -257.22661,
          null,
          -257.22661,
          -255.449316,
          null,
          -255.449316,
          -252.625861,
          null,
          -252.625861,
          -114.926609,
          null,
          -114.926609,
          -112.51207,
          null,
          -112.51207,
          -110.341505,
          null,
          -110.341505,
          -108.741791,
          null,
          -108.741791,
          -107.953838,
          null,
          -107.953838,
          -96.932063,
          null,
          -96.932063,
          -97.130414,
          null,
          -97.130414,
          -97.86257,
          null,
          -97.86257,
          -99.066385,
          null,
          -99.066385,
          -100.639677,
          null,
          -100.639677,
          -152.263849,
          null,
          -152.263849,
          -154.066023,
          null,
          -154.066023,
          -155.892595,
          null,
          -155.892595,
          -157.600022,
          null,
          -157.600022,
          -159.054124,
          null,
          -159.054124,
          -256.150977,
          null
         ],
         "y": [
          -170.21209,
          -173.039658,
          null,
          -173.039658,
          -176.154849,
          null,
          -176.154849,
          -178.726144,
          null,
          -178.726144,
          -180.0672,
          null,
          -180.0672,
          -203.359664,
          null,
          -203.359664,
          -203.196366,
          null,
          -203.196366,
          -202.126171,
          null,
          -202.126171,
          -200.310246,
          null,
          -200.310246,
          -198.022058,
          null,
          -198.022058,
          -84.210852,
          null,
          -84.210852,
          -82.329678,
          null,
          -82.329678,
          -80.585516,
          null,
          -80.585516,
          -79.126411,
          null,
          -79.126411,
          -78.076215,
          null,
          -78.076215,
          -57.036929,
          null,
          -57.036929,
          -56.69391,
          null,
          -56.69391,
          -56.864587,
          null,
          -56.864587,
          -57.535549,
          null,
          -57.535549,
          -58.654065,
          null,
          -58.654065,
          -170.21209,
          null
         ],
         "z": [
          0,
          0,
          null,
          0,
          0,
          null,
          0,
          0,
          null,
          0,
          0,
          null,
          0,
          0,
          null,
          0,
          0,
          null,
          0,
          0,
          null,
          0,
          0,
          null,
          0,
          0,
          null,
          0,
          0,
          null,
          0,
          0,
          null,
          0,
          0,
          null,
          0,
          0,
          null,
          0,
          0,
          null,
          0,
          0,
          null,
          0,
          0,
          null,
          0,
          0,
          null,
          0,
          0,
          null,
          0,
          0,
          null,
          0,
          0,
          null
         ]
        },
        {
         "hoverinfo": "text",
         "hovertext": "",
         "legendgroup": "1",
         "legendrank": 1,
         "marker": {
          "color": "black",
          "size": 0.001
         },
         "mode": "markers",
         "name": "Topology Vertices",
         "showlegend": false,
         "text": "",
         "type": "scatter3d",
         "x": [
          305.98891,
          307.312738,
          308.974936,
          310.824665,
          312.694068,
          384.504738,
          387.004976,
          388.44873,
          388.494839,
          387.132408,
          311.167035,
          308.594878,
          305.603625,
          302.906049,
          301.144944,
          278.155259,
          277.908571,
          277.94408,
          278.260346,
          278.844526
         ],
         "y": [
          36.987591,
          35.649681,
          34.76672,
          34.418831,
          34.637585,
          56.579761,
          58.193819,
          60.796115,
          63.771724,
          66.417504,
          147.596194,
          149.128888,
          149.26136,
          147.962042,
          145.540544,
          82.092173,
          80.709581,
          79.305604,
          77.937251,
          76.660087
         ],
         "z": [
          0,
          0,
          0,
          0,
          0,
          0,
          0,
          0,
          0,
          0,
          0,
          0,
          0,
          0,
          0,
          0,
          0,
          0,
          0,
          0
         ]
        },
        {
         "hoverinfo": "text",
         "legendgroup": "2",
         "legendrank": 2,
         "line": {
          "color": "black",
          "width": 1
         },
         "marker": {
          "size": 0
         },
         "mode": "lines",
         "name": "Topology Edges",
         "showlegend": false,
         "text": "",
         "type": "scatter3d",
         "x": [
          305.98891,
          307.312738,
          null,
          307.312738,
          308.974936,
          null,
          308.974936,
          310.824665,
          null,
          310.824665,
          312.694068,
          null,
          312.694068,
          384.504738,
          null,
          384.504738,
          387.004976,
          null,
          387.004976,
          388.44873,
          null,
          388.44873,
          388.494839,
          null,
          388.494839,
          387.132408,
          null,
          387.132408,
          311.167035,
          null,
          311.167035,
          308.594878,
          null,
          308.594878,
          305.603625,
          null,
          305.603625,
          302.906049,
          null,
          302.906049,
          301.144944,
          null,
          301.144944,
          278.155259,
          null,
          278.155259,
          277.908571,
          null,
          277.908571,
          277.94408,
          null,
          277.94408,
          278.260346,
          null,
          278.260346,
          278.844526,
          null,
          278.844526,
          305.98891,
          null
         ],
         "y": [
          36.987591,
          35.649681,
          null,
          35.649681,
          34.76672,
          null,
          34.76672,
          34.418831,
          null,
          34.418831,
          34.637585,
          null,
          34.637585,
          56.579761,
          null,
          56.579761,
          58.193819,
          null,
          58.193819,
          60.796115,
          null,
          60.796115,
          63.771724,
          null,
          63.771724,
          66.417504,
          null,
          66.417504,
          147.596194,
          null,
          147.596194,
          149.128888,
          null,
          149.128888,
          149.26136,
          null,
          149.26136,
          147.962042,
          null,
          147.962042,
          145.540544,
          null,
          145.540544,
          82.092173,
          null,
          82.092173,
          80.709581,
          null,
          80.709581,
          79.305604,
          null,
          79.305604,
          77.937251,
          null,
          77.937251,
          76.660087,
          null,
          76.660087,
          36.987591,
          null
         ],
         "z": [
          0,
          0,
          null,
          0,
          0,
          null,
          0,
          0,
          null,
          0,
          0,
          null,
          0,
          0,
          null,
          0,
          0,
          null,
          0,
          0,
          null,
          0,
          0,
          null,
          0,
          0,
          null,
          0,
          0,
          null,
          0,
          0,
          null,
          0,
          0,
          null,
          0,
          0,
          null,
          0,
          0,
          null,
          0,
          0,
          null,
          0,
          0,
          null,
          0,
          0,
          null,
          0,
          0,
          null,
          0,
          0,
          null,
          0,
          0,
          null
         ]
        },
        {
         "hoverinfo": "text",
         "hovertext": "",
         "legendgroup": "1",
         "legendrank": 1,
         "marker": {
          "color": "black",
          "size": 0.001
         },
         "mode": "markers",
         "name": "Topology Vertices",
         "showlegend": false,
         "text": "",
         "type": "scatter3d",
         "x": [
          127.039541,
          129.532094,
          130.978645,
          131.040013,
          129.701812,
          80.185111,
          78.111194,
          75.629812,
          73.173077,
          71.168807,
          -34.37011,
          -35.534817,
          -35.486955,
          -34.236147,
          -32.033832,
          30.807932,
          33.487418,
          36.060289,
          38.033461,
          39.028777,
          46.860659,
          47.364524,
          48.279858,
          49.542455,
          51.063747
         ],
         "y": [
          -22.090169,
          -20.485756,
          -17.898392,
          -14.934747,
          -12.289718,
          41.532731,
          42.973594,
          43.442599,
          42.858072,
          41.321803,
          -84.750191,
          -87.257382,
          -90.021484,
          -92.48685,
          -94.157886,
          -119.76881,
          -120.120304,
          -119.293547,
          -117.446986,
          -114.934509,
          -50.321174,
          -48.686465,
          -47.241365,
          -46.087242,
          -45.305052
         ],
         "z": [
          0,
          0,
          0,
          0,
          0,
          0,
          0,
          0,
          0,
          0,
          0,
          0,
          0,
          0,
          0,
          0,
          0,
          0,
          0,
          0,
          0,
          0,
          0,
          0,
          0
         ]
        },
        {
         "hoverinfo": "text",
         "legendgroup": "2",
         "legendrank": 2,
         "line": {
          "color": "black",
          "width": 1
         },
         "marker": {
          "size": 0
         },
         "mode": "lines",
         "name": "Topology Edges",
         "showlegend": false,
         "text": "",
         "type": "scatter3d",
         "x": [
          127.039541,
          129.532094,
          null,
          129.532094,
          130.978645,
          null,
          130.978645,
          131.040013,
          null,
          131.040013,
          129.701812,
          null,
          129.701812,
          80.185111,
          null,
          80.185111,
          78.111194,
          null,
          78.111194,
          75.629812,
          null,
          75.629812,
          73.173077,
          null,
          73.173077,
          71.168807,
          null,
          71.168807,
          -34.37011,
          null,
          -34.37011,
          -35.534817,
          null,
          -35.534817,
          -35.486955,
          null,
          -35.486955,
          -34.236147,
          null,
          -34.236147,
          -32.033832,
          null,
          -32.033832,
          30.807932,
          null,
          30.807932,
          33.487418,
          null,
          33.487418,
          36.060289,
          null,
          36.060289,
          38.033461,
          null,
          38.033461,
          39.028777,
          null,
          39.028777,
          46.860659,
          null,
          46.860659,
          47.364524,
          null,
          47.364524,
          48.279858,
          null,
          48.279858,
          49.542455,
          null,
          49.542455,
          51.063747,
          null,
          51.063747,
          127.039541,
          null
         ],
         "y": [
          -22.090169,
          -20.485756,
          null,
          -20.485756,
          -17.898392,
          null,
          -17.898392,
          -14.934747,
          null,
          -14.934747,
          -12.289718,
          null,
          -12.289718,
          41.532731,
          null,
          41.532731,
          42.973594,
          null,
          42.973594,
          43.442599,
          null,
          43.442599,
          42.858072,
          null,
          42.858072,
          41.321803,
          null,
          41.321803,
          -84.750191,
          null,
          -84.750191,
          -87.257382,
          null,
          -87.257382,
          -90.021484,
          null,
          -90.021484,
          -92.48685,
          null,
          -92.48685,
          -94.157886,
          null,
          -94.157886,
          -119.76881,
          null,
          -119.76881,
          -120.120304,
          null,
          -120.120304,
          -119.293547,
          null,
          -119.293547,
          -117.446986,
          null,
          -117.446986,
          -114.934509,
          null,
          -114.934509,
          -50.321174,
          null,
          -50.321174,
          -48.686465,
          null,
          -48.686465,
          -47.241365,
          null,
          -47.241365,
          -46.087242,
          null,
          -46.087242,
          -45.305052,
          null,
          -45.305052,
          -22.090169,
          null
         ],
         "z": [
          0,
          0,
          null,
          0,
          0,
          null,
          0,
          0,
          null,
          0,
          0,
          null,
          0,
          0,
          null,
          0,
          0,
          null,
          0,
          0,
          null,
          0,
          0,
          null,
          0,
          0,
          null,
          0,
          0,
          null,
          0,
          0,
          null,
          0,
          0,
          null,
          0,
          0,
          null,
          0,
          0,
          null,
          0,
          0,
          null,
          0,
          0,
          null,
          0,
          0,
          null,
          0,
          0,
          null,
          0,
          0,
          null,
          0,
          0,
          null,
          0,
          0,
          null,
          0,
          0,
          null,
          0,
          0,
          null,
          0,
          0,
          null,
          0,
          0,
          null
         ]
        },
        {
         "hoverinfo": "text",
         "hovertext": "",
         "legendgroup": "1",
         "legendrank": 1,
         "marker": {
          "color": "black",
          "size": 0.001
         },
         "mode": "markers",
         "name": "Topology Vertices",
         "showlegend": false,
         "text": "",
         "type": "scatter3d",
         "x": [
          -84.208602,
          -86.922817,
          -89.520031,
          -91.489832,
          -92.44511,
          -103.093733,
          -102.820082,
          -101.804141,
          -100.171142,
          -98.122384,
          19.232293,
          21.611145,
          23.758281,
          25.361977,
          26.189406,
          36.160014,
          36.00255,
          35.284637,
          34.070348,
          32.468059
         ],
         "y": [
          -84.772603,
          -84.426301,
          -85.287331,
          -87.186483,
          -89.75053,
          -199.707829,
          -201.904182,
          -203.870578,
          -205.364621,
          -206.202143,
          -226.053174,
          -225.895352,
          -224.859182,
          -223.095095,
          -220.859205,
          -138.602111,
          -136.681039,
          -134.89221,
          -133.395276,
          -132.323837
         ],
         "z": [
          0,
          0,
          0,
          0,
          0,
          0,
          0,
          0,
          0,
          0,
          0,
          0,
          0,
          0,
          0,
          0,
          0,
          0,
          0,
          0
         ]
        },
        {
         "hoverinfo": "text",
         "legendgroup": "2",
         "legendrank": 2,
         "line": {
          "color": "black",
          "width": 1
         },
         "marker": {
          "size": 0
         },
         "mode": "lines",
         "name": "Topology Edges",
         "showlegend": false,
         "text": "",
         "type": "scatter3d",
         "x": [
          -84.208602,
          -86.922817,
          null,
          -86.922817,
          -89.520031,
          null,
          -89.520031,
          -91.489832,
          null,
          -91.489832,
          -92.44511,
          null,
          -92.44511,
          -103.093733,
          null,
          -103.093733,
          -102.820082,
          null,
          -102.820082,
          -101.804141,
          null,
          -101.804141,
          -100.171142,
          null,
          -100.171142,
          -98.122384,
          null,
          -98.122384,
          19.232293,
          null,
          19.232293,
          21.611145,
          null,
          21.611145,
          23.758281,
          null,
          23.758281,
          25.361977,
          null,
          25.361977,
          26.189406,
          null,
          26.189406,
          36.160014,
          null,
          36.160014,
          36.00255,
          null,
          36.00255,
          35.284637,
          null,
          35.284637,
          34.070348,
          null,
          34.070348,
          32.468059,
          null,
          32.468059,
          -84.208602,
          null
         ],
         "y": [
          -84.772603,
          -84.426301,
          null,
          -84.426301,
          -85.287331,
          null,
          -85.287331,
          -87.186483,
          null,
          -87.186483,
          -89.75053,
          null,
          -89.75053,
          -199.707829,
          null,
          -199.707829,
          -201.904182,
          null,
          -201.904182,
          -203.870578,
          null,
          -203.870578,
          -205.364621,
          null,
          -205.364621,
          -206.202143,
          null,
          -206.202143,
          -226.053174,
          null,
          -226.053174,
          -225.895352,
          null,
          -225.895352,
          -224.859182,
          null,
          -224.859182,
          -223.095095,
          null,
          -223.095095,
          -220.859205,
          null,
          -220.859205,
          -138.602111,
          null,
          -138.602111,
          -136.681039,
          null,
          -136.681039,
          -134.89221,
          null,
          -134.89221,
          -133.395276,
          null,
          -133.395276,
          -132.323837,
          null,
          -132.323837,
          -84.772603,
          null
         ],
         "z": [
          0,
          0,
          null,
          0,
          0,
          null,
          0,
          0,
          null,
          0,
          0,
          null,
          0,
          0,
          null,
          0,
          0,
          null,
          0,
          0,
          null,
          0,
          0,
          null,
          0,
          0,
          null,
          0,
          0,
          null,
          0,
          0,
          null,
          0,
          0,
          null,
          0,
          0,
          null,
          0,
          0,
          null,
          0,
          0,
          null,
          0,
          0,
          null,
          0,
          0,
          null,
          0,
          0,
          null,
          0,
          0,
          null,
          0,
          0,
          null
         ]
        },
        {
         "hoverinfo": "text",
         "hovertext": "",
         "legendgroup": "1",
         "legendrank": 1,
         "marker": {
          "color": "black",
          "size": 0.001
         },
         "mode": "markers",
         "name": "Topology Vertices",
         "showlegend": false,
         "text": "",
         "type": "scatter3d",
         "x": [
          -98.654384,
          -324.930904,
          -341.3542,
          25.432739,
          47.330467,
          441.489566,
          397.694111
         ],
         "y": [
          395.158417,
          183.480382,
          -165.058451,
          -227.102013,
          -46.445759,
          73.991744,
          384.209553
         ],
         "z": [
          0,
          0,
          0,
          0,
          0,
          0,
          0
         ]
        },
        {
         "hoverinfo": "text",
         "legendgroup": "2",
         "legendrank": 2,
         "line": {
          "color": "black",
          "width": 1
         },
         "marker": {
          "size": 0
         },
         "mode": "lines",
         "name": "Topology Edges",
         "showlegend": false,
         "text": "",
         "type": "scatter3d",
         "x": [
          -98.654384,
          -324.930904,
          null,
          -324.930904,
          -341.3542,
          null,
          -341.3542,
          25.432739,
          null,
          25.432739,
          47.330467,
          null,
          47.330467,
          441.489566,
          null,
          441.489566,
          397.694111,
          null,
          397.694111,
          -98.654384,
          null
         ],
         "y": [
          395.158417,
          183.480382,
          null,
          183.480382,
          -165.058451,
          null,
          -165.058451,
          -227.102013,
          null,
          -227.102013,
          -46.445759,
          null,
          -46.445759,
          73.991744,
          null,
          73.991744,
          384.209553,
          null,
          384.209553,
          395.158417,
          null
         ],
         "z": [
          0,
          0,
          null,
          0,
          0,
          null,
          0,
          0,
          null,
          0,
          0,
          null,
          0,
          0,
          null,
          0,
          0,
          null,
          0,
          0,
          null
         ]
        }
       ],
       "layout": {
        "height": 500,
        "margin": {
         "b": 0,
         "l": 0,
         "r": 0,
         "t": 20
        },
        "paper_bgcolor": "rgba(0, 0, 0, 0)",
        "plot_bgcolor": "rgba(0, 0, 0, 0)",
        "scene": {
         "aspectmode": "manual",
         "aspectratio": {
          "x": 1.7894696509724235,
          "y": 1.4223989547437363,
          "z": 0.0022858579561996846
         },
         "camera": {
          "center": {
           "x": 0.005800898203851616,
           "y": 0.5014385291933365,
           "z": 0
          },
          "eye": {
           "x": 0.005800898203851616,
           "y": 0.5014385291933365,
           "z": 2.9999999999999996
          },
          "projection": {
           "type": "orthographic"
          },
          "up": {
           "x": 0,
           "y": 1,
           "z": 0
          }
         },
         "xaxis": {
          "type": "linear",
          "visible": false
         },
         "yaxis": {
          "type": "linear",
          "visible": false
         },
         "zaxis": {
          "type": "linear",
          "visible": false
         }
        },
        "showlegend": true,
        "template": {
         "data": {
          "bar": [
           {
            "error_x": {
             "color": "#2a3f5f"
            },
            "error_y": {
             "color": "#2a3f5f"
            },
            "marker": {
             "line": {
              "color": "#E5ECF6",
              "width": 0.5
             },
             "pattern": {
              "fillmode": "overlay",
              "size": 10,
              "solidity": 0.2
             }
            },
            "type": "bar"
           }
          ],
          "barpolar": [
           {
            "marker": {
             "line": {
              "color": "#E5ECF6",
              "width": 0.5
             },
             "pattern": {
              "fillmode": "overlay",
              "size": 10,
              "solidity": 0.2
             }
            },
            "type": "barpolar"
           }
          ],
          "carpet": [
           {
            "aaxis": {
             "endlinecolor": "#2a3f5f",
             "gridcolor": "white",
             "linecolor": "white",
             "minorgridcolor": "white",
             "startlinecolor": "#2a3f5f"
            },
            "baxis": {
             "endlinecolor": "#2a3f5f",
             "gridcolor": "white",
             "linecolor": "white",
             "minorgridcolor": "white",
             "startlinecolor": "#2a3f5f"
            },
            "type": "carpet"
           }
          ],
          "choropleth": [
           {
            "colorbar": {
             "outlinewidth": 0,
             "ticks": ""
            },
            "type": "choropleth"
           }
          ],
          "contour": [
           {
            "colorbar": {
             "outlinewidth": 0,
             "ticks": ""
            },
            "colorscale": [
             [
              0,
              "#0d0887"
             ],
             [
              0.1111111111111111,
              "#46039f"
             ],
             [
              0.2222222222222222,
              "#7201a8"
             ],
             [
              0.3333333333333333,
              "#9c179e"
             ],
             [
              0.4444444444444444,
              "#bd3786"
             ],
             [
              0.5555555555555556,
              "#d8576b"
             ],
             [
              0.6666666666666666,
              "#ed7953"
             ],
             [
              0.7777777777777778,
              "#fb9f3a"
             ],
             [
              0.8888888888888888,
              "#fdca26"
             ],
             [
              1,
              "#f0f921"
             ]
            ],
            "type": "contour"
           }
          ],
          "contourcarpet": [
           {
            "colorbar": {
             "outlinewidth": 0,
             "ticks": ""
            },
            "type": "contourcarpet"
           }
          ],
          "heatmap": [
           {
            "colorbar": {
             "outlinewidth": 0,
             "ticks": ""
            },
            "colorscale": [
             [
              0,
              "#0d0887"
             ],
             [
              0.1111111111111111,
              "#46039f"
             ],
             [
              0.2222222222222222,
              "#7201a8"
             ],
             [
              0.3333333333333333,
              "#9c179e"
             ],
             [
              0.4444444444444444,
              "#bd3786"
             ],
             [
              0.5555555555555556,
              "#d8576b"
             ],
             [
              0.6666666666666666,
              "#ed7953"
             ],
             [
              0.7777777777777778,
              "#fb9f3a"
             ],
             [
              0.8888888888888888,
              "#fdca26"
             ],
             [
              1,
              "#f0f921"
             ]
            ],
            "type": "heatmap"
           }
          ],
          "heatmapgl": [
           {
            "colorbar": {
             "outlinewidth": 0,
             "ticks": ""
            },
            "colorscale": [
             [
              0,
              "#0d0887"
             ],
             [
              0.1111111111111111,
              "#46039f"
             ],
             [
              0.2222222222222222,
              "#7201a8"
             ],
             [
              0.3333333333333333,
              "#9c179e"
             ],
             [
              0.4444444444444444,
              "#bd3786"
             ],
             [
              0.5555555555555556,
              "#d8576b"
             ],
             [
              0.6666666666666666,
              "#ed7953"
             ],
             [
              0.7777777777777778,
              "#fb9f3a"
             ],
             [
              0.8888888888888888,
              "#fdca26"
             ],
             [
              1,
              "#f0f921"
             ]
            ],
            "type": "heatmapgl"
           }
          ],
          "histogram": [
           {
            "marker": {
             "pattern": {
              "fillmode": "overlay",
              "size": 10,
              "solidity": 0.2
             }
            },
            "type": "histogram"
           }
          ],
          "histogram2d": [
           {
            "colorbar": {
             "outlinewidth": 0,
             "ticks": ""
            },
            "colorscale": [
             [
              0,
              "#0d0887"
             ],
             [
              0.1111111111111111,
              "#46039f"
             ],
             [
              0.2222222222222222,
              "#7201a8"
             ],
             [
              0.3333333333333333,
              "#9c179e"
             ],
             [
              0.4444444444444444,
              "#bd3786"
             ],
             [
              0.5555555555555556,
              "#d8576b"
             ],
             [
              0.6666666666666666,
              "#ed7953"
             ],
             [
              0.7777777777777778,
              "#fb9f3a"
             ],
             [
              0.8888888888888888,
              "#fdca26"
             ],
             [
              1,
              "#f0f921"
             ]
            ],
            "type": "histogram2d"
           }
          ],
          "histogram2dcontour": [
           {
            "colorbar": {
             "outlinewidth": 0,
             "ticks": ""
            },
            "colorscale": [
             [
              0,
              "#0d0887"
             ],
             [
              0.1111111111111111,
              "#46039f"
             ],
             [
              0.2222222222222222,
              "#7201a8"
             ],
             [
              0.3333333333333333,
              "#9c179e"
             ],
             [
              0.4444444444444444,
              "#bd3786"
             ],
             [
              0.5555555555555556,
              "#d8576b"
             ],
             [
              0.6666666666666666,
              "#ed7953"
             ],
             [
              0.7777777777777778,
              "#fb9f3a"
             ],
             [
              0.8888888888888888,
              "#fdca26"
             ],
             [
              1,
              "#f0f921"
             ]
            ],
            "type": "histogram2dcontour"
           }
          ],
          "mesh3d": [
           {
            "colorbar": {
             "outlinewidth": 0,
             "ticks": ""
            },
            "type": "mesh3d"
           }
          ],
          "parcoords": [
           {
            "line": {
             "colorbar": {
              "outlinewidth": 0,
              "ticks": ""
             }
            },
            "type": "parcoords"
           }
          ],
          "pie": [
           {
            "automargin": true,
            "type": "pie"
           }
          ],
          "scatter": [
           {
            "fillpattern": {
             "fillmode": "overlay",
             "size": 10,
             "solidity": 0.2
            },
            "type": "scatter"
           }
          ],
          "scatter3d": [
           {
            "line": {
             "colorbar": {
              "outlinewidth": 0,
              "ticks": ""
             }
            },
            "marker": {
             "colorbar": {
              "outlinewidth": 0,
              "ticks": ""
             }
            },
            "type": "scatter3d"
           }
          ],
          "scattercarpet": [
           {
            "marker": {
             "colorbar": {
              "outlinewidth": 0,
              "ticks": ""
             }
            },
            "type": "scattercarpet"
           }
          ],
          "scattergeo": [
           {
            "marker": {
             "colorbar": {
              "outlinewidth": 0,
              "ticks": ""
             }
            },
            "type": "scattergeo"
           }
          ],
          "scattergl": [
           {
            "marker": {
             "colorbar": {
              "outlinewidth": 0,
              "ticks": ""
             }
            },
            "type": "scattergl"
           }
          ],
          "scattermapbox": [
           {
            "marker": {
             "colorbar": {
              "outlinewidth": 0,
              "ticks": ""
             }
            },
            "type": "scattermapbox"
           }
          ],
          "scatterpolar": [
           {
            "marker": {
             "colorbar": {
              "outlinewidth": 0,
              "ticks": ""
             }
            },
            "type": "scatterpolar"
           }
          ],
          "scatterpolargl": [
           {
            "marker": {
             "colorbar": {
              "outlinewidth": 0,
              "ticks": ""
             }
            },
            "type": "scatterpolargl"
           }
          ],
          "scatterternary": [
           {
            "marker": {
             "colorbar": {
              "outlinewidth": 0,
              "ticks": ""
             }
            },
            "type": "scatterternary"
           }
          ],
          "surface": [
           {
            "colorbar": {
             "outlinewidth": 0,
             "ticks": ""
            },
            "colorscale": [
             [
              0,
              "#0d0887"
             ],
             [
              0.1111111111111111,
              "#46039f"
             ],
             [
              0.2222222222222222,
              "#7201a8"
             ],
             [
              0.3333333333333333,
              "#9c179e"
             ],
             [
              0.4444444444444444,
              "#bd3786"
             ],
             [
              0.5555555555555556,
              "#d8576b"
             ],
             [
              0.6666666666666666,
              "#ed7953"
             ],
             [
              0.7777777777777778,
              "#fb9f3a"
             ],
             [
              0.8888888888888888,
              "#fdca26"
             ],
             [
              1,
              "#f0f921"
             ]
            ],
            "type": "surface"
           }
          ],
          "table": [
           {
            "cells": {
             "fill": {
              "color": "#EBF0F8"
             },
             "line": {
              "color": "white"
             }
            },
            "header": {
             "fill": {
              "color": "#C8D4E3"
             },
             "line": {
              "color": "white"
             }
            },
            "type": "table"
           }
          ]
         },
         "layout": {
          "annotationdefaults": {
           "arrowcolor": "#2a3f5f",
           "arrowhead": 0,
           "arrowwidth": 1
          },
          "autotypenumbers": "strict",
          "coloraxis": {
           "colorbar": {
            "outlinewidth": 0,
            "ticks": ""
           }
          },
          "colorscale": {
           "diverging": [
            [
             0,
             "#8e0152"
            ],
            [
             0.1,
             "#c51b7d"
            ],
            [
             0.2,
             "#de77ae"
            ],
            [
             0.3,
             "#f1b6da"
            ],
            [
             0.4,
             "#fde0ef"
            ],
            [
             0.5,
             "#f7f7f7"
            ],
            [
             0.6,
             "#e6f5d0"
            ],
            [
             0.7,
             "#b8e186"
            ],
            [
             0.8,
             "#7fbc41"
            ],
            [
             0.9,
             "#4d9221"
            ],
            [
             1,
             "#276419"
            ]
           ],
           "sequential": [
            [
             0,
             "#0d0887"
            ],
            [
             0.1111111111111111,
             "#46039f"
            ],
            [
             0.2222222222222222,
             "#7201a8"
            ],
            [
             0.3333333333333333,
             "#9c179e"
            ],
            [
             0.4444444444444444,
             "#bd3786"
            ],
            [
             0.5555555555555556,
             "#d8576b"
            ],
            [
             0.6666666666666666,
             "#ed7953"
            ],
            [
             0.7777777777777778,
             "#fb9f3a"
            ],
            [
             0.8888888888888888,
             "#fdca26"
            ],
            [
             1,
             "#f0f921"
            ]
           ],
           "sequentialminus": [
            [
             0,
             "#0d0887"
            ],
            [
             0.1111111111111111,
             "#46039f"
            ],
            [
             0.2222222222222222,
             "#7201a8"
            ],
            [
             0.3333333333333333,
             "#9c179e"
            ],
            [
             0.4444444444444444,
             "#bd3786"
            ],
            [
             0.5555555555555556,
             "#d8576b"
            ],
            [
             0.6666666666666666,
             "#ed7953"
            ],
            [
             0.7777777777777778,
             "#fb9f3a"
            ],
            [
             0.8888888888888888,
             "#fdca26"
            ],
            [
             1,
             "#f0f921"
            ]
           ]
          },
          "colorway": [
           "#636efa",
           "#EF553B",
           "#00cc96",
           "#ab63fa",
           "#FFA15A",
           "#19d3f3",
           "#FF6692",
           "#B6E880",
           "#FF97FF",
           "#FECB52"
          ],
          "font": {
           "color": "#2a3f5f"
          },
          "geo": {
           "bgcolor": "white",
           "lakecolor": "white",
           "landcolor": "#E5ECF6",
           "showlakes": true,
           "showland": true,
           "subunitcolor": "white"
          },
          "hoverlabel": {
           "align": "left"
          },
          "hovermode": "closest",
          "mapbox": {
           "style": "light"
          },
          "paper_bgcolor": "white",
          "plot_bgcolor": "#E5ECF6",
          "polar": {
           "angularaxis": {
            "gridcolor": "white",
            "linecolor": "white",
            "ticks": ""
           },
           "bgcolor": "#E5ECF6",
           "radialaxis": {
            "gridcolor": "white",
            "linecolor": "white",
            "ticks": ""
           }
          },
          "scene": {
           "xaxis": {
            "backgroundcolor": "#E5ECF6",
            "gridcolor": "white",
            "gridwidth": 2,
            "linecolor": "white",
            "showbackground": true,
            "ticks": "",
            "zerolinecolor": "white"
           },
           "yaxis": {
            "backgroundcolor": "#E5ECF6",
            "gridcolor": "white",
            "gridwidth": 2,
            "linecolor": "white",
            "showbackground": true,
            "ticks": "",
            "zerolinecolor": "white"
           },
           "zaxis": {
            "backgroundcolor": "#E5ECF6",
            "gridcolor": "white",
            "gridwidth": 2,
            "linecolor": "white",
            "showbackground": true,
            "ticks": "",
            "zerolinecolor": "white"
           }
          },
          "shapedefaults": {
           "line": {
            "color": "#2a3f5f"
           }
          },
          "ternary": {
           "aaxis": {
            "gridcolor": "white",
            "linecolor": "white",
            "ticks": ""
           },
           "baxis": {
            "gridcolor": "white",
            "linecolor": "white",
            "ticks": ""
           },
           "bgcolor": "#E5ECF6",
           "caxis": {
            "gridcolor": "white",
            "linecolor": "white",
            "ticks": ""
           }
          },
          "title": {
           "x": 0.05
          },
          "xaxis": {
           "automargin": true,
           "gridcolor": "white",
           "linecolor": "white",
           "ticks": "",
           "title": {
            "standoff": 15
           },
           "zerolinecolor": "white",
           "zerolinewidth": 2
          },
          "yaxis": {
           "automargin": true,
           "gridcolor": "white",
           "linecolor": "white",
           "ticks": "",
           "title": {
            "standoff": 15
           },
           "zerolinecolor": "white",
           "zerolinewidth": 2
          }
         }
        },
        "width": 950,
        "xaxis": {
         "showgrid": false,
         "visible": false,
         "zeroline": false
        },
        "yaxis": {
         "showgrid": false,
         "visible": false,
         "zeroline": false
        }
       }
      },
      "image/png": "[encoded data removed]"
     },
     "metadata": {},
     "output_type": "display_data"
    }
   ],
   "source": [
    "# Example of creating a road/parcel plan with custom offsets and fillets\n",
    "# Path to the DXF file. Change to match your file path\n",
    "dxf_path = \"C:/Users/sarwj/Downloads/Archive/Boundary.dxf\"\n",
    "\n",
    "# Load the DXF file. This is assumed to have both the boundary (closed polyline) and the roads (lines/edges)\n",
    "everything = Topology.ByDXFPath(dxf_path)\n",
    "\n",
    "# Show the imported DXF file\n",
    "Topology.Show(everything, projection=\"ortho\", camera=[0,0,3], up=[0,1,0], renderer=\"jupyterlab\")\n",
    "\n",
    "# Separate the boundary from the roads. Save boundary in \"boundary\" and the roads in \"edges\"\n",
    "edges = []\n",
    "for t in everything:\n",
    "    if Topology.IsInstance(t, \"Wire\"):\n",
    "        boundary = t\n",
    "    else:\n",
    "        edges.append(t)\n",
    "\n",
    "# Tell topologicpy the key name under which you stored the width of the road\n",
    "width_key = \"width\"\n",
    "\n",
    "# Tell topologicpy the key name under which you want to store the offset value. The default is \"offset\"\n",
    "offset_key = \"offset\"\n",
    "\n",
    "# Assign a \"width\" to each road by their position in the list. This information can come from Revit/GIS etc.\n",
    "for i, edge in enumerate(edges):\n",
    "    d = Dictionary.ByKeyValue(width_key, max(min(i, 14), 4)) # Cap the minimum width to 4 meters and the maximum width to 14 meters.\n",
    "    edge = Topology.SetDictionary(edge, d)\n",
    "\n",
    "# Slicing the boundary by the roads to create the parcel wires\n",
    "# Make a face out of the boundary wire\n",
    "face = Face.ByWire(boundary)\n",
    "# Slice the face. This makes a shell\n",
    "shell = Topology.Slice(face, Cluster.ByTopologies(edges))\n",
    "# Get the individual faces of the shell.\n",
    "faces = Topology.Faces(shell)\n",
    "# Convert the resulting faces back to wires\n",
    "wires = [Face.ExternalBoundary(f) for f in faces]\n",
    "# Remove Collinear Edges of each wire to avoid problems with offsetting\n",
    "wires = [Wire.RemoveCollinearEdges(w) for w in wires]\n",
    "\n",
    "# Transfer Dictionaries from the original road edges to the edges of each wire by testing the centroid of each wire edge to see what road it belongs to.\n",
    "# Assign a default offset/setback of 0 if an edge does not belong to a road (i.e. belongs to a boundary)\n",
    "for wire in wires:\n",
    "    wire_edges = Topology.Edges(wire)\n",
    "    for wire_edge in wire_edges:\n",
    "        wire_edge = Topology.SetDictionary(wire_edge, Dictionary.ByKeyValue(offset_key,0), silent=True)\n",
    "        c = Topology.Centroid(wire_edge)\n",
    "        for edge in edges:\n",
    "            if Vertex.Distance(c, edge) < 0.01:\n",
    "                road_dictionary = Topology.Dictionary(edge)\n",
    "                road_width = Dictionary.ValueAtKey(road_dictionary, width_key)\n",
    "                offset = road_width * 0.5 #Set the offset to half the road width.\n",
    "                edge_dictionary = Dictionary.ByKeyValue(offset_key, offset)\n",
    "                wire_edge = Topology.SetDictionary(wire_edge, edge_dictionary, silent=True)\n",
    "                break\n",
    "\n",
    "# Offset and fillet the wires in one go.\n",
    "offset_wires = [Wire.Fillet(Wire.ByOffset(w, offsetKey=offset_key), radius=6, sides=4) for w in wires]\n",
    "Topology.Show(offset_wires, boundary, vertexSize=0.001, renderer=\"jupyterlab\", projection=\"ortho\", camera=[0,0,3], up=[0,1,0])"
   ]
  },
  {
   "cell_type": "code",
   "execution_count": null,
   "id": "a3c37f69-ef55-46b2-b991-699ea2245a88",
   "metadata": {},
   "outputs": [],
   "source": []
  }
 ],
 "metadata": {
  "kernelspec": {
   "display_name": "Python 3 (ipykernel)",
   "language": "python",
   "name": "python3"
  },
  "language_info": {
   "codemirror_mode": {
    "name": "ipython",
    "version": 3
   },
   "file_extension": ".py",
   "mimetype": "text/x-python",
   "name": "python",
   "nbconvert_exporter": "python",
   "pygments_lexer": "ipython3",
   "version": "3.11.9"
  }
 },
 "nbformat": 4,
 "nbformat_minor": 5
}
