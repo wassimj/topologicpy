{
 "cells": [
  {
   "cell_type": "markdown",
   "metadata": {},
   "source": [
    "# Retrieving Adjacent Vertices by Compass Direction or Vector Direction\n",
    "This tutorial shows you how to retrieve adjacent vertices that are in certain compass direction (e.g. to the north of, or above or below)"
   ]
  },
  {
   "cell_type": "code",
   "execution_count": null,
   "metadata": {},
   "outputs": [],
   "source": [
    "# Import TopologicPy modules. This is not needed on other computers\n",
    "import sys\n",
    "sys.path.append(\"C:/Users/sarwj/OneDrive - Cardiff University/Documents/GitHub/topologicpy/src\")\n",
    "\n",
    "from topologicpy.Vertex import Vertex\n",
    "from topologicpy.CellComplex import CellComplex\n",
    "from topologicpy.Graph import Graph\n",
    "from topologicpy.Topology import Topology\n",
    "from topologicpy.Dictionary import Dictionary\n",
    "from topologicpy.Vector import Vector\n",
    "from topologicpy.Helper import Helper\n",
    "print(Helper.Version())"
   ]
  },
  {
   "cell_type": "markdown",
   "metadata": {},
   "source": [
    "## Construct a sample graph"
   ]
  },
  {
   "cell_type": "code",
   "execution_count": null,
   "metadata": {},
   "outputs": [],
   "source": [
    "cc = CellComplex.Prism(width=30, length=60, height=30, uSides=3, vSides=3, wSides=3)\n",
    "cc = Topology.Triangulate(cc)\n",
    "vertices = Topology.Vertices(cc)\n",
    "edges = Topology.Edges(cc)\n",
    "g = Graph.ByVerticesEdges(vertices, edges)\n",
    "Topology.Show(g, vertexSize=8)"
   ]
  },
  {
   "cell_type": "markdown",
   "metadata": {},
   "source": [
    "## Retrieve Adjacent Vertices in a Compass Direction (e.g. \"Down\")"
   ]
  },
  {
   "cell_type": "code",
   "execution_count": null,
   "metadata": {},
   "outputs": [],
   "source": [
    "graph_vertices = Graph.Vertices(g)\n",
    "v = Vertex.ByCoordinates(0,0,0)\n",
    "v1 = Graph.NearestVertex(g, v)\n",
    "print(\"V1:\", v1)\n",
    "d = Topology.Dictionary(v1)\n",
    "d = Dictionary.SetValuesAtKeys(d,[\"vertexSize\",\"vertexColor\"], [25,\"green\"])\n",
    "v1 = Topology.SetDictionary(v1, d)\n",
    "direction = \"Southwest\"\n",
    "neighbors = Graph.AdjacentVerticesByCompassDirection(g, v1, compassDirection=direction, tolerance=0.0001)\n",
    "print(\"Direction:\", direction)\n",
    "print(\"Neighbors:\", neighbors)\n",
    "for neighbor in neighbors:\n",
    "    d = Topology.Dictionary(neighbor)\n",
    "    d = Dictionary.SetValuesAtKeys(d, [\"vertexSize\",\"vertexColor\"], [20,\"red\"])\n",
    "    neighbor = Topology.SetDictionary(neighbor, d)\n",
    "\n",
    "Topology.Show(g, v1, neighbors, vertexSize=14, vertexColorKey=\"vertexColor\", vertexSizeKey=\"vertexSize\", xAxis=True, yAxis=True, zAxis=True, axisSize=8)\n",
    "\n",
    "# Reset the colors\n",
    "d = Topology.Dictionary(v1)\n",
    "d = Dictionary.SetValuesAtKeys(d,[\"vertexSize\",\"vertexColor\"], [14,\"black\"])\n",
    "v1 = Topology.SetDictionary(v1, d)\n",
    "for neighbor in neighbors:\n",
    "    d = Topology.Dictionary(neighbor)\n",
    "    d = Dictionary.SetValuesAtKeys(d,[\"vertexSize\",\"vertexColor\"], [14,\"black\"])\n",
    "    neighbor = Topology.SetDictionary(neighbor, d)"
   ]
  },
  {
   "cell_type": "markdown",
   "metadata": {},
   "source": [
    "## Retrieve Adjacent Vertices Using a Vector (e.g. [0,1,0] = North)"
   ]
  },
  {
   "cell_type": "code",
   "execution_count": null,
   "metadata": {},
   "outputs": [],
   "source": [
    "graph_vertices = Graph.Vertices(g)\n",
    "v = Vertex.ByCoordinates(0,0,0)\n",
    "v1 = Graph.NearestVertex(g, v)\n",
    "print(\"V1:\", v1)\n",
    "d = Topology.Dictionary(v1)\n",
    "d = Dictionary.SetValuesAtKeys(d,[\"vertexSize\",\"vertexColor\"], [25,\"green\"])\n",
    "v1 = Topology.SetDictionary(v1, d)\n",
    "vector = [0,1,0]\n",
    "neighbors = Graph.AdjacentVerticesByVector(g, v1, vector=vector, tolerance=0.0001)\n",
    "print(\"Vector:\", vector, \"(\", Vector.CompassDirection(vector), \")\")\n",
    "print(\"Neighbors:\", neighbors)\n",
    "for neighbor in neighbors:\n",
    "    d = Topology.Dictionary(neighbor)\n",
    "    d = Dictionary.SetValuesAtKeys(d, [\"vertexSize\",\"vertexColor\"], [20,\"red\"])\n",
    "    neighbor = Topology.SetDictionary(neighbor, d)\n",
    "\n",
    "Topology.Show(g, v1, neighbors, vertexSize=14, vertexColorKey=\"vertexColor\", vertexSizeKey=\"vertexSize\", xAxis=True, yAxis=True, zAxis=True, axisSize=8)\n",
    "\n",
    "# Reset the colors\n",
    "d = Topology.Dictionary(v1)\n",
    "d = Dictionary.SetValuesAtKeys(d,[\"vertexSize\",\"vertexColor\"], [14,\"black\"])\n",
    "v1 = Topology.SetDictionary(v1, d)\n",
    "for neighbor in neighbors:\n",
    "    d = Topology.Dictionary(neighbor)\n",
    "    d = Dictionary.SetValuesAtKeys(d,[\"vertexSize\",\"vertexColor\"], [14,\"black\"])\n",
    "    neighbor = Topology.SetDictionary(neighbor, d)"
   ]
  }
 ],
 "metadata": {
  "kernelspec": {
   "display_name": "Python 3",
   "language": "python",
   "name": "python3"
  },
  "language_info": {
   "codemirror_mode": {
    "name": "ipython",
    "version": 3
   },
   "file_extension": ".py",
   "mimetype": "text/x-python",
   "name": "python",
   "nbconvert_exporter": "python",
   "pygments_lexer": "ipython3",
   "version": "3.11.9"
  }
 },
 "nbformat": 4,
 "nbformat_minor": 2
}
