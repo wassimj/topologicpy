{
 "cells": [
  {
   "cell_type": "code",
   "execution_count": null,
   "id": "4b40e83f",
   "metadata": {},
   "outputs": [],
   "source": [
    "# Import TopologicPy modules. This is not needed on other computers\n",
    "import sys\n",
    "sys.path.append(\"C:/Users/sarwj/OneDrive - Cardiff University/Documents/GitHub/topologicpy/src\")"
   ]
  },
  {
   "cell_type": "code",
   "execution_count": null,
   "id": "8dc40e8e",
   "metadata": {},
   "outputs": [],
   "source": [
    "from topologicpy.Topology import Topology\n",
    "from topologicpy.CellComplex import CellComplex\n",
    "from topologicpy.Shell import Shell\n",
    "from topologicpy.Dictionary import Dictionary\n",
    "from topologicpy.Color import Color\n",
    "from topologicpy.Graph import Graph\n",
    "\n",
    "ring = Shell.Pie(radiusA=10, radiusB=2.5, rings=3)\n",
    "faces = Topology.Faces(ring)\n",
    "\n",
    "for i, c in enumerate(faces):\n",
    "    if i < 10:\n",
    "        value = 10\n",
    "        c\n",
    "    elif i < 12:\n",
    "        value = 20\n",
    "    elif i < 25:\n",
    "        value = 30\n",
    "    elif i < 40:\n",
    "        value = 40\n",
    "    elif i < 60:\n",
    "        value = 50\n",
    "    elif i < 70:\n",
    "        value = 60\n",
    "    else:\n",
    "        value = 70\n",
    "    color = Color.ByValueInRange(value, minValue=10, maxValue=70, colorScale=\"rainbow\")\n",
    "    color = Color.AnyToHex(color)\n",
    "    d = Dictionary.ByKeysValues([\"id\", \"color\"], [value, color])\n",
    "    c = Topology.SetDictionary(c, d)\n",
    "\n",
    "Topology.Show(ring, faceOpacity=1, faceColorKey=\"color\")\n",
    "\n",
    "# Create Quotient Graph\n",
    "g = Graph.Quotient(ring,\n",
    "         topologyType = \"Face\",\n",
    "         key = \"id\",\n",
    "         weighted = True)\n",
    "\n",
    "verts = Graph.Vertices(g)\n",
    "print(\"Vertex Dictionaries:\")\n",
    "for v in verts:\n",
    "    d = Topology.Dictionary(v)\n",
    "    value = Dictionary.ValueAtKey(d, \"id\")\n",
    "    color = Color.ByValueInRange(value, minValue=10, maxValue=70, colorScale=\"rainbow\")\n",
    "    color = Color.AnyToHex(color)\n",
    "    d = Dictionary.SetValueAtKey(d, \"color\", color)\n",
    "    d = Dictionary.SetValueAtKey(d, \"count\", Dictionary.ValueAtKey(d, \"count\")*3)\n",
    "    v = Topology.SetDictionary(v, d)\n",
    "    print(\" \",Dictionary.Keys(d), Dictionary.Values(d))\n",
    "\n",
    "edges = Graph.Edges(g)\n",
    "print(\"Edge Dictionaries:\")\n",
    "for e in edges:\n",
    "    d = Topology.Dictionary(e)\n",
    "    print(\" \",Dictionary.Keys(d), Dictionary.Values(d))\n",
    "Topology.Show(g, vertexSize=9, vertexSizeKey=\"count\", vertexColorKey=\"color\")\n",
    "\n",
    "flat_g = Graph.Reshape(g, shape=\"line 2D\")\n",
    "Topology.Show(flat_g, sagitta=0.3, sides=32, absolute=False, vertexSizeKey=\"count\", vertexColorKey=\"color\", edgeWidth=2, edgeColor=\"black\")\n"
   ]
  }
 ],
 "metadata": {
  "kernelspec": {
   "display_name": "Python 3",
   "language": "python",
   "name": "python3"
  },
  "language_info": {
   "codemirror_mode": {
    "name": "ipython",
    "version": 3
   },
   "file_extension": ".py",
   "mimetype": "text/x-python",
   "name": "python",
   "nbconvert_exporter": "python",
   "pygments_lexer": "ipython3",
   "version": "3.11.9"
  }
 },
 "nbformat": 4,
 "nbformat_minor": 5
}
